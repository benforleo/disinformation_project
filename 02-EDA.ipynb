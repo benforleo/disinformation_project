{
 "cells": [
  {
   "cell_type": "markdown",
   "metadata": {},
   "source": [
    "# Information Warfare\n",
    "## Russia’s use of Twitter during the 2016 US Presidential Election\n",
    "---\n",
    "\n",
    "### Import libraries"
   ]
  },
  {
   "cell_type": "code",
   "execution_count": 1,
   "metadata": {},
   "outputs": [
    {
     "data": {
      "text/html": [
       "<script type=\"text/javascript\">window.PlotlyConfig = {MathJaxConfig: 'local'};</script><script type=\"text/javascript\">if (window.MathJax) {MathJax.Hub.Config({SVG: {font: \"STIX-Web\"}});}</script><script>requirejs.config({paths: { 'plotly': ['https://cdn.plot.ly/plotly-latest.min']},});if(!window._Plotly) {require(['plotly'],function(plotly) {window._Plotly=plotly;});}</script>"
      ],
      "text/vnd.plotly.v1+html": [
       "<script type=\"text/javascript\">window.PlotlyConfig = {MathJaxConfig: 'local'};</script><script type=\"text/javascript\">if (window.MathJax) {MathJax.Hub.Config({SVG: {font: \"STIX-Web\"}});}</script><script>requirejs.config({paths: { 'plotly': ['https://cdn.plot.ly/plotly-latest.min']},});if(!window._Plotly) {require(['plotly'],function(plotly) {window._Plotly=plotly;});}</script>"
      ]
     },
     "metadata": {},
     "output_type": "display_data"
    }
   ],
   "source": [
    "import numpy as np\n",
    "import pandas as pd\n",
    "\n",
    "pd.set_option('display.max_rows', 500)\n",
    "pd.set_option('display.max_columns', None)\n",
    "get_ipython().config.get('IPKernelApp', {})['parent_appname'] = \"\"\n",
    "\n",
    "import spacy\n",
    "import os\n",
    "import pickle\n",
    "\n",
    "from collections import Counter\n",
    "\n",
    "from plotly import tools\n",
    "import plotly.graph_objs as go\n",
    "from plotly.offline import init_notebook_mode, plot, iplot\n",
    "import plotly.io as pio\n",
    "\n",
    "from IPython.display import Image\n",
    "\n",
    "init_notebook_mode(connected=True)"
   ]
  },
  {
   "cell_type": "markdown",
   "metadata": {},
   "source": [
    "### Import data"
   ]
  },
  {
   "cell_type": "code",
   "execution_count": 2,
   "metadata": {},
   "outputs": [],
   "source": [
    "# All Tweets\n",
    "df = pd.read_pickle('data/raw/tweets.pkl')\n",
    "df.reset_index(drop = True, inplace = True)\n",
    "\n",
    "# Only English language Tweets\n",
    "dfEng = pd.read_pickle('data/raw/tweetsEng.pkl')\n",
    "dfEng.reset_index(drop = True, inplace = True)\n",
    "\n",
    "# Only non-English language Tweets\n",
    "dfOth = pd.read_pickle('data/raw/tweetsOth.pkl')\n",
    "dfOth.reset_index(drop = True, inplace = True)\n"
   ]
  },
  {
   "cell_type": "markdown",
   "metadata": {},
   "source": [
    "### Inspect data"
   ]
  },
  {
   "cell_type": "markdown",
   "metadata": {},
   "source": [
    "There are two sets of labels the Clemson researchers created: account type and account category. This project focuses on the account category label. \n",
    "\n",
    "**Note:** The labeling method employed by the Clemson researchers allows for accounts that primarily tweet in English to be labeled with a *Non-English* account category. For example, an account that primarily tweets about international events, such as the war in Ukraine, would be labeled as Non-English, even if the text is in English."
   ]
  },
  {
   "cell_type": "code",
   "execution_count": 3,
   "metadata": {},
   "outputs": [
    {
     "name": "stdout",
     "output_type": "stream",
     "text": [
      "All Tweets: \n",
      "2,946,207 rows of data, with 21 observations for each row \n",
      "2,843 unique accounts \n",
      " \n",
      " \n",
      "    Account types: ['Right', '?', 'Portuguese', 'Commercial', 'ZAPOROSHIA', 'Hashtager', 'Koch', 'Russian', 'Arabic', 'news', 'Ebola ', 'Ukranian', 'French', 'Spanish', 'German', 'local', 'Italian', 'Uzbek', 'Left'] \n",
      " \n",
      " Account categories: ['LeftTroll', 'NewsFeed', 'Commercial', 'Fearmonger', 'RightTroll', 'NonEnglish', 'Unknown', 'HashtagGamer'] \n",
      "\n"
     ]
    }
   ],
   "source": [
    "# All Tweets\n",
    "print(\n",
    "    \"\"\"All Tweets: \\n{:,} rows of data, with {} observations for each row \\n{:,} unique accounts \\n \\n \n",
    "    Account types: {} \\n \\n Account categories: {} \\n\"\"\".format(df.shape[0], df.shape[1], \n",
    "                                                                len(set(df.author)), \n",
    "                                                                list(set(df.account_type)),\n",
    "                                                                list(set(df.account_category)))\n",
    ")"
   ]
  },
  {
   "cell_type": "code",
   "execution_count": 4,
   "metadata": {},
   "outputs": [
    {
     "name": "stdout",
     "output_type": "stream",
     "text": [
      "English Tweets: \n",
      "2,116,867 rows of data, with 21 observations for each row \n",
      "2,161 unique accounts \n",
      " \n",
      " \n",
      "    Account types: ['Right', '?', 'Portuguese', 'Commercial', 'ZAPOROSHIA', 'Hashtager', 'Koch', 'Russian', 'Arabic', 'news', 'Ebola ', 'French', 'local', 'German', 'Spanish', 'Italian', 'Left'] \n",
      " \n",
      " Account categories: ['LeftTroll', 'NewsFeed', 'Commercial', 'Fearmonger', 'RightTroll', 'NonEnglish', 'Unknown', 'HashtagGamer'] \n",
      "\n"
     ]
    }
   ],
   "source": [
    "# Only English language Tweets\n",
    "print(\n",
    "    \"\"\"English Tweets: \\n{:,} rows of data, with {} observations for each row \\n{:,} unique accounts \\n \\n \n",
    "    Account types: {} \\n \\n Account categories: {} \\n\"\"\".format(dfEng.shape[0], dfEng.shape[1],\n",
    "                                                                len(set(dfEng.author)), \n",
    "                                                                list(set(dfEng.account_type)), \n",
    "                                                                list(set(dfEng.account_category)))\n",
    ")"
   ]
  },
  {
   "cell_type": "code",
   "execution_count": 5,
   "metadata": {},
   "outputs": [
    {
     "name": "stdout",
     "output_type": "stream",
     "text": [
      "Non-English Tweets: \n",
      " 829,340 rows of data, with 21 observations for each row \n",
      " 2,360 unique accounts \n",
      " \n",
      " \n",
      "Account types: ['Right', '?', 'Portuguese', 'Commercial', 'ZAPOROSHIA', 'Hashtager', 'Koch', 'Russian', 'Arabic', 'news', 'Ebola ', 'Ukranian', 'French', 'Spanish', 'German', 'local', 'Italian', 'Uzbek', 'Left'] \n",
      " \n",
      " Account categories: ['LeftTroll', 'NewsFeed', 'Commercial', 'Fearmonger', 'RightTroll', 'NonEnglish', 'Unknown', 'HashtagGamer'] \n",
      "\n"
     ]
    }
   ],
   "source": [
    "# Only non-English language Tweets\n",
    "print(\n",
    "    \n",
    "\"\"\"Non-English Tweets: \\n {:,} rows of data, with {} observations for each row \\n {:,} unique accounts \\n \\n \n",
    "Account types: {} \\n \\n Account categories: {} \\n\"\"\".format(dfOth.shape[0], dfOth.shape[1],\n",
    "                                                                len(set(dfOth.author)),\n",
    "                                                                list(set(dfOth.account_type)),\n",
    "                                                                list(set(dfOth.account_category)))\n",
    ")"
   ]
  },
  {
   "cell_type": "markdown",
   "metadata": {},
   "source": [
    "How were the account labels detirmined for non-english datasets, and can we use this data?"
   ]
  },
  {
   "cell_type": "code",
   "execution_count": 6,
   "metadata": {},
   "outputs": [
    {
     "name": "stdout",
     "output_type": "stream",
     "text": [
      "Non-English Tweets: Counts per Account Category \n",
      " \n",
      "Counter({'NonEnglish': 794241, 'Commercial': 9324, 'RightTroll': 6715, 'Unknown': 6594, 'HashtagGamer': 5694, 'LeftTroll': 5000, 'NewsFeed': 1633, 'Fearmonger': 139}) \n",
      " \n",
      "\n",
      "Number of Unique Languages: 55\n"
     ]
    }
   ],
   "source": [
    "# Further exploration of non-english dataset\n",
    "print(\n",
    "    \n",
    "\"\"\"Non-English Tweets: Counts per Account Category \\n \\n{} \\n \\n\n",
    "Number of Unique Languages: {}\"\"\".format((Counter(dfOth.account_category)), \n",
    "                                         len(dfOth.language.unique()))\n",
    ")\n"
   ]
  },
  {
   "cell_type": "code",
   "execution_count": 7,
   "metadata": {},
   "outputs": [],
   "source": [
    "# print(\n",
    "#     \"Unique Languages Per Account \\n \\n\",\n",
    "#     dfOth.groupby('author')['language'].unique()\n",
    "# )"
   ]
  },
  {
   "cell_type": "code",
   "execution_count": 8,
   "metadata": {},
   "outputs": [
    {
     "name": "stdout",
     "output_type": "stream",
     "text": [
      "Median Number of Languages Per Account \n",
      " \n",
      " 5.0\n"
     ]
    }
   ],
   "source": [
    "print(\n",
    "    \"Median Number of Languages Per Account \\n \\n\",\n",
    "    dfOth.groupby('author')['language'].unique().apply(len).median()\n",
    ")"
   ]
  },
  {
   "cell_type": "code",
   "execution_count": 9,
   "metadata": {},
   "outputs": [],
   "source": [
    "#dfOth.loc[dfOth.author == 'AMELIEBALDWIN', ['author', 'content', 'language']].head(100)"
   ]
  },
  {
   "cell_type": "code",
   "execution_count": 10,
   "metadata": {},
   "outputs": [],
   "source": [
    "#dfOth.loc[dfOth.author == 'AMELIEBALDWIN', ['author', 'content', 'language']].head(100)"
   ]
  },
  {
   "cell_type": "code",
   "execution_count": 11,
   "metadata": {},
   "outputs": [],
   "source": [
    "#dfOth.groupby('author')['account_category'].unique()"
   ]
  },
  {
   "cell_type": "code",
   "execution_count": 12,
   "metadata": {},
   "outputs": [
    {
     "data": {
      "text/plain": [
       "1678"
      ]
     },
     "execution_count": 12,
     "metadata": {},
     "output_type": "execute_result"
    }
   ],
   "source": [
    "sum(pd.Series(dfOth.author.unique()).isin(dfEng.author.unique()))"
   ]
  },
  {
   "cell_type": "markdown",
   "metadata": {},
   "source": [
    "## Number of Tweets by Account Category (All Tweets)"
   ]
  },
  {
   "cell_type": "code",
   "execution_count": 13,
   "metadata": {},
   "outputs": [
    {
     "data": {
      "image/png": "[encoded data removed]",
      "text/plain": [
       "<IPython.core.display.Image object>"
      ]
     },
     "execution_count": 13,
     "metadata": {},
     "output_type": "execute_result"
    }
   ],
   "source": [
    "counts_by_type = dict(Counter(df.account_category))\n",
    "\n",
    "account_type = list(counts_by_type.keys())\n",
    "values = list(counts_by_type.values())\n",
    "\n",
    "account_type = [x for _,x in sorted(zip(values ,account_type), reverse = True)]\n",
    "values = sorted(values, reverse = True)\n",
    "\n",
    "other_color = ['Unknown', 'Commercial', 'NonEnglish', 'Fearmonger']\n",
    "\n",
    "color_list = ['rgb(175, 88, 141)' if i in other_color else 'rgb(23,62,90)' for i in account_type]\n",
    "\n",
    "data = [go.Bar(\n",
    "            x=account_type,\n",
    "            y=values,\n",
    "            marker = dict(color = color_list),\n",
    "            opacity = .7\n",
    "    )]\n",
    "\n",
    "layout = go.Layout(title = dict(text = 'Number of Tweets by Account Category', font = dict(size = 20)), \n",
    "                   xaxis = dict(\n",
    "                       tickangle = 45, \n",
    "                       tickfont = dict(size = 15),\n",
    "                       automargin = True),\n",
    "                  yaxis = dict(title = dict(text = 'Tweets', font = dict(size = 20))))\n",
    "\n",
    "fig = go.Figure(data = data, layout = layout)\n",
    "\n",
    "img_bytes = pio.to_image(fig, format='png')\n",
    "Image(img_bytes)\n",
    "\n",
    "#iplot(fig, filename='basic-bar')"
   ]
  },
  {
   "cell_type": "markdown",
   "metadata": {},
   "source": [
    "## Number of Tweets by Account Category (English-only Tweets)"
   ]
  },
  {
   "cell_type": "code",
   "execution_count": 14,
   "metadata": {},
   "outputs": [
    {
     "data": {
      "application/vnd.plotly.v1+json": {
       "config": {
        "linkText": "Export to plot.ly",
        "plotlyServerURL": "https://plot.ly",
        "showLink": false
       },
       "data": [
        {
         "marker": {
          "color": [
           "rgb(23,62,90)",
           "rgb(23,62,90)",
           "rgb(23,62,90)",
           "rgb(23,62,90)",
           "rgb(175, 88, 141)",
           "rgb(175, 88, 141)",
           "rgb(175, 88, 141)",
           "rgb(175, 88, 141)"
          ]
         },
         "opacity": 0.7,
         "type": "bar",
         "uid": "1444f198-db4d-49b3-9d68-8a878a2609b8",
         "x": [
          "RightTroll",
          "NewsFeed",
          "LeftTroll",
          "HashtagGamer",
          "Commercial",
          "NonEnglish",
          "Fearmonger",
          "Unknown"
         ],
         "y": [
          704953,
          596593,
          422141,
          236092,
          112580,
          26562,
          11001,
          6945
         ]
        }
       ],
       "layout": {
        "title": {
         "font": {
          "size": 20
         },
         "text": "Number of English Language Tweets by Account Category"
        },
        "xaxis": {
         "automargin": true,
         "tickangle": 45,
         "tickfont": {
          "size": 15
         }
        },
        "yaxis": {
         "title": {
          "font": {
           "size": 20
          },
          "text": "Tweets"
         }
        }
       }
      },
      "text/html": [
       "<div id=\"c4fb1dcd-bfa2-4f69-b29e-ce69f4de307d\" style=\"height: 525px; width: 100%;\" class=\"plotly-graph-div\"></div><script type=\"text/javascript\">require([\"plotly\"], function(Plotly) { window.PLOTLYENV=window.PLOTLYENV || {};window.PLOTLYENV.BASE_URL=\"https://plot.ly\";Plotly.newPlot(\"c4fb1dcd-bfa2-4f69-b29e-ce69f4de307d\", [{\"marker\": {\"color\": [\"rgb(23,62,90)\", \"rgb(23,62,90)\", \"rgb(23,62,90)\", \"rgb(23,62,90)\", \"rgb(175, 88, 141)\", \"rgb(175, 88, 141)\", \"rgb(175, 88, 141)\", \"rgb(175, 88, 141)\"]}, \"opacity\": 0.7, \"x\": [\"RightTroll\", \"NewsFeed\", \"LeftTroll\", \"HashtagGamer\", \"Commercial\", \"NonEnglish\", \"Fearmonger\", \"Unknown\"], \"y\": [704953, 596593, 422141, 236092, 112580, 26562, 11001, 6945], \"type\": \"bar\", \"uid\": \"1444f198-db4d-49b3-9d68-8a878a2609b8\"}], {\"title\": {\"font\": {\"size\": 20}, \"text\": \"Number of English Language Tweets by Account Category\"}, \"xaxis\": {\"automargin\": true, \"tickangle\": 45, \"tickfont\": {\"size\": 15}}, \"yaxis\": {\"title\": {\"font\": {\"size\": 20}, \"text\": \"Tweets\"}}}, {\"showLink\": false, \"linkText\": \"Export to plot.ly\", \"plotlyServerURL\": \"https://plot.ly\"})});</script><script type=\"text/javascript\">window.addEventListener(\"resize\", function(){window._Plotly.Plots.resize(document.getElementById(\"c4fb1dcd-bfa2-4f69-b29e-ce69f4de307d\"));});</script>"
      ],
      "text/vnd.plotly.v1+html": [
       "<div id=\"c4fb1dcd-bfa2-4f69-b29e-ce69f4de307d\" style=\"height: 525px; width: 100%;\" class=\"plotly-graph-div\"></div><script type=\"text/javascript\">require([\"plotly\"], function(Plotly) { window.PLOTLYENV=window.PLOTLYENV || {};window.PLOTLYENV.BASE_URL=\"https://plot.ly\";Plotly.newPlot(\"c4fb1dcd-bfa2-4f69-b29e-ce69f4de307d\", [{\"marker\": {\"color\": [\"rgb(23,62,90)\", \"rgb(23,62,90)\", \"rgb(23,62,90)\", \"rgb(23,62,90)\", \"rgb(175, 88, 141)\", \"rgb(175, 88, 141)\", \"rgb(175, 88, 141)\", \"rgb(175, 88, 141)\"]}, \"opacity\": 0.7, \"x\": [\"RightTroll\", \"NewsFeed\", \"LeftTroll\", \"HashtagGamer\", \"Commercial\", \"NonEnglish\", \"Fearmonger\", \"Unknown\"], \"y\": [704953, 596593, 422141, 236092, 112580, 26562, 11001, 6945], \"type\": \"bar\", \"uid\": \"1444f198-db4d-49b3-9d68-8a878a2609b8\"}], {\"title\": {\"font\": {\"size\": 20}, \"text\": \"Number of English Language Tweets by Account Category\"}, \"xaxis\": {\"automargin\": true, \"tickangle\": 45, \"tickfont\": {\"size\": 15}}, \"yaxis\": {\"title\": {\"font\": {\"size\": 20}, \"text\": \"Tweets\"}}}, {\"showLink\": false, \"linkText\": \"Export to plot.ly\", \"plotlyServerURL\": \"https://plot.ly\"})});</script><script type=\"text/javascript\">window.addEventListener(\"resize\", function(){window._Plotly.Plots.resize(document.getElementById(\"c4fb1dcd-bfa2-4f69-b29e-ce69f4de307d\"));});</script>"
      ]
     },
     "metadata": {},
     "output_type": "display_data"
    }
   ],
   "source": [
    "counts_by_type = dict(Counter(dfEng.account_category))\n",
    "\n",
    "account_type = list(counts_by_type.keys())\n",
    "values = list(counts_by_type.values())\n",
    "\n",
    "account_type = [x for _,x in sorted(zip(values ,account_type), reverse = True)]\n",
    "values = sorted(values, reverse = True)\n",
    "\n",
    "other_color = ['Unknown', 'Commercial', 'NonEnglish', 'Fearmonger']\n",
    "\n",
    "color_list = ['rgb(175, 88, 141)' if i in other_color else 'rgb(23,62,90)' for i in account_type]\n",
    "\n",
    "data = [go.Bar(\n",
    "            x=account_type,\n",
    "            y=values,\n",
    "            marker = dict(color = color_list),\n",
    "            opacity = .7\n",
    "    )]\n",
    "\n",
    "layout = go.Layout(title = dict(text = 'Number of English Language Tweets by Account Category', font = dict(size = 20)), \n",
    "                   xaxis = dict(\n",
    "                       tickangle = 45, \n",
    "                       tickfont = dict(size = 15),\n",
    "                       automargin = True),\n",
    "                  yaxis = dict(title = dict(text = 'Tweets', font = dict(size = 20))))\n",
    "\n",
    "fig = go.Figure(data = data, layout = layout)\n",
    "\n",
    "iplot(fig, filename='basic-bar')"
   ]
  },
  {
   "cell_type": "markdown",
   "metadata": {},
   "source": [
    "## Number of Tweets by Account Category (Non-English Tweets)"
   ]
  },
  {
   "cell_type": "code",
   "execution_count": 15,
   "metadata": {},
   "outputs": [
    {
     "data": {
      "application/vnd.plotly.v1+json": {
       "config": {
        "linkText": "Export to plot.ly",
        "plotlyServerURL": "https://plot.ly",
        "showLink": false
       },
       "data": [
        {
         "marker": {
          "color": [
           "rgb(175, 88, 141)",
           "rgb(175, 88, 141)",
           "rgb(23,62,90)",
           "rgb(175, 88, 141)",
           "rgb(23,62,90)",
           "rgb(23,62,90)",
           "rgb(23,62,90)",
           "rgb(175, 88, 141)"
          ]
         },
         "opacity": 0.7,
         "type": "bar",
         "uid": "cbe3af20-1525-42d9-865a-9758b03a3863",
         "x": [
          "NonEnglish",
          "Commercial",
          "RightTroll",
          "Unknown",
          "HashtagGamer",
          "LeftTroll",
          "NewsFeed",
          "Fearmonger"
         ],
         "y": [
          794241,
          9324,
          6715,
          6594,
          5694,
          5000,
          1633,
          139
         ]
        }
       ],
       "layout": {
        "title": {
         "font": {
          "size": 20
         },
         "text": "Number of non-English Language Tweets by Account Category"
        },
        "xaxis": {
         "automargin": true,
         "tickangle": 45,
         "tickfont": {
          "size": 15
         }
        },
        "yaxis": {
         "title": {
          "font": {
           "size": 20
          },
          "text": "Tweets"
         }
        }
       }
      },
      "text/html": [
       "<div id=\"e8f66a14-8a4a-448b-8aab-00e90f2856ef\" style=\"height: 525px; width: 100%;\" class=\"plotly-graph-div\"></div><script type=\"text/javascript\">require([\"plotly\"], function(Plotly) { window.PLOTLYENV=window.PLOTLYENV || {};window.PLOTLYENV.BASE_URL=\"https://plot.ly\";Plotly.newPlot(\"e8f66a14-8a4a-448b-8aab-00e90f2856ef\", [{\"marker\": {\"color\": [\"rgb(175, 88, 141)\", \"rgb(175, 88, 141)\", \"rgb(23,62,90)\", \"rgb(175, 88, 141)\", \"rgb(23,62,90)\", \"rgb(23,62,90)\", \"rgb(23,62,90)\", \"rgb(175, 88, 141)\"]}, \"opacity\": 0.7, \"x\": [\"NonEnglish\", \"Commercial\", \"RightTroll\", \"Unknown\", \"HashtagGamer\", \"LeftTroll\", \"NewsFeed\", \"Fearmonger\"], \"y\": [794241, 9324, 6715, 6594, 5694, 5000, 1633, 139], \"type\": \"bar\", \"uid\": \"cbe3af20-1525-42d9-865a-9758b03a3863\"}], {\"title\": {\"font\": {\"size\": 20}, \"text\": \"Number of non-English Language Tweets by Account Category\"}, \"xaxis\": {\"automargin\": true, \"tickangle\": 45, \"tickfont\": {\"size\": 15}}, \"yaxis\": {\"title\": {\"font\": {\"size\": 20}, \"text\": \"Tweets\"}}}, {\"showLink\": false, \"linkText\": \"Export to plot.ly\", \"plotlyServerURL\": \"https://plot.ly\"})});</script><script type=\"text/javascript\">window.addEventListener(\"resize\", function(){window._Plotly.Plots.resize(document.getElementById(\"e8f66a14-8a4a-448b-8aab-00e90f2856ef\"));});</script>"
      ],
      "text/vnd.plotly.v1+html": [
       "<div id=\"e8f66a14-8a4a-448b-8aab-00e90f2856ef\" style=\"height: 525px; width: 100%;\" class=\"plotly-graph-div\"></div><script type=\"text/javascript\">require([\"plotly\"], function(Plotly) { window.PLOTLYENV=window.PLOTLYENV || {};window.PLOTLYENV.BASE_URL=\"https://plot.ly\";Plotly.newPlot(\"e8f66a14-8a4a-448b-8aab-00e90f2856ef\", [{\"marker\": {\"color\": [\"rgb(175, 88, 141)\", \"rgb(175, 88, 141)\", \"rgb(23,62,90)\", \"rgb(175, 88, 141)\", \"rgb(23,62,90)\", \"rgb(23,62,90)\", \"rgb(23,62,90)\", \"rgb(175, 88, 141)\"]}, \"opacity\": 0.7, \"x\": [\"NonEnglish\", \"Commercial\", \"RightTroll\", \"Unknown\", \"HashtagGamer\", \"LeftTroll\", \"NewsFeed\", \"Fearmonger\"], \"y\": [794241, 9324, 6715, 6594, 5694, 5000, 1633, 139], \"type\": \"bar\", \"uid\": \"cbe3af20-1525-42d9-865a-9758b03a3863\"}], {\"title\": {\"font\": {\"size\": 20}, \"text\": \"Number of non-English Language Tweets by Account Category\"}, \"xaxis\": {\"automargin\": true, \"tickangle\": 45, \"tickfont\": {\"size\": 15}}, \"yaxis\": {\"title\": {\"font\": {\"size\": 20}, \"text\": \"Tweets\"}}}, {\"showLink\": false, \"linkText\": \"Export to plot.ly\", \"plotlyServerURL\": \"https://plot.ly\"})});</script><script type=\"text/javascript\">window.addEventListener(\"resize\", function(){window._Plotly.Plots.resize(document.getElementById(\"e8f66a14-8a4a-448b-8aab-00e90f2856ef\"));});</script>"
      ]
     },
     "metadata": {},
     "output_type": "display_data"
    }
   ],
   "source": [
    "counts_by_type = dict(Counter(dfOth.account_category))\n",
    "\n",
    "account_type = list(counts_by_type.keys())\n",
    "values = list(counts_by_type.values())\n",
    "\n",
    "account_type = [x for _,x in sorted(zip(values ,account_type), reverse = True)]\n",
    "values = sorted(values, reverse = True)\n",
    "\n",
    "other_color = ['Unknown', 'Commercial', 'NonEnglish', 'Fearmonger']\n",
    "\n",
    "color_list = ['rgb(175, 88, 141)' if i in other_color else 'rgb(23,62,90)' for i in account_type]\n",
    "\n",
    "data = [go.Bar(\n",
    "            x=account_type,\n",
    "            y=values,\n",
    "            marker = dict(color = color_list),\n",
    "            opacity = .7\n",
    "    )]\n",
    "\n",
    "layout = go.Layout(title = dict(text = 'Number of non-English Language Tweets by Account Category', font = dict(size = 20)), \n",
    "                   xaxis = dict(\n",
    "                       tickangle = 45, \n",
    "                       tickfont = dict(size = 15),\n",
    "                       automargin = True),\n",
    "                  yaxis = dict(title = dict(text = 'Tweets', font = dict(size = 20))))\n",
    "\n",
    "fig = go.Figure(data = data, layout = layout)\n",
    "\n",
    "iplot(fig, filename='basic-bar')"
   ]
  },
  {
   "cell_type": "markdown",
   "metadata": {},
   "source": [
    "The previous chart displayed information for overall tweets. However, what we are really interested in is activity per account. That is, it would be nice to know how many right trolls are in the dataset vs. left trolls and so on. Let's go ahead and visualize this information now. "
   ]
  },
  {
   "cell_type": "code",
   "execution_count": 16,
   "metadata": {},
   "outputs": [
    {
     "data": {
      "application/vnd.plotly.v1+json": {
       "config": {
        "linkText": "Export to plot.ly",
        "plotlyServerURL": "https://plot.ly",
        "showLink": false
       },
       "data": [
        {
         "marker": {
          "color": [
           "rgb(175, 88, 141)",
           "rgb(23,62,90)",
           "rgb(23,62,90)",
           "rgb(175, 88, 141)",
           "rgb(175, 88, 141)",
           "rgb(23,62,90)",
           "rgb(23,62,90)",
           "rgb(175, 88, 141)"
          ]
         },
         "opacity": 0.7,
         "type": "bar",
         "uid": "3660d043-9dfc-48b7-b0df-e2dd8d299fe4",
         "x": [
          "NonEnglish",
          "RightTroll",
          "LeftTroll",
          "Unknown",
          "Fearmonger",
          "HashtagGamer",
          "NewsFeed",
          "Commercial"
         ],
         "y": [
          1473,
          630,
          233,
          211,
          124,
          112,
          54,
          6
         ]
        }
       ],
       "layout": {
        "title": {
         "font": {
          "size": 30
         },
         "text": "Counts of Accounts by Category"
        },
        "xaxis": {
         "automargin": true,
         "tickangle": 45,
         "tickfont": {
          "size": 15
         }
        },
        "yaxis": {
         "title": {
          "font": {
           "size": 20
          },
          "text": "Accounts"
         }
        }
       }
      },
      "text/html": [
       "<div id=\"b0fb4af3-c495-4e08-8081-eda0329fb7fd\" style=\"height: 525px; width: 100%;\" class=\"plotly-graph-div\"></div><script type=\"text/javascript\">require([\"plotly\"], function(Plotly) { window.PLOTLYENV=window.PLOTLYENV || {};window.PLOTLYENV.BASE_URL=\"https://plot.ly\";Plotly.newPlot(\"b0fb4af3-c495-4e08-8081-eda0329fb7fd\", [{\"marker\": {\"color\": [\"rgb(175, 88, 141)\", \"rgb(23,62,90)\", \"rgb(23,62,90)\", \"rgb(175, 88, 141)\", \"rgb(175, 88, 141)\", \"rgb(23,62,90)\", \"rgb(23,62,90)\", \"rgb(175, 88, 141)\"]}, \"opacity\": 0.7, \"x\": [\"NonEnglish\", \"RightTroll\", \"LeftTroll\", \"Unknown\", \"Fearmonger\", \"HashtagGamer\", \"NewsFeed\", \"Commercial\"], \"y\": [1473, 630, 233, 211, 124, 112, 54, 6], \"type\": \"bar\", \"uid\": \"3660d043-9dfc-48b7-b0df-e2dd8d299fe4\"}], {\"title\": {\"font\": {\"size\": 30}, \"text\": \"Counts of Accounts by Category\"}, \"xaxis\": {\"automargin\": true, \"tickangle\": 45, \"tickfont\": {\"size\": 15}}, \"yaxis\": {\"title\": {\"font\": {\"size\": 20}, \"text\": \"Accounts\"}}}, {\"showLink\": false, \"linkText\": \"Export to plot.ly\", \"plotlyServerURL\": \"https://plot.ly\"})});</script><script type=\"text/javascript\">window.addEventListener(\"resize\", function(){window._Plotly.Plots.resize(document.getElementById(\"b0fb4af3-c495-4e08-8081-eda0329fb7fd\"));});</script>"
      ],
      "text/vnd.plotly.v1+html": [
       "<div id=\"b0fb4af3-c495-4e08-8081-eda0329fb7fd\" style=\"height: 525px; width: 100%;\" class=\"plotly-graph-div\"></div><script type=\"text/javascript\">require([\"plotly\"], function(Plotly) { window.PLOTLYENV=window.PLOTLYENV || {};window.PLOTLYENV.BASE_URL=\"https://plot.ly\";Plotly.newPlot(\"b0fb4af3-c495-4e08-8081-eda0329fb7fd\", [{\"marker\": {\"color\": [\"rgb(175, 88, 141)\", \"rgb(23,62,90)\", \"rgb(23,62,90)\", \"rgb(175, 88, 141)\", \"rgb(175, 88, 141)\", \"rgb(23,62,90)\", \"rgb(23,62,90)\", \"rgb(175, 88, 141)\"]}, \"opacity\": 0.7, \"x\": [\"NonEnglish\", \"RightTroll\", \"LeftTroll\", \"Unknown\", \"Fearmonger\", \"HashtagGamer\", \"NewsFeed\", \"Commercial\"], \"y\": [1473, 630, 233, 211, 124, 112, 54, 6], \"type\": \"bar\", \"uid\": \"3660d043-9dfc-48b7-b0df-e2dd8d299fe4\"}], {\"title\": {\"font\": {\"size\": 30}, \"text\": \"Counts of Accounts by Category\"}, \"xaxis\": {\"automargin\": true, \"tickangle\": 45, \"tickfont\": {\"size\": 15}}, \"yaxis\": {\"title\": {\"font\": {\"size\": 20}, \"text\": \"Accounts\"}}}, {\"showLink\": false, \"linkText\": \"Export to plot.ly\", \"plotlyServerURL\": \"https://plot.ly\"})});</script><script type=\"text/javascript\">window.addEventListener(\"resize\", function(){window._Plotly.Plots.resize(document.getElementById(\"b0fb4af3-c495-4e08-8081-eda0329fb7fd\"));});</script>"
      ]
     },
     "metadata": {},
     "output_type": "display_data"
    }
   ],
   "source": [
    "account_analysis = df.groupby(['author', 'account_category'])['content'].count().reset_index()\n",
    "\n",
    "account_analysis = Counter(account_analysis.account_category)\n",
    "\n",
    "account_type = list(account_analysis.keys())\n",
    "values = list(account_analysis.values())\n",
    "\n",
    "account_type = [x for _,x in sorted(zip(values ,account_type), reverse = True)]\n",
    "values = sorted(values, reverse = True)\n",
    "\n",
    "color_list = ['rgb(175, 88, 141)' if i in other_color else 'rgb(23,62,90)' for i in account_type]\n",
    "\n",
    "data = [go.Bar(\n",
    "            x=account_type,\n",
    "            y=values,\n",
    "            marker = dict(color = color_list),\n",
    "            opacity = .7\n",
    "    )]\n",
    "\n",
    "layout = go.Layout(title = dict(text = 'Counts of Accounts by Category', font = dict(size = 30)), \n",
    "                   xaxis = dict(\n",
    "                       tickangle = 45, \n",
    "                       tickfont = dict(size = 15),\n",
    "                       automargin = True),\n",
    "                  yaxis = dict(title = dict(text = 'Accounts', font = dict(size = 20))))\n",
    "\n",
    "fig = go.Figure(data = data, layout = layout)\n",
    "\n",
    "iplot(fig, filename='basic-bar')"
   ]
  },
  {
   "cell_type": "markdown",
   "metadata": {},
   "source": [
    "Ok, this is an interesting chart. While Non English tweets account for very little of the overall tweet volume, there is a sizable number of Non English accounts in the dataset. \n",
    "\n",
    "For our procedure to work, we need to make sure that we have enough information (tweets) for each account for doc2vec to appropriatly embed our text in a vector space. As such, we need to ensure that we only consider accounts that meet some threshold for a minimum number of tweets, which we we do below. "
   ]
  },
  {
   "cell_type": "code",
   "execution_count": 17,
   "metadata": {},
   "outputs": [
    {
     "name": "stdout",
     "output_type": "stream",
     "text": [
      "1138\n"
     ]
    }
   ],
   "source": [
    "# Let's get counts of the number of tweets by each author\n",
    "counts_by_author = df[['author', 'content']].groupby('author').count()\n",
    "\n",
    "counts_by_author.reset_index(inplace = True)\n",
    "\n",
    "print(sum(counts_by_author.content > 400))\n",
    "\n",
    "author_series = counts_by_author.author[counts_by_author.content > 400]\n",
    "\n",
    "df = df[df.author.isin(author_series)]"
   ]
  },
  {
   "cell_type": "markdown",
   "metadata": {},
   "source": [
    "It should be noted that the choice of 400 tweets is arbitrary. Notice that by setting this threshold, the amount of Non English accounts in the dataset has decreased considerably. "
   ]
  },
  {
   "cell_type": "code",
   "execution_count": 18,
   "metadata": {},
   "outputs": [
    {
     "data": {
      "application/vnd.plotly.v1+json": {
       "config": {
        "linkText": "Export to plot.ly",
        "plotlyServerURL": "https://plot.ly",
        "showLink": false
       },
       "data": [
        {
         "marker": {
          "color": [
           "rgb(175, 88, 141)",
           "rgb(23,62,90)",
           "rgb(23,62,90)",
           "rgb(23,62,90)",
           "rgb(23,62,90)",
           "rgb(23,62,90)",
           "rgb(23,62,90)"
          ]
         },
         "opacity": 0.7,
         "type": "bar",
         "uid": "64e2378f-bcec-4164-b3e9-cd663615a020",
         "x": [
          "NonEnglish",
          "RightTroll",
          "LeftTroll",
          "HashtagGamer",
          "NewsFeed",
          "Commercial",
          "Unknown"
         ],
         "y": [
          677,
          226,
          118,
          64,
          45,
          5,
          3
         ]
        }
       ],
       "layout": {
        "title": {
         "font": {
          "size": 30
         },
         "text": "Accounts with more than 400 Tweets"
        },
        "xaxis": {
         "automargin": true,
         "tickangle": 45,
         "tickfont": {
          "size": 15
         }
        },
        "yaxis": {
         "title": {
          "font": {
           "size": 20
          },
          "text": "Accounts"
         }
        }
       }
      },
      "text/html": [
       "<div id=\"721cff49-23fd-4bf9-a2a9-c40022ba1280\" style=\"height: 525px; width: 100%;\" class=\"plotly-graph-div\"></div><script type=\"text/javascript\">require([\"plotly\"], function(Plotly) { window.PLOTLYENV=window.PLOTLYENV || {};window.PLOTLYENV.BASE_URL=\"https://plot.ly\";Plotly.newPlot(\"721cff49-23fd-4bf9-a2a9-c40022ba1280\", [{\"marker\": {\"color\": [\"rgb(175, 88, 141)\", \"rgb(23,62,90)\", \"rgb(23,62,90)\", \"rgb(23,62,90)\", \"rgb(23,62,90)\", \"rgb(23,62,90)\", \"rgb(23,62,90)\"]}, \"opacity\": 0.7, \"x\": [\"NonEnglish\", \"RightTroll\", \"LeftTroll\", \"HashtagGamer\", \"NewsFeed\", \"Commercial\", \"Unknown\"], \"y\": [677, 226, 118, 64, 45, 5, 3], \"type\": \"bar\", \"uid\": \"64e2378f-bcec-4164-b3e9-cd663615a020\"}], {\"title\": {\"font\": {\"size\": 30}, \"text\": \"Accounts with more than 400 Tweets\"}, \"xaxis\": {\"automargin\": true, \"tickangle\": 45, \"tickfont\": {\"size\": 15}}, \"yaxis\": {\"title\": {\"font\": {\"size\": 20}, \"text\": \"Accounts\"}}}, {\"showLink\": false, \"linkText\": \"Export to plot.ly\", \"plotlyServerURL\": \"https://plot.ly\"})});</script><script type=\"text/javascript\">window.addEventListener(\"resize\", function(){window._Plotly.Plots.resize(document.getElementById(\"721cff49-23fd-4bf9-a2a9-c40022ba1280\"));});</script>"
      ],
      "text/vnd.plotly.v1+html": [
       "<div id=\"721cff49-23fd-4bf9-a2a9-c40022ba1280\" style=\"height: 525px; width: 100%;\" class=\"plotly-graph-div\"></div><script type=\"text/javascript\">require([\"plotly\"], function(Plotly) { window.PLOTLYENV=window.PLOTLYENV || {};window.PLOTLYENV.BASE_URL=\"https://plot.ly\";Plotly.newPlot(\"721cff49-23fd-4bf9-a2a9-c40022ba1280\", [{\"marker\": {\"color\": [\"rgb(175, 88, 141)\", \"rgb(23,62,90)\", \"rgb(23,62,90)\", \"rgb(23,62,90)\", \"rgb(23,62,90)\", \"rgb(23,62,90)\", \"rgb(23,62,90)\"]}, \"opacity\": 0.7, \"x\": [\"NonEnglish\", \"RightTroll\", \"LeftTroll\", \"HashtagGamer\", \"NewsFeed\", \"Commercial\", \"Unknown\"], \"y\": [677, 226, 118, 64, 45, 5, 3], \"type\": \"bar\", \"uid\": \"64e2378f-bcec-4164-b3e9-cd663615a020\"}], {\"title\": {\"font\": {\"size\": 30}, \"text\": \"Accounts with more than 400 Tweets\"}, \"xaxis\": {\"automargin\": true, \"tickangle\": 45, \"tickfont\": {\"size\": 15}}, \"yaxis\": {\"title\": {\"font\": {\"size\": 20}, \"text\": \"Accounts\"}}}, {\"showLink\": false, \"linkText\": \"Export to plot.ly\", \"plotlyServerURL\": \"https://plot.ly\"})});</script><script type=\"text/javascript\">window.addEventListener(\"resize\", function(){window._Plotly.Plots.resize(document.getElementById(\"721cff49-23fd-4bf9-a2a9-c40022ba1280\"));});</script>"
      ]
     },
     "metadata": {},
     "output_type": "display_data"
    }
   ],
   "source": [
    "account_analysis = df.groupby(['author', 'account_category'])['content'].count().reset_index()\n",
    "account_analysis = Counter(account_analysis.account_category)\n",
    "\n",
    "account_type = list(account_analysis.keys())\n",
    "values = list(account_analysis.values())\n",
    "\n",
    "account_type = [x for _,x in sorted(zip(values ,account_type), reverse = True)]\n",
    "values = sorted(values, reverse = True)\n",
    "\n",
    "color_list = ['rgb(175, 88, 141)' if i == 'NonEnglish' else 'rgb(23,62,90)' for i in account_type]\n",
    "\n",
    "data = [go.Bar(\n",
    "            x=account_type,\n",
    "            y=values,\n",
    "            marker = dict(color = color_list),\n",
    "            opacity = .7\n",
    "    )]\n",
    "\n",
    "layout = go.Layout(title = dict(text = 'Accounts with more than 400 Tweets', font = dict(size = 30)), \n",
    "                   xaxis = dict(\n",
    "                       tickangle = 45, \n",
    "                       tickfont = dict(size = 15),\n",
    "                       automargin = True),\n",
    "                  yaxis = dict(title = dict(text = 'Accounts', font = dict(size = 20))))\n",
    "\n",
    "fig = go.Figure(data = data, layout = layout)\n",
    "\n",
    "iplot(fig, filename='basic-bar')"
   ]
  }
 ],
 "metadata": {
  "kernelspec": {
   "display_name": "Python 3",
   "language": "python",
   "name": "python3"
  },
  "language_info": {
   "codemirror_mode": {
    "name": "ipython",
    "version": 3
   },
   "file_extension": ".py",
   "mimetype": "text/x-python",
   "name": "python",
   "nbconvert_exporter": "python",
   "pygments_lexer": "ipython3",
   "version": "3.6.8"
  }
 },
 "nbformat": 4,
 "nbformat_minor": 2
}
