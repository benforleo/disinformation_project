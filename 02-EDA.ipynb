{
 "cells": [
  {
   "cell_type": "markdown",
   "metadata": {},
   "source": [
    "# Information Warfare\n",
    "## Russia’s use of Twitter during the 2016 US Presidential Election\n",
    "---\n",
    "\n",
    "### Import libraries"
   ]
  },
  {
   "cell_type": "code",
   "execution_count": 1,
   "metadata": {},
   "outputs": [
    {
     "data": {
      "text/html": [
       "        <script type=\"text/javascript\">\n",
       "        window.PlotlyConfig = {MathJaxConfig: 'local'};\n",
       "        if (window.MathJax) {MathJax.Hub.Config({SVG: {font: \"STIX-Web\"}});}\n",
       "        if (typeof require !== 'undefined') {\n",
       "        require.undef(\"plotly\");\n",
       "        requirejs.config({\n",
       "            paths: {\n",
       "                'plotly': ['https://cdn.plot.ly/plotly-latest.min']\n",
       "            }\n",
       "        });\n",
       "        require(['plotly'], function(Plotly) {\n",
       "            window._Plotly = Plotly;\n",
       "        });\n",
       "        }\n",
       "        </script>\n",
       "        "
      ]
     },
     "metadata": {},
     "output_type": "display_data"
    }
   ],
   "source": [
    "import numpy as np\n",
    "import pandas as pd\n",
    "\n",
    "pd.set_option('display.max_rows', 500)\n",
    "pd.set_option('display.max_columns', None)\n",
    "get_ipython().config.get('IPKernelApp', {})['parent_appname'] = \"\"\n",
    "\n",
    "import spacy\n",
    "import os\n",
    "import pickle\n",
    "\n",
    "from collections import Counter\n",
    "\n",
    "from plotly import tools\n",
    "import plotly.graph_objs as go\n",
    "from plotly.offline import download_plotlyjs, init_notebook_mode, plot, iplot\n",
    "import plotly.offline as py\n",
    "\n",
    "init_notebook_mode(connected=True)"
   ]
  },
  {
   "cell_type": "markdown",
   "metadata": {},
   "source": [
    "### Import data"
   ]
  },
  {
   "cell_type": "code",
   "execution_count": 2,
   "metadata": {},
   "outputs": [],
   "source": [
    "# All Tweets\n",
    "df = pd.read_pickle('data/raw/tweets.pkl')\n",
    "df.reset_index(drop = True, inplace = True)\n",
    "\n",
    "# Only English language Tweets\n",
    "dfEng = pd.read_pickle('data/raw/tweetsEng.pkl')\n",
    "dfEng.reset_index(drop = True, inplace = True)\n",
    "\n",
    "# Only non-English language Tweets\n",
    "dfOth = pd.read_pickle('data/raw/tweetsOth.pkl')\n",
    "dfOth.reset_index(drop = True, inplace = True)\n"
   ]
  },
  {
   "cell_type": "markdown",
   "metadata": {},
   "source": [
    "### Inspect data"
   ]
  },
  {
   "cell_type": "markdown",
   "metadata": {},
   "source": [
    "There are two sets of labels the Clemson researchers created: account type and account category. This project focuses on the account category label. \n",
    "\n",
    "**Note:** The labeling method employed by the Clemson researchers allows for accounts that primarily tweet in English to be labeled with a *Non-English* account category. For example, an account that primarily tweets about international events, such as the war in Ukraine, would be labeled as Non-English, even if the text is in English."
   ]
  },
  {
   "cell_type": "code",
   "execution_count": 3,
   "metadata": {},
   "outputs": [
    {
     "name": "stdout",
     "output_type": "stream",
     "text": [
      "All Tweets: \n",
      " 2,946,207 rows of data, with 21 observations for each row \n",
      " 2,843 unique accounts \n",
      " \n",
      " Account types: ['Koch', 'French', 'Ukranian', 'Right', 'Uzbek', '?', 'Commercial', 'Spanish', 'Russian', 'Left', 'local', 'news', 'German', 'Arabic', 'Hashtager', 'Italian', 'Ebola ', 'ZAPOROSHIA', 'Portuguese'] \n",
      " Account categories: ['Unknown', 'HashtagGamer', 'RightTroll', 'NewsFeed', 'Commercial', 'Fearmonger', 'NonEnglish', 'LeftTroll'] \n",
      "\n"
     ]
    }
   ],
   "source": [
    "# All Tweets\n",
    "print(\"All Tweets: \\n {:,} rows of data, with {} observations for each row \\n {:,} unique accounts \\n \\n Account types: {} \\n Account categories: {} \\n\".format(df.shape[0], df.shape[1],len(set(df.author)),list(set(df.account_type)),list(set(df.account_category))))\n"
   ]
  },
  {
   "cell_type": "code",
   "execution_count": 4,
   "metadata": {},
   "outputs": [
    {
     "name": "stdout",
     "output_type": "stream",
     "text": [
      "English Tweets: \n",
      " 2,116,867 rows of data, with 21 observations for each row \n",
      " 2,161 unique accounts \n",
      " \n",
      " Account types: ['Koch', 'French', 'Right', '?', 'Commercial', 'Spanish', 'Russian', 'Left', 'local', 'news', 'German', 'Arabic', 'Hashtager', 'Italian', 'Ebola ', 'ZAPOROSHIA', 'Portuguese'] \n",
      " \n",
      " Account categories: ['Unknown', 'HashtagGamer', 'RightTroll', 'NewsFeed', 'Commercial', 'Fearmonger', 'NonEnglish', 'LeftTroll'] \n",
      "\n"
     ]
    }
   ],
   "source": [
    "# Only English language Tweets\n",
    "print(\"English Tweets: \\n {:,} rows of data, with {} observations for each row \\n {:,} unique accounts \\n \\n Account types: {} \\n \\n Account categories: {} \\n\".format(dfEng.shape[0], dfEng.shape[1],len(set(dfEng.author)),list(set(dfEng.account_type)),list(set(dfEng.account_category))))\n"
   ]
  },
  {
   "cell_type": "code",
   "execution_count": 7,
   "metadata": {},
   "outputs": [
    {
     "name": "stdout",
     "output_type": "stream",
     "text": [
      "NonEnglish Tweets: \n",
      " 829,340 rows of data, with 21 observations for each row \n",
      " 2,360 unique accounts \n",
      " \n",
      " Account types: ['Koch', 'French', 'Ukranian', 'Right', 'Uzbek', '?', 'Commercial', 'Spanish', 'Russian', 'Left', 'local', 'news', 'German', 'Arabic', 'Hashtager', 'Italian', 'Ebola ', 'ZAPOROSHIA', 'Portuguese'] \n",
      " \n",
      " Account categories: ['Unknown', 'HashtagGamer', 'RightTroll', 'NewsFeed', 'Commercial', 'Fearmonger', 'NonEnglish', 'LeftTroll'] \n",
      "\n"
     ]
    }
   ],
   "source": [
    "# Only non-English language Tweets\n",
    "print(\"Non-English Tweets: \\n {:,} rows of data, with {} observations for each row \\n {:,} unique accounts \\n \\n Account types: {} \\n \\n Account categories: {} \\n\".format(dfOth.shape[0], dfOth.shape[1],len(set(dfOth.author)),list(set(dfOth.account_type)),list(set(dfOth.account_category))))\n"
   ]
  },
  {
   "cell_type": "markdown",
   "metadata": {},
   "source": [
    "## Number of Tweets by Account Category (All Tweets)"
   ]
  },
  {
   "cell_type": "code",
   "execution_count": 11,
   "metadata": {},
   "outputs": [
    {
     "data": {
      "application/vnd.plotly.v1+json": {
       "config": {
        "linkText": "Export to plot.ly",
        "plotlyServerURL": "https://plot.ly",
        "responsive": true,
        "showLink": false
       },
       "data": [
        {
         "marker": {
          "color": [
           "rgb(175, 88, 141)",
           "rgb(23,62,90)",
           "rgb(23,62,90)",
           "rgb(23,62,90)",
           "rgb(23,62,90)",
           "rgb(175, 88, 141)",
           "rgb(175, 88, 141)",
           "rgb(175, 88, 141)"
          ]
         },
         "opacity": 0.7,
         "type": "bar",
         "uid": "14c7eab3-bf85-4c4f-a6d6-173558d24e0c",
         "x": [
          "NonEnglish",
          "RightTroll",
          "NewsFeed",
          "LeftTroll",
          "HashtagGamer",
          "Commercial",
          "Unknown",
          "Fearmonger"
         ],
         "y": [
          820803,
          711668,
          598226,
          427141,
          241786,
          121904,
          13539,
          11140
         ]
        }
       ],
       "layout": {
        "title": {
         "font": {
          "size": 20
         },
         "text": "Number of Tweets by Account Category"
        },
        "xaxis": {
         "automargin": true,
         "tickangle": 45,
         "tickfont": {
          "size": 15
         }
        },
        "yaxis": {
         "title": {
          "font": {
           "size": 20
          },
          "text": "Tweets"
         }
        }
       }
      },
      "text/html": [
       "<div>\n",
       "        \n",
       "        \n",
       "            <div id=\"ed9781b5-4cac-4ad6-b444-3cc248ab4a11\" class=\"plotly-graph-div\" style=\"height:525px; width:100%;\"></div>\n",
       "            <script type=\"text/javascript\">\n",
       "                require([\"plotly\"], function(Plotly) {\n",
       "                    window.PLOTLYENV=window.PLOTLYENV || {};\n",
       "                    window.PLOTLYENV.BASE_URL='https://plot.ly';\n",
       "                    \n",
       "                if (document.getElementById(\"ed9781b5-4cac-4ad6-b444-3cc248ab4a11\")) {\n",
       "                    Plotly.newPlot(\n",
       "                        'ed9781b5-4cac-4ad6-b444-3cc248ab4a11',\n",
       "                        [{\"marker\": {\"color\": [\"rgb(175, 88, 141)\", \"rgb(23,62,90)\", \"rgb(23,62,90)\", \"rgb(23,62,90)\", \"rgb(23,62,90)\", \"rgb(175, 88, 141)\", \"rgb(175, 88, 141)\", \"rgb(175, 88, 141)\"]}, \"opacity\": 0.7, \"type\": \"bar\", \"uid\": \"238c0ec7-a247-4fdf-b40e-09ce08055abc\", \"x\": [\"NonEnglish\", \"RightTroll\", \"NewsFeed\", \"LeftTroll\", \"HashtagGamer\", \"Commercial\", \"Unknown\", \"Fearmonger\"], \"y\": [820803, 711668, 598226, 427141, 241786, 121904, 13539, 11140]}],\n",
       "                        {\"title\": {\"font\": {\"size\": 20}, \"text\": \"Number of Tweets by Account Category\"}, \"xaxis\": {\"automargin\": true, \"tickangle\": 45, \"tickfont\": {\"size\": 15}}, \"yaxis\": {\"title\": {\"font\": {\"size\": 20}, \"text\": \"Tweets\"}}},\n",
       "                        {\"showLink\": false, \"linkText\": \"Export to plot.ly\", \"plotlyServerURL\": \"https://plot.ly\", \"responsive\": true}\n",
       "                    ).then(function(){\n",
       "                            \n",
       "var gd = document.getElementById('ed9781b5-4cac-4ad6-b444-3cc248ab4a11');\n",
       "var x = new MutationObserver(function (mutations, observer) {{\n",
       "        var display = window.getComputedStyle(gd).display;\n",
       "        if (!display || display === 'none') {{\n",
       "            console.log([gd, 'removed!']);\n",
       "            Plotly.purge(gd);\n",
       "            observer.disconnect();\n",
       "        }}\n",
       "}});\n",
       "\n",
       "// Listen for the removal of the full notebook cells\n",
       "var notebookContainer = gd.closest('#notebook-container');\n",
       "if (notebookContainer) {{\n",
       "    x.observe(notebookContainer, {childList: true});\n",
       "}}\n",
       "\n",
       "// Listen for the clearing of the current output cell\n",
       "var outputEl = gd.closest('.output');\n",
       "if (outputEl) {{\n",
       "    x.observe(outputEl, {childList: true});\n",
       "}}\n",
       "\n",
       "                        })\n",
       "                };\n",
       "                });\n",
       "            </script>\n",
       "        </div>"
      ]
     },
     "metadata": {},
     "output_type": "display_data"
    }
   ],
   "source": [
    "counts_by_type = dict(Counter(df.account_category))\n",
    "\n",
    "account_type = list(counts_by_type.keys())\n",
    "values = list(counts_by_type.values())\n",
    "\n",
    "account_type = [x for _,x in sorted(zip(values ,account_type), reverse = True)]\n",
    "values = sorted(values, reverse = True)\n",
    "\n",
    "other_color = ['Unknown', 'Commercial', 'NonEnglish', 'Fearmonger']\n",
    "\n",
    "color_list = ['rgb(175, 88, 141)' if i in other_color else 'rgb(23,62,90)' for i in account_type]\n",
    "\n",
    "data = [go.Bar(\n",
    "            x=account_type,\n",
    "            y=values,\n",
    "            marker = dict(color = color_list),\n",
    "            opacity = .7\n",
    "    )]\n",
    "\n",
    "layout = go.Layout(title = dict(text = 'Number of Tweets by Account Category', font = dict(size = 20)), \n",
    "                   xaxis = dict(\n",
    "                       tickangle = 45, \n",
    "                       tickfont = dict(size = 15),\n",
    "                       automargin = True),\n",
    "                  yaxis = dict(title = dict(text = 'Tweets', font = dict(size = 20))))\n",
    "\n",
    "fig = go.Figure(data = data, layout = layout)\n",
    "\n",
    "py.iplot(fig, filename='basic-bar')"
   ]
  },
  {
   "cell_type": "markdown",
   "metadata": {},
   "source": [
    "## Number of Tweets by Account Category (English-only Tweets)"
   ]
  },
  {
   "cell_type": "code",
   "execution_count": 14,
   "metadata": {},
   "outputs": [
    {
     "data": {
      "application/vnd.plotly.v1+json": {
       "config": {
        "linkText": "Export to plot.ly",
        "plotlyServerURL": "https://plot.ly",
        "responsive": true,
        "showLink": false
       },
       "data": [
        {
         "marker": {
          "color": [
           "rgb(23,62,90)",
           "rgb(23,62,90)",
           "rgb(23,62,90)",
           "rgb(23,62,90)",
           "rgb(175, 88, 141)",
           "rgb(175, 88, 141)",
           "rgb(175, 88, 141)",
           "rgb(175, 88, 141)"
          ]
         },
         "opacity": 0.7,
         "type": "bar",
         "uid": "c40f643e-affb-45a0-a06c-ed5b36beced4",
         "x": [
          "RightTroll",
          "NewsFeed",
          "LeftTroll",
          "HashtagGamer",
          "Commercial",
          "NonEnglish",
          "Fearmonger",
          "Unknown"
         ],
         "y": [
          704953,
          596593,
          422141,
          236092,
          112580,
          26562,
          11001,
          6945
         ]
        }
       ],
       "layout": {
        "title": {
         "font": {
          "size": 20
         },
         "text": "Number of English Language Tweets by Account Category"
        },
        "xaxis": {
         "automargin": true,
         "tickangle": 45,
         "tickfont": {
          "size": 15
         }
        },
        "yaxis": {
         "title": {
          "font": {
           "size": 20
          },
          "text": "Tweets"
         }
        }
       }
      },
      "text/html": [
       "<div>\n",
       "        \n",
       "        \n",
       "            <div id=\"e00634fd-bc31-4e2c-9469-bc03b03ffd9d\" class=\"plotly-graph-div\" style=\"height:525px; width:100%;\"></div>\n",
       "            <script type=\"text/javascript\">\n",
       "                require([\"plotly\"], function(Plotly) {\n",
       "                    window.PLOTLYENV=window.PLOTLYENV || {};\n",
       "                    window.PLOTLYENV.BASE_URL='https://plot.ly';\n",
       "                    \n",
       "                if (document.getElementById(\"e00634fd-bc31-4e2c-9469-bc03b03ffd9d\")) {\n",
       "                    Plotly.newPlot(\n",
       "                        'e00634fd-bc31-4e2c-9469-bc03b03ffd9d',\n",
       "                        [{\"marker\": {\"color\": [\"rgb(23,62,90)\", \"rgb(23,62,90)\", \"rgb(23,62,90)\", \"rgb(23,62,90)\", \"rgb(175, 88, 141)\", \"rgb(175, 88, 141)\", \"rgb(175, 88, 141)\", \"rgb(175, 88, 141)\"]}, \"opacity\": 0.7, \"type\": \"bar\", \"uid\": \"a79dee2b-b181-46d5-973a-dfcb8ee7e1d5\", \"x\": [\"RightTroll\", \"NewsFeed\", \"LeftTroll\", \"HashtagGamer\", \"Commercial\", \"NonEnglish\", \"Fearmonger\", \"Unknown\"], \"y\": [704953, 596593, 422141, 236092, 112580, 26562, 11001, 6945]}],\n",
       "                        {\"title\": {\"font\": {\"size\": 20}, \"text\": \"Number of English Language Tweets by Account Category\"}, \"xaxis\": {\"automargin\": true, \"tickangle\": 45, \"tickfont\": {\"size\": 15}}, \"yaxis\": {\"title\": {\"font\": {\"size\": 20}, \"text\": \"Tweets\"}}},\n",
       "                        {\"showLink\": false, \"linkText\": \"Export to plot.ly\", \"plotlyServerURL\": \"https://plot.ly\", \"responsive\": true}\n",
       "                    ).then(function(){\n",
       "                            \n",
       "var gd = document.getElementById('e00634fd-bc31-4e2c-9469-bc03b03ffd9d');\n",
       "var x = new MutationObserver(function (mutations, observer) {{\n",
       "        var display = window.getComputedStyle(gd).display;\n",
       "        if (!display || display === 'none') {{\n",
       "            console.log([gd, 'removed!']);\n",
       "            Plotly.purge(gd);\n",
       "            observer.disconnect();\n",
       "        }}\n",
       "}});\n",
       "\n",
       "// Listen for the removal of the full notebook cells\n",
       "var notebookContainer = gd.closest('#notebook-container');\n",
       "if (notebookContainer) {{\n",
       "    x.observe(notebookContainer, {childList: true});\n",
       "}}\n",
       "\n",
       "// Listen for the clearing of the current output cell\n",
       "var outputEl = gd.closest('.output');\n",
       "if (outputEl) {{\n",
       "    x.observe(outputEl, {childList: true});\n",
       "}}\n",
       "\n",
       "                        })\n",
       "                };\n",
       "                });\n",
       "            </script>\n",
       "        </div>"
      ]
     },
     "metadata": {},
     "output_type": "display_data"
    }
   ],
   "source": [
    "counts_by_type = dict(Counter(dfEng.account_category))\n",
    "\n",
    "account_type = list(counts_by_type.keys())\n",
    "values = list(counts_by_type.values())\n",
    "\n",
    "account_type = [x for _,x in sorted(zip(values ,account_type), reverse = True)]\n",
    "values = sorted(values, reverse = True)\n",
    "\n",
    "other_color = ['Unknown', 'Commercial', 'NonEnglish', 'Fearmonger']\n",
    "\n",
    "color_list = ['rgb(175, 88, 141)' if i in other_color else 'rgb(23,62,90)' for i in account_type]\n",
    "\n",
    "data = [go.Bar(\n",
    "            x=account_type,\n",
    "            y=values,\n",
    "            marker = dict(color = color_list),\n",
    "            opacity = .7\n",
    "    )]\n",
    "\n",
    "layout = go.Layout(title = dict(text = 'Number of English Language Tweets by Account Category', font = dict(size = 20)), \n",
    "                   xaxis = dict(\n",
    "                       tickangle = 45, \n",
    "                       tickfont = dict(size = 15),\n",
    "                       automargin = True),\n",
    "                  yaxis = dict(title = dict(text = 'Tweets', font = dict(size = 20))))\n",
    "\n",
    "fig = go.Figure(data = data, layout = layout)\n",
    "\n",
    "py.iplot(fig, filename='basic-bar')"
   ]
  },
  {
   "cell_type": "markdown",
   "metadata": {},
   "source": [
    "## Number of Tweets by Account Category (Non-English Tweets)"
   ]
  },
  {
   "cell_type": "code",
   "execution_count": 15,
   "metadata": {},
   "outputs": [
    {
     "data": {
      "application/vnd.plotly.v1+json": {
       "config": {
        "linkText": "Export to plot.ly",
        "plotlyServerURL": "https://plot.ly",
        "responsive": true,
        "showLink": false
       },
       "data": [
        {
         "marker": {
          "color": [
           "rgb(175, 88, 141)",
           "rgb(175, 88, 141)",
           "rgb(23,62,90)",
           "rgb(175, 88, 141)",
           "rgb(23,62,90)",
           "rgb(23,62,90)",
           "rgb(23,62,90)",
           "rgb(175, 88, 141)"
          ]
         },
         "opacity": 0.7,
         "type": "bar",
         "uid": "63517c68-7c91-4b14-8273-257f1eb7302d",
         "x": [
          "NonEnglish",
          "Commercial",
          "RightTroll",
          "Unknown",
          "HashtagGamer",
          "LeftTroll",
          "NewsFeed",
          "Fearmonger"
         ],
         "y": [
          794241,
          9324,
          6715,
          6594,
          5694,
          5000,
          1633,
          139
         ]
        }
       ],
       "layout": {
        "title": {
         "font": {
          "size": 20
         },
         "text": "Number of non-English Language Tweets by Account Category"
        },
        "xaxis": {
         "automargin": true,
         "tickangle": 45,
         "tickfont": {
          "size": 15
         }
        },
        "yaxis": {
         "title": {
          "font": {
           "size": 20
          },
          "text": "Tweets"
         }
        }
       }
      },
      "text/html": [
       "<div>\n",
       "        \n",
       "        \n",
       "            <div id=\"679d3ad4-62f6-4c91-9936-573cb9a5de61\" class=\"plotly-graph-div\" style=\"height:525px; width:100%;\"></div>\n",
       "            <script type=\"text/javascript\">\n",
       "                require([\"plotly\"], function(Plotly) {\n",
       "                    window.PLOTLYENV=window.PLOTLYENV || {};\n",
       "                    window.PLOTLYENV.BASE_URL='https://plot.ly';\n",
       "                    \n",
       "                if (document.getElementById(\"679d3ad4-62f6-4c91-9936-573cb9a5de61\")) {\n",
       "                    Plotly.newPlot(\n",
       "                        '679d3ad4-62f6-4c91-9936-573cb9a5de61',\n",
       "                        [{\"marker\": {\"color\": [\"rgb(175, 88, 141)\", \"rgb(175, 88, 141)\", \"rgb(23,62,90)\", \"rgb(175, 88, 141)\", \"rgb(23,62,90)\", \"rgb(23,62,90)\", \"rgb(23,62,90)\", \"rgb(175, 88, 141)\"]}, \"opacity\": 0.7, \"type\": \"bar\", \"uid\": \"ac1778d6-c491-4ace-8ba2-6f63d52a5464\", \"x\": [\"NonEnglish\", \"Commercial\", \"RightTroll\", \"Unknown\", \"HashtagGamer\", \"LeftTroll\", \"NewsFeed\", \"Fearmonger\"], \"y\": [794241, 9324, 6715, 6594, 5694, 5000, 1633, 139]}],\n",
       "                        {\"title\": {\"font\": {\"size\": 20}, \"text\": \"Number of non-English Language Tweets by Account Category\"}, \"xaxis\": {\"automargin\": true, \"tickangle\": 45, \"tickfont\": {\"size\": 15}}, \"yaxis\": {\"title\": {\"font\": {\"size\": 20}, \"text\": \"Tweets\"}}},\n",
       "                        {\"showLink\": false, \"linkText\": \"Export to plot.ly\", \"plotlyServerURL\": \"https://plot.ly\", \"responsive\": true}\n",
       "                    ).then(function(){\n",
       "                            \n",
       "var gd = document.getElementById('679d3ad4-62f6-4c91-9936-573cb9a5de61');\n",
       "var x = new MutationObserver(function (mutations, observer) {{\n",
       "        var display = window.getComputedStyle(gd).display;\n",
       "        if (!display || display === 'none') {{\n",
       "            console.log([gd, 'removed!']);\n",
       "            Plotly.purge(gd);\n",
       "            observer.disconnect();\n",
       "        }}\n",
       "}});\n",
       "\n",
       "// Listen for the removal of the full notebook cells\n",
       "var notebookContainer = gd.closest('#notebook-container');\n",
       "if (notebookContainer) {{\n",
       "    x.observe(notebookContainer, {childList: true});\n",
       "}}\n",
       "\n",
       "// Listen for the clearing of the current output cell\n",
       "var outputEl = gd.closest('.output');\n",
       "if (outputEl) {{\n",
       "    x.observe(outputEl, {childList: true});\n",
       "}}\n",
       "\n",
       "                        })\n",
       "                };\n",
       "                });\n",
       "            </script>\n",
       "        </div>"
      ]
     },
     "metadata": {},
     "output_type": "display_data"
    }
   ],
   "source": [
    "counts_by_type = dict(Counter(dfOth.account_category))\n",
    "\n",
    "account_type = list(counts_by_type.keys())\n",
    "values = list(counts_by_type.values())\n",
    "\n",
    "account_type = [x for _,x in sorted(zip(values ,account_type), reverse = True)]\n",
    "values = sorted(values, reverse = True)\n",
    "\n",
    "other_color = ['Unknown', 'Commercial', 'NonEnglish', 'Fearmonger']\n",
    "\n",
    "color_list = ['rgb(175, 88, 141)' if i in other_color else 'rgb(23,62,90)' for i in account_type]\n",
    "\n",
    "data = [go.Bar(\n",
    "            x=account_type,\n",
    "            y=values,\n",
    "            marker = dict(color = color_list),\n",
    "            opacity = .7\n",
    "    )]\n",
    "\n",
    "layout = go.Layout(title = dict(text = 'Number of non-English Language Tweets by Account Category', font = dict(size = 20)), \n",
    "                   xaxis = dict(\n",
    "                       tickangle = 45, \n",
    "                       tickfont = dict(size = 15),\n",
    "                       automargin = True),\n",
    "                  yaxis = dict(title = dict(text = 'Tweets', font = dict(size = 20))))\n",
    "\n",
    "fig = go.Figure(data = data, layout = layout)\n",
    "\n",
    "py.iplot(fig, filename='basic-bar')"
   ]
  },
  {
   "cell_type": "markdown",
   "metadata": {},
   "source": [
    "The previous chart displayed information for overall tweets. However, what we are really interested in is activity per account. That is, it would be nice to know how many right trolls are in the dataset vs. left trolls and so on. Let's go ahead and visualize this information now. "
   ]
  },
  {
   "cell_type": "code",
   "execution_count": 11,
   "metadata": {},
   "outputs": [
    {
     "data": {
      "application/vnd.plotly.v1+json": {
       "config": {
        "linkText": "Export to plot.ly",
        "plotlyServerURL": "https://plot.ly",
        "responsive": true,
        "showLink": false
       },
       "data": [
        {
         "marker": {
          "color": [
           "rgb(175, 88, 141)",
           "rgb(23,62,90)",
           "rgb(23,62,90)",
           "rgb(175, 88, 141)",
           "rgb(175, 88, 141)",
           "rgb(23,62,90)",
           "rgb(23,62,90)",
           "rgb(175, 88, 141)"
          ]
         },
         "opacity": 0.7,
         "type": "bar",
         "uid": "c9b04aa6-cf81-42ba-9138-df98af281ac1",
         "x": [
          "NonEnglish",
          "RightTroll",
          "LeftTroll",
          "Unknown",
          "Fearmonger",
          "HashtagGamer",
          "NewsFeed",
          "Commercial"
         ],
         "y": [
          795,
          630,
          233,
          207,
          124,
          112,
          54,
          6
         ]
        }
       ],
       "layout": {
        "title": {
         "font": {
          "size": 30
         },
         "text": "Counts of Accounts by Category"
        },
        "xaxis": {
         "automargin": true,
         "tickangle": 45,
         "tickfont": {
          "size": 15
         }
        },
        "yaxis": {
         "title": {
          "font": {
           "size": 20
          },
          "text": "Accounts"
         }
        }
       }
      },
      "text/html": [
       "<div>\n",
       "        \n",
       "        \n",
       "            <div id=\"330f8457-34f1-48bf-b9dc-a2ce323b6566\" class=\"plotly-graph-div\" style=\"height:525px; width:100%;\"></div>\n",
       "            <script type=\"text/javascript\">\n",
       "                require([\"plotly\"], function(Plotly) {\n",
       "                    window.PLOTLYENV=window.PLOTLYENV || {};\n",
       "                    window.PLOTLYENV.BASE_URL='https://plot.ly';\n",
       "                    \n",
       "                if (document.getElementById(\"330f8457-34f1-48bf-b9dc-a2ce323b6566\")) {\n",
       "                    Plotly.newPlot(\n",
       "                        '330f8457-34f1-48bf-b9dc-a2ce323b6566',\n",
       "                        [{\"marker\": {\"color\": [\"rgb(175, 88, 141)\", \"rgb(23,62,90)\", \"rgb(23,62,90)\", \"rgb(175, 88, 141)\", \"rgb(175, 88, 141)\", \"rgb(23,62,90)\", \"rgb(23,62,90)\", \"rgb(175, 88, 141)\"]}, \"opacity\": 0.7, \"type\": \"bar\", \"uid\": \"e45851c7-d7c5-482a-b8f0-6797229e0325\", \"x\": [\"NonEnglish\", \"RightTroll\", \"LeftTroll\", \"Unknown\", \"Fearmonger\", \"HashtagGamer\", \"NewsFeed\", \"Commercial\"], \"y\": [795, 630, 233, 207, 124, 112, 54, 6]}],\n",
       "                        {\"title\": {\"font\": {\"size\": 30}, \"text\": \"Counts of Accounts by Category\"}, \"xaxis\": {\"automargin\": true, \"tickangle\": 45, \"tickfont\": {\"size\": 15}}, \"yaxis\": {\"title\": {\"font\": {\"size\": 20}, \"text\": \"Accounts\"}}},\n",
       "                        {\"showLink\": false, \"linkText\": \"Export to plot.ly\", \"plotlyServerURL\": \"https://plot.ly\", \"responsive\": true}\n",
       "                    ).then(function(){\n",
       "                            \n",
       "var gd = document.getElementById('330f8457-34f1-48bf-b9dc-a2ce323b6566');\n",
       "var x = new MutationObserver(function (mutations, observer) {{\n",
       "        var display = window.getComputedStyle(gd).display;\n",
       "        if (!display || display === 'none') {{\n",
       "            console.log([gd, 'removed!']);\n",
       "            Plotly.purge(gd);\n",
       "            observer.disconnect();\n",
       "        }}\n",
       "}});\n",
       "\n",
       "// Listen for the removal of the full notebook cells\n",
       "var notebookContainer = gd.closest('#notebook-container');\n",
       "if (notebookContainer) {{\n",
       "    x.observe(notebookContainer, {childList: true});\n",
       "}}\n",
       "\n",
       "// Listen for the clearing of the current output cell\n",
       "var outputEl = gd.closest('.output');\n",
       "if (outputEl) {{\n",
       "    x.observe(outputEl, {childList: true});\n",
       "}}\n",
       "\n",
       "                        })\n",
       "                };\n",
       "                });\n",
       "            </script>\n",
       "        </div>"
      ]
     },
     "metadata": {},
     "output_type": "display_data"
    }
   ],
   "source": [
    "account_analysis = df.groupby(['author', 'account_category'])['content'].count().reset_index()\n",
    "\n",
    "account_analysis = Counter(account_analysis.account_category)\n",
    "\n",
    "account_type = list(account_analysis.keys())\n",
    "values = list(account_analysis.values())\n",
    "\n",
    "account_type = [x for _,x in sorted(zip(values ,account_type), reverse = True)]\n",
    "values = sorted(values, reverse = True)\n",
    "\n",
    "color_list = ['rgb(175, 88, 141)' if i in other_color else 'rgb(23,62,90)' for i in account_type]\n",
    "\n",
    "data = [go.Bar(\n",
    "            x=account_type,\n",
    "            y=values,\n",
    "            marker = dict(color = color_list),\n",
    "            opacity = .7\n",
    "    )]\n",
    "\n",
    "layout = go.Layout(title = dict(text = 'Counts of Accounts by Category', font = dict(size = 30)), \n",
    "                   xaxis = dict(\n",
    "                       tickangle = 45, \n",
    "                       tickfont = dict(size = 15),\n",
    "                       automargin = True),\n",
    "                  yaxis = dict(title = dict(text = 'Accounts', font = dict(size = 20))))\n",
    "\n",
    "fig = go.Figure(data = data, layout = layout)\n",
    "\n",
    "py.iplot(fig, filename='basic-bar')"
   ]
  },
  {
   "cell_type": "markdown",
   "metadata": {},
   "source": [
    "Ok, this is an interesting chart. While Non English tweets account for very little of the overall tweet volume, there is a sizable number of Non English accounts in the dataset. \n",
    "\n",
    "For our procedure to work, we need to make sure that we have enough information (tweets) for each account for doc2vec to appropriatly embed our text in a vector space. As such, we need to ensure that we only consider accounts that meet some threshold for a minimum number of tweets, which we we do below. "
   ]
  },
  {
   "cell_type": "code",
   "execution_count": 12,
   "metadata": {},
   "outputs": [
    {
     "name": "stdout",
     "output_type": "stream",
     "text": [
      "463\n"
     ]
    }
   ],
   "source": [
    "# Let's get counts of the number of tweets by each author\n",
    "counts_by_author = df[['author', 'content']].groupby('author').count()\n",
    "\n",
    "counts_by_author.reset_index(inplace = True)\n",
    "\n",
    "print(sum(counts_by_author.content > 400))\n",
    "\n",
    "author_series = counts_by_author.author[counts_by_author.content > 400]\n",
    "\n",
    "df = df[df.author.isin(author_series)]"
   ]
  },
  {
   "cell_type": "markdown",
   "metadata": {},
   "source": [
    "It should be noted that the choice of 400 tweets is arbitrary. Notice that by setting this threshold, the amount of Non English accounts in the dataset has decreased considerably. "
   ]
  },
  {
   "cell_type": "code",
   "execution_count": 13,
   "metadata": {},
   "outputs": [
    {
     "data": {
      "application/vnd.plotly.v1+json": {
       "config": {
        "linkText": "Export to plot.ly",
        "plotlyServerURL": "https://plot.ly",
        "responsive": true,
        "showLink": false
       },
       "data": [
        {
         "marker": {
          "color": [
           "rgb(23,62,90)",
           "rgb(23,62,90)",
           "rgb(23,62,90)",
           "rgb(23,62,90)",
           "rgb(175, 88, 141)",
           "rgb(23,62,90)",
           "rgb(23,62,90)"
          ]
         },
         "opacity": 0.7,
         "type": "bar",
         "uid": "e11e073d-e267-4734-9f7e-c6cf10fd033d",
         "x": [
          "RightTroll",
          "LeftTroll",
          "HashtagGamer",
          "NewsFeed",
          "NonEnglish",
          "Commercial",
          "Unknown"
         ],
         "y": [
          223,
          118,
          63,
          45,
          7,
          5,
          2
         ]
        }
       ],
       "layout": {
        "title": {
         "font": {
          "size": 30
         },
         "text": "Accounts with more than 400 Tweets"
        },
        "xaxis": {
         "automargin": true,
         "tickangle": 45,
         "tickfont": {
          "size": 15
         }
        },
        "yaxis": {
         "title": {
          "font": {
           "size": 20
          },
          "text": "Accounts"
         }
        }
       }
      },
      "text/html": [
       "<div>\n",
       "        \n",
       "        \n",
       "            <div id=\"26500950-cd08-4c79-950c-0cff87461b28\" class=\"plotly-graph-div\" style=\"height:525px; width:100%;\"></div>\n",
       "            <script type=\"text/javascript\">\n",
       "                require([\"plotly\"], function(Plotly) {\n",
       "                    window.PLOTLYENV=window.PLOTLYENV || {};\n",
       "                    window.PLOTLYENV.BASE_URL='https://plot.ly';\n",
       "                    \n",
       "                if (document.getElementById(\"26500950-cd08-4c79-950c-0cff87461b28\")) {\n",
       "                    Plotly.newPlot(\n",
       "                        '26500950-cd08-4c79-950c-0cff87461b28',\n",
       "                        [{\"marker\": {\"color\": [\"rgb(23,62,90)\", \"rgb(23,62,90)\", \"rgb(23,62,90)\", \"rgb(23,62,90)\", \"rgb(175, 88, 141)\", \"rgb(23,62,90)\", \"rgb(23,62,90)\"]}, \"opacity\": 0.7, \"type\": \"bar\", \"uid\": \"696afb76-1748-45e0-bbd5-280f34c12942\", \"x\": [\"RightTroll\", \"LeftTroll\", \"HashtagGamer\", \"NewsFeed\", \"NonEnglish\", \"Commercial\", \"Unknown\"], \"y\": [223, 118, 63, 45, 7, 5, 2]}],\n",
       "                        {\"title\": {\"font\": {\"size\": 30}, \"text\": \"Accounts with more than 400 Tweets\"}, \"xaxis\": {\"automargin\": true, \"tickangle\": 45, \"tickfont\": {\"size\": 15}}, \"yaxis\": {\"title\": {\"font\": {\"size\": 20}, \"text\": \"Accounts\"}}},\n",
       "                        {\"showLink\": false, \"linkText\": \"Export to plot.ly\", \"plotlyServerURL\": \"https://plot.ly\", \"responsive\": true}\n",
       "                    ).then(function(){\n",
       "                            \n",
       "var gd = document.getElementById('26500950-cd08-4c79-950c-0cff87461b28');\n",
       "var x = new MutationObserver(function (mutations, observer) {{\n",
       "        var display = window.getComputedStyle(gd).display;\n",
       "        if (!display || display === 'none') {{\n",
       "            console.log([gd, 'removed!']);\n",
       "            Plotly.purge(gd);\n",
       "            observer.disconnect();\n",
       "        }}\n",
       "}});\n",
       "\n",
       "// Listen for the removal of the full notebook cells\n",
       "var notebookContainer = gd.closest('#notebook-container');\n",
       "if (notebookContainer) {{\n",
       "    x.observe(notebookContainer, {childList: true});\n",
       "}}\n",
       "\n",
       "// Listen for the clearing of the current output cell\n",
       "var outputEl = gd.closest('.output');\n",
       "if (outputEl) {{\n",
       "    x.observe(outputEl, {childList: true});\n",
       "}}\n",
       "\n",
       "                        })\n",
       "                };\n",
       "                });\n",
       "            </script>\n",
       "        </div>"
      ]
     },
     "metadata": {},
     "output_type": "display_data"
    }
   ],
   "source": [
    "account_analysis = df.groupby(['author', 'account_category'])['content'].count().reset_index()\n",
    "account_analysis = Counter(account_analysis.account_category)\n",
    "\n",
    "account_type = list(account_analysis.keys())\n",
    "values = list(account_analysis.values())\n",
    "\n",
    "account_type = [x for _,x in sorted(zip(values ,account_type), reverse = True)]\n",
    "values = sorted(values, reverse = True)\n",
    "\n",
    "color_list = ['rgb(175, 88, 141)' if i == 'NonEnglish' else 'rgb(23,62,90)' for i in account_type]\n",
    "\n",
    "data = [go.Bar(\n",
    "            x=account_type,\n",
    "            y=values,\n",
    "            marker = dict(color = color_list),\n",
    "            opacity = .7\n",
    "    )]\n",
    "\n",
    "layout = go.Layout(title = dict(text = 'Accounts with more than 400 Tweets', font = dict(size = 30)), \n",
    "                   xaxis = dict(\n",
    "                       tickangle = 45, \n",
    "                       tickfont = dict(size = 15),\n",
    "                       automargin = True),\n",
    "                  yaxis = dict(title = dict(text = 'Accounts', font = dict(size = 20))))\n",
    "\n",
    "fig = go.Figure(data = data, layout = layout)\n",
    "\n",
    "py.iplot(fig, filename='basic-bar')"
   ]
  }
 ],
 "metadata": {
  "kernelspec": {
   "display_name": "Python 3",
   "language": "python",
   "name": "python3"
  },
  "language_info": {
   "codemirror_mode": {
    "name": "ipython",
    "version": 3
   },
   "file_extension": ".py",
   "mimetype": "text/x-python",
   "name": "python",
   "nbconvert_exporter": "python",
   "pygments_lexer": "ipython3",
   "version": "3.6.8"
  }
 },
 "nbformat": 4,
 "nbformat_minor": 2
}
