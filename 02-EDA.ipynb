{
 "cells": [
  {
   "cell_type": "markdown",
   "metadata": {},
   "source": [
    "# Information Warfare\n",
    "## Russia’s use of Twitter during the 2016 US Presidential Election\n",
    "---\n",
    "\n",
    "### Import libraries"
   ]
  },
  {
   "cell_type": "code",
   "execution_count": 1,
   "metadata": {},
   "outputs": [
    {
     "data": {
      "text/html": [
       "        <script type=\"text/javascript\">\n",
       "        window.PlotlyConfig = {MathJaxConfig: 'local'};\n",
       "        if (window.MathJax) {MathJax.Hub.Config({SVG: {font: \"STIX-Web\"}});}\n",
       "        if (typeof require !== 'undefined') {\n",
       "        require.undef(\"plotly\");\n",
       "        requirejs.config({\n",
       "            paths: {\n",
       "                'plotly': ['https://cdn.plot.ly/plotly-latest.min']\n",
       "            }\n",
       "        });\n",
       "        require(['plotly'], function(Plotly) {\n",
       "            window._Plotly = Plotly;\n",
       "        });\n",
       "        }\n",
       "        </script>\n",
       "        "
      ]
     },
     "metadata": {},
     "output_type": "display_data"
    }
   ],
   "source": [
    "import numpy as np\n",
    "import pandas as pd\n",
    "\n",
    "pd.set_option('display.max_rows', 500)\n",
    "pd.set_option('display.max_columns', None)\n",
    "get_ipython().config.get('IPKernelApp', {})['parent_appname'] = \"\"\n",
    "\n",
    "import spacy\n",
    "import os\n",
    "import pickle\n",
    "\n",
    "from collections import Counter\n",
    "\n",
    "from plotly import tools\n",
    "import plotly.graph_objs as go\n",
    "from plotly.offline import download_plotlyjs, init_notebook_mode, plot, iplot\n",
    "import plotly.offline as py\n",
    "\n",
    "init_notebook_mode(connected=True)"
   ]
  },
  {
   "cell_type": "markdown",
   "metadata": {},
   "source": [
    "### Import data"
   ]
  },
  {
   "cell_type": "code",
   "execution_count": 2,
   "metadata": {},
   "outputs": [],
   "source": [
    "# All Tweets\n",
    "df = pd.read_pickle('data/raw/tweets.pkl')\n",
    "df.reset_index(drop = True, inplace = True)\n",
    "\n",
    "# Only English language Tweets\n",
    "dfEng = pd.read_pickle('data/raw/tweetsEng.pkl')\n",
    "dfEng.reset_index(drop = True, inplace = True)\n",
    "\n",
    "# Only non-English language Tweets\n",
    "dfOth = pd.read_pickle('data/raw/tweetsOth.pkl')\n",
    "dfOth.reset_index(drop = True, inplace = True)\n"
   ]
  },
  {
   "cell_type": "markdown",
   "metadata": {},
   "source": [
    "### Inspect data"
   ]
  },
  {
   "cell_type": "markdown",
   "metadata": {},
   "source": [
    "There are two sets of labels the Clemson researchers created: account type and account category. This project focuses on the account category label. \n",
    "\n",
    "**Note:** The labeling method employed by the Clemson researchers allows for accounts that primarily tweet in English to be labeled with a *Non-English* account category. For example, an account that primarily tweets about international events, such as the war in Ukraine, would be labeled as Non-English, even if the text is in English."
   ]
  },
  {
   "cell_type": "code",
   "execution_count": 3,
   "metadata": {},
   "outputs": [
    {
     "name": "stdout",
     "output_type": "stream",
     "text": [
      "All Tweets: \n",
      " 2,946,207 rows of data, with 21 observations for each row \n",
      " 2,843 unique accounts \n",
      " \n",
      " Account types: ['Koch', 'French', 'Ukranian', 'Right', 'Uzbek', '?', 'Commercial', 'Spanish', 'Russian', 'Left', 'local', 'news', 'German', 'Arabic', 'Hashtager', 'Italian', 'Ebola ', 'ZAPOROSHIA', 'Portuguese'] \n",
      " Account categories: ['Unknown', 'HashtagGamer', 'RightTroll', 'NewsFeed', 'Commercial', 'Fearmonger', 'NonEnglish', 'LeftTroll'] \n",
      "\n"
     ]
    }
   ],
   "source": [
    "# All Tweets\n",
    "print(\"All Tweets: \\n {:,} rows of data, with {} observations for each row \\n {:,} unique accounts \\n \\n Account types: {} \\n Account categories: {} \\n\".format(df.shape[0], df.shape[1],len(set(df.author)),list(set(df.account_type)),list(set(df.account_category))))\n"
   ]
  },
  {
   "cell_type": "code",
   "execution_count": 4,
   "metadata": {},
   "outputs": [
    {
     "name": "stdout",
     "output_type": "stream",
     "text": [
      "English Tweets: \n",
      " 2,116,867 rows of data, with 21 observations for each row \n",
      " 2,161 unique accounts \n",
      " \n",
      " Account types: ['Koch', 'French', 'Right', '?', 'Commercial', 'Spanish', 'Russian', 'Left', 'local', 'news', 'German', 'Arabic', 'Hashtager', 'Italian', 'Ebola ', 'ZAPOROSHIA', 'Portuguese'] \n",
      " \n",
      " Account categories: ['Unknown', 'HashtagGamer', 'RightTroll', 'NewsFeed', 'Commercial', 'Fearmonger', 'NonEnglish', 'LeftTroll'] \n",
      "\n"
     ]
    }
   ],
   "source": [
    "# Only English language Tweets\n",
    "print(\"English Tweets: \\n {:,} rows of data, with {} observations for each row \\n {:,} unique accounts \\n \\n Account types: {} \\n \\n Account categories: {} \\n\".format(dfEng.shape[0], dfEng.shape[1],len(set(dfEng.author)),list(set(dfEng.account_type)),list(set(dfEng.account_category))))\n"
   ]
  },
  {
   "cell_type": "code",
   "execution_count": 7,
   "metadata": {},
   "outputs": [
    {
     "name": "stdout",
     "output_type": "stream",
     "text": [
      "NonEnglish Tweets: \n",
      " 829,340 rows of data, with 21 observations for each row \n",
      " 2,360 unique accounts \n",
      " \n",
      " Account types: ['Koch', 'French', 'Ukranian', 'Right', 'Uzbek', '?', 'Commercial', 'Spanish', 'Russian', 'Left', 'local', 'news', 'German', 'Arabic', 'Hashtager', 'Italian', 'Ebola ', 'ZAPOROSHIA', 'Portuguese'] \n",
      " \n",
      " Account categories: ['Unknown', 'HashtagGamer', 'RightTroll', 'NewsFeed', 'Commercial', 'Fearmonger', 'NonEnglish', 'LeftTroll'] \n",
      "\n"
     ]
    }
   ],
   "source": [
    "# Only non-English language Tweets\n",
    "print(\"Non-English Tweets: \\n {:,} rows of data, with {} observations for each row \\n {:,} unique accounts \\n \\n Account types: {} \\n \\n Account categories: {} \\n\".format(dfOth.shape[0], dfOth.shape[1],len(set(dfOth.author)),list(set(dfOth.account_type)),list(set(dfOth.account_category))))\n"
   ]
  },
  {
   "cell_type": "markdown",
   "metadata": {},
   "source": [
    "## Number of Tweets by Account Category (All Tweets)"
   ]
  },
  {
   "cell_type": "code",
   "execution_count": 26,
   "metadata": {},
   "outputs": [
    {
     "data": {
      "application/vnd.plotly.v1+json": {
       "config": {
        "linkText": "Export to plot.ly",
        "plotlyServerURL": "https://plot.ly",
        "responsive": true,
        "showLink": false
       },
       "data": [
        {
         "marker": {
          "color": [
           "rgb(175, 88, 141)",
           "rgb(23,62,90)",
           "rgb(23,62,90)",
           "rgb(23,62,90)",
           "rgb(23,62,90)",
           "rgb(175, 88, 141)",
           "rgb(175, 88, 141)"
          ]
         },
         "opacity": 0.7,
         "type": "bar",
         "uid": "301e8510-8d1b-4280-938a-7fd21d8c78fc",
         "x": [
          "NonEnglish",
          "RightTroll",
          "NewsFeed",
          "LeftTroll",
          "HashtagGamer",
          "Commercial",
          "Unknown"
         ],
         "y": [
          750444,
          682700,
          597512,
          419747,
          236569,
          121565,
          7800
         ]
        }
       ],
       "layout": {
        "title": {
         "font": {
          "size": 20
         },
         "text": "Number of Tweets by Account Category"
        },
        "xaxis": {
         "automargin": true,
         "tickangle": 45,
         "tickfont": {
          "size": 15
         }
        },
        "yaxis": {
         "title": {
          "font": {
           "size": 20
          },
          "text": "Tweets"
         }
        }
       }
      },
      "text/html": [
       "<div>\n",
       "        \n",
       "        \n",
       "            <div id=\"6dd5fc15-92f4-4387-aca1-58953eaceef6\" class=\"plotly-graph-div\" style=\"height:525px; width:100%;\"></div>\n",
       "            <script type=\"text/javascript\">\n",
       "                require([\"plotly\"], function(Plotly) {\n",
       "                    window.PLOTLYENV=window.PLOTLYENV || {};\n",
       "                    window.PLOTLYENV.BASE_URL='https://plot.ly';\n",
       "                    \n",
       "                if (document.getElementById(\"6dd5fc15-92f4-4387-aca1-58953eaceef6\")) {\n",
       "                    Plotly.newPlot(\n",
       "                        '6dd5fc15-92f4-4387-aca1-58953eaceef6',\n",
       "                        [{\"marker\": {\"color\": [\"rgb(175, 88, 141)\", \"rgb(23,62,90)\", \"rgb(23,62,90)\", \"rgb(23,62,90)\", \"rgb(23,62,90)\", \"rgb(175, 88, 141)\", \"rgb(175, 88, 141)\"]}, \"opacity\": 0.7, \"type\": \"bar\", \"uid\": \"6f2218bf-7979-4447-863f-46b218fb6194\", \"x\": [\"NonEnglish\", \"RightTroll\", \"NewsFeed\", \"LeftTroll\", \"HashtagGamer\", \"Commercial\", \"Unknown\"], \"y\": [750444, 682700, 597512, 419747, 236569, 121565, 7800]}],\n",
       "                        {\"title\": {\"font\": {\"size\": 20}, \"text\": \"Number of Tweets by Account Category\"}, \"xaxis\": {\"automargin\": true, \"tickangle\": 45, \"tickfont\": {\"size\": 15}}, \"yaxis\": {\"title\": {\"font\": {\"size\": 20}, \"text\": \"Tweets\"}}},\n",
       "                        {\"showLink\": false, \"linkText\": \"Export to plot.ly\", \"plotlyServerURL\": \"https://plot.ly\", \"responsive\": true}\n",
       "                    ).then(function(){\n",
       "                            \n",
       "var gd = document.getElementById('6dd5fc15-92f4-4387-aca1-58953eaceef6');\n",
       "var x = new MutationObserver(function (mutations, observer) {{\n",
       "        var display = window.getComputedStyle(gd).display;\n",
       "        if (!display || display === 'none') {{\n",
       "            console.log([gd, 'removed!']);\n",
       "            Plotly.purge(gd);\n",
       "            observer.disconnect();\n",
       "        }}\n",
       "}});\n",
       "\n",
       "// Listen for the removal of the full notebook cells\n",
       "var notebookContainer = gd.closest('#notebook-container');\n",
       "if (notebookContainer) {{\n",
       "    x.observe(notebookContainer, {childList: true});\n",
       "}}\n",
       "\n",
       "// Listen for the clearing of the current output cell\n",
       "var outputEl = gd.closest('.output');\n",
       "if (outputEl) {{\n",
       "    x.observe(outputEl, {childList: true});\n",
       "}}\n",
       "\n",
       "                        })\n",
       "                };\n",
       "                });\n",
       "            </script>\n",
       "        </div>"
      ]
     },
     "metadata": {},
     "output_type": "display_data"
    }
   ],
   "source": [
    "counts_by_type_A = dict(Counter(df.account_category))\n",
    "\n",
    "account_type_A = list(counts_by_type_A.keys())\n",
    "values_A = list(counts_by_type_A.values())\n",
    "\n",
    "account_type_A = [x for _,x in sorted(zip(values_A ,account_type_A), reverse = True)]\n",
    "values_A = sorted(values_A, reverse = True)\n",
    "\n",
    "other_color = ['Unknown', 'Commercial', 'NonEnglish', 'Fearmonger']\n",
    "\n",
    "color_list = ['rgb(175, 88, 141)' if i in other_color else 'rgb(23,62,90)' for i in account_type_A]\n",
    "\n",
    "data = [go.Bar(\n",
    "            x=account_type_A,\n",
    "            y=values_A,\n",
    "            marker = dict(color = color_list),\n",
    "            opacity = .7\n",
    "    )]\n",
    "\n",
    "layout = go.Layout(title = dict(text = 'Number of Tweets by Account Category', font = dict(size = 20)), \n",
    "                   xaxis = dict(\n",
    "                       tickangle = 45, \n",
    "                       tickfont = dict(size = 15),\n",
    "                       automargin = True),\n",
    "                  yaxis = dict(title = dict(text = 'Tweets', font = dict(size = 20))))\n",
    "\n",
    "fig = go.Figure(data = data, layout = layout)\n",
    "\n",
    "py.iplot(fig, filename='basic-bar')"
   ]
  },
  {
   "cell_type": "markdown",
   "metadata": {},
   "source": [
    "## Number of Tweets by Account Category (English language Tweets)"
   ]
  },
  {
   "cell_type": "code",
   "execution_count": 27,
   "metadata": {},
   "outputs": [
    {
     "data": {
      "application/vnd.plotly.v1+json": {
       "config": {
        "linkText": "Export to plot.ly",
        "plotlyServerURL": "https://plot.ly",
        "responsive": true,
        "showLink": false
       },
       "data": [
        {
         "marker": {
          "color": [
           "rgb(23,62,90)",
           "rgb(23,62,90)",
           "rgb(23,62,90)",
           "rgb(23,62,90)",
           "rgb(175, 88, 141)",
           "rgb(175, 88, 141)",
           "rgb(175, 88, 141)"
          ]
         },
         "opacity": 0.7,
         "type": "bar",
         "uid": "d93e5610-7226-4a4d-8d65-1bc4ee625d63",
         "x": [
          "RightTroll",
          "NewsFeed",
          "LeftTroll",
          "HashtagGamer",
          "Commercial",
          "NonEnglish",
          "Unknown"
         ],
         "y": [
          675323,
          595900,
          414862,
          230642,
          112243,
          3769,
          1415
         ]
        }
       ],
       "layout": {
        "title": {
         "font": {
          "size": 20
         },
         "text": "Number of English Language Tweets by Account Category"
        },
        "xaxis": {
         "automargin": true,
         "tickangle": 45,
         "tickfont": {
          "size": 15
         }
        },
        "yaxis": {
         "title": {
          "font": {
           "size": 20
          },
          "text": "Tweets"
         }
        }
       }
      },
      "text/html": [
       "<div>\n",
       "        \n",
       "        \n",
       "            <div id=\"b4682dd8-0b00-4cb4-a8b3-0310ff40c663\" class=\"plotly-graph-div\" style=\"height:525px; width:100%;\"></div>\n",
       "            <script type=\"text/javascript\">\n",
       "                require([\"plotly\"], function(Plotly) {\n",
       "                    window.PLOTLYENV=window.PLOTLYENV || {};\n",
       "                    window.PLOTLYENV.BASE_URL='https://plot.ly';\n",
       "                    \n",
       "                if (document.getElementById(\"b4682dd8-0b00-4cb4-a8b3-0310ff40c663\")) {\n",
       "                    Plotly.newPlot(\n",
       "                        'b4682dd8-0b00-4cb4-a8b3-0310ff40c663',\n",
       "                        [{\"marker\": {\"color\": [\"rgb(23,62,90)\", \"rgb(23,62,90)\", \"rgb(23,62,90)\", \"rgb(23,62,90)\", \"rgb(175, 88, 141)\", \"rgb(175, 88, 141)\", \"rgb(175, 88, 141)\"]}, \"opacity\": 0.7, \"type\": \"bar\", \"uid\": \"a93d626a-2932-4d6d-9ed2-3e07c9639b6b\", \"x\": [\"RightTroll\", \"NewsFeed\", \"LeftTroll\", \"HashtagGamer\", \"Commercial\", \"NonEnglish\", \"Unknown\"], \"y\": [675323, 595900, 414862, 230642, 112243, 3769, 1415]}],\n",
       "                        {\"title\": {\"font\": {\"size\": 20}, \"text\": \"Number of English Language Tweets by Account Category\"}, \"xaxis\": {\"automargin\": true, \"tickangle\": 45, \"tickfont\": {\"size\": 15}}, \"yaxis\": {\"title\": {\"font\": {\"size\": 20}, \"text\": \"Tweets\"}}},\n",
       "                        {\"showLink\": false, \"linkText\": \"Export to plot.ly\", \"plotlyServerURL\": \"https://plot.ly\", \"responsive\": true}\n",
       "                    ).then(function(){\n",
       "                            \n",
       "var gd = document.getElementById('b4682dd8-0b00-4cb4-a8b3-0310ff40c663');\n",
       "var x = new MutationObserver(function (mutations, observer) {{\n",
       "        var display = window.getComputedStyle(gd).display;\n",
       "        if (!display || display === 'none') {{\n",
       "            console.log([gd, 'removed!']);\n",
       "            Plotly.purge(gd);\n",
       "            observer.disconnect();\n",
       "        }}\n",
       "}});\n",
       "\n",
       "// Listen for the removal of the full notebook cells\n",
       "var notebookContainer = gd.closest('#notebook-container');\n",
       "if (notebookContainer) {{\n",
       "    x.observe(notebookContainer, {childList: true});\n",
       "}}\n",
       "\n",
       "// Listen for the clearing of the current output cell\n",
       "var outputEl = gd.closest('.output');\n",
       "if (outputEl) {{\n",
       "    x.observe(outputEl, {childList: true});\n",
       "}}\n",
       "\n",
       "                        })\n",
       "                };\n",
       "                });\n",
       "            </script>\n",
       "        </div>"
      ]
     },
     "metadata": {},
     "output_type": "display_data"
    }
   ],
   "source": [
    "counts_by_type_B = dict(Counter(dfEng.account_category))\n",
    "\n",
    "account_type_B = list(counts_by_type_B.keys())\n",
    "values_B = list(counts_by_type_B.values())\n",
    "\n",
    "account_type_B = [x for _,x in sorted(zip(values_B ,account_type_B), reverse = True)]\n",
    "values_B = sorted(values_B, reverse = True)\n",
    "\n",
    "other_color = ['Unknown', 'Commercial', 'NonEnglish', 'Fearmonger']\n",
    "\n",
    "color_list = ['rgb(175, 88, 141)' if i in other_color else 'rgb(23,62,90)' for i in account_type_B]\n",
    "\n",
    "data = [go.Bar(\n",
    "            x=account_type_B,\n",
    "            y=values_B,\n",
    "            marker = dict(color = color_list),\n",
    "            opacity = .7\n",
    "    )]\n",
    "\n",
    "layout = go.Layout(title = dict(text = 'Number of English Language Tweets by Account Category', font = dict(size = 20)), \n",
    "                   xaxis = dict(\n",
    "                       tickangle = 45, \n",
    "                       tickfont = dict(size = 15),\n",
    "                       automargin = True),\n",
    "                  yaxis = dict(title = dict(text = 'Tweets', font = dict(size = 20))))\n",
    "\n",
    "fig = go.Figure(data = data, layout = layout)\n",
    "\n",
    "py.iplot(fig, filename='basic-bar')"
   ]
  },
  {
   "cell_type": "markdown",
   "metadata": {},
   "source": [
    "## Number of Tweets by Account Category (Non-English Language Tweets)"
   ]
  },
  {
   "cell_type": "code",
   "execution_count": 30,
   "metadata": {},
   "outputs": [
    {
     "data": {
      "application/vnd.plotly.v1+json": {
       "config": {
        "linkText": "Export to plot.ly",
        "plotlyServerURL": "https://plot.ly",
        "responsive": true,
        "showLink": false
       },
       "data": [
        {
         "marker": {
          "color": [
           "rgb(175, 88, 141)",
           "rgb(175, 88, 141)",
           "rgb(175, 88, 141)",
           "rgb(23,62,90)",
           "rgb(23,62,90)"
          ]
         },
         "opacity": 0.7,
         "type": "bar",
         "uid": "92be661a-0bda-466d-a5e3-57fbd575e139",
         "x": [
          "NonEnglish",
          "Commercial",
          "Unknown",
          "RightTroll",
          "HashtagGamer"
         ],
         "y": [
          726454,
          9113,
          6327,
          953,
          423
         ]
        }
       ],
       "layout": {
        "title": {
         "font": {
          "size": 20
         },
         "text": "Number of non-English Language Tweets by Account Category"
        },
        "xaxis": {
         "automargin": true,
         "tickangle": 45,
         "tickfont": {
          "size": 15
         }
        },
        "yaxis": {
         "title": {
          "font": {
           "size": 20
          },
          "text": "Tweets"
         }
        }
       }
      },
      "text/html": [
       "<div>\n",
       "        \n",
       "        \n",
       "            <div id=\"7383e01e-0f39-409b-a4ed-82c65db41b70\" class=\"plotly-graph-div\" style=\"height:525px; width:100%;\"></div>\n",
       "            <script type=\"text/javascript\">\n",
       "                require([\"plotly\"], function(Plotly) {\n",
       "                    window.PLOTLYENV=window.PLOTLYENV || {};\n",
       "                    window.PLOTLYENV.BASE_URL='https://plot.ly';\n",
       "                    \n",
       "                if (document.getElementById(\"7383e01e-0f39-409b-a4ed-82c65db41b70\")) {\n",
       "                    Plotly.newPlot(\n",
       "                        '7383e01e-0f39-409b-a4ed-82c65db41b70',\n",
       "                        [{\"marker\": {\"color\": [\"rgb(175, 88, 141)\", \"rgb(175, 88, 141)\", \"rgb(175, 88, 141)\", \"rgb(23,62,90)\", \"rgb(23,62,90)\"]}, \"opacity\": 0.7, \"type\": \"bar\", \"uid\": \"76270dd3-9797-4d97-b46d-52efb3690735\", \"x\": [\"NonEnglish\", \"Commercial\", \"Unknown\", \"RightTroll\", \"HashtagGamer\"], \"y\": [726454, 9113, 6327, 953, 423]}],\n",
       "                        {\"title\": {\"font\": {\"size\": 20}, \"text\": \"Number of non-English Language Tweets by Account Category\"}, \"xaxis\": {\"automargin\": true, \"tickangle\": 45, \"tickfont\": {\"size\": 15}}, \"yaxis\": {\"title\": {\"font\": {\"size\": 20}, \"text\": \"Tweets\"}}},\n",
       "                        {\"showLink\": false, \"linkText\": \"Export to plot.ly\", \"plotlyServerURL\": \"https://plot.ly\", \"responsive\": true}\n",
       "                    ).then(function(){\n",
       "                            \n",
       "var gd = document.getElementById('7383e01e-0f39-409b-a4ed-82c65db41b70');\n",
       "var x = new MutationObserver(function (mutations, observer) {{\n",
       "        var display = window.getComputedStyle(gd).display;\n",
       "        if (!display || display === 'none') {{\n",
       "            console.log([gd, 'removed!']);\n",
       "            Plotly.purge(gd);\n",
       "            observer.disconnect();\n",
       "        }}\n",
       "}});\n",
       "\n",
       "// Listen for the removal of the full notebook cells\n",
       "var notebookContainer = gd.closest('#notebook-container');\n",
       "if (notebookContainer) {{\n",
       "    x.observe(notebookContainer, {childList: true});\n",
       "}}\n",
       "\n",
       "// Listen for the clearing of the current output cell\n",
       "var outputEl = gd.closest('.output');\n",
       "if (outputEl) {{\n",
       "    x.observe(outputEl, {childList: true});\n",
       "}}\n",
       "\n",
       "                        })\n",
       "                };\n",
       "                });\n",
       "            </script>\n",
       "        </div>"
      ]
     },
     "metadata": {},
     "output_type": "display_data"
    }
   ],
   "source": [
    "counts_by_type_C = dict(Counter(dfOth.account_category))\n",
    "\n",
    "account_type_C = list(counts_by_type_C.keys())\n",
    "values_C = list(counts_by_type_C.values())\n",
    "\n",
    "account_type_C = [x for _,x in sorted(zip(values_C ,account_type_C), reverse = True)]\n",
    "values_C = sorted(values_C, reverse = True)\n",
    "\n",
    "other_color = ['Unknown', 'Commercial', 'NonEnglish', 'Fearmonger']\n",
    "\n",
    "color_list = ['rgb(175, 88, 141)' if i in other_color else 'rgb(23,62,90)' for i in account_type_C]\n",
    "\n",
    "data = [go.Bar(\n",
    "            x=account_type_C,\n",
    "            y=values_C,\n",
    "            marker = dict(color = color_list),\n",
    "            opacity = .7\n",
    "    )]\n",
    "\n",
    "layout = go.Layout(title = dict(text = 'Number of non-English Language Tweets by Account Category', font = dict(size = 20)), \n",
    "                   xaxis = dict(\n",
    "                       tickangle = 45, \n",
    "                       tickfont = dict(size = 15),\n",
    "                       automargin = True),\n",
    "                  yaxis = dict(title = dict(text = 'Tweets', font = dict(size = 20))))\n",
    "\n",
    "fig = go.Figure(data = data, layout = layout)\n",
    "\n",
    "py.iplot(fig, filename='basic-bar')"
   ]
  },
  {
   "cell_type": "markdown",
   "metadata": {},
   "source": [
    "### Number of Tweets by Account Category (English vs Non-English)"
   ]
  },
  {
   "cell_type": "code",
   "execution_count": 65,
   "metadata": {},
   "outputs": [
    {
     "data": {
      "application/vnd.plotly.v1+json": {
       "config": {
        "linkText": "Export to plot.ly",
        "plotlyServerURL": "https://plot.ly",
        "responsive": true,
        "showLink": false
       },
       "data": [
        {
         "marker": {
          "color": "rgb(175, 88, 141)"
         },
         "name": "English Language",
         "opacity": 0.7,
         "type": "bar",
         "uid": "dc80ba3e-cab2-41ca-bc47-22dc82752346",
         "x": [
          "RightTroll",
          "NewsFeed",
          "LeftTroll",
          "HashtagGamer",
          "Commercial",
          "NonEnglish",
          "Unknown"
         ],
         "y": [
          675323,
          595900,
          414862,
          230642,
          112243,
          3769,
          1415
         ]
        },
        {
         "marker": {
          "color": "rgb(23,62,90)"
         },
         "name": "Non-English Language",
         "opacity": 0.7,
         "type": "bar",
         "uid": "b816665c-aa18-46f7-9b99-d07be298dd47",
         "x": [
          "NonEnglish",
          "Commercial",
          "Unknown",
          "RightTroll",
          "HashtagGamer"
         ],
         "y": [
          726454,
          9113,
          6327,
          953,
          423
         ]
        }
       ],
       "layout": {
        "barmode": "stack",
        "title": {
         "font": {
          "size": 20
         },
         "text": "Number of Tweets by Account Category (English vs Non-English)"
        },
        "xaxis": {
         "automargin": true,
         "tickangle": 45,
         "tickfont": {
          "size": 15
         }
        },
        "yaxis": {
         "title": {
          "font": {
           "size": 20
          },
          "text": "Tweets"
         }
        }
       }
      },
      "text/html": [
       "<div>\n",
       "        \n",
       "        \n",
       "            <div id=\"5b854b06-b8e5-4db3-abbd-b5c1fbbaf8c2\" class=\"plotly-graph-div\" style=\"height:525px; width:100%;\"></div>\n",
       "            <script type=\"text/javascript\">\n",
       "                require([\"plotly\"], function(Plotly) {\n",
       "                    window.PLOTLYENV=window.PLOTLYENV || {};\n",
       "                    window.PLOTLYENV.BASE_URL='https://plot.ly';\n",
       "                    \n",
       "                if (document.getElementById(\"5b854b06-b8e5-4db3-abbd-b5c1fbbaf8c2\")) {\n",
       "                    Plotly.newPlot(\n",
       "                        '5b854b06-b8e5-4db3-abbd-b5c1fbbaf8c2',\n",
       "                        [{\"marker\": {\"color\": \"rgb(175, 88, 141)\"}, \"name\": \"English Language\", \"opacity\": 0.7, \"type\": \"bar\", \"uid\": \"0a188d87-fef7-471c-af84-fdcff49d5500\", \"x\": [\"RightTroll\", \"NewsFeed\", \"LeftTroll\", \"HashtagGamer\", \"Commercial\", \"NonEnglish\", \"Unknown\"], \"y\": [675323, 595900, 414862, 230642, 112243, 3769, 1415]}, {\"marker\": {\"color\": \"rgb(23,62,90)\"}, \"name\": \"Non-English Language\", \"opacity\": 0.7, \"type\": \"bar\", \"uid\": \"b12fe950-36d8-438f-a9b7-2454848b7346\", \"x\": [\"NonEnglish\", \"Commercial\", \"Unknown\", \"RightTroll\", \"HashtagGamer\"], \"y\": [726454, 9113, 6327, 953, 423]}],\n",
       "                        {\"barmode\": \"stack\", \"title\": {\"font\": {\"size\": 20}, \"text\": \"Number of Tweets by Account Category (English vs Non-English)\"}, \"xaxis\": {\"automargin\": true, \"tickangle\": 45, \"tickfont\": {\"size\": 15}}, \"yaxis\": {\"title\": {\"font\": {\"size\": 20}, \"text\": \"Tweets\"}}},\n",
       "                        {\"showLink\": false, \"linkText\": \"Export to plot.ly\", \"plotlyServerURL\": \"https://plot.ly\", \"responsive\": true}\n",
       "                    ).then(function(){\n",
       "                            \n",
       "var gd = document.getElementById('5b854b06-b8e5-4db3-abbd-b5c1fbbaf8c2');\n",
       "var x = new MutationObserver(function (mutations, observer) {{\n",
       "        var display = window.getComputedStyle(gd).display;\n",
       "        if (!display || display === 'none') {{\n",
       "            console.log([gd, 'removed!']);\n",
       "            Plotly.purge(gd);\n",
       "            observer.disconnect();\n",
       "        }}\n",
       "}});\n",
       "\n",
       "// Listen for the removal of the full notebook cells\n",
       "var notebookContainer = gd.closest('#notebook-container');\n",
       "if (notebookContainer) {{\n",
       "    x.observe(notebookContainer, {childList: true});\n",
       "}}\n",
       "\n",
       "// Listen for the clearing of the current output cell\n",
       "var outputEl = gd.closest('.output');\n",
       "if (outputEl) {{\n",
       "    x.observe(outputEl, {childList: true});\n",
       "}}\n",
       "\n",
       "                        })\n",
       "                };\n",
       "                });\n",
       "            </script>\n",
       "        </div>"
      ]
     },
     "metadata": {},
     "output_type": "display_data"
    }
   ],
   "source": [
    "trace1 = go.Bar(\n",
    "    x = account_type_B,\n",
    "    y = values_B,\n",
    "    name ='English Language',\n",
    "    marker=dict(color='rgb(175, 88, 141)'),\n",
    "    opacity = .7\n",
    ")\n",
    "\n",
    "trace2 = go.Bar(\n",
    "    x=account_type_C,\n",
    "    y=values_C,\n",
    "    name='Non-English Language',\n",
    "    marker=dict(color='rgb(23,62,90)'),\n",
    "    opacity = .7\n",
    ")\n",
    "\n",
    "data = [trace1, trace2]\n",
    "\n",
    "layout = go.Layout(\n",
    "    title = dict(text = 'Number of Tweets by Account Category (English vs Non-English)', font = dict(size = 20)),\n",
    "    xaxis = dict(\n",
    "        tickangle = 45, \n",
    "        tickfont = dict(size = 15),\n",
    "        automargin = True),\n",
    "    yaxis = dict(title = dict(text = 'Tweets', font = dict(size = 20))),\n",
    "    barmode='stack'\n",
    ")\n",
    "\n",
    "fig = go.Figure(data=data, layout=layout)\n",
    "py.iplot(fig, filename='bar2.html')"
   ]
  },
  {
   "cell_type": "markdown",
   "metadata": {},
   "source": [
    "---\n",
    "### Number of Accounts by Account Category"
   ]
  },
  {
   "cell_type": "code",
   "execution_count": 66,
   "metadata": {},
   "outputs": [
    {
     "data": {
      "application/vnd.plotly.v1+json": {
       "config": {
        "linkText": "Export to plot.ly",
        "plotlyServerURL": "https://plot.ly",
        "responsive": true,
        "showLink": false
       },
       "data": [
        {
         "marker": {
          "color": [
           "rgb(175, 88, 141)",
           "rgb(23,62,90)",
           "rgb(23,62,90)",
           "rgb(23,62,90)",
           "rgb(23,62,90)",
           "rgb(175, 88, 141)",
           "rgb(175, 88, 141)"
          ]
         },
         "opacity": 0.7,
         "type": "bar",
         "uid": "14163be7-4e16-4283-9dc4-2c41bbc6ca70",
         "x": [
          "NonEnglish",
          "RightTroll",
          "LeftTroll",
          "HashtagGamer",
          "NewsFeed",
          "Commercial",
          "Unknown"
         ],
         "y": [
          677,
          226,
          118,
          64,
          45,
          5,
          3
         ]
        }
       ],
       "layout": {
        "title": {
         "font": {
          "size": 20
         },
         "text": "Number of Accounts by Account Category"
        },
        "xaxis": {
         "automargin": true,
         "tickangle": 45,
         "tickfont": {
          "size": 15
         }
        },
        "yaxis": {
         "title": {
          "font": {
           "size": 20
          },
          "text": "Accounts"
         }
        }
       }
      },
      "text/html": [
       "<div>\n",
       "        \n",
       "        \n",
       "            <div id=\"108a486e-4e0f-422b-b57a-4b3c3c6d1861\" class=\"plotly-graph-div\" style=\"height:525px; width:100%;\"></div>\n",
       "            <script type=\"text/javascript\">\n",
       "                require([\"plotly\"], function(Plotly) {\n",
       "                    window.PLOTLYENV=window.PLOTLYENV || {};\n",
       "                    window.PLOTLYENV.BASE_URL='https://plot.ly';\n",
       "                    \n",
       "                if (document.getElementById(\"108a486e-4e0f-422b-b57a-4b3c3c6d1861\")) {\n",
       "                    Plotly.newPlot(\n",
       "                        '108a486e-4e0f-422b-b57a-4b3c3c6d1861',\n",
       "                        [{\"marker\": {\"color\": [\"rgb(175, 88, 141)\", \"rgb(23,62,90)\", \"rgb(23,62,90)\", \"rgb(23,62,90)\", \"rgb(23,62,90)\", \"rgb(175, 88, 141)\", \"rgb(175, 88, 141)\"]}, \"opacity\": 0.7, \"type\": \"bar\", \"uid\": \"5fd23ea9-9724-45a7-adc4-f604e49567d7\", \"x\": [\"NonEnglish\", \"RightTroll\", \"LeftTroll\", \"HashtagGamer\", \"NewsFeed\", \"Commercial\", \"Unknown\"], \"y\": [677, 226, 118, 64, 45, 5, 3]}],\n",
       "                        {\"title\": {\"font\": {\"size\": 20}, \"text\": \"Number of Accounts by Account Category\"}, \"xaxis\": {\"automargin\": true, \"tickangle\": 45, \"tickfont\": {\"size\": 15}}, \"yaxis\": {\"title\": {\"font\": {\"size\": 20}, \"text\": \"Accounts\"}}},\n",
       "                        {\"showLink\": false, \"linkText\": \"Export to plot.ly\", \"plotlyServerURL\": \"https://plot.ly\", \"responsive\": true}\n",
       "                    ).then(function(){\n",
       "                            \n",
       "var gd = document.getElementById('108a486e-4e0f-422b-b57a-4b3c3c6d1861');\n",
       "var x = new MutationObserver(function (mutations, observer) {{\n",
       "        var display = window.getComputedStyle(gd).display;\n",
       "        if (!display || display === 'none') {{\n",
       "            console.log([gd, 'removed!']);\n",
       "            Plotly.purge(gd);\n",
       "            observer.disconnect();\n",
       "        }}\n",
       "}});\n",
       "\n",
       "// Listen for the removal of the full notebook cells\n",
       "var notebookContainer = gd.closest('#notebook-container');\n",
       "if (notebookContainer) {{\n",
       "    x.observe(notebookContainer, {childList: true});\n",
       "}}\n",
       "\n",
       "// Listen for the clearing of the current output cell\n",
       "var outputEl = gd.closest('.output');\n",
       "if (outputEl) {{\n",
       "    x.observe(outputEl, {childList: true});\n",
       "}}\n",
       "\n",
       "                        })\n",
       "                };\n",
       "                });\n",
       "            </script>\n",
       "        </div>"
      ]
     },
     "metadata": {},
     "output_type": "display_data"
    }
   ],
   "source": [
    "account_analysis_D = df.groupby(['author', 'account_category'])['content'].count().reset_index()\n",
    "\n",
    "account_analysis_D = Counter(account_analysis_D.account_category)\n",
    "\n",
    "account_type_D = list(account_analysis_D.keys())\n",
    "values_D = list(account_analysis_D.values())\n",
    "\n",
    "account_type_D = [x for _,x in sorted(zip(values_D ,account_type_D), reverse = True)]\n",
    "values_D = sorted(values_D, reverse = True)\n",
    "\n",
    "color_list = ['rgb(175, 88, 141)' if i in other_color else 'rgb(23,62,90)' for i in account_type_D]\n",
    "\n",
    "data = [go.Bar(\n",
    "            x=account_type_D,\n",
    "            y=values_D,\n",
    "            marker = dict(color = color_list),\n",
    "            opacity = .7\n",
    "    )]\n",
    "\n",
    "layout = go.Layout(title = dict(text = 'Number of Accounts by Account Category', font = dict(size = 20)), \n",
    "                   xaxis = dict(\n",
    "                       tickangle = 45, \n",
    "                       tickfont = dict(size = 15),\n",
    "                       automargin = True),\n",
    "                  yaxis = dict(title = dict(text = 'Accounts', font = dict(size = 20))))\n",
    "\n",
    "fig = go.Figure(data = data, layout = layout)\n",
    "\n",
    "py.iplot(fig, filename='basic-bar')"
   ]
  },
  {
   "cell_type": "markdown",
   "metadata": {},
   "source": [
    "### Number of English Language Accounts by Account Category"
   ]
  },
  {
   "cell_type": "code",
   "execution_count": 67,
   "metadata": {},
   "outputs": [
    {
     "data": {
      "application/vnd.plotly.v1+json": {
       "config": {
        "linkText": "Export to plot.ly",
        "plotlyServerURL": "https://plot.ly",
        "responsive": true,
        "showLink": false
       },
       "data": [
        {
         "marker": {
          "color": [
           "rgb(23,62,90)",
           "rgb(23,62,90)",
           "rgb(23,62,90)",
           "rgb(23,62,90)",
           "rgb(175, 88, 141)",
           "rgb(175, 88, 141)",
           "rgb(175, 88, 141)"
          ]
         },
         "opacity": 0.7,
         "type": "bar",
         "uid": "b1e31e02-0f91-4c15-8555-3718dcef0a7d",
         "x": [
          "RightTroll",
          "LeftTroll",
          "HashtagGamer",
          "NewsFeed",
          "NonEnglish",
          "Commercial",
          "Unknown"
         ],
         "y": [
          223,
          118,
          63,
          45,
          7,
          5,
          2
         ]
        }
       ],
       "layout": {
        "title": {
         "font": {
          "size": 20
         },
         "text": "Number of English Language Accounts by Account Category"
        },
        "xaxis": {
         "automargin": true,
         "tickangle": 45,
         "tickfont": {
          "size": 15
         }
        },
        "yaxis": {
         "title": {
          "font": {
           "size": 20
          },
          "text": "Accounts"
         }
        }
       }
      },
      "text/html": [
       "<div>\n",
       "        \n",
       "        \n",
       "            <div id=\"de64589d-9686-4241-bba0-0b8326a43bd9\" class=\"plotly-graph-div\" style=\"height:525px; width:100%;\"></div>\n",
       "            <script type=\"text/javascript\">\n",
       "                require([\"plotly\"], function(Plotly) {\n",
       "                    window.PLOTLYENV=window.PLOTLYENV || {};\n",
       "                    window.PLOTLYENV.BASE_URL='https://plot.ly';\n",
       "                    \n",
       "                if (document.getElementById(\"de64589d-9686-4241-bba0-0b8326a43bd9\")) {\n",
       "                    Plotly.newPlot(\n",
       "                        'de64589d-9686-4241-bba0-0b8326a43bd9',\n",
       "                        [{\"marker\": {\"color\": [\"rgb(23,62,90)\", \"rgb(23,62,90)\", \"rgb(23,62,90)\", \"rgb(23,62,90)\", \"rgb(175, 88, 141)\", \"rgb(175, 88, 141)\", \"rgb(175, 88, 141)\"]}, \"opacity\": 0.7, \"type\": \"bar\", \"uid\": \"03512cac-99a3-421f-b627-4f553e3d74d6\", \"x\": [\"RightTroll\", \"LeftTroll\", \"HashtagGamer\", \"NewsFeed\", \"NonEnglish\", \"Commercial\", \"Unknown\"], \"y\": [223, 118, 63, 45, 7, 5, 2]}],\n",
       "                        {\"title\": {\"font\": {\"size\": 20}, \"text\": \"Number of English Language Accounts by Account Category\"}, \"xaxis\": {\"automargin\": true, \"tickangle\": 45, \"tickfont\": {\"size\": 15}}, \"yaxis\": {\"title\": {\"font\": {\"size\": 20}, \"text\": \"Accounts\"}}},\n",
       "                        {\"showLink\": false, \"linkText\": \"Export to plot.ly\", \"plotlyServerURL\": \"https://plot.ly\", \"responsive\": true}\n",
       "                    ).then(function(){\n",
       "                            \n",
       "var gd = document.getElementById('de64589d-9686-4241-bba0-0b8326a43bd9');\n",
       "var x = new MutationObserver(function (mutations, observer) {{\n",
       "        var display = window.getComputedStyle(gd).display;\n",
       "        if (!display || display === 'none') {{\n",
       "            console.log([gd, 'removed!']);\n",
       "            Plotly.purge(gd);\n",
       "            observer.disconnect();\n",
       "        }}\n",
       "}});\n",
       "\n",
       "// Listen for the removal of the full notebook cells\n",
       "var notebookContainer = gd.closest('#notebook-container');\n",
       "if (notebookContainer) {{\n",
       "    x.observe(notebookContainer, {childList: true});\n",
       "}}\n",
       "\n",
       "// Listen for the clearing of the current output cell\n",
       "var outputEl = gd.closest('.output');\n",
       "if (outputEl) {{\n",
       "    x.observe(outputEl, {childList: true});\n",
       "}}\n",
       "\n",
       "                        })\n",
       "                };\n",
       "                });\n",
       "            </script>\n",
       "        </div>"
      ]
     },
     "metadata": {},
     "output_type": "display_data"
    }
   ],
   "source": [
    "account_analysis_E = dfEng.groupby(['author', 'account_category'])['content'].count().reset_index()\n",
    "\n",
    "account_analysis_E = Counter(account_analysis_E.account_category)\n",
    "\n",
    "account_type_E = list(account_analysis_E.keys())\n",
    "values_E = list(account_analysis_E.values())\n",
    "\n",
    "account_type_E = [x for _,x in sorted(zip(values_E ,account_type_E), reverse = True)]\n",
    "values_E = sorted(values_E, reverse = True)\n",
    "\n",
    "color_list = ['rgb(175, 88, 141)' if i in other_color else 'rgb(23,62,90)' for i in account_type_E]\n",
    "\n",
    "data = [go.Bar(\n",
    "            x=account_type_E,\n",
    "            y=values_E,\n",
    "            marker = dict(color = color_list),\n",
    "            opacity = .7\n",
    "    )]\n",
    "\n",
    "layout = go.Layout(title = dict(text = 'Number of English Language Accounts by Account Category', font = dict(size = 20)), \n",
    "                   xaxis = dict(\n",
    "                       tickangle = 45, \n",
    "                       tickfont = dict(size = 15),\n",
    "                       automargin = True),\n",
    "                  yaxis = dict(title = dict(text = 'Accounts', font = dict(size = 20))))\n",
    "\n",
    "fig = go.Figure(data = data, layout = layout)\n",
    "\n",
    "py.iplot(fig, filename='basic-bar')"
   ]
  },
  {
   "cell_type": "markdown",
   "metadata": {},
   "source": [
    "### Number of non-English Language Accounts by Account Category"
   ]
  },
  {
   "cell_type": "code",
   "execution_count": 68,
   "metadata": {},
   "outputs": [
    {
     "data": {
      "application/vnd.plotly.v1+json": {
       "config": {
        "linkText": "Export to plot.ly",
        "plotlyServerURL": "https://plot.ly",
        "responsive": true,
        "showLink": false
       },
       "data": [
        {
         "marker": {
          "color": [
           "rgb(175, 88, 141)",
           "rgb(175, 88, 141)",
           "rgb(175, 88, 141)",
           "rgb(23,62,90)",
           "rgb(23,62,90)"
          ]
         },
         "opacity": 0.7,
         "type": "bar",
         "uid": "802a8af2-3acc-4c46-ba5a-b4c9834eec57",
         "x": [
          "NonEnglish",
          "Commercial",
          "Unknown",
          "RightTroll",
          "HashtagGamer"
         ],
         "y": [
          673,
          2,
          1,
          1,
          1
         ]
        }
       ],
       "layout": {
        "title": {
         "font": {
          "size": 20
         },
         "text": "Number of Non-English Language Accounts by Account Category"
        },
        "xaxis": {
         "automargin": true,
         "tickangle": 45,
         "tickfont": {
          "size": 15
         }
        },
        "yaxis": {
         "title": {
          "font": {
           "size": 20
          },
          "text": "Accounts"
         }
        }
       }
      },
      "text/html": [
       "<div>\n",
       "        \n",
       "        \n",
       "            <div id=\"34489448-8ff8-4b40-ae2b-2ece761bb57d\" class=\"plotly-graph-div\" style=\"height:525px; width:100%;\"></div>\n",
       "            <script type=\"text/javascript\">\n",
       "                require([\"plotly\"], function(Plotly) {\n",
       "                    window.PLOTLYENV=window.PLOTLYENV || {};\n",
       "                    window.PLOTLYENV.BASE_URL='https://plot.ly';\n",
       "                    \n",
       "                if (document.getElementById(\"34489448-8ff8-4b40-ae2b-2ece761bb57d\")) {\n",
       "                    Plotly.newPlot(\n",
       "                        '34489448-8ff8-4b40-ae2b-2ece761bb57d',\n",
       "                        [{\"marker\": {\"color\": [\"rgb(175, 88, 141)\", \"rgb(175, 88, 141)\", \"rgb(175, 88, 141)\", \"rgb(23,62,90)\", \"rgb(23,62,90)\"]}, \"opacity\": 0.7, \"type\": \"bar\", \"uid\": \"f58af7db-6a4e-470e-bd06-abc9dafc2620\", \"x\": [\"NonEnglish\", \"Commercial\", \"Unknown\", \"RightTroll\", \"HashtagGamer\"], \"y\": [673, 2, 1, 1, 1]}],\n",
       "                        {\"title\": {\"font\": {\"size\": 20}, \"text\": \"Number of Non-English Language Accounts by Account Category\"}, \"xaxis\": {\"automargin\": true, \"tickangle\": 45, \"tickfont\": {\"size\": 15}}, \"yaxis\": {\"title\": {\"font\": {\"size\": 20}, \"text\": \"Accounts\"}}},\n",
       "                        {\"showLink\": false, \"linkText\": \"Export to plot.ly\", \"plotlyServerURL\": \"https://plot.ly\", \"responsive\": true}\n",
       "                    ).then(function(){\n",
       "                            \n",
       "var gd = document.getElementById('34489448-8ff8-4b40-ae2b-2ece761bb57d');\n",
       "var x = new MutationObserver(function (mutations, observer) {{\n",
       "        var display = window.getComputedStyle(gd).display;\n",
       "        if (!display || display === 'none') {{\n",
       "            console.log([gd, 'removed!']);\n",
       "            Plotly.purge(gd);\n",
       "            observer.disconnect();\n",
       "        }}\n",
       "}});\n",
       "\n",
       "// Listen for the removal of the full notebook cells\n",
       "var notebookContainer = gd.closest('#notebook-container');\n",
       "if (notebookContainer) {{\n",
       "    x.observe(notebookContainer, {childList: true});\n",
       "}}\n",
       "\n",
       "// Listen for the clearing of the current output cell\n",
       "var outputEl = gd.closest('.output');\n",
       "if (outputEl) {{\n",
       "    x.observe(outputEl, {childList: true});\n",
       "}}\n",
       "\n",
       "                        })\n",
       "                };\n",
       "                });\n",
       "            </script>\n",
       "        </div>"
      ]
     },
     "metadata": {},
     "output_type": "display_data"
    }
   ],
   "source": [
    "account_analysis_F = dfOth.groupby(['author', 'account_category'])['content'].count().reset_index()\n",
    "\n",
    "account_analysis_F = Counter(account_analysis_F.account_category)\n",
    "\n",
    "account_type_F = list(account_analysis_F.keys())\n",
    "values_F = list(account_analysis_F.values())\n",
    "\n",
    "account_type_F = [x for _,x in sorted(zip(values_F ,account_type_F), reverse = True)]\n",
    "values_F = sorted(values_F, reverse = True)\n",
    "\n",
    "color_list = ['rgb(175, 88, 141)' if i in other_color else 'rgb(23,62,90)' for i in account_type_F]\n",
    "\n",
    "data = [go.Bar(\n",
    "            x=account_type_F,\n",
    "            y=values_F,\n",
    "            marker = dict(color = color_list),\n",
    "            opacity = .7\n",
    "    )]\n",
    "\n",
    "layout = go.Layout(title = dict(text = 'Number of Non-English Language Accounts by Account Category', font = dict(size = 20)), \n",
    "                   xaxis = dict(\n",
    "                       tickangle = 45, \n",
    "                       tickfont = dict(size = 15),\n",
    "                       automargin = True),\n",
    "                  yaxis = dict(title = dict(text = 'Accounts', font = dict(size = 20))))\n",
    "\n",
    "fig = go.Figure(data = data, layout = layout)\n",
    "\n",
    "py.iplot(fig, filename='basic-bar')"
   ]
  },
  {
   "cell_type": "markdown",
   "metadata": {},
   "source": [
    "### Number of Accounts by Account Category (English vs Non-English)"
   ]
  },
  {
   "cell_type": "code",
   "execution_count": 70,
   "metadata": {},
   "outputs": [
    {
     "data": {
      "application/vnd.plotly.v1+json": {
       "config": {
        "linkText": "Export to plot.ly",
        "plotlyServerURL": "https://plot.ly",
        "responsive": true,
        "showLink": false
       },
       "data": [
        {
         "marker": {
          "color": "rgb(175, 88, 141)"
         },
         "name": "English Language",
         "opacity": 0.7,
         "type": "bar",
         "uid": "9664fdc7-9eea-4188-9bed-930cbcc0a3ce",
         "x": [
          "RightTroll",
          "LeftTroll",
          "HashtagGamer",
          "NewsFeed",
          "NonEnglish",
          "Commercial",
          "Unknown"
         ],
         "y": [
          223,
          118,
          63,
          45,
          7,
          5,
          2
         ]
        },
        {
         "marker": {
          "color": "rgb(23,62,90)"
         },
         "name": "Non-English Language",
         "opacity": 0.7,
         "type": "bar",
         "uid": "1cc6156a-4bbf-4a41-b766-ea97ec5eb965",
         "x": [
          "NonEnglish",
          "Commercial",
          "Unknown",
          "RightTroll",
          "HashtagGamer"
         ],
         "y": [
          673,
          2,
          1,
          1,
          1
         ]
        }
       ],
       "layout": {
        "barmode": "stack",
        "title": {
         "font": {
          "size": 20
         },
         "text": "Number of Accounts by Account Category (English vs Non-English)"
        },
        "xaxis": {
         "automargin": true,
         "tickangle": 45,
         "tickfont": {
          "size": 15
         }
        },
        "yaxis": {
         "title": {
          "font": {
           "size": 20
          },
          "text": "Tweets"
         }
        }
       }
      },
      "text/html": [
       "<div>\n",
       "        \n",
       "        \n",
       "            <div id=\"4b9d4900-a9ea-4080-b609-18868af5cfa8\" class=\"plotly-graph-div\" style=\"height:525px; width:100%;\"></div>\n",
       "            <script type=\"text/javascript\">\n",
       "                require([\"plotly\"], function(Plotly) {\n",
       "                    window.PLOTLYENV=window.PLOTLYENV || {};\n",
       "                    window.PLOTLYENV.BASE_URL='https://plot.ly';\n",
       "                    \n",
       "                if (document.getElementById(\"4b9d4900-a9ea-4080-b609-18868af5cfa8\")) {\n",
       "                    Plotly.newPlot(\n",
       "                        '4b9d4900-a9ea-4080-b609-18868af5cfa8',\n",
       "                        [{\"marker\": {\"color\": \"rgb(175, 88, 141)\"}, \"name\": \"English Language\", \"opacity\": 0.7, \"type\": \"bar\", \"uid\": \"0539fc40-94f0-4798-9d7a-86bdb45f71eb\", \"x\": [\"RightTroll\", \"LeftTroll\", \"HashtagGamer\", \"NewsFeed\", \"NonEnglish\", \"Commercial\", \"Unknown\"], \"y\": [223, 118, 63, 45, 7, 5, 2]}, {\"marker\": {\"color\": \"rgb(23,62,90)\"}, \"name\": \"Non-English Language\", \"opacity\": 0.7, \"type\": \"bar\", \"uid\": \"0309d42b-9a2d-48b8-bb0f-e445ecbd0a07\", \"x\": [\"NonEnglish\", \"Commercial\", \"Unknown\", \"RightTroll\", \"HashtagGamer\"], \"y\": [673, 2, 1, 1, 1]}],\n",
       "                        {\"barmode\": \"stack\", \"title\": {\"font\": {\"size\": 20}, \"text\": \"Number of Accounts by Account Category (English vs Non-English)\"}, \"xaxis\": {\"automargin\": true, \"tickangle\": 45, \"tickfont\": {\"size\": 15}}, \"yaxis\": {\"title\": {\"font\": {\"size\": 20}, \"text\": \"Tweets\"}}},\n",
       "                        {\"showLink\": false, \"linkText\": \"Export to plot.ly\", \"plotlyServerURL\": \"https://plot.ly\", \"responsive\": true}\n",
       "                    ).then(function(){\n",
       "                            \n",
       "var gd = document.getElementById('4b9d4900-a9ea-4080-b609-18868af5cfa8');\n",
       "var x = new MutationObserver(function (mutations, observer) {{\n",
       "        var display = window.getComputedStyle(gd).display;\n",
       "        if (!display || display === 'none') {{\n",
       "            console.log([gd, 'removed!']);\n",
       "            Plotly.purge(gd);\n",
       "            observer.disconnect();\n",
       "        }}\n",
       "}});\n",
       "\n",
       "// Listen for the removal of the full notebook cells\n",
       "var notebookContainer = gd.closest('#notebook-container');\n",
       "if (notebookContainer) {{\n",
       "    x.observe(notebookContainer, {childList: true});\n",
       "}}\n",
       "\n",
       "// Listen for the clearing of the current output cell\n",
       "var outputEl = gd.closest('.output');\n",
       "if (outputEl) {{\n",
       "    x.observe(outputEl, {childList: true});\n",
       "}}\n",
       "\n",
       "                        })\n",
       "                };\n",
       "                });\n",
       "            </script>\n",
       "        </div>"
      ]
     },
     "metadata": {},
     "output_type": "display_data"
    }
   ],
   "source": [
    "trace3 = go.Bar(\n",
    "    x = account_type_E,\n",
    "    y = values_E,\n",
    "    name ='English Language',\n",
    "    marker=dict(color='rgb(175, 88, 141)'),\n",
    "    opacity = .7\n",
    ")\n",
    "\n",
    "trace4 = go.Bar(\n",
    "    x=account_type_F,\n",
    "    y=values_F,\n",
    "    name='Non-English Language',\n",
    "    marker=dict(color='rgb(23,62,90)'),\n",
    "    opacity = .7\n",
    ")\n",
    "\n",
    "data = [trace3, trace4]\n",
    "\n",
    "layout = go.Layout(\n",
    "    title = dict(text = 'Number of Accounts by Account Category (English vs Non-English)', font = dict(size = 20)),\n",
    "    xaxis = dict(\n",
    "        tickangle = 45, \n",
    "        tickfont = dict(size = 15),\n",
    "        automargin = True),\n",
    "    yaxis = dict(title = dict(text = 'Tweets', font = dict(size = 20))),\n",
    "    barmode='stack'\n",
    ")\n",
    "\n",
    "fig = go.Figure(data=data, layout=layout)\n",
    "py.iplot(fig, filename='bar2.html')"
   ]
  },
  {
   "cell_type": "markdown",
   "metadata": {},
   "source": [
    "---\n",
    "### Determine number of accounts with more than set number of Tweets"
   ]
  },
  {
   "cell_type": "markdown",
   "metadata": {},
   "source": [
    "For our procedure to work, we need to make sure that we have enough information (tweets) for each account for doc2vec to appropriatly embed our text in a vector space. As such, we need to ensure that we only consider accounts that meet some threshold for a minimum number of tweets, which we we do below. \n",
    "\n",
    "It should be noted that the choice of 400 tweets is arbitraryl by setting this threshold, the amount of non-English accounts in the dataset has decreased considerably. "
   ]
  },
  {
   "cell_type": "code",
   "execution_count": 25,
   "metadata": {},
   "outputs": [
    {
     "name": "stdout",
     "output_type": "stream",
     "text": [
      "Number of accounts with more than 400 tweets: 1138\n",
      "Number of English language accounts with more than 400 tweets: 463\n",
      "Number of non-English language accounts with more than 400 tweets: 678\n"
     ]
    }
   ],
   "source": [
    "# Let's get counts of the number of tweets by each author\n",
    "counts_by_author = df[['author', 'content']].groupby('author').count()\n",
    "counts_by_author.reset_index(inplace = True)\n",
    "\n",
    "print('Number of accounts with more than 400 tweets:', sum(counts_by_author.content > 400))\n",
    "\n",
    "author_series = counts_by_author.author[counts_by_author.content > 400]\n",
    "df = df[df.author.isin(author_series)]\n",
    "\n",
    "# English language Tweets\n",
    "counts_by_author = dfEng[['author', 'content']].groupby('author').count()\n",
    "counts_by_author.reset_index(inplace = True)\n",
    "\n",
    "print('Number of English language accounts with more than 400 tweets:', sum(counts_by_author.content > 400))\n",
    "\n",
    "author_series = counts_by_author.author[counts_by_author.content > 400]\n",
    "dfEng = dfEng[dfEng.author.isin(author_series)]\n",
    "\n",
    "# Non-English language Tweets\n",
    "counts_by_author = dfOth[['author', 'content']].groupby('author').count()\n",
    "counts_by_author.reset_index(inplace = True)\n",
    "\n",
    "print('Number of non-English language accounts with more than 400 tweets:', sum(counts_by_author.content > 400))\n",
    "\n",
    "author_series = counts_by_author.author[counts_by_author.content > 400]\n",
    "dfOth = dfOth[dfOth.author.isin(author_series)]"
   ]
  },
  {
   "cell_type": "markdown",
   "metadata": {},
   "source": [
    "### All accounts with more than 400 Tweets"
   ]
  },
  {
   "cell_type": "code",
   "execution_count": 76,
   "metadata": {},
   "outputs": [
    {
     "data": {
      "application/vnd.plotly.v1+json": {
       "config": {
        "linkText": "Export to plot.ly",
        "plotlyServerURL": "https://plot.ly",
        "responsive": true,
        "showLink": false
       },
       "data": [
        {
         "marker": {
          "color": [
           "rgb(175, 88, 141)",
           "rgb(23,62,90)",
           "rgb(23,62,90)",
           "rgb(23,62,90)",
           "rgb(23,62,90)",
           "rgb(23,62,90)",
           "rgb(23,62,90)"
          ]
         },
         "opacity": 0.7,
         "type": "bar",
         "uid": "985e71a8-a73e-42b7-ba0d-6a4e4e227813",
         "x": [
          "NonEnglish",
          "RightTroll",
          "LeftTroll",
          "HashtagGamer",
          "NewsFeed",
          "Commercial",
          "Unknown"
         ],
         "y": [
          677,
          226,
          118,
          64,
          45,
          5,
          3
         ]
        }
       ],
       "layout": {
        "title": {
         "font": {
          "size": 20
         },
         "text": "Accounts with more than 400 Tweets"
        },
        "xaxis": {
         "automargin": true,
         "tickangle": 45,
         "tickfont": {
          "size": 15
         }
        },
        "yaxis": {
         "title": {
          "font": {
           "size": 20
          },
          "text": "Accounts"
         }
        }
       }
      },
      "text/html": [
       "<div>\n",
       "        \n",
       "        \n",
       "            <div id=\"c05ffc8d-53e7-49a9-b1c8-c161546167a6\" class=\"plotly-graph-div\" style=\"height:525px; width:100%;\"></div>\n",
       "            <script type=\"text/javascript\">\n",
       "                require([\"plotly\"], function(Plotly) {\n",
       "                    window.PLOTLYENV=window.PLOTLYENV || {};\n",
       "                    window.PLOTLYENV.BASE_URL='https://plot.ly';\n",
       "                    \n",
       "                if (document.getElementById(\"c05ffc8d-53e7-49a9-b1c8-c161546167a6\")) {\n",
       "                    Plotly.newPlot(\n",
       "                        'c05ffc8d-53e7-49a9-b1c8-c161546167a6',\n",
       "                        [{\"marker\": {\"color\": [\"rgb(175, 88, 141)\", \"rgb(23,62,90)\", \"rgb(23,62,90)\", \"rgb(23,62,90)\", \"rgb(23,62,90)\", \"rgb(23,62,90)\", \"rgb(23,62,90)\"]}, \"opacity\": 0.7, \"type\": \"bar\", \"uid\": \"548f0c2d-4941-4cc2-8697-9d7cc8b31be2\", \"x\": [\"NonEnglish\", \"RightTroll\", \"LeftTroll\", \"HashtagGamer\", \"NewsFeed\", \"Commercial\", \"Unknown\"], \"y\": [677, 226, 118, 64, 45, 5, 3]}],\n",
       "                        {\"title\": {\"font\": {\"size\": 20}, \"text\": \"Accounts with more than 400 Tweets\"}, \"xaxis\": {\"automargin\": true, \"tickangle\": 45, \"tickfont\": {\"size\": 15}}, \"yaxis\": {\"title\": {\"font\": {\"size\": 20}, \"text\": \"Accounts\"}}},\n",
       "                        {\"showLink\": false, \"linkText\": \"Export to plot.ly\", \"plotlyServerURL\": \"https://plot.ly\", \"responsive\": true}\n",
       "                    ).then(function(){\n",
       "                            \n",
       "var gd = document.getElementById('c05ffc8d-53e7-49a9-b1c8-c161546167a6');\n",
       "var x = new MutationObserver(function (mutations, observer) {{\n",
       "        var display = window.getComputedStyle(gd).display;\n",
       "        if (!display || display === 'none') {{\n",
       "            console.log([gd, 'removed!']);\n",
       "            Plotly.purge(gd);\n",
       "            observer.disconnect();\n",
       "        }}\n",
       "}});\n",
       "\n",
       "// Listen for the removal of the full notebook cells\n",
       "var notebookContainer = gd.closest('#notebook-container');\n",
       "if (notebookContainer) {{\n",
       "    x.observe(notebookContainer, {childList: true});\n",
       "}}\n",
       "\n",
       "// Listen for the clearing of the current output cell\n",
       "var outputEl = gd.closest('.output');\n",
       "if (outputEl) {{\n",
       "    x.observe(outputEl, {childList: true});\n",
       "}}\n",
       "\n",
       "                        })\n",
       "                };\n",
       "                });\n",
       "            </script>\n",
       "        </div>"
      ]
     },
     "metadata": {},
     "output_type": "display_data"
    }
   ],
   "source": [
    "account_analysis = df.groupby(['author', 'account_category'])['content'].count().reset_index()\n",
    "account_analysis = Counter(account_analysis.account_category)\n",
    "\n",
    "account_type = list(account_analysis.keys())\n",
    "values = list(account_analysis.values())\n",
    "\n",
    "account_type_G = [x for _,x in sorted(zip(values ,account_type), reverse = True)]\n",
    "values_G = sorted(values, reverse = True)\n",
    "\n",
    "color_list = ['rgb(175, 88, 141)' if i == 'NonEnglish' else 'rgb(23,62,90)' for i in account_type]\n",
    "\n",
    "data = [go.Bar(\n",
    "            x=account_type_G,\n",
    "            y=values_G,\n",
    "            marker = dict(color = color_list),\n",
    "            opacity = .7\n",
    "    )]\n",
    "\n",
    "layout = go.Layout(title = dict(text = 'Accounts with more than 400 Tweets', font = dict(size = 20)), \n",
    "                   xaxis = dict(\n",
    "                       tickangle = 45, \n",
    "                       tickfont = dict(size = 15),\n",
    "                       automargin = True),\n",
    "                  yaxis = dict(title = dict(text = 'Accounts', font = dict(size = 20))))\n",
    "\n",
    "fig = go.Figure(data = data, layout = layout)\n",
    "\n",
    "py.iplot(fig, filename='basic-bar')"
   ]
  },
  {
   "cell_type": "markdown",
   "metadata": {},
   "source": [
    "### English Language accounts with more than 400 Tweets"
   ]
  },
  {
   "cell_type": "code",
   "execution_count": 79,
   "metadata": {},
   "outputs": [
    {
     "data": {
      "application/vnd.plotly.v1+json": {
       "config": {
        "linkText": "Export to plot.ly",
        "plotlyServerURL": "https://plot.ly",
        "responsive": true,
        "showLink": false
       },
       "data": [
        {
         "marker": {
          "color": [
           "rgb(23,62,90)",
           "rgb(23,62,90)",
           "rgb(23,62,90)",
           "rgb(23,62,90)",
           "rgb(175, 88, 141)",
           "rgb(23,62,90)",
           "rgb(23,62,90)"
          ]
         },
         "opacity": 0.7,
         "type": "bar",
         "uid": "64dc7091-f36c-410d-8ddd-5415b649fe4f",
         "x": [
          "RightTroll",
          "LeftTroll",
          "HashtagGamer",
          "NewsFeed",
          "NonEnglish",
          "Commercial",
          "Unknown"
         ],
         "y": [
          223,
          118,
          63,
          45,
          7,
          5,
          2
         ]
        }
       ],
       "layout": {
        "title": {
         "font": {
          "size": 20
         },
         "text": "English Language Accounts with more than 400 Tweets"
        },
        "xaxis": {
         "automargin": true,
         "tickangle": 45,
         "tickfont": {
          "size": 15
         }
        },
        "yaxis": {
         "title": {
          "font": {
           "size": 20
          },
          "text": "Accounts"
         }
        }
       }
      },
      "text/html": [
       "<div>\n",
       "        \n",
       "        \n",
       "            <div id=\"0d579b72-6e31-403f-b5d9-f2dca2bb8e4e\" class=\"plotly-graph-div\" style=\"height:525px; width:100%;\"></div>\n",
       "            <script type=\"text/javascript\">\n",
       "                require([\"plotly\"], function(Plotly) {\n",
       "                    window.PLOTLYENV=window.PLOTLYENV || {};\n",
       "                    window.PLOTLYENV.BASE_URL='https://plot.ly';\n",
       "                    \n",
       "                if (document.getElementById(\"0d579b72-6e31-403f-b5d9-f2dca2bb8e4e\")) {\n",
       "                    Plotly.newPlot(\n",
       "                        '0d579b72-6e31-403f-b5d9-f2dca2bb8e4e',\n",
       "                        [{\"marker\": {\"color\": [\"rgb(23,62,90)\", \"rgb(23,62,90)\", \"rgb(23,62,90)\", \"rgb(23,62,90)\", \"rgb(175, 88, 141)\", \"rgb(23,62,90)\", \"rgb(23,62,90)\"]}, \"opacity\": 0.7, \"type\": \"bar\", \"uid\": \"52dd9d7b-8c89-4a7f-b602-f92e4381a4bb\", \"x\": [\"RightTroll\", \"LeftTroll\", \"HashtagGamer\", \"NewsFeed\", \"NonEnglish\", \"Commercial\", \"Unknown\"], \"y\": [223, 118, 63, 45, 7, 5, 2]}],\n",
       "                        {\"title\": {\"font\": {\"size\": 20}, \"text\": \"English Language Accounts with more than 400 Tweets\"}, \"xaxis\": {\"automargin\": true, \"tickangle\": 45, \"tickfont\": {\"size\": 15}}, \"yaxis\": {\"title\": {\"font\": {\"size\": 20}, \"text\": \"Accounts\"}}},\n",
       "                        {\"showLink\": false, \"linkText\": \"Export to plot.ly\", \"plotlyServerURL\": \"https://plot.ly\", \"responsive\": true}\n",
       "                    ).then(function(){\n",
       "                            \n",
       "var gd = document.getElementById('0d579b72-6e31-403f-b5d9-f2dca2bb8e4e');\n",
       "var x = new MutationObserver(function (mutations, observer) {{\n",
       "        var display = window.getComputedStyle(gd).display;\n",
       "        if (!display || display === 'none') {{\n",
       "            console.log([gd, 'removed!']);\n",
       "            Plotly.purge(gd);\n",
       "            observer.disconnect();\n",
       "        }}\n",
       "}});\n",
       "\n",
       "// Listen for the removal of the full notebook cells\n",
       "var notebookContainer = gd.closest('#notebook-container');\n",
       "if (notebookContainer) {{\n",
       "    x.observe(notebookContainer, {childList: true});\n",
       "}}\n",
       "\n",
       "// Listen for the clearing of the current output cell\n",
       "var outputEl = gd.closest('.output');\n",
       "if (outputEl) {{\n",
       "    x.observe(outputEl, {childList: true});\n",
       "}}\n",
       "\n",
       "                        })\n",
       "                };\n",
       "                });\n",
       "            </script>\n",
       "        </div>"
      ]
     },
     "metadata": {},
     "output_type": "display_data"
    }
   ],
   "source": [
    "account_analysis = dfEng.groupby(['author', 'account_category'])['content'].count().reset_index()\n",
    "account_analysis = Counter(account_analysis.account_category)\n",
    "\n",
    "account_type = list(account_analysis.keys())\n",
    "values = list(account_analysis.values())\n",
    "\n",
    "account_type_H = [x for _,x in sorted(zip(values ,account_type), reverse = True)]\n",
    "values_H = sorted(values, reverse = True)\n",
    "\n",
    "color_list = ['rgb(175, 88, 141)' if i == 'NonEnglish' else 'rgb(23,62,90)' for i in account_type]\n",
    "\n",
    "data = [go.Bar(\n",
    "            x=account_type_H,\n",
    "            y=values_H,\n",
    "            marker = dict(color = color_list),\n",
    "            opacity = .7\n",
    "    )]\n",
    "\n",
    "layout = go.Layout(title = dict(text = 'English Language Accounts with more than 400 Tweets', font = dict(size = 20)), \n",
    "                   xaxis = dict(\n",
    "                       tickangle = 45, \n",
    "                       tickfont = dict(size = 15),\n",
    "                       automargin = True),\n",
    "                  yaxis = dict(title = dict(text = 'Accounts', font = dict(size = 20))))\n",
    "\n",
    "fig = go.Figure(data = data, layout = layout)\n",
    "\n",
    "py.iplot(fig, filename='basic-bar')"
   ]
  },
  {
   "cell_type": "markdown",
   "metadata": {},
   "source": [
    "### Non-English Language Accounts with more than 400 Tweets"
   ]
  },
  {
   "cell_type": "code",
   "execution_count": 80,
   "metadata": {},
   "outputs": [
    {
     "data": {
      "application/vnd.plotly.v1+json": {
       "config": {
        "linkText": "Export to plot.ly",
        "plotlyServerURL": "https://plot.ly",
        "responsive": true,
        "showLink": false
       },
       "data": [
        {
         "marker": {
          "color": [
           "rgb(175, 88, 141)",
           "rgb(23,62,90)",
           "rgb(23,62,90)",
           "rgb(23,62,90)",
           "rgb(23,62,90)"
          ]
         },
         "opacity": 0.7,
         "type": "bar",
         "uid": "39bb08d9-4fb2-4ee7-ae2f-46c4d332d9b9",
         "x": [
          "NonEnglish",
          "Commercial",
          "Unknown",
          "RightTroll",
          "HashtagGamer"
         ],
         "y": [
          673,
          2,
          1,
          1,
          1
         ]
        }
       ],
       "layout": {
        "title": {
         "font": {
          "size": 20
         },
         "text": "Non-English Accounts with more than 400 Tweets"
        },
        "xaxis": {
         "automargin": true,
         "tickangle": 45,
         "tickfont": {
          "size": 15
         }
        },
        "yaxis": {
         "title": {
          "font": {
           "size": 20
          },
          "text": "Accounts"
         }
        }
       }
      },
      "text/html": [
       "<div>\n",
       "        \n",
       "        \n",
       "            <div id=\"328f3ce7-33c1-458e-9e77-5f112b6afd46\" class=\"plotly-graph-div\" style=\"height:525px; width:100%;\"></div>\n",
       "            <script type=\"text/javascript\">\n",
       "                require([\"plotly\"], function(Plotly) {\n",
       "                    window.PLOTLYENV=window.PLOTLYENV || {};\n",
       "                    window.PLOTLYENV.BASE_URL='https://plot.ly';\n",
       "                    \n",
       "                if (document.getElementById(\"328f3ce7-33c1-458e-9e77-5f112b6afd46\")) {\n",
       "                    Plotly.newPlot(\n",
       "                        '328f3ce7-33c1-458e-9e77-5f112b6afd46',\n",
       "                        [{\"marker\": {\"color\": [\"rgb(175, 88, 141)\", \"rgb(23,62,90)\", \"rgb(23,62,90)\", \"rgb(23,62,90)\", \"rgb(23,62,90)\"]}, \"opacity\": 0.7, \"type\": \"bar\", \"uid\": \"4fd9705f-d4da-40f4-9ea0-7caaa2e4083f\", \"x\": [\"NonEnglish\", \"Commercial\", \"Unknown\", \"RightTroll\", \"HashtagGamer\"], \"y\": [673, 2, 1, 1, 1]}],\n",
       "                        {\"title\": {\"font\": {\"size\": 20}, \"text\": \"Non-English Accounts with more than 400 Tweets\"}, \"xaxis\": {\"automargin\": true, \"tickangle\": 45, \"tickfont\": {\"size\": 15}}, \"yaxis\": {\"title\": {\"font\": {\"size\": 20}, \"text\": \"Accounts\"}}},\n",
       "                        {\"showLink\": false, \"linkText\": \"Export to plot.ly\", \"plotlyServerURL\": \"https://plot.ly\", \"responsive\": true}\n",
       "                    ).then(function(){\n",
       "                            \n",
       "var gd = document.getElementById('328f3ce7-33c1-458e-9e77-5f112b6afd46');\n",
       "var x = new MutationObserver(function (mutations, observer) {{\n",
       "        var display = window.getComputedStyle(gd).display;\n",
       "        if (!display || display === 'none') {{\n",
       "            console.log([gd, 'removed!']);\n",
       "            Plotly.purge(gd);\n",
       "            observer.disconnect();\n",
       "        }}\n",
       "}});\n",
       "\n",
       "// Listen for the removal of the full notebook cells\n",
       "var notebookContainer = gd.closest('#notebook-container');\n",
       "if (notebookContainer) {{\n",
       "    x.observe(notebookContainer, {childList: true});\n",
       "}}\n",
       "\n",
       "// Listen for the clearing of the current output cell\n",
       "var outputEl = gd.closest('.output');\n",
       "if (outputEl) {{\n",
       "    x.observe(outputEl, {childList: true});\n",
       "}}\n",
       "\n",
       "                        })\n",
       "                };\n",
       "                });\n",
       "            </script>\n",
       "        </div>"
      ]
     },
     "metadata": {},
     "output_type": "display_data"
    }
   ],
   "source": [
    "account_analysis = dfOth.groupby(['author', 'account_category'])['content'].count().reset_index()\n",
    "account_analysis = Counter(account_analysis.account_category)\n",
    "\n",
    "account_type = list(account_analysis.keys())\n",
    "values = list(account_analysis.values())\n",
    "\n",
    "account_type_I = [x for _,x in sorted(zip(values ,account_type), reverse = True)]\n",
    "values_I = sorted(values, reverse = True)\n",
    "\n",
    "color_list = ['rgb(175, 88, 141)' if i == 'NonEnglish' else 'rgb(23,62,90)' for i in account_type]\n",
    "\n",
    "data = [go.Bar(\n",
    "            x=account_type_I,\n",
    "            y=values_I,\n",
    "            marker = dict(color = color_list),\n",
    "            opacity = .7\n",
    "    )]\n",
    "\n",
    "layout = go.Layout(title = dict(text = 'Non-English Accounts with more than 400 Tweets', font = dict(size = 20)), \n",
    "                   xaxis = dict(\n",
    "                       tickangle = 45, \n",
    "                       tickfont = dict(size = 15),\n",
    "                       automargin = True),\n",
    "                  yaxis = dict(title = dict(text = 'Accounts', font = dict(size = 20))))\n",
    "\n",
    "fig = go.Figure(data = data, layout = layout)\n",
    "\n",
    "py.iplot(fig, filename='basic-bar')"
   ]
  },
  {
   "cell_type": "markdown",
   "metadata": {},
   "source": [
    "### Accounts with more than 400 Tweets (English vs Non-English)"
   ]
  },
  {
   "cell_type": "code",
   "execution_count": 82,
   "metadata": {},
   "outputs": [
    {
     "data": {
      "application/vnd.plotly.v1+json": {
       "config": {
        "linkText": "Export to plot.ly",
        "plotlyServerURL": "https://plot.ly",
        "responsive": true,
        "showLink": false
       },
       "data": [
        {
         "marker": {
          "color": "rgb(175, 88, 141)"
         },
         "name": "English Language",
         "opacity": 0.7,
         "type": "bar",
         "uid": "3e8810e9-27ca-44fe-9d6f-034d491e9d25",
         "x": [
          "RightTroll",
          "LeftTroll",
          "HashtagGamer",
          "NewsFeed",
          "NonEnglish",
          "Commercial",
          "Unknown"
         ],
         "y": [
          223,
          118,
          63,
          45,
          7,
          5,
          2
         ]
        },
        {
         "marker": {
          "color": "rgb(23,62,90)"
         },
         "name": "Non-English Language",
         "opacity": 0.7,
         "type": "bar",
         "uid": "3c17ad1a-9b1c-4fdf-87df-e7839e9f22b1",
         "x": [
          "NonEnglish",
          "Commercial",
          "Unknown",
          "RightTroll",
          "HashtagGamer"
         ],
         "y": [
          673,
          2,
          1,
          1,
          1
         ]
        }
       ],
       "layout": {
        "barmode": "stack",
        "title": {
         "font": {
          "size": 20
         },
         "text": "Accounts with more than 400 Tweets (English vs Non-English)"
        },
        "xaxis": {
         "automargin": true,
         "tickangle": 45,
         "tickfont": {
          "size": 15
         }
        },
        "yaxis": {
         "title": {
          "font": {
           "size": 20
          },
          "text": "Tweets"
         }
        }
       }
      },
      "text/html": [
       "<div>\n",
       "        \n",
       "        \n",
       "            <div id=\"ed0ee4d2-fe36-4d05-ae94-fd2aa4ec525e\" class=\"plotly-graph-div\" style=\"height:525px; width:100%;\"></div>\n",
       "            <script type=\"text/javascript\">\n",
       "                require([\"plotly\"], function(Plotly) {\n",
       "                    window.PLOTLYENV=window.PLOTLYENV || {};\n",
       "                    window.PLOTLYENV.BASE_URL='https://plot.ly';\n",
       "                    \n",
       "                if (document.getElementById(\"ed0ee4d2-fe36-4d05-ae94-fd2aa4ec525e\")) {\n",
       "                    Plotly.newPlot(\n",
       "                        'ed0ee4d2-fe36-4d05-ae94-fd2aa4ec525e',\n",
       "                        [{\"marker\": {\"color\": \"rgb(175, 88, 141)\"}, \"name\": \"English Language\", \"opacity\": 0.7, \"type\": \"bar\", \"uid\": \"4de8801b-1498-4a04-a082-8c9ac64dd667\", \"x\": [\"RightTroll\", \"LeftTroll\", \"HashtagGamer\", \"NewsFeed\", \"NonEnglish\", \"Commercial\", \"Unknown\"], \"y\": [223, 118, 63, 45, 7, 5, 2]}, {\"marker\": {\"color\": \"rgb(23,62,90)\"}, \"name\": \"Non-English Language\", \"opacity\": 0.7, \"type\": \"bar\", \"uid\": \"1d0963fe-b5fb-4e39-a609-15b61f8cdb0d\", \"x\": [\"NonEnglish\", \"Commercial\", \"Unknown\", \"RightTroll\", \"HashtagGamer\"], \"y\": [673, 2, 1, 1, 1]}],\n",
       "                        {\"barmode\": \"stack\", \"title\": {\"font\": {\"size\": 20}, \"text\": \"Accounts with more than 400 Tweets (English vs Non-English)\"}, \"xaxis\": {\"automargin\": true, \"tickangle\": 45, \"tickfont\": {\"size\": 15}}, \"yaxis\": {\"title\": {\"font\": {\"size\": 20}, \"text\": \"Tweets\"}}},\n",
       "                        {\"showLink\": false, \"linkText\": \"Export to plot.ly\", \"plotlyServerURL\": \"https://plot.ly\", \"responsive\": true}\n",
       "                    ).then(function(){\n",
       "                            \n",
       "var gd = document.getElementById('ed0ee4d2-fe36-4d05-ae94-fd2aa4ec525e');\n",
       "var x = new MutationObserver(function (mutations, observer) {{\n",
       "        var display = window.getComputedStyle(gd).display;\n",
       "        if (!display || display === 'none') {{\n",
       "            console.log([gd, 'removed!']);\n",
       "            Plotly.purge(gd);\n",
       "            observer.disconnect();\n",
       "        }}\n",
       "}});\n",
       "\n",
       "// Listen for the removal of the full notebook cells\n",
       "var notebookContainer = gd.closest('#notebook-container');\n",
       "if (notebookContainer) {{\n",
       "    x.observe(notebookContainer, {childList: true});\n",
       "}}\n",
       "\n",
       "// Listen for the clearing of the current output cell\n",
       "var outputEl = gd.closest('.output');\n",
       "if (outputEl) {{\n",
       "    x.observe(outputEl, {childList: true});\n",
       "}}\n",
       "\n",
       "                        })\n",
       "                };\n",
       "                });\n",
       "            </script>\n",
       "        </div>"
      ]
     },
     "metadata": {},
     "output_type": "display_data"
    }
   ],
   "source": [
    "trace5 = go.Bar(\n",
    "    x = account_type_H,\n",
    "    y = values_H,\n",
    "    name ='English Language',\n",
    "    marker=dict(color='rgb(175, 88, 141)'),\n",
    "    opacity = .7\n",
    ")\n",
    "\n",
    "trace6 = go.Bar(\n",
    "    x=account_type_I,\n",
    "    y=values_I,\n",
    "    name='Non-English Language',\n",
    "    marker=dict(color='rgb(23,62,90)'),\n",
    "    opacity = .7\n",
    ")\n",
    "\n",
    "data = [trace5, trace6]\n",
    "\n",
    "layout = go.Layout(\n",
    "    title = dict(text = 'Accounts with more than 400 Tweets (English vs Non-English)', font = dict(size = 20)),\n",
    "    xaxis = dict(\n",
    "        tickangle = 45, \n",
    "        tickfont = dict(size = 15),\n",
    "        automargin = True),\n",
    "    yaxis = dict(title = dict(text = 'Tweets', font = dict(size = 20))),\n",
    "    barmode='stack'\n",
    ")\n",
    "\n",
    "fig = go.Figure(data=data, layout=layout)\n",
    "py.iplot(fig, filename='bar2.html')"
   ]
  },
  {
   "cell_type": "code",
   "execution_count": null,
   "metadata": {},
   "outputs": [],
   "source": []
  }
 ],
 "metadata": {
  "kernelspec": {
   "display_name": "Python 3",
   "language": "python",
   "name": "python3"
  },
  "language_info": {
   "codemirror_mode": {
    "name": "ipython",
    "version": 3
   },
   "file_extension": ".py",
   "mimetype": "text/x-python",
   "name": "python",
   "nbconvert_exporter": "python",
   "pygments_lexer": "ipython3",
   "version": "3.6.8"
  }
 },
 "nbformat": 4,
 "nbformat_minor": 2
}
