{
 "cells": [
  {
   "cell_type": "markdown",
   "metadata": {},
   "source": [
    "# Ben Forleo\n",
    "\n",
    "### Text mining project"
   ]
  },
  {
   "cell_type": "markdown",
   "metadata": {},
   "source": [
    "#### Background and research question\n",
    "\n",
    "On January 7, 2017 the Office of the Director of National Intelligence released a declassified report detailing a Russian campaign to influence the 2016 election.  The report described a broad range of activities aimed at denigrating Secretary Hillary Clinton and undermining faith in the US democratic process. One facet of this campaign involved social media “trolls” employed by the Internet Research Agency, an organization financed by a close Putin ally with ties to Russian intelligence.  In an indictment of the Internet Research Agency dated February 16, 2018, special counsel Robert Mueller III accused this organization of attempting to sow discord online by posting derogatory and false information with an intent to interfere in the US 2016 election.\n",
    "\n",
    "On August 27, 2018, the data journalism organization FiveThirtyEight published 2,973,371 tweets from accounts identified by Twitter as being associated with the Internet Research Agency. The dataset is the product of work done by Clemson Univeristy Professors Darren Linville and Patrick Warren who collected the data from Clemson University's Social Media Listening center. The researchers also classifed accounts according to their language and behavior: categories include Right Troll, Left Troll, News Feed, Hashtag Gamer, and Fearmonger. \n",
    "\n",
    "In a [working paper](http://pwarren.people.clemson.edu/Linvill_Warren_TrollFactory.pdf) describing their work, Linville and Warren discuss their procedure for labeling accounts, which essentially was an extensive qaulitative analysis.\n",
    "\n",
    "The purpose of this project is to test whether the account categorization scheme can be replicated quanitatively using unsupervised learning teqniques. \n"
   ]
  },
  {
   "cell_type": "markdown",
   "metadata": {},
   "source": [
    "#### Procedure\n",
    "\n",
    "The procedure that I will employ is as follows:\n",
    "\n",
    "- Clean and tokenize text using the spaCy library\n",
    "- Create vectorized representations of tweets using the doc2vec algorithm that is available in the Gensim libbrary\n",
    "- Cluster the vector representation of tweets using Gaussian mixture models. \n",
    "- Assign an account to a particular cluster based on how tweets were clustered. If a majority of an accounts tweets appeared in cluster A, label that account as being part of cluster A. \n",
    "- Compare the results of this algorithmic labeling scheme with the labels assigned by Linville and Warren"
   ]
  },
  {
   "cell_type": "markdown",
   "metadata": {},
   "source": [
    "Let's import some data!"
   ]
  },
  {
   "cell_type": "code",
   "execution_count": 1,
   "metadata": {},
   "outputs": [],
   "source": [
    "import numpy as np\n",
    "import pandas as pd\n",
    "\n",
    "pd.set_option('display.max_columns', None)\n",
    "get_ipython().config.get('IPKernelApp', {})['parent_appname'] = \"\"\n",
    "\n",
    "import spacy\n",
    "import os\n",
    "import pickle\n",
    "\n",
    "from collections import Counter\n",
    "\n",
    "import matplotlib.pyplot as plt\n",
    "import seaborn as sns\n",
    "\n",
    "from unidecode import unidecode\n",
    "\n",
    "# import plotly.offline as pyo\n",
    "# import plotly.graph_objs as go\n",
    "\n",
    "\n",
    "df = pd.read_pickle('/Users/benjaminforleo/disinformation_project_data/labeled_tweets.pkl')"
   ]
  },
  {
   "cell_type": "code",
   "execution_count": 2,
   "metadata": {},
   "outputs": [
    {
     "data": {
      "text/html": [
       "\n",
       "<style>\n",
       ".output_png {\n",
       "    display: table-cell;\n",
       "    text-align: center;\n",
       "    vertical-align: middle;\n",
       "}\n",
       "</style>\n"
      ],
      "text/plain": [
       "<IPython.core.display.HTML object>"
      ]
     },
     "execution_count": 2,
     "metadata": {},
     "output_type": "execute_result"
    }
   ],
   "source": [
    "from IPython.core.display import HTML\n",
    "HTML(\"\"\"\n",
    "<style>\n",
    ".output_png {\n",
    "    display: table-cell;\n",
    "    text-align: center;\n",
    "    vertical-align: middle;\n",
    "}\n",
    "</style>\n",
    "\"\"\")"
   ]
  },
  {
   "cell_type": "markdown",
   "metadata": {},
   "source": [
    "As always, we need to perform some EDA to get a sense of what's in our datset. "
   ]
  },
  {
   "cell_type": "code",
   "execution_count": 3,
   "metadata": {},
   "outputs": [
    {
     "name": "stdout",
     "output_type": "stream",
     "text": [
      "Shape:  (2116867, 21) \n",
      " \n",
      "# Unique accounts:  2161 \n",
      " \n",
      " Account Type:  ['Spanish', 'German', 'Koch', 'news', 'Portuguese', '?', 'French', 'Right', 'Commercial', 'Italian', 'Hashtager', 'Left', 'ZAPOROSHIA', 'Russian', 'Ebola ', 'local', 'Arabic'] \n",
      " \n",
      " Account Category:  ['LeftTroll', 'NewsFeed', 'HashtagGamer', 'Unknown', 'Commercial', 'NonEnglish', 'Fearmonger', 'RightTroll']\n"
     ]
    }
   ],
   "source": [
    "# I only care about english only tweets (can't speak Russian, unfortunatly)\n",
    "df = df[df.language == \"English\"]\n",
    "\n",
    "print(\"Shape: \", df.shape, \"\\n\", \"\\n\"\n",
    "     \"# Unique accounts: \", len(set(df.author)), \"\\n\", \"\\n\",\n",
    "     \"Account Type: \", list(set(df.account_type)), \"\\n\", \"\\n\",\n",
    "     \"Account Category: \", list(set(df.account_category)))"
   ]
  },
  {
   "cell_type": "code",
   "execution_count": 4,
   "metadata": {},
   "outputs": [
    {
     "data": {
      "image/png": "[encoded data removed]",
      "text/plain": [
       "<Figure size 432x288 with 1 Axes>"
      ]
     },
     "metadata": {
      "needs_background": "light"
     },
     "output_type": "display_data"
    }
   ],
   "source": [
    "counts_by_type = dict(Counter(df.account_category))\n",
    "\n",
    "account_type = list(counts_by_type.keys())\n",
    "values = list(counts_by_type.values())\n",
    "\n",
    "plt.clf()\n",
    "sns.barplot(account_type, values)\n",
    "plt.xticks(rotation = 'vertical')\n",
    "plt.title('Counts of Tweets by Type')\n",
    "plt.show()\n",
    "\n",
    "# data = [go.Bar(x = account_type, y = values)]\n",
    "# layout = go.Layout(title = \"Counts of Tweets by Category\")\n",
    "# fig = go.Figure(data = data, layout = layout)\n",
    "# pyo.plot(fig)"
   ]
  },
  {
   "cell_type": "markdown",
   "metadata": {},
   "source": [
    "This is interesting. Let's see how this stacks up per account."
   ]
  },
  {
   "cell_type": "code",
   "execution_count": 5,
   "metadata": {},
   "outputs": [
    {
     "data": {
      "image/png": "[encoded data removed]",
      "text/plain": [
       "<Figure size 432x288 with 1 Axes>"
      ]
     },
     "metadata": {
      "needs_background": "light"
     },
     "output_type": "display_data"
    }
   ],
   "source": [
    "account_analysis = df.groupby(['author', 'account_category'])['content'].count().reset_index()\n",
    "\n",
    "account_analysis = Counter(account_analysis.account_category)\n",
    "\n",
    "account_type = list(account_analysis.keys())\n",
    "values = list(account_analysis.values())\n",
    "\n",
    "plt.clf()\n",
    "sns.barplot(account_type, values)\n",
    "plt.xticks(rotation = 'vertical')\n",
    "plt.title('Counts of Accounts by Type')\n",
    "plt.show()"
   ]
  },
  {
   "cell_type": "markdown",
   "metadata": {},
   "source": [
    "Ok, this may be a bit confusing. A NonEnglish account may still tweet in English but the content is generally about international subjects, such as the war in Ukraine. \n",
    "\n",
    "We need to do some more filtering. "
   ]
  },
  {
   "cell_type": "code",
   "execution_count": 6,
   "metadata": {},
   "outputs": [
    {
     "name": "stdout",
     "output_type": "stream",
     "text": [
      "463\n"
     ]
    }
   ],
   "source": [
    "# Let's get counts of the number of tweets by each author\n",
    "counts_by_author = df[['author', 'content']].groupby('author').count()\n",
    "\n",
    "counts_by_author.reset_index(inplace = True)\n",
    "\n",
    "print(sum(counts_by_author.content > 400))\n",
    "\n",
    "author_series = counts_by_author.author[counts_by_author.content > 400]\n",
    "\n",
    "df = df[df.author.isin(author_series)]"
   ]
  },
  {
   "cell_type": "code",
   "execution_count": 7,
   "metadata": {},
   "outputs": [
    {
     "data": {
      "image/png": "[encoded data removed]",
      "text/plain": [
       "<Figure size 432x288 with 1 Axes>"
      ]
     },
     "metadata": {
      "needs_background": "light"
     },
     "output_type": "display_data"
    }
   ],
   "source": [
    "account_analysis = df.groupby(['author', 'account_category'])['content'].count().reset_index()\n",
    "\n",
    "account_analysis = Counter(account_analysis.account_category)\n",
    "\n",
    "account_type = list(account_analysis.keys())\n",
    "values = list(account_analysis.values())\n",
    "\n",
    "plt.clf()\n",
    "sns.barplot(account_type, values)\n",
    "plt.xticks(rotation = 'vertical')\n",
    "plt.title('Counts of Accounts by Type: 400 Tweets or More')\n",
    "plt.show()"
   ]
  },
  {
   "cell_type": "markdown",
   "metadata": {},
   "source": [
    "In order to give my proposed procedure a chance to work, I need to make sure that I have enough tweets per account. Let's filter to accounts that have tweeted 300 or more times. The choice of 300 here is arbitrary. "
   ]
  },
  {
   "cell_type": "markdown",
   "metadata": {},
   "source": [
    "# Sampling and Pre-Processing"
   ]
  },
  {
   "cell_type": "code",
   "execution_count": 8,
   "metadata": {},
   "outputs": [],
   "source": [
    "df.content = df.content.astype(str)\n",
    "\n",
    "# Create the groupby object of author and category. Note: every author is assigned one category\n",
    "df_sampled = df.groupby(['author', 'account_category'])['content']\n",
    "\n",
    "# Take a 30% sample from each group\n",
    "df_sampled = df_sampled.apply(lambda x: x.sample(frac=0.3, replace = False)).reset_index()"
   ]
  },
  {
   "cell_type": "markdown",
   "metadata": {},
   "source": [
    "Basic pre-processing: remove RT symbol and hyperlinks"
   ]
  },
  {
   "cell_type": "code",
   "execution_count": 9,
   "metadata": {},
   "outputs": [],
   "source": [
    "# SAMPLE AND PRE-CLEANING\n",
    "\n",
    "# REMOVE RT SYMBOL\n",
    "#from processing_functions import rt_remover\n",
    "#df_sampled.content = df_sampled.content.apply(rt_remover)\n",
    "\n",
    "# REMOVE ANY HYPERLINKS\n",
    "from processing_functions import link_remover\n",
    "df_sampled.content = df_sampled.content.apply(link_remover)\n",
    "\n",
    "\n",
    "# STRIP ANY WHITESPACE ON EITHER SIDE OF THE TEXT\n",
    "df_sampled.content = df_sampled.content.str.strip()"
   ]
  },
  {
   "cell_type": "markdown",
   "metadata": {},
   "source": [
    "Now that we have done some basic pre-processing, we can parse our text with spaCy"
   ]
  },
  {
   "cell_type": "markdown",
   "metadata": {},
   "source": [
    "### spaCy"
   ]
  },
  {
   "cell_type": "code",
   "execution_count": 10,
   "metadata": {},
   "outputs": [],
   "source": [
    "from spacy.tokens import Token\n",
    "Token.set_extension('is_hashtag', default = False, force = True)\n",
    "Token.set_extension('is_account', default = False, force = True)\n",
    "\n",
    "##### import functions, preprocess and tokenize the text\n",
    "\n",
    "from processing_functions import hashtag_pipe\n",
    "from processing_functions import is_account_pipe\n",
    "\n",
    "# to disable pipeline objects: disable = ['parser', 'etc']\n",
    "nlp = spacy.load(\"en\", disable = ['parser', 'ner'])\n",
    "nlp.add_pipe(hashtag_pipe)\n",
    "nlp.add_pipe(is_account_pipe)\n",
    "\n",
    "parsed_tweets = list(nlp.pipe(df_sampled.content))"
   ]
  },
  {
   "cell_type": "markdown",
   "metadata": {},
   "source": [
    "# Gensim\n",
    "\n",
    "\n",
    "- I need to do some more cleaning and processing before runing through gensim"
   ]
  },
  {
   "cell_type": "code",
   "execution_count": 11,
   "metadata": {},
   "outputs": [],
   "source": [
    "from processing_functions import clean_doc\n",
    "lemma = list(map(clean_doc, parsed_tweets))\n",
    "\n",
    "# from processing_functions import clean_doc_no_lemma\n",
    "# no_lemma = list(map(clean_doc_no_lemma, parsed_tweets))"
   ]
  },
  {
   "cell_type": "markdown",
   "metadata": {},
   "source": [
    "#### Group tweets by author"
   ]
  },
  {
   "cell_type": "code",
   "execution_count": 12,
   "metadata": {},
   "outputs": [],
   "source": [
    "# each row in parsed content is a list of lists\n",
    "df_sampled['parsed_content'] = lemma\n",
    "\n",
    "# lets flatten those so that each row only has one list\n",
    "from processing_functions import group_lists\n",
    "        \n",
    "df_grouped = df_sampled.groupby(['author', \n",
    "                    'account_category'])['parsed_content'].apply(group_lists).reset_index()\n",
    "\n",
    "# Convert the parsed content Series to a list for gensim\n",
    "parsed_content = list(df_grouped.parsed_content)\n"
   ]
  },
  {
   "cell_type": "markdown",
   "metadata": {},
   "source": [
    "#### create the gensim doc2vec model"
   ]
  },
  {
   "cell_type": "code",
   "execution_count": 13,
   "metadata": {},
   "outputs": [],
   "source": [
    "# create a doc2vec model\n",
    "from gensim.models.doc2vec import Doc2Vec, TaggedDocument\n",
    "\n",
    "# lemma is the list of text\n",
    "documents = [TaggedDocument(doc, [i]) for i, doc in enumerate(parsed_content)]\n",
    "\n",
    "model = Doc2Vec(documents, vector_size=300, window=5, min_count=3, workers=6)"
   ]
  },
  {
   "cell_type": "code",
   "execution_count": 14,
   "metadata": {},
   "outputs": [],
   "source": [
    "arr_list = []\n",
    "\n",
    "for index in range(0, len(model.docvecs)):\n",
    "    arr_list.append(model.docvecs[index])\n",
    "    \n",
    "    \n",
    "test_array= np.stack(arr_list)\n",
    "\n",
    "test_array = np.stack(arr_list)"
   ]
  },
  {
   "cell_type": "code",
   "execution_count": 15,
   "metadata": {},
   "outputs": [],
   "source": [
    "from sklearn.manifold import TSNE\n",
    "tsne_35 = TSNE(n_components = 2, perplexity = 35, verbose = 0 , n_iter = 1000).fit_transform(test_array)"
   ]
  },
  {
   "cell_type": "code",
   "execution_count": 16,
   "metadata": {},
   "outputs": [
    {
     "data": {
      "image/png": "[encoded data removed]",
      "text/plain": [
       "<Figure size 432x288 with 1 Axes>"
      ]
     },
     "metadata": {
      "needs_background": "light"
     },
     "output_type": "display_data"
    }
   ],
   "source": [
    "import matplotlib.pyplot as plt\n",
    "import seaborn as sns\n",
    "\n",
    "plt.clf()\n",
    "\n",
    "sns.scatterplot(x = tsne_35[:,0], y = tsne_35[:, 1], hue = df_grouped.account_category)\n",
    "plt.title(\"Two dimensional representation of account clusters\")\n",
    "plt.legend(loc='center left', bbox_to_anchor=(1, 0.5))\n",
    "\n",
    "plt.show()"
   ]
  },
  {
   "cell_type": "markdown",
   "metadata": {},
   "source": [
    "# dope. lets see how kmeans works"
   ]
  },
  {
   "cell_type": "code",
   "execution_count": null,
   "metadata": {},
   "outputs": [],
   "source": [
    "from sklearn.cluster import KMeans\n",
    "\n",
    "inertias = []\n",
    "clusters = list(range(1,11))\n",
    "\n",
    "for k in clusters:\n",
    "    \n",
    "    model = KMeans(n_clusters = k)\n",
    "    \n",
    "    model.fit(test_array)\n",
    "    \n",
    "    inertias.append(model.inertia_)"
   ]
  },
  {
   "cell_type": "code",
   "execution_count": null,
   "metadata": {},
   "outputs": [],
   "source": [
    "plt.plot(clusters, inertias)\n",
    "plt.show()"
   ]
  },
  {
   "cell_type": "code",
   "execution_count": null,
   "metadata": {},
   "outputs": [],
   "source": [
    "from sklearn.cluster import KMeans\n",
    "\n",
    "kmeans = KMeans(n_clusters=6)\n",
    "\n",
    "predicted = kmeans.fit_predict(test_array)"
   ]
  },
  {
   "cell_type": "code",
   "execution_count": null,
   "metadata": {},
   "outputs": [],
   "source": []
  },
  {
   "cell_type": "code",
   "execution_count": null,
   "metadata": {},
   "outputs": [],
   "source": [
    "# categories = pd.Series(predicted).astype(str)"
   ]
  },
  {
   "cell_type": "code",
   "execution_count": null,
   "metadata": {},
   "outputs": [],
   "source": [
    "# def troll_labeler(cat):\n",
    "#     if cat == 0:\n",
    "#         return 'HashtagGamer'\n",
    "    \n",
    "#     elif cat == 1:\n",
    "#         return 'RightTroll_1'\n",
    "    \n",
    "#     elif cat == 3:\n",
    "        \n",
    "#         return 'RightTroll_2'\n",
    "    \n",
    "#     else:\n",
    "        \n",
    "#         return \"LeftTroll\""
   ]
  },
  {
   "cell_type": "code",
   "execution_count": null,
   "metadata": {},
   "outputs": [],
   "source": [
    "cat= pd.Series(predicted).apply(troll_labeler)"
   ]
  },
  {
   "cell_type": "code",
   "execution_count": null,
   "metadata": {},
   "outputs": [],
   "source": [
    "plt.clf()\n",
    "plt.figure(figsize=(10,7))\n",
    "sns.scatterplot(tsne_35[:,0], y = tsne_35[:, 1], hue = predicted)\n",
    "plt.title('2D representation of doc2vec clusters using Kmeans')\n",
    "\n",
    "\n",
    "plt.show()"
   ]
  },
  {
   "cell_type": "code",
   "execution_count": null,
   "metadata": {},
   "outputs": [],
   "source": []
  },
  {
   "cell_type": "code",
   "execution_count": null,
   "metadata": {},
   "outputs": [],
   "source": [
    "import plotly.offline as pyo\n",
    "import plotly.graph_objs as go\n",
    "\n",
    "data = [go.Scatter(x = tsne_35[:,0], y =  tsne_35[:, 1], mode = 'markers')]\n",
    "\n",
    "pyo.plot(data)"
   ]
  },
  {
   "cell_type": "code",
   "execution_count": null,
   "metadata": {},
   "outputs": [],
   "source": []
  },
  {
   "cell_type": "code",
   "execution_count": null,
   "metadata": {},
   "outputs": [],
   "source": []
  },
  {
   "cell_type": "code",
   "execution_count": null,
   "metadata": {},
   "outputs": [],
   "source": []
  },
  {
   "cell_type": "code",
   "execution_count": null,
   "metadata": {},
   "outputs": [],
   "source": []
  },
  {
   "cell_type": "code",
   "execution_count": null,
   "metadata": {},
   "outputs": [],
   "source": []
  },
  {
   "cell_type": "code",
   "execution_count": null,
   "metadata": {},
   "outputs": [],
   "source": []
  },
  {
   "cell_type": "code",
   "execution_count": null,
   "metadata": {},
   "outputs": [],
   "source": []
  },
  {
   "cell_type": "code",
   "execution_count": null,
   "metadata": {},
   "outputs": [],
   "source": []
  },
  {
   "cell_type": "code",
   "execution_count": null,
   "metadata": {},
   "outputs": [],
   "source": [
    "# non-negative matrix factorization"
   ]
  },
  {
   "cell_type": "code",
   "execution_count": null,
   "metadata": {},
   "outputs": [],
   "source": [
    "# from sklearn.cluster import KMeans\n",
    "\n",
    "# inertias = []\n",
    "# clusters = list(range(1,11))\n",
    "\n",
    "# for k in clusters:\n",
    "    \n",
    "#     model = KMeans(n_clusters = k)\n",
    "    \n",
    "#     model.fit(test_array)\n",
    "    \n",
    "#     inertias.append(model.inertia_)"
   ]
  },
  {
   "cell_type": "code",
   "execution_count": null,
   "metadata": {},
   "outputs": [],
   "source": [
    "# import matplotlib.pyplot as plt\n",
    "\n",
    "# plt.plot(clusters, inertias)\n",
    "# plt.show()"
   ]
  },
  {
   "cell_type": "code",
   "execution_count": null,
   "metadata": {},
   "outputs": [],
   "source": [
    "#df_grouped = df_grouped.groupby(['author', 'account_category'])['parsed_content'].agg(lambda col: ' '.join(col)).reset_index()\n"
   ]
  },
  {
   "cell_type": "code",
   "execution_count": null,
   "metadata": {},
   "outputs": [],
   "source": [
    "your_df.groupby(['account_id'])['text_column'].agg(lambda col: ' '.join(col)).reset_index()\n"
   ]
  },
  {
   "cell_type": "code",
   "execution_count": null,
   "metadata": {},
   "outputs": [],
   "source": [
    "your_df.groupby(['account_id'])[['text_column', 'score_column']].agg('text_column':lambda col: ' '.join(col),\n",
    "                                                                    'score_column':'mean')"
   ]
  }
 ],
 "metadata": {
  "kernelspec": {
   "display_name": "Python 3",
   "language": "python",
   "name": "python3"
  },
  "language_info": {
   "codemirror_mode": {
    "name": "ipython",
    "version": 3
   },
   "file_extension": ".py",
   "mimetype": "text/x-python",
   "name": "python",
   "nbconvert_exporter": "python",
   "pygments_lexer": "ipython3",
   "version": "3.6.8"
  }
 },
 "nbformat": 4,
 "nbformat_minor": 2
}
