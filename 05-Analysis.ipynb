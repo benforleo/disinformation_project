{
 "cells": [
  {
   "cell_type": "markdown",
   "metadata": {},
   "source": [
    "# Information Warfare\n",
    "## Russia’s use of Twitter during the 2016 US Presidential Election\n",
    "---\n",
    "\n",
    "### Import libraries"
   ]
  },
  {
   "cell_type": "code",
   "execution_count": 1,
   "metadata": {},
   "outputs": [
    {
     "data": {
      "text/html": [
       "        <script type=\"text/javascript\">\n",
       "        window.PlotlyConfig = {MathJaxConfig: 'local'};\n",
       "        if (window.MathJax) {MathJax.Hub.Config({SVG: {font: \"STIX-Web\"}});}\n",
       "        if (typeof require !== 'undefined') {\n",
       "        require.undef(\"plotly\");\n",
       "        requirejs.config({\n",
       "            paths: {\n",
       "                'plotly': ['https://cdn.plot.ly/plotly-latest.min']\n",
       "            }\n",
       "        });\n",
       "        require(['plotly'], function(Plotly) {\n",
       "            window._Plotly = Plotly;\n",
       "        });\n",
       "        }\n",
       "        </script>\n",
       "        "
      ]
     },
     "metadata": {},
     "output_type": "display_data"
    }
   ],
   "source": [
    "import numpy as np\n",
    "import pandas as pd\n",
    "\n",
    "pd.set_option('display.max_rows', 500)\n",
    "pd.set_option('display.max_columns', None)\n",
    "get_ipython().config.get('IPKernelApp', {})['parent_appname'] = \"\"\n",
    "\n",
    "import spacy\n",
    "import os\n",
    "import pickle\n",
    "\n",
    "from collections import Counter\n",
    "\n",
    "from plotly import tools\n",
    "import plotly.graph_objs as go\n",
    "# from plotly.offline import download_plotlyjs, init_notebook_mode, plot, iplot\n",
    "# import plotly.offline as py\n",
    "\n",
    "from plotly.offline import init_notebook_mode, plot, iplot\n",
    "import plotly.io as pio\n",
    "\n",
    "from IPython.display import Image\n",
    "\n",
    "init_notebook_mode(connected=True)"
   ]
  },
  {
   "cell_type": "markdown",
   "metadata": {},
   "source": [
    "### Import data"
   ]
  },
  {
   "cell_type": "code",
   "execution_count": 2,
   "metadata": {},
   "outputs": [],
   "source": [
    "# All Tweets\n",
    "df = pd.read_pickle('data/processed/tweets.pkl')\n",
    "df.reset_index(drop = True, inplace = True)\n",
    "\n",
    "# Only English language Tweets\n",
    "dfEng = pd.read_pickle('data/processed/tweetsEng.pkl')\n",
    "dfEng.reset_index(drop = True, inplace = True)\n",
    "\n",
    "# Only non-English language Tweets\n",
    "dfOth = pd.read_pickle('data/processed/tweetsOth.pkl')\n",
    "dfOth.reset_index(drop = True, inplace = True)"
   ]
  },
  {
   "cell_type": "markdown",
   "metadata": {},
   "source": [
    "# Analysis\n",
    "\n",
    "Now that we have completed our KMeans cluster assignments, it's time to see how they stack up against  Linville and Warrens labeling scheme."
   ]
  },
  {
   "cell_type": "code",
   "execution_count": 24,
   "metadata": {},
   "outputs": [
    {
     "data": {
      "text/html": [
       "<div>\n",
       "<style scoped>\n",
       "    .dataframe tbody tr th:only-of-type {\n",
       "        vertical-align: middle;\n",
       "    }\n",
       "\n",
       "    .dataframe tbody tr th {\n",
       "        vertical-align: top;\n",
       "    }\n",
       "\n",
       "    .dataframe thead th {\n",
       "        text-align: right;\n",
       "    }\n",
       "</style>\n",
       "<table border=\"1\" class=\"dataframe\">\n",
       "  <thead>\n",
       "    <tr style=\"text-align: right;\">\n",
       "      <th></th>\n",
       "      <th>author</th>\n",
       "      <th>account_category</th>\n",
       "      <th>parsed_content</th>\n",
       "      <th>kmeans_labels</th>\n",
       "    </tr>\n",
       "  </thead>\n",
       "  <tbody>\n",
       "    <tr>\n",
       "      <th>0</th>\n",
       "      <td>4MYSQUAD</td>\n",
       "      <td>LeftTroll</td>\n",
       "      <td>[there, need, stiff, penalty, officer, #LIE, #...</td>\n",
       "      <td>1</td>\n",
       "    </tr>\n",
       "    <tr>\n",
       "      <th>1</th>\n",
       "      <td>AANTIRACIST</td>\n",
       "      <td>LeftTroll</td>\n",
       "      <td>[this, alabama, mayor, say, her, account, hack...</td>\n",
       "      <td>1</td>\n",
       "    </tr>\n",
       "    <tr>\n",
       "      <th>2</th>\n",
       "      <td>ABIGAILSSILK</td>\n",
       "      <td>HashtagGamer</td>\n",
       "      <td>[#MyAchillesHeel, chuck, e., cheese, 's, @TagU...</td>\n",
       "      <td>2</td>\n",
       "    </tr>\n",
       "    <tr>\n",
       "      <th>3</th>\n",
       "      <td>ABIISSROSB</td>\n",
       "      <td>RightTroll</td>\n",
       "      <td>[#abi, break, disgraceful, liberal, mag, featu...</td>\n",
       "      <td>3</td>\n",
       "    </tr>\n",
       "    <tr>\n",
       "      <th>4</th>\n",
       "      <td>ABMERRLINS</td>\n",
       "      <td>RightTroll</td>\n",
       "      <td>[sick, planned, parenthood, want, parents, lie...</td>\n",
       "      <td>3</td>\n",
       "    </tr>\n",
       "  </tbody>\n",
       "</table>\n",
       "</div>"
      ],
      "text/plain": [
       "         author account_category  \\\n",
       "0      4MYSQUAD        LeftTroll   \n",
       "1   AANTIRACIST        LeftTroll   \n",
       "2  ABIGAILSSILK     HashtagGamer   \n",
       "3    ABIISSROSB       RightTroll   \n",
       "4    ABMERRLINS       RightTroll   \n",
       "\n",
       "                                      parsed_content  kmeans_labels  \n",
       "0  [there, need, stiff, penalty, officer, #LIE, #...              1  \n",
       "1  [this, alabama, mayor, say, her, account, hack...              1  \n",
       "2  [#MyAchillesHeel, chuck, e., cheese, 's, @TagU...              2  \n",
       "3  [#abi, break, disgraceful, liberal, mag, featu...              3  \n",
       "4  [sick, planned, parenthood, want, parents, lie...              3  "
      ]
     },
     "execution_count": 24,
     "metadata": {},
     "output_type": "execute_result"
    }
   ],
   "source": [
    "df_grouped['kmeans_labels'] = kmeans_labels\n",
    "\n",
    "df_grouped.head()"
   ]
  },
  {
   "cell_type": "code",
   "execution_count": 25,
   "metadata": {},
   "outputs": [],
   "source": [
    "label_dict = {}\n",
    "\n",
    "for row in df_grouped.iterrows():\n",
    "    \n",
    "    try: \n",
    "        label_dict[row[1].account_category].append(row[1].kmeans_labels)\n",
    "    \n",
    "    except:\n",
    "        label_dict[row[1].account_category] = [row[1].kmeans_labels]"
   ]
  },
  {
   "cell_type": "markdown",
   "metadata": {},
   "source": [
    "I want to compute the conditional probability of a cluster label given the label assigned by Linville and Warren. This is trickier than it seems, and I could not think of a better way to do this. "
   ]
  },
  {
   "cell_type": "code",
   "execution_count": 26,
   "metadata": {},
   "outputs": [],
   "source": [
    "choices = [0, 1, 2, 3, 4]\n",
    "\n",
    "prob_df = pd.DataFrame()\n",
    "\n",
    "for i in label_dict.keys():\n",
    "    count = dict(Counter(label_dict[i]))\n",
    "    length = sum(list(count.values()))\n",
    "\n",
    "    prob_dict = {}\n",
    "\n",
    "    for key in choices:\n",
    "        try:\n",
    "            prob_dict[key]= count[key]/length\n",
    "        \n",
    "        except:\n",
    "            prob_dict[key]= 0\n",
    "    \n",
    "    row = pd.DataFrame(pd.Series(prob_dict)).T\n",
    "    \n",
    "    row.index = [i]\n",
    "    \n",
    "    prob_df = pd.concat([prob_df, row])"
   ]
  },
  {
   "cell_type": "markdown",
   "metadata": {},
   "source": [
    "That was a lot of work!  We now have a dataframe of conditional probabilities. That is given a label by Warren and Linville, we have a conditional probability for each KMeans cluster label.  This is more clear if we view the dataframe. "
   ]
  },
  {
   "cell_type": "code",
   "execution_count": 27,
   "metadata": {},
   "outputs": [
    {
     "data": {
      "text/html": [
       "<div>\n",
       "<style scoped>\n",
       "    .dataframe tbody tr th:only-of-type {\n",
       "        vertical-align: middle;\n",
       "    }\n",
       "\n",
       "    .dataframe tbody tr th {\n",
       "        vertical-align: top;\n",
       "    }\n",
       "\n",
       "    .dataframe thead th {\n",
       "        text-align: right;\n",
       "    }\n",
       "</style>\n",
       "<table border=\"1\" class=\"dataframe\">\n",
       "  <thead>\n",
       "    <tr style=\"text-align: right;\">\n",
       "      <th></th>\n",
       "      <th>0</th>\n",
       "      <th>1</th>\n",
       "      <th>2</th>\n",
       "      <th>3</th>\n",
       "      <th>4</th>\n",
       "    </tr>\n",
       "  </thead>\n",
       "  <tbody>\n",
       "    <tr>\n",
       "      <th>LeftTroll</th>\n",
       "      <td>0.059322</td>\n",
       "      <td>0.940678</td>\n",
       "      <td>0.000000</td>\n",
       "      <td>0.000000</td>\n",
       "      <td>0.000000</td>\n",
       "    </tr>\n",
       "    <tr>\n",
       "      <th>HashtagGamer</th>\n",
       "      <td>0.031746</td>\n",
       "      <td>0.000000</td>\n",
       "      <td>0.968254</td>\n",
       "      <td>0.000000</td>\n",
       "      <td>0.000000</td>\n",
       "    </tr>\n",
       "    <tr>\n",
       "      <th>RightTroll</th>\n",
       "      <td>0.524664</td>\n",
       "      <td>0.004484</td>\n",
       "      <td>0.000000</td>\n",
       "      <td>0.470852</td>\n",
       "      <td>0.000000</td>\n",
       "    </tr>\n",
       "    <tr>\n",
       "      <th>NewsFeed</th>\n",
       "      <td>0.066667</td>\n",
       "      <td>0.022222</td>\n",
       "      <td>0.000000</td>\n",
       "      <td>0.000000</td>\n",
       "      <td>0.911111</td>\n",
       "    </tr>\n",
       "    <tr>\n",
       "      <th>NonEnglish</th>\n",
       "      <td>0.857143</td>\n",
       "      <td>0.142857</td>\n",
       "      <td>0.000000</td>\n",
       "      <td>0.000000</td>\n",
       "      <td>0.000000</td>\n",
       "    </tr>\n",
       "    <tr>\n",
       "      <th>Commercial</th>\n",
       "      <td>0.000000</td>\n",
       "      <td>0.000000</td>\n",
       "      <td>0.800000</td>\n",
       "      <td>0.000000</td>\n",
       "      <td>0.200000</td>\n",
       "    </tr>\n",
       "    <tr>\n",
       "      <th>Unknown</th>\n",
       "      <td>0.000000</td>\n",
       "      <td>1.000000</td>\n",
       "      <td>0.000000</td>\n",
       "      <td>0.000000</td>\n",
       "      <td>0.000000</td>\n",
       "    </tr>\n",
       "  </tbody>\n",
       "</table>\n",
       "</div>"
      ],
      "text/plain": [
       "                     0         1         2         3         4\n",
       "LeftTroll     0.059322  0.940678  0.000000  0.000000  0.000000\n",
       "HashtagGamer  0.031746  0.000000  0.968254  0.000000  0.000000\n",
       "RightTroll    0.524664  0.004484  0.000000  0.470852  0.000000\n",
       "NewsFeed      0.066667  0.022222  0.000000  0.000000  0.911111\n",
       "NonEnglish    0.857143  0.142857  0.000000  0.000000  0.000000\n",
       "Commercial    0.000000  0.000000  0.800000  0.000000  0.200000\n",
       "Unknown       0.000000  1.000000  0.000000  0.000000  0.000000"
      ]
     },
     "execution_count": 27,
     "metadata": {},
     "output_type": "execute_result"
    }
   ],
   "source": [
    "prob_df"
   ]
  },
  {
   "cell_type": "markdown",
   "metadata": {},
   "source": [
    "The table above indicates that for the most part, our clusters align pretty well with Warren and Linville's labels. Let's go ahead and visualize this. "
   ]
  },
  {
   "cell_type": "code",
   "execution_count": 28,
   "metadata": {},
   "outputs": [
    {
     "name": "stdout",
     "output_type": "stream",
     "text": [
      "This is the format of your plot grid:\n",
      "[ (1,1) x1,y1 ]  [ (1,2) x2,y2 ]  [ (1,3) x3,y3 ]\n",
      "[ (2,1) x4,y4 ]  [ (2,2) x5,y5 ]  [ (2,3) x6,y6 ]\n",
      "\n"
     ]
    },
    {
     "data": {
      "application/vnd.plotly.v1+json": {
       "config": {
        "linkText": "Export to plot.ly",
        "plotlyServerURL": "https://plot.ly",
        "showLink": false
       },
       "data": [
        {
         "marker": {
          "color": [
           "#003f5c",
           "#58508d",
           "#bc5090",
           "#ff6361",
           "#ffa600"
          ]
         },
         "opacity": 0.9,
         "type": "bar",
         "uid": "6f66ddd0-06ea-48e0-b36e-3c6a35066cdd",
         "x": [
          0,
          1,
          2,
          3,
          4
         ],
         "xaxis": "x",
         "y": [
          0.059322033898305086,
          0.940677966101695,
          0,
          0,
          0
         ],
         "yaxis": "y"
        },
        {
         "marker": {
          "color": [
           "#003f5c",
           "#58508d",
           "#bc5090",
           "#ff6361",
           "#ffa600"
          ]
         },
         "opacity": 0.9,
         "type": "bar",
         "uid": "4b8d2bc7-fc4a-40cd-9314-99a7487dc0b4",
         "x": [
          0,
          1,
          2,
          3,
          4
         ],
         "xaxis": "x2",
         "y": [
          0.031746031746031744,
          0,
          0.9682539682539683,
          0,
          0
         ],
         "yaxis": "y2"
        },
        {
         "marker": {
          "color": [
           "#003f5c",
           "#58508d",
           "#bc5090",
           "#ff6361",
           "#ffa600"
          ]
         },
         "opacity": 0.9,
         "type": "bar",
         "uid": "8b56ff23-f73f-478e-956e-c20b25c441d7",
         "x": [
          0,
          1,
          2,
          3,
          4
         ],
         "xaxis": "x3",
         "y": [
          0.5246636771300448,
          0.004484304932735426,
          0,
          0.47085201793721976,
          0
         ],
         "yaxis": "y3"
        },
        {
         "marker": {
          "color": [
           "#003f5c",
           "#58508d",
           "#bc5090",
           "#ff6361",
           "#ffa600"
          ]
         },
         "opacity": 0.9,
         "type": "bar",
         "uid": "e86ccff3-4089-43b2-8461-ac1463c4c16e",
         "x": [
          0,
          1,
          2,
          3,
          4
         ],
         "xaxis": "x4",
         "y": [
          0.06666666666666667,
          0.022222222222222223,
          0,
          0,
          0.9111111111111111
         ],
         "yaxis": "y4"
        },
        {
         "marker": {
          "color": [
           "#003f5c",
           "#58508d",
           "#bc5090",
           "#ff6361",
           "#ffa600"
          ]
         },
         "opacity": 0.9,
         "type": "bar",
         "uid": "96b42f5d-b7f2-428b-a613-9b159200da94",
         "x": [
          0,
          1,
          2,
          3,
          4
         ],
         "xaxis": "x5",
         "y": [
          0.8571428571428571,
          0.14285714285714285,
          0,
          0,
          0
         ],
         "yaxis": "y5"
        },
        {
         "marker": {
          "color": [
           "#003f5c",
           "#58508d",
           "#bc5090",
           "#ff6361",
           "#ffa600"
          ]
         },
         "opacity": 0.9,
         "type": "bar",
         "uid": "71ae360b-7e39-4b6e-b4ba-184f0d6293aa",
         "x": [
          0,
          1,
          2,
          3,
          4
         ],
         "xaxis": "x6",
         "y": [
          0,
          0,
          0.8,
          0,
          0.2
         ],
         "yaxis": "y6"
        }
       ],
       "layout": {
        "annotations": [
         {
          "font": {
           "size": 16
          },
          "showarrow": false,
          "text": "LeftTroll",
          "x": 0.14444444444444446,
          "xanchor": "center",
          "xref": "paper",
          "y": 1,
          "yanchor": "bottom",
          "yref": "paper"
         },
         {
          "font": {
           "size": 16
          },
          "showarrow": false,
          "text": "HashtagGamer",
          "x": 0.5,
          "xanchor": "center",
          "xref": "paper",
          "y": 1,
          "yanchor": "bottom",
          "yref": "paper"
         },
         {
          "font": {
           "size": 16
          },
          "showarrow": false,
          "text": "RightTroll",
          "x": 0.8555555555555556,
          "xanchor": "center",
          "xref": "paper",
          "y": 1,
          "yanchor": "bottom",
          "yref": "paper"
         },
         {
          "font": {
           "size": 16
          },
          "showarrow": false,
          "text": "NewsFeed",
          "x": 0.14444444444444446,
          "xanchor": "center",
          "xref": "paper",
          "y": 0.375,
          "yanchor": "bottom",
          "yref": "paper"
         },
         {
          "font": {
           "size": 16
          },
          "showarrow": false,
          "text": "NonEnglish",
          "x": 0.5,
          "xanchor": "center",
          "xref": "paper",
          "y": 0.375,
          "yanchor": "bottom",
          "yref": "paper"
         },
         {
          "font": {
           "size": 16
          },
          "showarrow": false,
          "text": "Commercial",
          "x": 0.8555555555555556,
          "xanchor": "center",
          "xref": "paper",
          "y": 0.375,
          "yanchor": "bottom",
          "yref": "paper"
         }
        ],
        "height": 700,
        "showlegend": false,
        "title": {
         "font": {
          "size": 27
         },
         "text": "Conditional Probability of KMeans Assignment Given a Label"
        },
        "xaxis": {
         "anchor": "y",
         "domain": [
          0,
          0.2888888888888889
         ]
        },
        "xaxis2": {
         "anchor": "y2",
         "domain": [
          0.35555555555555557,
          0.6444444444444445
         ]
        },
        "xaxis3": {
         "anchor": "y3",
         "domain": [
          0.7111111111111111,
          1
         ]
        },
        "xaxis4": {
         "anchor": "y4",
         "domain": [
          0,
          0.2888888888888889
         ]
        },
        "xaxis5": {
         "anchor": "y5",
         "domain": [
          0.35555555555555557,
          0.6444444444444445
         ]
        },
        "xaxis6": {
         "anchor": "y6",
         "domain": [
          0.7111111111111111,
          1
         ]
        },
        "yaxis": {
         "anchor": "x",
         "domain": [
          0.625,
          1
         ],
         "nticks": 10,
         "range": [
          0,
          1
         ]
        },
        "yaxis2": {
         "anchor": "x2",
         "domain": [
          0.625,
          1
         ],
         "nticks": 10,
         "range": [
          0,
          1
         ]
        },
        "yaxis3": {
         "anchor": "x3",
         "domain": [
          0.625,
          1
         ],
         "nticks": 10,
         "range": [
          0,
          1
         ]
        },
        "yaxis4": {
         "anchor": "x4",
         "domain": [
          0,
          0.375
         ],
         "nticks": 10,
         "range": [
          0,
          1
         ]
        },
        "yaxis5": {
         "anchor": "x5",
         "domain": [
          0,
          0.375
         ],
         "nticks": 10,
         "range": [
          0,
          1
         ]
        },
        "yaxis6": {
         "anchor": "x6",
         "domain": [
          0,
          0.375
         ],
         "nticks": 10,
         "range": [
          0,
          1
         ]
        }
       }
      },
      "text/html": [
       "<div id=\"75be20d3-ceeb-4375-b528-cd2d80685918\" style=\"height: 700px; width: 100%;\" class=\"plotly-graph-div\"></div><script type=\"text/javascript\">require([\"plotly\"], function(Plotly) { window.PLOTLYENV=window.PLOTLYENV || {};window.PLOTLYENV.BASE_URL=\"https://plot.ly\";Plotly.newPlot(\"75be20d3-ceeb-4375-b528-cd2d80685918\", [{\"marker\": {\"color\": [\"#003f5c\", \"#58508d\", \"#bc5090\", \"#ff6361\", \"#ffa600\"]}, \"opacity\": 0.9, \"x\": [0, 1, 2, 3, 4], \"y\": [0.059322033898305086, 0.940677966101695, 0.0, 0.0, 0.0], \"type\": \"bar\", \"uid\": \"6f66ddd0-06ea-48e0-b36e-3c6a35066cdd\", \"xaxis\": \"x\", \"yaxis\": \"y\"}, {\"marker\": {\"color\": [\"#003f5c\", \"#58508d\", \"#bc5090\", \"#ff6361\", \"#ffa600\"]}, \"opacity\": 0.9, \"x\": [0, 1, 2, 3, 4], \"y\": [0.031746031746031744, 0.0, 0.9682539682539683, 0.0, 0.0], \"type\": \"bar\", \"uid\": \"4b8d2bc7-fc4a-40cd-9314-99a7487dc0b4\", \"xaxis\": \"x2\", \"yaxis\": \"y2\"}, {\"marker\": {\"color\": [\"#003f5c\", \"#58508d\", \"#bc5090\", \"#ff6361\", \"#ffa600\"]}, \"opacity\": 0.9, \"x\": [0, 1, 2, 3, 4], \"y\": [0.5246636771300448, 0.004484304932735426, 0.0, 0.47085201793721976, 0.0], \"type\": \"bar\", \"uid\": \"8b56ff23-f73f-478e-956e-c20b25c441d7\", \"xaxis\": \"x3\", \"yaxis\": \"y3\"}, {\"marker\": {\"color\": [\"#003f5c\", \"#58508d\", \"#bc5090\", \"#ff6361\", \"#ffa600\"]}, \"opacity\": 0.9, \"x\": [0, 1, 2, 3, 4], \"y\": [0.06666666666666667, 0.022222222222222223, 0.0, 0.0, 0.9111111111111111], \"type\": \"bar\", \"uid\": \"e86ccff3-4089-43b2-8461-ac1463c4c16e\", \"xaxis\": \"x4\", \"yaxis\": \"y4\"}, {\"marker\": {\"color\": [\"#003f5c\", \"#58508d\", \"#bc5090\", \"#ff6361\", \"#ffa600\"]}, \"opacity\": 0.9, \"x\": [0, 1, 2, 3, 4], \"y\": [0.8571428571428571, 0.14285714285714285, 0.0, 0.0, 0.0], \"type\": \"bar\", \"uid\": \"96b42f5d-b7f2-428b-a613-9b159200da94\", \"xaxis\": \"x5\", \"yaxis\": \"y5\"}, {\"marker\": {\"color\": [\"#003f5c\", \"#58508d\", \"#bc5090\", \"#ff6361\", \"#ffa600\"]}, \"opacity\": 0.9, \"x\": [0, 1, 2, 3, 4], \"y\": [0.0, 0.0, 0.8, 0.0, 0.2], \"type\": \"bar\", \"uid\": \"71ae360b-7e39-4b6e-b4ba-184f0d6293aa\", \"xaxis\": \"x6\", \"yaxis\": \"y6\"}], {\"annotations\": [{\"font\": {\"size\": 16}, \"showarrow\": false, \"text\": \"LeftTroll\", \"x\": 0.14444444444444446, \"xanchor\": \"center\", \"xref\": \"paper\", \"y\": 1.0, \"yanchor\": \"bottom\", \"yref\": \"paper\"}, {\"font\": {\"size\": 16}, \"showarrow\": false, \"text\": \"HashtagGamer\", \"x\": 0.5, \"xanchor\": \"center\", \"xref\": \"paper\", \"y\": 1.0, \"yanchor\": \"bottom\", \"yref\": \"paper\"}, {\"font\": {\"size\": 16}, \"showarrow\": false, \"text\": \"RightTroll\", \"x\": 0.8555555555555556, \"xanchor\": \"center\", \"xref\": \"paper\", \"y\": 1.0, \"yanchor\": \"bottom\", \"yref\": \"paper\"}, {\"font\": {\"size\": 16}, \"showarrow\": false, \"text\": \"NewsFeed\", \"x\": 0.14444444444444446, \"xanchor\": \"center\", \"xref\": \"paper\", \"y\": 0.375, \"yanchor\": \"bottom\", \"yref\": \"paper\"}, {\"font\": {\"size\": 16}, \"showarrow\": false, \"text\": \"NonEnglish\", \"x\": 0.5, \"xanchor\": \"center\", \"xref\": \"paper\", \"y\": 0.375, \"yanchor\": \"bottom\", \"yref\": \"paper\"}, {\"font\": {\"size\": 16}, \"showarrow\": false, \"text\": \"Commercial\", \"x\": 0.8555555555555556, \"xanchor\": \"center\", \"xref\": \"paper\", \"y\": 0.375, \"yanchor\": \"bottom\", \"yref\": \"paper\"}], \"xaxis\": {\"anchor\": \"y\", \"domain\": [0.0, 0.2888888888888889]}, \"yaxis\": {\"anchor\": \"x\", \"domain\": [0.625, 1.0], \"range\": [0, 1], \"nticks\": 10}, \"xaxis2\": {\"anchor\": \"y2\", \"domain\": [0.35555555555555557, 0.6444444444444445]}, \"yaxis2\": {\"anchor\": \"x2\", \"domain\": [0.625, 1.0], \"range\": [0, 1], \"nticks\": 10}, \"xaxis3\": {\"anchor\": \"y3\", \"domain\": [0.7111111111111111, 1.0]}, \"yaxis3\": {\"anchor\": \"x3\", \"domain\": [0.625, 1.0], \"range\": [0, 1], \"nticks\": 10}, \"xaxis4\": {\"anchor\": \"y4\", \"domain\": [0.0, 0.2888888888888889]}, \"yaxis4\": {\"anchor\": \"x4\", \"domain\": [0.0, 0.375], \"range\": [0, 1], \"nticks\": 10}, \"xaxis5\": {\"anchor\": \"y5\", \"domain\": [0.35555555555555557, 0.6444444444444445]}, \"yaxis5\": {\"anchor\": \"x5\", \"domain\": [0.0, 0.375], \"range\": [0, 1], \"nticks\": 10}, \"xaxis6\": {\"anchor\": \"y6\", \"domain\": [0.7111111111111111, 1.0]}, \"yaxis6\": {\"anchor\": \"x6\", \"domain\": [0.0, 0.375], \"range\": [0, 1], \"nticks\": 10}, \"title\": {\"font\": {\"size\": 27}, \"text\": \"Conditional Probability of KMeans Assignment Given a Label\"}, \"height\": 700, \"showlegend\": false}, {\"showLink\": false, \"linkText\": \"Export to plot.ly\", \"plotlyServerURL\": \"https://plot.ly\"})});</script><script type=\"text/javascript\">window.addEventListener(\"resize\", function(){window._Plotly.Plots.resize(document.getElementById(\"75be20d3-ceeb-4375-b528-cd2d80685918\"));});</script>"
      ],
      "text/vnd.plotly.v1+html": [
       "<div id=\"75be20d3-ceeb-4375-b528-cd2d80685918\" style=\"height: 700px; width: 100%;\" class=\"plotly-graph-div\"></div><script type=\"text/javascript\">require([\"plotly\"], function(Plotly) { window.PLOTLYENV=window.PLOTLYENV || {};window.PLOTLYENV.BASE_URL=\"https://plot.ly\";Plotly.newPlot(\"75be20d3-ceeb-4375-b528-cd2d80685918\", [{\"marker\": {\"color\": [\"#003f5c\", \"#58508d\", \"#bc5090\", \"#ff6361\", \"#ffa600\"]}, \"opacity\": 0.9, \"x\": [0, 1, 2, 3, 4], \"y\": [0.059322033898305086, 0.940677966101695, 0.0, 0.0, 0.0], \"type\": \"bar\", \"uid\": \"6f66ddd0-06ea-48e0-b36e-3c6a35066cdd\", \"xaxis\": \"x\", \"yaxis\": \"y\"}, {\"marker\": {\"color\": [\"#003f5c\", \"#58508d\", \"#bc5090\", \"#ff6361\", \"#ffa600\"]}, \"opacity\": 0.9, \"x\": [0, 1, 2, 3, 4], \"y\": [0.031746031746031744, 0.0, 0.9682539682539683, 0.0, 0.0], \"type\": \"bar\", \"uid\": \"4b8d2bc7-fc4a-40cd-9314-99a7487dc0b4\", \"xaxis\": \"x2\", \"yaxis\": \"y2\"}, {\"marker\": {\"color\": [\"#003f5c\", \"#58508d\", \"#bc5090\", \"#ff6361\", \"#ffa600\"]}, \"opacity\": 0.9, \"x\": [0, 1, 2, 3, 4], \"y\": [0.5246636771300448, 0.004484304932735426, 0.0, 0.47085201793721976, 0.0], \"type\": \"bar\", \"uid\": \"8b56ff23-f73f-478e-956e-c20b25c441d7\", \"xaxis\": \"x3\", \"yaxis\": \"y3\"}, {\"marker\": {\"color\": [\"#003f5c\", \"#58508d\", \"#bc5090\", \"#ff6361\", \"#ffa600\"]}, \"opacity\": 0.9, \"x\": [0, 1, 2, 3, 4], \"y\": [0.06666666666666667, 0.022222222222222223, 0.0, 0.0, 0.9111111111111111], \"type\": \"bar\", \"uid\": \"e86ccff3-4089-43b2-8461-ac1463c4c16e\", \"xaxis\": \"x4\", \"yaxis\": \"y4\"}, {\"marker\": {\"color\": [\"#003f5c\", \"#58508d\", \"#bc5090\", \"#ff6361\", \"#ffa600\"]}, \"opacity\": 0.9, \"x\": [0, 1, 2, 3, 4], \"y\": [0.8571428571428571, 0.14285714285714285, 0.0, 0.0, 0.0], \"type\": \"bar\", \"uid\": \"96b42f5d-b7f2-428b-a613-9b159200da94\", \"xaxis\": \"x5\", \"yaxis\": \"y5\"}, {\"marker\": {\"color\": [\"#003f5c\", \"#58508d\", \"#bc5090\", \"#ff6361\", \"#ffa600\"]}, \"opacity\": 0.9, \"x\": [0, 1, 2, 3, 4], \"y\": [0.0, 0.0, 0.8, 0.0, 0.2], \"type\": \"bar\", \"uid\": \"71ae360b-7e39-4b6e-b4ba-184f0d6293aa\", \"xaxis\": \"x6\", \"yaxis\": \"y6\"}], {\"annotations\": [{\"font\": {\"size\": 16}, \"showarrow\": false, \"text\": \"LeftTroll\", \"x\": 0.14444444444444446, \"xanchor\": \"center\", \"xref\": \"paper\", \"y\": 1.0, \"yanchor\": \"bottom\", \"yref\": \"paper\"}, {\"font\": {\"size\": 16}, \"showarrow\": false, \"text\": \"HashtagGamer\", \"x\": 0.5, \"xanchor\": \"center\", \"xref\": \"paper\", \"y\": 1.0, \"yanchor\": \"bottom\", \"yref\": \"paper\"}, {\"font\": {\"size\": 16}, \"showarrow\": false, \"text\": \"RightTroll\", \"x\": 0.8555555555555556, \"xanchor\": \"center\", \"xref\": \"paper\", \"y\": 1.0, \"yanchor\": \"bottom\", \"yref\": \"paper\"}, {\"font\": {\"size\": 16}, \"showarrow\": false, \"text\": \"NewsFeed\", \"x\": 0.14444444444444446, \"xanchor\": \"center\", \"xref\": \"paper\", \"y\": 0.375, \"yanchor\": \"bottom\", \"yref\": \"paper\"}, {\"font\": {\"size\": 16}, \"showarrow\": false, \"text\": \"NonEnglish\", \"x\": 0.5, \"xanchor\": \"center\", \"xref\": \"paper\", \"y\": 0.375, \"yanchor\": \"bottom\", \"yref\": \"paper\"}, {\"font\": {\"size\": 16}, \"showarrow\": false, \"text\": \"Commercial\", \"x\": 0.8555555555555556, \"xanchor\": \"center\", \"xref\": \"paper\", \"y\": 0.375, \"yanchor\": \"bottom\", \"yref\": \"paper\"}], \"xaxis\": {\"anchor\": \"y\", \"domain\": [0.0, 0.2888888888888889]}, \"yaxis\": {\"anchor\": \"x\", \"domain\": [0.625, 1.0], \"range\": [0, 1], \"nticks\": 10}, \"xaxis2\": {\"anchor\": \"y2\", \"domain\": [0.35555555555555557, 0.6444444444444445]}, \"yaxis2\": {\"anchor\": \"x2\", \"domain\": [0.625, 1.0], \"range\": [0, 1], \"nticks\": 10}, \"xaxis3\": {\"anchor\": \"y3\", \"domain\": [0.7111111111111111, 1.0]}, \"yaxis3\": {\"anchor\": \"x3\", \"domain\": [0.625, 1.0], \"range\": [0, 1], \"nticks\": 10}, \"xaxis4\": {\"anchor\": \"y4\", \"domain\": [0.0, 0.2888888888888889]}, \"yaxis4\": {\"anchor\": \"x4\", \"domain\": [0.0, 0.375], \"range\": [0, 1], \"nticks\": 10}, \"xaxis5\": {\"anchor\": \"y5\", \"domain\": [0.35555555555555557, 0.6444444444444445]}, \"yaxis5\": {\"anchor\": \"x5\", \"domain\": [0.0, 0.375], \"range\": [0, 1], \"nticks\": 10}, \"xaxis6\": {\"anchor\": \"y6\", \"domain\": [0.7111111111111111, 1.0]}, \"yaxis6\": {\"anchor\": \"x6\", \"domain\": [0.0, 0.375], \"range\": [0, 1], \"nticks\": 10}, \"title\": {\"font\": {\"size\": 27}, \"text\": \"Conditional Probability of KMeans Assignment Given a Label\"}, \"height\": 700, \"showlegend\": false}, {\"showLink\": false, \"linkText\": \"Export to plot.ly\", \"plotlyServerURL\": \"https://plot.ly\"})});</script><script type=\"text/javascript\">window.addEventListener(\"resize\", function(){window._Plotly.Plots.resize(document.getElementById(\"75be20d3-ceeb-4375-b528-cd2d80685918\"));});</script>"
      ]
     },
     "metadata": {},
     "output_type": "display_data"
    }
   ],
   "source": [
    "prob_df_t = prob_df.T\n",
    "\n",
    "colors = [\"#003f5c\", \"#58508d\", \"#bc5090\", \"#ff6361\", \"#ffa600\"]\n",
    "data = []\n",
    "for idx, label in enumerate(list(prob_df_t.columns)[:6]):  \n",
    "    data.append(go.Bar(x = list(prob_df_t.index), y = list(prob_df_t[label]), \n",
    "                       marker =  dict(color = colors), opacity = 0.9))\n",
    "    \n",
    "fig = tools.make_subplots(rows=2, cols=3, subplot_titles=('LeftTroll', 'HashtagGamer','RightTroll', \n",
    "                                                          'NewsFeed', 'NonEnglish', 'Commercial'))\n",
    "fig.append_trace(data[0], 1, 1)\n",
    "fig.append_trace(data[1], 1, 2)\n",
    "fig.append_trace(data[2], 1, 3)\n",
    "fig.append_trace(data[3], 2, 1)\n",
    "fig.append_trace(data[4], 2, 2)\n",
    "fig.append_trace(data[5], 2, 3)\n",
    "\n",
    "fig['layout'].update(height=700, \n",
    "                     title= dict(text = 'Conditional Probability of KMeans Assignment Given a Label', \n",
    "                                 font = dict(size = 27)),\n",
    "                     showlegend = False)\n",
    "\n",
    "for i in range(1, 7):\n",
    "    fig['layout']['yaxis' + str(i)].update(range = [0, 1], nticks = 10)\n",
    "\n",
    "\n",
    "py.iplot(fig)"
   ]
  },
  {
   "cell_type": "markdown",
   "metadata": {},
   "source": [
    "# Modeling (Work in Progress)"
   ]
  },
  {
   "cell_type": "code",
   "execution_count": 29,
   "metadata": {},
   "outputs": [],
   "source": [
    "from sklearn.model_selection import RandomizedSearchCV\n",
    "from sklearn.model_selection import GridSearchCV\n",
    "from sklearn.metrics import accuracy_score\n",
    "from sklearn.metrics import classification_report"
   ]
  },
  {
   "cell_type": "markdown",
   "metadata": {},
   "source": [
    "First we need to check our class balance"
   ]
  },
  {
   "cell_type": "code",
   "execution_count": 30,
   "metadata": {},
   "outputs": [
    {
     "name": "stdout",
     "output_type": "stream",
     "text": [
      "Counter({'RightTroll': 223, 'LeftTroll': 118, 'HashtagGamer': 63, 'NewsFeed': 45, 'NonEnglish': 7, 'Commercial': 5, 'Unknown': 2})\n"
     ]
    }
   ],
   "source": [
    "y = df_grouped.account_category.copy()\n",
    "x = np.copy(vec_array)\n",
    "\n",
    "print(Counter(y))"
   ]
  },
  {
   "cell_type": "markdown",
   "metadata": {},
   "source": [
    "Due to the Limited number of samples, I am going to classify NonEnglish, Commercial, and Unknown as Other."
   ]
  },
  {
   "cell_type": "code",
   "execution_count": 31,
   "metadata": {},
   "outputs": [],
   "source": [
    "other_list = ['NonEnglish','Commercial', 'Unknown']\n",
    "\n",
    "y = y.apply(lambda x: 'Other' if x in other_list else x)"
   ]
  },
  {
   "cell_type": "code",
   "execution_count": 32,
   "metadata": {},
   "outputs": [],
   "source": [
    "from sklearn.model_selection import train_test_split\n",
    "\n",
    "from imblearn.over_sampling import SMOTE\n",
    "\n",
    "x_train, x_test, y_train, y_test = train_test_split(x, y, stratify = y)\n",
    "\n",
    "sm = SMOTE(random_state = 123, k_neighbors = 6)\n",
    "\n",
    "x_res, y_res = sm.fit_resample(x_train, y_train)"
   ]
  },
  {
   "cell_type": "markdown",
   "metadata": {},
   "source": [
    "#### Logistic Regression"
   ]
  },
  {
   "cell_type": "code",
   "execution_count": 33,
   "metadata": {},
   "outputs": [],
   "source": [
    "from sklearn.linear_model import LogisticRegression\n",
    "from sklearn.multiclass import OneVsRestClassifier\n",
    "\n",
    "logreg = OneVsRestClassifier(LogisticRegression(solver = 'liblinear'))\n",
    "\n",
    "logreg.fit(x_res, y_res)\n",
    "\n",
    "y_pred = logreg.predict(x_test)"
   ]
  },
  {
   "cell_type": "code",
   "execution_count": 34,
   "metadata": {},
   "outputs": [
    {
     "name": "stdout",
     "output_type": "stream",
     "text": [
      "Accuracy Score:  0.9396551724137931 \n",
      " \n",
      "\n",
      "              precision    recall  f1-score   support\n",
      "\n",
      "HashtagGamer       1.00      1.00      1.00        16\n",
      "   LeftTroll       0.93      0.93      0.93        30\n",
      "    NewsFeed       0.85      1.00      0.92        11\n",
      "       Other       0.50      0.33      0.40         3\n",
      "  RightTroll       0.96      0.95      0.95        56\n",
      "\n",
      "   micro avg       0.94      0.94      0.94       116\n",
      "   macro avg       0.85      0.84      0.84       116\n",
      "weighted avg       0.94      0.94      0.94       116\n",
      "\n"
     ]
    }
   ],
   "source": [
    "print(\"Accuracy Score: \",accuracy_score(y_test, y_pred), \"\\n\", \"\\n\")\n",
    "print(classification_report(y_test, y_pred))"
   ]
  },
  {
   "cell_type": "markdown",
   "metadata": {},
   "source": [
    "### SVM"
   ]
  },
  {
   "cell_type": "code",
   "execution_count": 35,
   "metadata": {},
   "outputs": [
    {
     "name": "stdout",
     "output_type": "stream",
     "text": [
      "SVM Accuracy Score:  0.9396551724137931 \n",
      " \n",
      "\n",
      "              precision    recall  f1-score   support\n",
      "\n",
      "HashtagGamer       1.00      1.00      1.00        16\n",
      "   LeftTroll       0.93      0.93      0.93        30\n",
      "    NewsFeed       0.92      1.00      0.96        11\n",
      "       Other       0.40      0.67      0.50         3\n",
      "  RightTroll       0.98      0.93      0.95        56\n",
      "\n",
      "   micro avg       0.94      0.94      0.94       116\n",
      "   macro avg       0.85      0.91      0.87       116\n",
      "weighted avg       0.95      0.94      0.94       116\n",
      "\n"
     ]
    }
   ],
   "source": [
    "from sklearn.svm import SVC\n",
    "\n",
    "svc = OneVsRestClassifier(SVC(gamma = 'auto'))\n",
    "\n",
    "param_grid = {'estimator__C': [1, 3, 5, 7]}\n",
    "\n",
    "grid_svc = GridSearchCV(estimator = svc, param_grid = param_grid, \n",
    "                        scoring = 'accuracy', n_jobs = -1, verbose = 0,\n",
    "                       cv = 4)\n",
    "\n",
    "grid_svc.fit(x_res, y_res)\n",
    "\n",
    "y_pred_svc = grid_svc.predict(x_test)\n",
    "\n",
    "print('SVM Accuracy Score: ',accuracy_score(y_test, y_pred_svc), \"\\n\", \"\\n\")\n",
    "\n",
    "print(classification_report(y_test, y_pred_svc))"
   ]
  },
  {
   "cell_type": "markdown",
   "metadata": {},
   "source": [
    "### Random Forrest"
   ]
  },
  {
   "cell_type": "code",
   "execution_count": 36,
   "metadata": {},
   "outputs": [
    {
     "name": "stdout",
     "output_type": "stream",
     "text": [
      "Accuracy Score:  0.9396551724137931 \n",
      " \n",
      "\n",
      "              precision    recall  f1-score   support\n",
      "\n",
      "HashtagGamer       1.00      0.94      0.97        16\n",
      "   LeftTroll       0.96      0.90      0.93        30\n",
      "    NewsFeed       0.92      1.00      0.96        11\n",
      "       Other       0.50      0.67      0.57         3\n",
      "  RightTroll       0.95      0.96      0.96        56\n",
      "\n",
      "   micro avg       0.94      0.94      0.94       116\n",
      "   macro avg       0.87      0.89      0.88       116\n",
      "weighted avg       0.94      0.94      0.94       116\n",
      "\n"
     ]
    }
   ],
   "source": [
    "from sklearn.ensemble import RandomForestClassifier\n",
    "\n",
    "rf = RandomForestClassifier(random_state = 123, n_estimators = 10)\n",
    "\n",
    "\n",
    "params_rf = {'max_depth':[2,3,4,5,6],\n",
    "             'min_samples_leaf': [0.04, 0.06, 0.08],\n",
    "             'max_features': [0.2, 0.4, 0.6, 0.8],\n",
    "             'criterion':['gini', 'entropy']}\n",
    "             \n",
    "grid_rf = GridSearchCV(estimator = rf, param_grid = params_rf, \n",
    "                       scoring = 'accuracy', cv= 10, n_jobs = -1, iid = True)\n",
    "\n",
    "\n",
    "grid_rf.fit(x_res, y_res)\n",
    "\n",
    "y_pred_rf = grid_rf.predict(x_test)\n",
    "\n",
    "print(\"Accuracy Score: \", accuracy_score(y_test, y_pred_rf), \"\\n\", \"\\n\")\n",
    "print(classification_report(y_test, y_pred_rf))"
   ]
  },
  {
   "cell_type": "markdown",
   "metadata": {},
   "source": [
    "### XGboost"
   ]
  },
  {
   "cell_type": "code",
   "execution_count": 37,
   "metadata": {},
   "outputs": [
    {
     "name": "stdout",
     "output_type": "stream",
     "text": [
      "Best Accuracy Score Train CV:  0.9928143712574851\n"
     ]
    }
   ],
   "source": [
    "import xgboost as xgb\n",
    "\n",
    "param_grid = {\n",
    "  'learning_rate': np.arange(0.05, 1.05, .10),\n",
    "  'n_estimators' : [50],\n",
    "  'subsample' : np.arange(0.05, 1.05, .05),\n",
    "  'max_depth': [2,4,6]\n",
    "  }\n",
    "\n",
    "xg_cl = xgb.XGBClassifier(objective = 'multi:softmax')\n",
    "\n",
    "randomized_xg_cl = RandomizedSearchCV(estimator = xg_cl, \n",
    "                                      param_distributions = param_grid,\n",
    "                                      n_iter = 5, \n",
    "                                      cv = 5,\n",
    "                                      scoring = 'accuracy',\n",
    "                                      n_jobs = -1,\n",
    "                                      verbose = 0)\n",
    "\n",
    "randomized_xg_cl.fit(x_res, y_res)\n",
    "\n",
    "print(\"Best Accuracy Score Train CV: \", randomized_xg_cl.best_score_)"
   ]
  },
  {
   "cell_type": "code",
   "execution_count": 38,
   "metadata": {},
   "outputs": [
    {
     "name": "stdout",
     "output_type": "stream",
     "text": [
      "XGBoost Test Accuracy:  0.9310344827586207 \n",
      " \n",
      "\n",
      "              precision    recall  f1-score   support\n",
      "\n",
      "HashtagGamer       1.00      0.94      0.97        16\n",
      "   LeftTroll       0.93      0.93      0.93        30\n",
      "    NewsFeed       0.85      1.00      0.92        11\n",
      "       Other       0.50      0.33      0.40         3\n",
      "  RightTroll       0.95      0.95      0.95        56\n",
      "\n",
      "   micro avg       0.93      0.93      0.93       116\n",
      "   macro avg       0.85      0.83      0.83       116\n",
      "weighted avg       0.93      0.93      0.93       116\n",
      "\n"
     ]
    }
   ],
   "source": [
    "y_pred = randomized_xg_cl.predict(x_test)\n",
    "\n",
    "print('XGBoost Test Accuracy: ', accuracy_score(y_test, y_pred), \"\\n\", \"\\n\")\n",
    "\n",
    "print(classification_report(y_test, y_pred))"
   ]
  }
 ],
 "metadata": {
  "kernelspec": {
   "display_name": "Python 3",
   "language": "python",
   "name": "python3"
  },
  "language_info": {
   "codemirror_mode": {
    "name": "ipython",
    "version": 3
   },
   "file_extension": ".py",
   "mimetype": "text/x-python",
   "name": "python",
   "nbconvert_exporter": "python",
   "pygments_lexer": "ipython3",
   "version": "3.6.8"
  }
 },
 "nbformat": 4,
 "nbformat_minor": 2
}
