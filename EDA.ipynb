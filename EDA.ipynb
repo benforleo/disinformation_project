{
 "cells": [
  {
   "cell_type": "markdown",
   "metadata": {},
   "source": [
    "# Information Warfare\n",
    "## Russia’s use of Twitter during the 2016 US Presidential Election\n",
    "---\n",
    "\n",
    "### Import libraries"
   ]
  },
  {
   "cell_type": "code",
   "execution_count": 25,
   "metadata": {},
   "outputs": [
    {
     "data": {
      "text/html": [
       "        <script type=\"text/javascript\">\n",
       "        window.PlotlyConfig = {MathJaxConfig: 'local'};\n",
       "        if (window.MathJax) {MathJax.Hub.Config({SVG: {font: \"STIX-Web\"}});}\n",
       "        if (typeof require !== 'undefined') {\n",
       "        require.undef(\"plotly\");\n",
       "        requirejs.config({\n",
       "            paths: {\n",
       "                'plotly': ['https://cdn.plot.ly/plotly-latest.min']\n",
       "            }\n",
       "        });\n",
       "        require(['plotly'], function(Plotly) {\n",
       "            window._Plotly = Plotly;\n",
       "        });\n",
       "        }\n",
       "        </script>\n",
       "        "
      ]
     },
     "metadata": {},
     "output_type": "display_data"
    }
   ],
   "source": [
    "import os\n",
    "from collections import Counter\n",
    "\n",
    "import numpy as np\n",
    "import pandas as pd\n",
    "import spacy\n",
    "\n",
    "from plotly import tools\n",
    "import plotly.graph_objs as go\n",
    "from plotly.offline import init_notebook_mode, plot, iplot\n",
    "import plotly.io as pio\n",
    "\n",
    "import plotly.express as px\n",
    "\n",
    "from IPython.display import Image\n",
    "\n",
    "from helpers.io_data import ImportData\n",
    "\n",
    "pd.set_option('display.max_rows', 500)\n",
    "pd.set_option('display.max_columns', None)\n",
    "get_ipython().config.get('IPKernelApp', {})['parent_appname'] = \"\"\n",
    "\n",
    "init_notebook_mode(connected=True)"
   ]
  },
  {
   "cell_type": "markdown",
   "metadata": {},
   "source": [
    "### Import data"
   ]
  },
  {
   "cell_type": "code",
   "execution_count": 2,
   "metadata": {},
   "outputs": [],
   "source": [
    "# All Tweets\n",
    "portfolio_data_bucket = os.getenv(\"PORTFOLIO_DATA_BUCKET\")\n",
    "\n",
    "five_38_data_retrieval = ImportData(\n",
    "    bucket=portfolio_data_bucket,\n",
    "    prefix=\"disinformation-project/raw-data\"\n",
    ")\n",
    "\n",
    "df = five_38_data_retrieval\\\n",
    "        .retrieve_objects()\\\n",
    "        .return_dataframe()\n",
    "\n",
    "# Filter to include only English tweets\n",
    "dfEng = df[df.language == \"English\"]\n",
    "\n",
    "# Filter to include only non-English tweets\n",
    "dfOth = df[df.language != \"English\"]"
   ]
  },
  {
   "cell_type": "markdown",
   "metadata": {},
   "source": [
    "## Inspect data"
   ]
  },
  {
   "cell_type": "markdown",
   "metadata": {},
   "source": [
    "There are two sets of labels the Clemson researchers created: account type and account category. This project focuses on the account category label. \n",
    "\n",
    "**Note:** The labeling method employed by the Clemson researchers allows for accounts that primarily tweet in English to be labeled with a *Non-English* account category. For example, an account that primarily tweets about international events, such as the war in Ukraine, would be labeled as Non-English, even if the text is in English."
   ]
  },
  {
   "cell_type": "code",
   "execution_count": 3,
   "metadata": {},
   "outputs": [
    {
     "data": {
      "text/html": [
       "<div>\n",
       "<style scoped>\n",
       "    .dataframe tbody tr th:only-of-type {\n",
       "        vertical-align: middle;\n",
       "    }\n",
       "\n",
       "    .dataframe tbody tr th {\n",
       "        vertical-align: top;\n",
       "    }\n",
       "\n",
       "    .dataframe thead th {\n",
       "        text-align: right;\n",
       "    }\n",
       "</style>\n",
       "<table border=\"1\" class=\"dataframe\">\n",
       "  <thead>\n",
       "    <tr style=\"text-align: right;\">\n",
       "      <th></th>\n",
       "      <th>external_author_id</th>\n",
       "      <th>author</th>\n",
       "      <th>content</th>\n",
       "      <th>region</th>\n",
       "      <th>language</th>\n",
       "      <th>publish_date</th>\n",
       "      <th>harvested_date</th>\n",
       "      <th>following</th>\n",
       "      <th>followers</th>\n",
       "      <th>updates</th>\n",
       "      <th>post_type</th>\n",
       "      <th>account_type</th>\n",
       "      <th>retweet</th>\n",
       "      <th>account_category</th>\n",
       "      <th>new_june_2018</th>\n",
       "      <th>alt_external_id</th>\n",
       "      <th>tweet_id</th>\n",
       "      <th>article_url</th>\n",
       "      <th>tco1_step1</th>\n",
       "      <th>tco2_step1</th>\n",
       "      <th>tco3_step1</th>\n",
       "    </tr>\n",
       "  </thead>\n",
       "  <tbody>\n",
       "    <tr>\n",
       "      <th>0</th>\n",
       "      <td>906000000000000000</td>\n",
       "      <td>10_GOP</td>\n",
       "      <td>\"We have a sitting Democrat US Senator on tria...</td>\n",
       "      <td>Unknown</td>\n",
       "      <td>English</td>\n",
       "      <td>10/1/2017 19:58</td>\n",
       "      <td>10/1/2017 19:59</td>\n",
       "      <td>1052</td>\n",
       "      <td>9636</td>\n",
       "      <td>253</td>\n",
       "      <td>NaN</td>\n",
       "      <td>Right</td>\n",
       "      <td>0</td>\n",
       "      <td>RightTroll</td>\n",
       "      <td>0</td>\n",
       "      <td>905874659358453760</td>\n",
       "      <td>914580356430536707</td>\n",
       "      <td>http://twitter.com/905874659358453760/statuses...</td>\n",
       "      <td>https://twitter.com/10_gop/status/914580356430...</td>\n",
       "      <td>NaN</td>\n",
       "      <td>NaN</td>\n",
       "    </tr>\n",
       "    <tr>\n",
       "      <th>1</th>\n",
       "      <td>906000000000000000</td>\n",
       "      <td>10_GOP</td>\n",
       "      <td>Marshawn Lynch arrives to game in anti-Trump s...</td>\n",
       "      <td>Unknown</td>\n",
       "      <td>English</td>\n",
       "      <td>10/1/2017 22:43</td>\n",
       "      <td>10/1/2017 22:43</td>\n",
       "      <td>1054</td>\n",
       "      <td>9637</td>\n",
       "      <td>254</td>\n",
       "      <td>NaN</td>\n",
       "      <td>Right</td>\n",
       "      <td>0</td>\n",
       "      <td>RightTroll</td>\n",
       "      <td>0</td>\n",
       "      <td>905874659358453760</td>\n",
       "      <td>914621840496189440</td>\n",
       "      <td>http://twitter.com/905874659358453760/statuses...</td>\n",
       "      <td>https://twitter.com/damienwoody/status/9145685...</td>\n",
       "      <td>NaN</td>\n",
       "      <td>NaN</td>\n",
       "    </tr>\n",
       "    <tr>\n",
       "      <th>2</th>\n",
       "      <td>906000000000000000</td>\n",
       "      <td>10_GOP</td>\n",
       "      <td>Daughter of fallen Navy Sailor delivers powerf...</td>\n",
       "      <td>Unknown</td>\n",
       "      <td>English</td>\n",
       "      <td>10/1/2017 22:50</td>\n",
       "      <td>10/1/2017 22:51</td>\n",
       "      <td>1054</td>\n",
       "      <td>9637</td>\n",
       "      <td>255</td>\n",
       "      <td>RETWEET</td>\n",
       "      <td>Right</td>\n",
       "      <td>1</td>\n",
       "      <td>RightTroll</td>\n",
       "      <td>0</td>\n",
       "      <td>905874659358453760</td>\n",
       "      <td>914623490375979008</td>\n",
       "      <td>http://twitter.com/905874659358453760/statuses...</td>\n",
       "      <td>https://twitter.com/10_gop/status/913231923715...</td>\n",
       "      <td>NaN</td>\n",
       "      <td>NaN</td>\n",
       "    </tr>\n",
       "    <tr>\n",
       "      <th>3</th>\n",
       "      <td>906000000000000000</td>\n",
       "      <td>10_GOP</td>\n",
       "      <td>JUST IN: President Trump dedicates Presidents ...</td>\n",
       "      <td>Unknown</td>\n",
       "      <td>English</td>\n",
       "      <td>10/1/2017 23:52</td>\n",
       "      <td>10/1/2017 23:52</td>\n",
       "      <td>1062</td>\n",
       "      <td>9642</td>\n",
       "      <td>256</td>\n",
       "      <td>NaN</td>\n",
       "      <td>Right</td>\n",
       "      <td>0</td>\n",
       "      <td>RightTroll</td>\n",
       "      <td>0</td>\n",
       "      <td>905874659358453760</td>\n",
       "      <td>914639143690555392</td>\n",
       "      <td>http://twitter.com/905874659358453760/statuses...</td>\n",
       "      <td>https://twitter.com/10_gop/status/914639143690...</td>\n",
       "      <td>NaN</td>\n",
       "      <td>NaN</td>\n",
       "    </tr>\n",
       "    <tr>\n",
       "      <th>4</th>\n",
       "      <td>906000000000000000</td>\n",
       "      <td>10_GOP</td>\n",
       "      <td>19,000 RESPECTING our National Anthem! #StandF...</td>\n",
       "      <td>Unknown</td>\n",
       "      <td>English</td>\n",
       "      <td>10/1/2017 2:13</td>\n",
       "      <td>10/1/2017 2:13</td>\n",
       "      <td>1050</td>\n",
       "      <td>9645</td>\n",
       "      <td>246</td>\n",
       "      <td>RETWEET</td>\n",
       "      <td>Right</td>\n",
       "      <td>1</td>\n",
       "      <td>RightTroll</td>\n",
       "      <td>0</td>\n",
       "      <td>905874659358453760</td>\n",
       "      <td>914312219952861184</td>\n",
       "      <td>http://twitter.com/905874659358453760/statuses...</td>\n",
       "      <td>https://twitter.com/realDonaldTrump/status/914...</td>\n",
       "      <td>NaN</td>\n",
       "      <td>NaN</td>\n",
       "    </tr>\n",
       "  </tbody>\n",
       "</table>\n",
       "</div>"
      ],
      "text/plain": [
       "   external_author_id  author  \\\n",
       "0  906000000000000000  10_GOP   \n",
       "1  906000000000000000  10_GOP   \n",
       "2  906000000000000000  10_GOP   \n",
       "3  906000000000000000  10_GOP   \n",
       "4  906000000000000000  10_GOP   \n",
       "\n",
       "                                             content   region language  \\\n",
       "0  \"We have a sitting Democrat US Senator on tria...  Unknown  English   \n",
       "1  Marshawn Lynch arrives to game in anti-Trump s...  Unknown  English   \n",
       "2  Daughter of fallen Navy Sailor delivers powerf...  Unknown  English   \n",
       "3  JUST IN: President Trump dedicates Presidents ...  Unknown  English   \n",
       "4  19,000 RESPECTING our National Anthem! #StandF...  Unknown  English   \n",
       "\n",
       "      publish_date   harvested_date  following  followers  updates post_type  \\\n",
       "0  10/1/2017 19:58  10/1/2017 19:59       1052       9636      253       NaN   \n",
       "1  10/1/2017 22:43  10/1/2017 22:43       1054       9637      254       NaN   \n",
       "2  10/1/2017 22:50  10/1/2017 22:51       1054       9637      255   RETWEET   \n",
       "3  10/1/2017 23:52  10/1/2017 23:52       1062       9642      256       NaN   \n",
       "4   10/1/2017 2:13   10/1/2017 2:13       1050       9645      246   RETWEET   \n",
       "\n",
       "  account_type  retweet account_category  new_june_2018     alt_external_id  \\\n",
       "0        Right        0       RightTroll              0  905874659358453760   \n",
       "1        Right        0       RightTroll              0  905874659358453760   \n",
       "2        Right        1       RightTroll              0  905874659358453760   \n",
       "3        Right        0       RightTroll              0  905874659358453760   \n",
       "4        Right        1       RightTroll              0  905874659358453760   \n",
       "\n",
       "             tweet_id                                        article_url  \\\n",
       "0  914580356430536707  http://twitter.com/905874659358453760/statuses...   \n",
       "1  914621840496189440  http://twitter.com/905874659358453760/statuses...   \n",
       "2  914623490375979008  http://twitter.com/905874659358453760/statuses...   \n",
       "3  914639143690555392  http://twitter.com/905874659358453760/statuses...   \n",
       "4  914312219952861184  http://twitter.com/905874659358453760/statuses...   \n",
       "\n",
       "                                          tco1_step1 tco2_step1 tco3_step1  \n",
       "0  https://twitter.com/10_gop/status/914580356430...        NaN        NaN  \n",
       "1  https://twitter.com/damienwoody/status/9145685...        NaN        NaN  \n",
       "2  https://twitter.com/10_gop/status/913231923715...        NaN        NaN  \n",
       "3  https://twitter.com/10_gop/status/914639143690...        NaN        NaN  \n",
       "4  https://twitter.com/realDonaldTrump/status/914...        NaN        NaN  "
      ]
     },
     "execution_count": 3,
     "metadata": {},
     "output_type": "execute_result"
    }
   ],
   "source": [
    "df.head()"
   ]
  },
  {
   "cell_type": "code",
   "execution_count": 4,
   "metadata": {},
   "outputs": [
    {
     "name": "stdout",
     "output_type": "stream",
     "text": [
      "<class 'pandas.core.frame.DataFrame'>\n",
      "Int64Index: 2946207 entries, 0 to 233539\n",
      "Data columns (total 21 columns):\n",
      " #   Column              Non-Null Count    Dtype \n",
      "---  ------              --------------    ----- \n",
      " 0   external_author_id  2946207 non-null  object\n",
      " 1   author              2946207 non-null  object\n",
      " 2   content             2946206 non-null  object\n",
      " 3   region              2937389 non-null  object\n",
      " 4   language            2946207 non-null  object\n",
      " 5   publish_date        2946207 non-null  object\n",
      " 6   harvested_date      2946207 non-null  object\n",
      " 7   following           2946207 non-null  int64 \n",
      " 8   followers           2946207 non-null  int64 \n",
      " 9   updates             2946207 non-null  int64 \n",
      " 10  post_type           1297582 non-null  object\n",
      " 11  account_type        2946207 non-null  object\n",
      " 12  retweet             2946207 non-null  int64 \n",
      " 13  account_category    2946207 non-null  object\n",
      " 14  new_june_2018       2946207 non-null  int64 \n",
      " 15  alt_external_id     2946207 non-null  object\n",
      " 16  tweet_id            2946207 non-null  int64 \n",
      " 17  article_url         2946207 non-null  object\n",
      " 18  tco1_step1          2100236 non-null  object\n",
      " 19  tco2_step1          711117 non-null   object\n",
      " 20  tco3_step1          15000 non-null    object\n",
      "dtypes: int64(6), object(15)\n",
      "memory usage: 494.5+ MB\n"
     ]
    }
   ],
   "source": [
    "df.info(show_counts=True)"
   ]
  },
  {
   "cell_type": "markdown",
   "metadata": {},
   "source": [
    "---\n",
    "**All tweets:** Observations, Unique Authors, Account Types, and Account categories"
   ]
  },
  {
   "cell_type": "code",
   "execution_count": 5,
   "metadata": {},
   "outputs": [
    {
     "name": "stdout",
     "output_type": "stream",
     "text": [
      "Full Data Set: \n",
      " 2,946,207 observations \n",
      "\n",
      "Unique authors: 2,843\n",
      "\n",
      "Account types: ['Right' 'Russian' 'Koch' 'Italian' 'Left' '?' 'German' 'Spanish'\n",
      " 'Hashtager' 'Arabic' 'local' 'Commercial' 'French' 'Ukranian' 'news'\n",
      " 'Ebola ' 'Portuguese' 'ZAPOROSHIA' 'Uzbek']\n",
      "\n",
      "Account categories: ['RightTroll' 'NonEnglish' 'Fearmonger' 'LeftTroll' 'Unknown'\n",
      " 'HashtagGamer' 'NewsFeed' 'Commercial']\n"
     ]
    }
   ],
   "source": [
    "summary = (\n",
    "    f\"Full Data Set: \\n {df.shape[0]:,} observations \\n\\n\"\n",
    "    f\"Unique authors: {df.author.nunique():,}\\n\\n\"\n",
    "    f\"Account types: {df.account_type.unique()}\\n\\n\"\n",
    "    f\"Account categories: {df.account_category.unique()}\"\n",
    ")\n",
    "\n",
    "print(summary)"
   ]
  },
  {
   "cell_type": "markdown",
   "metadata": {},
   "source": [
    "---\n",
    "**English tweets:** Observations, Unique Authors, Account Types, and Account categories"
   ]
  },
  {
   "cell_type": "code",
   "execution_count": 6,
   "metadata": {},
   "outputs": [
    {
     "name": "stdout",
     "output_type": "stream",
     "text": [
      "Full Data Set: \n",
      " 2,116,867 observations \n",
      "\n",
      "Unique authors: 2,161\n",
      "\n",
      "Account types: ['Right' 'Koch' 'Italian' 'Russian' 'Left' '?' 'German' 'Hashtager'\n",
      " 'Arabic' 'local' 'Commercial' 'French' 'news' 'Ebola ' 'Portuguese'\n",
      " 'ZAPOROSHIA' 'Spanish']\n",
      "\n",
      "Account categories: ['RightTroll' 'Fearmonger' 'NonEnglish' 'LeftTroll' 'Unknown'\n",
      " 'HashtagGamer' 'NewsFeed' 'Commercial']\n"
     ]
    }
   ],
   "source": [
    "summary = (\n",
    "    f\"Full Data Set: \\n {dfEng.shape[0]:,} observations \\n\\n\"\n",
    "    f\"Unique authors: {dfEng.author.nunique():,}\\n\\n\"\n",
    "    f\"Account types: {dfEng.account_type.unique()}\\n\\n\"\n",
    "    f\"Account categories: {dfEng.account_category.unique()}\"\n",
    ")\n",
    "print(summary)"
   ]
  },
  {
   "cell_type": "markdown",
   "metadata": {},
   "source": [
    "---\n",
    "**Non-English tweets:** Observations, Unique Authors, Account Types, and Account categories"
   ]
  },
  {
   "cell_type": "code",
   "execution_count": 7,
   "metadata": {},
   "outputs": [
    {
     "name": "stdout",
     "output_type": "stream",
     "text": [
      "Full Data Set: \n",
      " 829,340 observations \n",
      "\n",
      "Unique authors: 2,360\n",
      "\n",
      "Account types: ['Russian' 'Koch' 'Italian' 'Right' 'Left' '?' 'German' 'Spanish'\n",
      " 'Hashtager' 'Arabic' 'local' 'Commercial' 'French' 'Ukranian' 'news'\n",
      " 'Portuguese' 'ZAPOROSHIA' 'Uzbek' 'Ebola ']\n",
      "\n",
      "Account categories: ['NonEnglish' 'Fearmonger' 'RightTroll' 'LeftTroll' 'Unknown'\n",
      " 'HashtagGamer' 'NewsFeed' 'Commercial']\n"
     ]
    }
   ],
   "source": [
    "summary = (\n",
    "    f\"Full Data Set: \\n {dfOth.shape[0]:,} observations \\n\\n\"\n",
    "    f\"Unique authors: {dfOth.author.nunique():,}\\n\\n\"\n",
    "    f\"Account types: {dfOth.account_type.unique()}\\n\\n\"\n",
    "    f\"Account categories: {dfOth.account_category.unique()}\"\n",
    ")\n",
    "print(summary)"
   ]
  },
  {
   "cell_type": "markdown",
   "metadata": {},
   "source": [
    "---\n",
    "Additional exploration of non-english dataset"
   ]
  },
  {
   "cell_type": "code",
   "execution_count": 51,
   "metadata": {},
   "outputs": [
    {
     "name": "stdout",
     "output_type": "stream",
     "text": [
      "Non-english: Counts per Account Category \n",
      "\n",
      "Counter({'NonEnglish': 794241, 'Commercial': 9324, 'RightTroll': 6715, 'Unknown': 6594, 'HashtagGamer': 5694, 'LeftTroll': 5000, 'NewsFeed': 1633, 'Fearmonger': 139})\n",
      "\n",
      "Unique Languages: 55\n",
      "\n",
      "Median # of languages per account:5.0\n",
      "\n",
      "Accounts with english and non-english tweets: 1,678\n"
     ]
    }
   ],
   "source": [
    "summary = (\n",
    "    f\"Non-english: Counts per Account Category \\n\\n{Counter(dfOth.account_category)}\\n\\n\"\n",
    "    f\"Unique Languages: {dfOth.language.nunique():,}\\n\\n\"\n",
    "    f\"Median # of languages per account:{dfOth.groupby('author')['language'].nunique().median()}\\n\\n\"\n",
    "    f\"Accounts with english and non-english tweets:\"\n",
    "    f\" {pd.Series(dfOth.author.unique()).isin(dfEng.author.unique()).sum():,}\"\n",
    ")\n",
    "\n",
    "print(summary)"
   ]
  },
  {
   "cell_type": "markdown",
   "metadata": {},
   "source": [
    "## Number of Tweets by Account Category (All Tweets)\n",
    "\n",
    "\n",
    "Remember, a Non-English account category indicates that the account primarily tweets about issues affecting countries other than the United States"
   ]
  },
  {
   "cell_type": "code",
   "execution_count": 42,
   "metadata": {},
   "outputs": [],
   "source": [
    "df['english_language'] = df.language.apply(lambda x: 'Non-English' if x != 'English' else x)\n",
    "\n",
    "tweets_by_account = df.groupby(['account_category', 'english_language'])[['tweet_id']].count()\\\n",
    "    .reset_index()\\\n",
    "    .rename({'tweet_id': 'tweet_count'}, axis='columns')"
   ]
  },
  {
   "cell_type": "code",
   "execution_count": 49,
   "metadata": {},
   "outputs": [
    {
     "data": {
      "image/png": "[encoded data removed]",
      "text/plain": [
       "<IPython.core.display.Image object>"
      ]
     },
     "execution_count": 49,
     "metadata": {},
     "output_type": "execute_result"
    }
   ],
   "source": [
    "fig = px.bar(tweets_by_account, \n",
    "             x='account_category', \n",
    "             y='tweet_count',\n",
    "             color='english_language',\n",
    "             opacity=.7,\n",
    "             title='Number of Tweets by Account Category',\n",
    "             labels={'tweet_count': 'Tweets', 'account_category': 'Account Category', 'english_language': 'Language'},\n",
    "             color_discrete_map={'English': 'rgb(23,62,90)', 'Non-English': 'rgb(175, 88, 141)'}\n",
    "            )\n",
    "fig.update_layout(xaxis={'categoryorder':'total descending'}, title_x=0.5)\n",
    "\n",
    "img_bytes = pio.to_image(fig, format='png')\n",
    "Image(img_bytes)"
   ]
  },
  {
   "cell_type": "markdown",
   "metadata": {},
   "source": [
    "Given this information, it seems like we could narrow our focus to English language RightTroll, Newsfeed, LeftTroll, and HashtagGamer accounts.\n",
    "\n",
    "---"
   ]
  },
  {
   "cell_type": "markdown",
   "metadata": {},
   "source": [
    "to do: how many accounts have more than 400 tweets?"
   ]
  }
 ],
 "metadata": {
  "kernelspec": {
   "display_name": "Python 3",
   "language": "python",
   "name": "python3"
  },
  "language_info": {
   "codemirror_mode": {
    "name": "ipython",
    "version": 3
   },
   "file_extension": ".py",
   "mimetype": "text/x-python",
   "name": "python",
   "nbconvert_exporter": "python",
   "pygments_lexer": "ipython3",
   "version": "3.8.8"
  }
 },
 "nbformat": 4,
 "nbformat_minor": 2
}
