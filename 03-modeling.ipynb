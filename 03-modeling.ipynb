{
 "cells": [
  {
   "cell_type": "markdown",
   "id": "military-school",
   "metadata": {},
   "source": [
    "# Information Warfare\n",
    "## Russia’s use of Twitter during the 2016 US Presidential Election\n",
    "---"
   ]
  },
  {
   "cell_type": "code",
   "execution_count": 1,
   "id": "saving-italy",
   "metadata": {},
   "outputs": [],
   "source": [
    "import pickle\n",
    "import numpy as np\n",
    "import pandas as pd\n",
    "\n",
    "from sklearn.manifold import TSNE\n",
    "\n",
    "from sklearn.model_selection import train_test_split, GridSearchCV\n",
    "from sklearn.linear_model import LogisticRegression\n",
    "from sklearn.multiclass import OneVsRestClassifier\n",
    "from sklearn.metrics import accuracy_score, classification_report\n",
    "\n",
    "from imblearn.over_sampling import RandomOverSampler, SMOTE\n",
    "\n",
    "import plotly.io as pio\n",
    "import plotly.express as px\n",
    "\n",
    "from IPython.display import Image"
   ]
  },
  {
   "cell_type": "markdown",
   "id": "offshore-intention",
   "metadata": {},
   "source": [
    "## Import Data"
   ]
  },
  {
   "cell_type": "code",
   "execution_count": 2,
   "id": "broadband-fields",
   "metadata": {},
   "outputs": [
    {
     "data": {
      "text/html": [
       "<div>\n",
       "<style scoped>\n",
       "    .dataframe tbody tr th:only-of-type {\n",
       "        vertical-align: middle;\n",
       "    }\n",
       "\n",
       "    .dataframe tbody tr th {\n",
       "        vertical-align: top;\n",
       "    }\n",
       "\n",
       "    .dataframe thead th {\n",
       "        text-align: right;\n",
       "    }\n",
       "</style>\n",
       "<table border=\"1\" class=\"dataframe\">\n",
       "  <thead>\n",
       "    <tr style=\"text-align: right;\">\n",
       "      <th></th>\n",
       "      <th>author</th>\n",
       "      <th>account_category</th>\n",
       "      <th>0</th>\n",
       "      <th>1</th>\n",
       "      <th>2</th>\n",
       "      <th>3</th>\n",
       "      <th>4</th>\n",
       "      <th>5</th>\n",
       "      <th>6</th>\n",
       "      <th>7</th>\n",
       "      <th>...</th>\n",
       "      <th>290</th>\n",
       "      <th>291</th>\n",
       "      <th>292</th>\n",
       "      <th>293</th>\n",
       "      <th>294</th>\n",
       "      <th>295</th>\n",
       "      <th>296</th>\n",
       "      <th>297</th>\n",
       "      <th>298</th>\n",
       "      <th>299</th>\n",
       "    </tr>\n",
       "  </thead>\n",
       "  <tbody>\n",
       "    <tr>\n",
       "      <th>0</th>\n",
       "      <td>10_GOP</td>\n",
       "      <td>RightTroll</td>\n",
       "      <td>-0.031191</td>\n",
       "      <td>0.072164</td>\n",
       "      <td>0.002935</td>\n",
       "      <td>0.176047</td>\n",
       "      <td>-0.024991</td>\n",
       "      <td>-0.028112</td>\n",
       "      <td>-0.385420</td>\n",
       "      <td>-0.100027</td>\n",
       "      <td>...</td>\n",
       "      <td>0.597388</td>\n",
       "      <td>0.265694</td>\n",
       "      <td>0.522910</td>\n",
       "      <td>0.169615</td>\n",
       "      <td>0.527276</td>\n",
       "      <td>0.239573</td>\n",
       "      <td>-0.165664</td>\n",
       "      <td>-0.148989</td>\n",
       "      <td>-0.462181</td>\n",
       "      <td>-0.122737</td>\n",
       "    </tr>\n",
       "    <tr>\n",
       "      <th>1</th>\n",
       "      <td>4MYSQUAD</td>\n",
       "      <td>LeftTroll</td>\n",
       "      <td>-1.899873</td>\n",
       "      <td>-0.664060</td>\n",
       "      <td>-0.215870</td>\n",
       "      <td>-0.597210</td>\n",
       "      <td>0.074473</td>\n",
       "      <td>1.152682</td>\n",
       "      <td>-1.000418</td>\n",
       "      <td>0.191990</td>\n",
       "      <td>...</td>\n",
       "      <td>0.308547</td>\n",
       "      <td>0.008474</td>\n",
       "      <td>-0.090997</td>\n",
       "      <td>-1.742840</td>\n",
       "      <td>-0.121621</td>\n",
       "      <td>-0.478339</td>\n",
       "      <td>-0.019910</td>\n",
       "      <td>-0.860714</td>\n",
       "      <td>-1.089115</td>\n",
       "      <td>-0.436681</td>\n",
       "    </tr>\n",
       "    <tr>\n",
       "      <th>2</th>\n",
       "      <td>AANTIRACIST</td>\n",
       "      <td>LeftTroll</td>\n",
       "      <td>-0.191448</td>\n",
       "      <td>-0.309544</td>\n",
       "      <td>-0.158824</td>\n",
       "      <td>0.081305</td>\n",
       "      <td>-0.258105</td>\n",
       "      <td>0.595419</td>\n",
       "      <td>-0.810485</td>\n",
       "      <td>-0.153275</td>\n",
       "      <td>...</td>\n",
       "      <td>0.546358</td>\n",
       "      <td>-0.080009</td>\n",
       "      <td>0.459926</td>\n",
       "      <td>-0.328973</td>\n",
       "      <td>0.118801</td>\n",
       "      <td>-0.017565</td>\n",
       "      <td>-0.404157</td>\n",
       "      <td>-0.850216</td>\n",
       "      <td>-1.134679</td>\n",
       "      <td>-0.285619</td>\n",
       "    </tr>\n",
       "    <tr>\n",
       "      <th>3</th>\n",
       "      <td>ABIGAILSSILK</td>\n",
       "      <td>HashtagGamer</td>\n",
       "      <td>-0.476657</td>\n",
       "      <td>-0.871102</td>\n",
       "      <td>0.758561</td>\n",
       "      <td>-0.592526</td>\n",
       "      <td>-0.083075</td>\n",
       "      <td>-0.065238</td>\n",
       "      <td>0.236095</td>\n",
       "      <td>0.929137</td>\n",
       "      <td>...</td>\n",
       "      <td>-0.602666</td>\n",
       "      <td>-0.004763</td>\n",
       "      <td>0.515386</td>\n",
       "      <td>-1.170064</td>\n",
       "      <td>0.329660</td>\n",
       "      <td>1.042544</td>\n",
       "      <td>-0.831178</td>\n",
       "      <td>-0.124889</td>\n",
       "      <td>0.124674</td>\n",
       "      <td>-0.888706</td>\n",
       "    </tr>\n",
       "    <tr>\n",
       "      <th>4</th>\n",
       "      <td>ABIISSROSB</td>\n",
       "      <td>RightTroll</td>\n",
       "      <td>-0.301149</td>\n",
       "      <td>-0.627965</td>\n",
       "      <td>0.240993</td>\n",
       "      <td>0.127255</td>\n",
       "      <td>0.357296</td>\n",
       "      <td>-0.519391</td>\n",
       "      <td>-1.024643</td>\n",
       "      <td>-0.335651</td>\n",
       "      <td>...</td>\n",
       "      <td>0.901796</td>\n",
       "      <td>0.561848</td>\n",
       "      <td>1.116904</td>\n",
       "      <td>0.144136</td>\n",
       "      <td>0.893491</td>\n",
       "      <td>0.389437</td>\n",
       "      <td>0.020548</td>\n",
       "      <td>-0.305099</td>\n",
       "      <td>-0.299356</td>\n",
       "      <td>-0.400765</td>\n",
       "    </tr>\n",
       "  </tbody>\n",
       "</table>\n",
       "<p>5 rows × 302 columns</p>\n",
       "</div>"
      ],
      "text/plain": [
       "         author account_category         0         1         2         3  \\\n",
       "0        10_GOP       RightTroll -0.031191  0.072164  0.002935  0.176047   \n",
       "1      4MYSQUAD        LeftTroll -1.899873 -0.664060 -0.215870 -0.597210   \n",
       "2   AANTIRACIST        LeftTroll -0.191448 -0.309544 -0.158824  0.081305   \n",
       "3  ABIGAILSSILK     HashtagGamer -0.476657 -0.871102  0.758561 -0.592526   \n",
       "4    ABIISSROSB       RightTroll -0.301149 -0.627965  0.240993  0.127255   \n",
       "\n",
       "          4         5         6         7  ...       290       291       292  \\\n",
       "0 -0.024991 -0.028112 -0.385420 -0.100027  ...  0.597388  0.265694  0.522910   \n",
       "1  0.074473  1.152682 -1.000418  0.191990  ...  0.308547  0.008474 -0.090997   \n",
       "2 -0.258105  0.595419 -0.810485 -0.153275  ...  0.546358 -0.080009  0.459926   \n",
       "3 -0.083075 -0.065238  0.236095  0.929137  ... -0.602666 -0.004763  0.515386   \n",
       "4  0.357296 -0.519391 -1.024643 -0.335651  ...  0.901796  0.561848  1.116904   \n",
       "\n",
       "        293       294       295       296       297       298       299  \n",
       "0  0.169615  0.527276  0.239573 -0.165664 -0.148989 -0.462181 -0.122737  \n",
       "1 -1.742840 -0.121621 -0.478339 -0.019910 -0.860714 -1.089115 -0.436681  \n",
       "2 -0.328973  0.118801 -0.017565 -0.404157 -0.850216 -1.134679 -0.285619  \n",
       "3 -1.170064  0.329660  1.042544 -0.831178 -0.124889  0.124674 -0.888706  \n",
       "4  0.144136  0.893491  0.389437  0.020548 -0.305099 -0.299356 -0.400765  \n",
       "\n",
       "[5 rows x 302 columns]"
      ]
     },
     "execution_count": 2,
     "metadata": {},
     "output_type": "execute_result"
    }
   ],
   "source": [
    "embeddings_dataframe = pd.read_csv(\"./data/tweet-embeddings.csv\")\n",
    "\n",
    "embeddings_matrix = embeddings_dataframe.iloc[:, 2:].values\n",
    "\n",
    "embeddings_dataframe.head()"
   ]
  },
  {
   "cell_type": "markdown",
   "id": "neither-former",
   "metadata": {},
   "source": [
    "## Dimension Reduction (t-SNE) and Visualization"
   ]
  },
  {
   "cell_type": "code",
   "execution_count": 3,
   "id": "forbidden-shooting",
   "metadata": {},
   "outputs": [],
   "source": [
    "tsne_35 = TSNE(n_components=2, perplexity=35, verbose=0 , n_iter = 1000)\\\n",
    "                .fit_transform(embeddings_matrix)"
   ]
  },
  {
   "cell_type": "code",
   "execution_count": 4,
   "id": "seventh-attack",
   "metadata": {},
   "outputs": [
    {
     "data": {
      "image/png": "[encoded data removed]",
      "text/plain": [
       "<IPython.core.display.Image object>"
      ]
     },
     "execution_count": 4,
     "metadata": {},
     "output_type": "execute_result"
    }
   ],
   "source": [
    "color_mapping = {'LeftTroll':'#003f5c', 'RightTroll': '#ef5675', 'HashtagGamer': '#7a5195', 'Newsfeed': '#ffa600'}\n",
    "\n",
    "fig = px.scatter(x=tsne_35[:,0], \n",
    "                 y=tsne_35[:,1], \n",
    "                 color=embeddings_dataframe.account_category,\n",
    "                 color_discrete_map=color_mapping,\n",
    "                 title=\"t-SNE Representation of Document Embeddings\")\n",
    "\n",
    "fig.update_layout(yaxis={'title':None}, \n",
    "                  xaxis={'title':None}, \n",
    "                  legend_title_text=None,\n",
    "                  legend={'font':{'size':16}, 'itemsizing':'constant'},\n",
    "                  title={'font':{'size':25}})\n",
    "\n",
    "#write to disk \n",
    "fig.write_image(\"./img/tsne-docvecs.png\")\n",
    "\n",
    "# generate static plot\n",
    "img_bytes = pio.to_image(fig, format='png')\n",
    "Image(img_bytes)"
   ]
  },
  {
   "cell_type": "markdown",
   "id": "behind-minister",
   "metadata": {},
   "source": [
    "# Logistic Regression"
   ]
  },
  {
   "cell_type": "code",
   "execution_count": 5,
   "id": "amber-physiology",
   "metadata": {},
   "outputs": [],
   "source": [
    "X_train, X_test, y_train, y_test = train_test_split(embeddings_dataframe.iloc[:,2:], \n",
    "                                                    embeddings_dataframe.account_category,\n",
    "                                                    stratify=embeddings_dataframe.account_category,\n",
    "                                                    test_size=0.5)"
   ]
  },
  {
   "cell_type": "code",
   "execution_count": 6,
   "id": "animated-ballot",
   "metadata": {},
   "outputs": [],
   "source": [
    "#embeddings_dataframe.account_category.value_counts()"
   ]
  },
  {
   "cell_type": "code",
   "execution_count": 7,
   "id": "partial-short",
   "metadata": {},
   "outputs": [
    {
     "name": "stdout",
     "output_type": "stream",
     "text": [
      "Fitting 5 folds for each of 5 candidates, totalling 25 fits\n",
      "best score 0.992 \n",
      "\n",
      " best_params {'estimator__C': 0.30000000000000004}\n"
     ]
    }
   ],
   "source": [
    "#grid_logreg.get_params().keys()\n",
    "\n",
    "logreg = OneVsRestClassifier(LogisticRegression(solver = 'liblinear'))\n",
    "\n",
    "params_logreg = {'estimator__C': np.arange(.1, 1, .2)}\n",
    "\n",
    "grid_logreg = GridSearchCV(estimator=logreg,\n",
    "                          param_grid=params_logreg,\n",
    "                          scoring='accuracy',\n",
    "                          cv=5,\n",
    "                          verbose=1,\n",
    "                          n_jobs=-1)\n",
    "\n",
    "grid_logreg.fit(X_train, y_train)\n",
    "\n",
    "print(\"best score\", grid_logreg.best_score_, \"\\n\\n\", \"best_params\", grid_logreg.best_params_)"
   ]
  },
  {
   "cell_type": "code",
   "execution_count": 8,
   "id": "olympic-demand",
   "metadata": {},
   "outputs": [
    {
     "name": "stdout",
     "output_type": "stream",
     "text": [
      "Accuracy Score:  0.9598393574297188 \n",
      " \n",
      "\n",
      "              precision    recall  f1-score   support\n",
      "\n",
      "HashtagGamer       1.00      0.97      0.99        35\n",
      "   LeftTroll       0.98      0.89      0.93        63\n",
      "    NewsFeed       1.00      0.96      0.98        23\n",
      "  RightTroll       0.93      0.99      0.96       128\n",
      "\n",
      "    accuracy                           0.96       249\n",
      "   macro avg       0.98      0.95      0.96       249\n",
      "weighted avg       0.96      0.96      0.96       249\n",
      "\n"
     ]
    }
   ],
   "source": [
    "best_model = grid_logreg.best_estimator_\n",
    "\n",
    "y_pred = best_model.predict(X_test)\n",
    "\n",
    "print(\"Accuracy Score: \",accuracy_score(y_test, y_pred), \"\\n\", \"\\n\")\n",
    "print(classification_report(y_test, y_pred))"
   ]
  },
  {
   "cell_type": "code",
   "execution_count": 9,
   "id": "front-sending",
   "metadata": {},
   "outputs": [],
   "source": [
    "with open(\"./models/logreg.pkl\", 'wb') as file:\n",
    "    pickle.dump(best_model, file)"
   ]
  }
 ],
 "metadata": {
  "kernelspec": {
   "display_name": "Python 3",
   "language": "python",
   "name": "python3"
  },
  "language_info": {
   "codemirror_mode": {
    "name": "ipython",
    "version": 3
   },
   "file_extension": ".py",
   "mimetype": "text/x-python",
   "name": "python",
   "nbconvert_exporter": "python",
   "pygments_lexer": "ipython3",
   "version": "3.8.8"
  }
 },
 "nbformat": 4,
 "nbformat_minor": 5
}
