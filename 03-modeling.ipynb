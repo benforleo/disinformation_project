{
 "cells": [
  {
   "cell_type": "markdown",
   "id": "military-school",
   "metadata": {},
   "source": [
    "# Information Warfare\n",
    "## Russia’s use of Twitter during the 2016 US Presidential Election\n",
    "---"
   ]
  },
  {
   "cell_type": "code",
   "execution_count": 46,
   "id": "saving-italy",
   "metadata": {},
   "outputs": [],
   "source": [
    "import numpy as np\n",
    "import pandas as pd\n",
    "\n",
    "from sklearn.manifold import TSNE\n",
    "\n",
    "from sklearn.model_selection import train_test_split\n",
    "from sklearn.linear_model import LogisticRegression\n",
    "from sklearn.multiclass import OneVsRestClassifier\n",
    "from sklearn.metrics import accuracy_score, classification_report\n",
    "\n",
    "import plotly.io as pio\n",
    "import plotly.express as px\n",
    "\n",
    "from IPython.display import Image"
   ]
  },
  {
   "cell_type": "markdown",
   "id": "offshore-intention",
   "metadata": {},
   "source": [
    "## Import Data"
   ]
  },
  {
   "cell_type": "code",
   "execution_count": 2,
   "id": "broadband-fields",
   "metadata": {},
   "outputs": [
    {
     "data": {
      "text/html": [
       "<div>\n",
       "<style scoped>\n",
       "    .dataframe tbody tr th:only-of-type {\n",
       "        vertical-align: middle;\n",
       "    }\n",
       "\n",
       "    .dataframe tbody tr th {\n",
       "        vertical-align: top;\n",
       "    }\n",
       "\n",
       "    .dataframe thead th {\n",
       "        text-align: right;\n",
       "    }\n",
       "</style>\n",
       "<table border=\"1\" class=\"dataframe\">\n",
       "  <thead>\n",
       "    <tr style=\"text-align: right;\">\n",
       "      <th></th>\n",
       "      <th>author</th>\n",
       "      <th>account_category</th>\n",
       "      <th>0</th>\n",
       "      <th>1</th>\n",
       "      <th>2</th>\n",
       "      <th>3</th>\n",
       "      <th>4</th>\n",
       "      <th>5</th>\n",
       "      <th>6</th>\n",
       "      <th>7</th>\n",
       "      <th>...</th>\n",
       "      <th>290</th>\n",
       "      <th>291</th>\n",
       "      <th>292</th>\n",
       "      <th>293</th>\n",
       "      <th>294</th>\n",
       "      <th>295</th>\n",
       "      <th>296</th>\n",
       "      <th>297</th>\n",
       "      <th>298</th>\n",
       "      <th>299</th>\n",
       "    </tr>\n",
       "  </thead>\n",
       "  <tbody>\n",
       "    <tr>\n",
       "      <th>0</th>\n",
       "      <td>4MYSQUAD</td>\n",
       "      <td>LeftTroll</td>\n",
       "      <td>0.300563</td>\n",
       "      <td>-0.161981</td>\n",
       "      <td>0.324077</td>\n",
       "      <td>-0.184767</td>\n",
       "      <td>-0.401428</td>\n",
       "      <td>0.023190</td>\n",
       "      <td>-1.024363</td>\n",
       "      <td>-0.539152</td>\n",
       "      <td>...</td>\n",
       "      <td>-1.114124</td>\n",
       "      <td>-0.170226</td>\n",
       "      <td>-0.404546</td>\n",
       "      <td>-0.268519</td>\n",
       "      <td>-0.118784</td>\n",
       "      <td>-0.606631</td>\n",
       "      <td>0.989648</td>\n",
       "      <td>-0.660811</td>\n",
       "      <td>1.125824</td>\n",
       "      <td>1.370626</td>\n",
       "    </tr>\n",
       "    <tr>\n",
       "      <th>1</th>\n",
       "      <td>AANTIRACIST</td>\n",
       "      <td>LeftTroll</td>\n",
       "      <td>0.451109</td>\n",
       "      <td>-0.020116</td>\n",
       "      <td>0.192492</td>\n",
       "      <td>0.028853</td>\n",
       "      <td>-0.021786</td>\n",
       "      <td>0.192751</td>\n",
       "      <td>-0.503659</td>\n",
       "      <td>0.378062</td>\n",
       "      <td>...</td>\n",
       "      <td>-0.106547</td>\n",
       "      <td>0.070519</td>\n",
       "      <td>0.627671</td>\n",
       "      <td>-0.515366</td>\n",
       "      <td>0.283998</td>\n",
       "      <td>0.203148</td>\n",
       "      <td>0.210351</td>\n",
       "      <td>-0.418066</td>\n",
       "      <td>1.081024</td>\n",
       "      <td>0.693167</td>\n",
       "    </tr>\n",
       "    <tr>\n",
       "      <th>2</th>\n",
       "      <td>ABIGAILSSILK</td>\n",
       "      <td>HashtagGamer</td>\n",
       "      <td>1.735189</td>\n",
       "      <td>0.831031</td>\n",
       "      <td>-0.338486</td>\n",
       "      <td>1.515348</td>\n",
       "      <td>-0.361864</td>\n",
       "      <td>0.743236</td>\n",
       "      <td>-0.855088</td>\n",
       "      <td>0.452886</td>\n",
       "      <td>...</td>\n",
       "      <td>-0.142353</td>\n",
       "      <td>-0.149393</td>\n",
       "      <td>0.342377</td>\n",
       "      <td>-0.473787</td>\n",
       "      <td>1.310697</td>\n",
       "      <td>0.376032</td>\n",
       "      <td>0.050319</td>\n",
       "      <td>-0.675580</td>\n",
       "      <td>0.686694</td>\n",
       "      <td>1.331772</td>\n",
       "    </tr>\n",
       "    <tr>\n",
       "      <th>3</th>\n",
       "      <td>ABIISSROSB</td>\n",
       "      <td>RightTroll</td>\n",
       "      <td>-0.414186</td>\n",
       "      <td>-0.289592</td>\n",
       "      <td>-0.376067</td>\n",
       "      <td>0.655795</td>\n",
       "      <td>-0.528225</td>\n",
       "      <td>0.051180</td>\n",
       "      <td>-1.284282</td>\n",
       "      <td>0.838184</td>\n",
       "      <td>...</td>\n",
       "      <td>-0.602859</td>\n",
       "      <td>-0.430198</td>\n",
       "      <td>0.870506</td>\n",
       "      <td>-0.583094</td>\n",
       "      <td>-0.743793</td>\n",
       "      <td>0.218668</td>\n",
       "      <td>-0.415719</td>\n",
       "      <td>-0.283268</td>\n",
       "      <td>0.107426</td>\n",
       "      <td>0.429906</td>\n",
       "    </tr>\n",
       "    <tr>\n",
       "      <th>4</th>\n",
       "      <td>ABMERRLINS</td>\n",
       "      <td>RightTroll</td>\n",
       "      <td>-0.168891</td>\n",
       "      <td>0.208332</td>\n",
       "      <td>-0.238793</td>\n",
       "      <td>0.811466</td>\n",
       "      <td>-0.406548</td>\n",
       "      <td>0.060785</td>\n",
       "      <td>-1.138488</td>\n",
       "      <td>0.822740</td>\n",
       "      <td>...</td>\n",
       "      <td>-0.338444</td>\n",
       "      <td>-0.262768</td>\n",
       "      <td>0.911135</td>\n",
       "      <td>-0.639410</td>\n",
       "      <td>-0.448718</td>\n",
       "      <td>0.144847</td>\n",
       "      <td>-0.528141</td>\n",
       "      <td>-0.074614</td>\n",
       "      <td>0.056181</td>\n",
       "      <td>0.204943</td>\n",
       "    </tr>\n",
       "  </tbody>\n",
       "</table>\n",
       "<p>5 rows × 302 columns</p>\n",
       "</div>"
      ],
      "text/plain": [
       "         author account_category         0         1         2         3  \\\n",
       "0      4MYSQUAD        LeftTroll  0.300563 -0.161981  0.324077 -0.184767   \n",
       "1   AANTIRACIST        LeftTroll  0.451109 -0.020116  0.192492  0.028853   \n",
       "2  ABIGAILSSILK     HashtagGamer  1.735189  0.831031 -0.338486  1.515348   \n",
       "3    ABIISSROSB       RightTroll -0.414186 -0.289592 -0.376067  0.655795   \n",
       "4    ABMERRLINS       RightTroll -0.168891  0.208332 -0.238793  0.811466   \n",
       "\n",
       "          4         5         6         7  ...       290       291       292  \\\n",
       "0 -0.401428  0.023190 -1.024363 -0.539152  ... -1.114124 -0.170226 -0.404546   \n",
       "1 -0.021786  0.192751 -0.503659  0.378062  ... -0.106547  0.070519  0.627671   \n",
       "2 -0.361864  0.743236 -0.855088  0.452886  ... -0.142353 -0.149393  0.342377   \n",
       "3 -0.528225  0.051180 -1.284282  0.838184  ... -0.602859 -0.430198  0.870506   \n",
       "4 -0.406548  0.060785 -1.138488  0.822740  ... -0.338444 -0.262768  0.911135   \n",
       "\n",
       "        293       294       295       296       297       298       299  \n",
       "0 -0.268519 -0.118784 -0.606631  0.989648 -0.660811  1.125824  1.370626  \n",
       "1 -0.515366  0.283998  0.203148  0.210351 -0.418066  1.081024  0.693167  \n",
       "2 -0.473787  1.310697  0.376032  0.050319 -0.675580  0.686694  1.331772  \n",
       "3 -0.583094 -0.743793  0.218668 -0.415719 -0.283268  0.107426  0.429906  \n",
       "4 -0.639410 -0.448718  0.144847 -0.528141 -0.074614  0.056181  0.204943  \n",
       "\n",
       "[5 rows x 302 columns]"
      ]
     },
     "execution_count": 2,
     "metadata": {},
     "output_type": "execute_result"
    }
   ],
   "source": [
    "embeddings_dataframe = pd.read_csv(\"./data/tweet-embeddings.csv\")\n",
    "\n",
    "embeddings_matrix = embeddings_dataframe.iloc[:, 2:].values\n",
    "\n",
    "embeddings_dataframe.head()"
   ]
  },
  {
   "cell_type": "markdown",
   "id": "neither-former",
   "metadata": {},
   "source": [
    "## Dimension Reduction (t-SNE) and Visualization"
   ]
  },
  {
   "cell_type": "code",
   "execution_count": 15,
   "id": "forbidden-shooting",
   "metadata": {},
   "outputs": [],
   "source": [
    "tsne_35 = TSNE(n_components=2, perplexity=35, verbose=0 , n_iter = 1000)\\\n",
    "                .fit_transform(embeddings_matrix)"
   ]
  },
  {
   "cell_type": "code",
   "execution_count": 32,
   "id": "seventh-attack",
   "metadata": {},
   "outputs": [
    {
     "data": {
      "image/png": "[encoded data removed]",
      "text/plain": [
       "<IPython.core.display.Image object>"
      ]
     },
     "execution_count": 32,
     "metadata": {},
     "output_type": "execute_result"
    }
   ],
   "source": [
    "color_mapping = {'LeftTroll':'#003f5c', 'RightTroll': '#ef5675', 'HashtagGamer': '#7a5195', 'Newsfeed': '#ffa600'}\n",
    "\n",
    "fig = px.scatter(x=tsne_35[:,0], \n",
    "                 y=tsne_35[:,1], \n",
    "                 color=embeddings_dataframe.account_category,\n",
    "                 color_discrete_map=color_mapping,\n",
    "                 title=\"t-SNE Representation of Document Embeddings\")\n",
    "\n",
    "fig.update_layout(yaxis={'title':None}, \n",
    "                  xaxis={'title':None}, \n",
    "                  legend_title_text=None,\n",
    "                  legend={'font':{'size':16}, 'itemsizing':'constant'},\n",
    "                  title={'font':{'size':25}})\n",
    "\n",
    "img_bytes = pio.to_image(fig, format='png')\n",
    "Image(img_bytes)"
   ]
  },
  {
   "cell_type": "markdown",
   "id": "behind-minister",
   "metadata": {},
   "source": [
    "# Logistic Regression"
   ]
  },
  {
   "cell_type": "code",
   "execution_count": 48,
   "id": "amber-physiology",
   "metadata": {},
   "outputs": [],
   "source": [
    "X_train, X_test, y_train, y_test = train_test_split(embeddings_dataframe.iloc[:,2:], \n",
    "                                                    embeddings_dataframe.account_category,\n",
    "                                                    stratify=embeddings_dataframe.account_category)"
   ]
  },
  {
   "cell_type": "code",
   "execution_count": 49,
   "id": "animated-ballot",
   "metadata": {},
   "outputs": [
    {
     "data": {
      "text/plain": [
       "RightTroll      223\n",
       "LeftTroll       118\n",
       "HashtagGamer     63\n",
       "NewsFeed         45\n",
       "Name: account_category, dtype: int64"
      ]
     },
     "execution_count": 49,
     "metadata": {},
     "output_type": "execute_result"
    }
   ],
   "source": [
    "embeddings_dataframe.account_category.value_counts()"
   ]
  },
  {
   "cell_type": "code",
   "execution_count": 50,
   "id": "partial-short",
   "metadata": {},
   "outputs": [],
   "source": [
    "logreg = OneVsRestClassifier(LogisticRegression(solver = 'liblinear'))\n",
    "\n",
    "logreg.fit(X_train, y_train)\n",
    "\n",
    "y_pred = logreg.predict(X_test)"
   ]
  },
  {
   "cell_type": "code",
   "execution_count": 51,
   "id": "olympic-demand",
   "metadata": {},
   "outputs": [
    {
     "name": "stdout",
     "output_type": "stream",
     "text": [
      "Accuracy Score:  0.9823008849557522 \n",
      " \n",
      "\n",
      "              precision    recall  f1-score   support\n",
      "\n",
      "HashtagGamer       1.00      0.94      0.97        16\n",
      "   LeftTroll       1.00      0.97      0.98        30\n",
      "    NewsFeed       1.00      1.00      1.00        11\n",
      "  RightTroll       0.97      1.00      0.98        56\n",
      "\n",
      "    accuracy                           0.98       113\n",
      "   macro avg       0.99      0.98      0.98       113\n",
      "weighted avg       0.98      0.98      0.98       113\n",
      "\n"
     ]
    }
   ],
   "source": [
    "print(\"Accuracy Score: \",accuracy_score(y_test, y_pred), \"\\n\", \"\\n\")\n",
    "print(classification_report(y_test, y_pred))"
   ]
  },
  {
   "cell_type": "code",
   "execution_count": null,
   "id": "breathing-malpractice",
   "metadata": {},
   "outputs": [],
   "source": []
  }
 ],
 "metadata": {
  "kernelspec": {
   "display_name": "Python 3",
   "language": "python",
   "name": "python3"
  },
  "language_info": {
   "codemirror_mode": {
    "name": "ipython",
    "version": 3
   },
   "file_extension": ".py",
   "mimetype": "text/x-python",
   "name": "python",
   "nbconvert_exporter": "python",
   "pygments_lexer": "ipython3",
   "version": "3.8.8"
  }
 },
 "nbformat": 4,
 "nbformat_minor": 5
}
