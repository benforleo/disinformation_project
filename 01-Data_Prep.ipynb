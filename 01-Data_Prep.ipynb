{
 "cells": [
  {
   "cell_type": "markdown",
   "metadata": {},
   "source": [
    "# Information Warfare\n",
    "## Russia’s use of Twitter during the 2016 US Presidential Election\n",
    "---\n",
    "\n",
    "### Import libraries"
   ]
  },
  {
   "cell_type": "code",
   "execution_count": 1,
   "metadata": {},
   "outputs": [],
   "source": [
    "import numpy as np\n",
    "import pandas as pd\n",
    "import os\n",
    "import re"
   ]
  },
  {
   "cell_type": "markdown",
   "metadata": {},
   "source": [
    "### Import data"
   ]
  },
  {
   "cell_type": "code",
   "execution_count": 2,
   "metadata": {},
   "outputs": [],
   "source": [
    "# Set to directory in which data is stored\n",
    "\n",
    "if re.search('benjaminforleo', os.getcwd()):\n",
    "    directory = \"/Users/benjaminforleo/Box/spring_project/russian_troll_tweets_538/\"\n",
    "else:\n",
    "    directory = \"/Users/annakot/Box/spring_project/russian_troll_tweets_538/\"\n",
    "\n",
    "# Import data files (CSV files only) and combine into one dataframe\n",
    "\n",
    "files = os.listdir(directory)\n",
    "files = [i for i in files if i.endswith('.csv')]\n",
    "df = pd.DataFrame()\n",
    "\n",
    "for file in files:\n",
    "    temp_df = pd.read_csv(directory + file, sep = \",\", low_memory = False)\n",
    "    \n",
    "    df = pd.concat([df, temp_df])"
   ]
  },
  {
   "cell_type": "markdown",
   "metadata": {},
   "source": [
    "### Filter data by language"
   ]
  },
  {
   "cell_type": "code",
   "execution_count": 3,
   "metadata": {},
   "outputs": [],
   "source": [
    "# Filter to include only English tweets\n",
    "dfEng = df[df.language == \"English\"]"
   ]
  },
  {
   "cell_type": "code",
   "execution_count": 4,
   "metadata": {},
   "outputs": [],
   "source": [
    "# Filter to include only non-English tweets\n",
    "dfOth = df[df.language != \"English\"]"
   ]
  },
  {
   "cell_type": "markdown",
   "metadata": {},
   "source": [
    "###  Export data"
   ]
  },
  {
   "cell_type": "code",
   "execution_count": 5,
   "metadata": {},
   "outputs": [],
   "source": [
    "# Export all tweets\n",
    "df.to_pickle(\"data/raw/tweets.pkl\")\n",
    "\n",
    "# Export English tweets\n",
    "dfEng.to_pickle(\"data/raw/tweetsEng.pkl\")\n",
    "\n",
    "# Export non-English tweets\n",
    "dfOth.to_pickle(\"data/raw/tweetsOth.pkl\")"
   ]
  }
 ],
 "metadata": {
  "kernelspec": {
   "display_name": "Python 3",
   "language": "python",
   "name": "python3"
  },
  "language_info": {
   "codemirror_mode": {
    "name": "ipython",
    "version": 3
   },
   "file_extension": ".py",
   "mimetype": "text/x-python",
   "name": "python",
   "nbconvert_exporter": "python",
   "pygments_lexer": "ipython3",
   "version": "3.6.8"
  }
 },
 "nbformat": 4,
 "nbformat_minor": 2
}
