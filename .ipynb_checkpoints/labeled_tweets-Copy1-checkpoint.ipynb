{
 "cells": [
  {
   "cell_type": "markdown",
   "metadata": {},
   "source": [
    "# Information Warfare: Russia’s use of Twitter during the 2016 US Presidential Election \n",
    "\n",
    "### Analysis by Ben Forleo\n",
    "\n",
    "### Part 1"
   ]
  },
  {
   "cell_type": "markdown",
   "metadata": {},
   "source": [
    "#### Background and research question\n",
    "\n",
    "On January 7, 2017 the Office of the Director of National Intelligence released a declassified report detailing a Russian campaign to influence the 2016 election.  The report described a broad range of activities aimed at denigrating Secretary Hillary Clinton and undermining faith in the US democratic process. One facet of this campaign involved social media “trolls” employed by the Internet Research Agency, an organization financed by a close Putin ally with ties to Russian intelligence.  In an indictment of the Internet Research Agency dated February 16, 2018, special counsel Robert Mueller III accused this organization of attempting to sow discord online by posting derogatory and false information with an intent to interfere in the US 2016 election.\n",
    "\n",
    "On August 27, 2018, the data journalism organization FiveThirtyEight published 2,973,371 tweets from accounts identified by Twitter as being associated with the Internet Research Agency. The dataset is the product of work done by Clemson Univeristy Professors Darren Linville and Patrick Warren who collected the data from Clemson University's Social Media Listening center. The researchers also classifed accounts according to their language and behavior: categories include Right Troll, Left Troll, News Feed, Hashtag Gamer, and Fearmonger. \n",
    "\n",
    "In a [working paper](http://pwarren.people.clemson.edu/Linvill_Warren_TrollFactory.pdf) describing their work, Linville and Warren discuss the qualitiative procedure that they employed to label accounts.\n",
    "\n",
    "The purpose of this project is to test whether Linville and Warren's account categorization scheme can be replicated quanitatively using unsupervised learning techniques.\n"
   ]
  },
  {
   "cell_type": "markdown",
   "metadata": {},
   "source": [
    "#### Procedure\n",
    "\n",
    "The procedure that I will employ is as follows:\n",
    "\n",
    "- Clean and tokenize text using the spaCy library\n",
    "- Create vectorized representations of tweets using the doc2vec algorithm and the gensim library\n",
    "- Cluster the vector representation of tweets using KMeans and Gaussian mixture models. \n",
    "- Compare the results of these algorithmic labeling methods with the labels assigned by Linville and Warren.\n",
    "\n",
    "I will also attempt to create predictive modes that map the tweet vectors to both Linville and Warren's labels, as well as the clusters inferred through KMeans and GMM. "
   ]
  },
  {
   "cell_type": "markdown",
   "metadata": {},
   "source": [
    "Let's import some data!"
   ]
  },
  {
   "cell_type": "code",
   "execution_count": 1,
   "metadata": {},
   "outputs": [
    {
     "data": {
      "text/html": [
       "<script type=\"text/javascript\">window.PlotlyConfig = {MathJaxConfig: 'local'};</script><script type=\"text/javascript\">if (window.MathJax) {MathJax.Hub.Config({SVG: {font: \"STIX-Web\"}});}</script><script>requirejs.config({paths: { 'plotly': ['https://cdn.plot.ly/plotly-latest.min']},});if(!window._Plotly) {require(['plotly'],function(plotly) {window._Plotly=plotly;});}</script>"
      ],
      "text/vnd.plotly.v1+html": [
       "<script type=\"text/javascript\">window.PlotlyConfig = {MathJaxConfig: 'local'};</script><script type=\"text/javascript\">if (window.MathJax) {MathJax.Hub.Config({SVG: {font: \"STIX-Web\"}});}</script><script>requirejs.config({paths: { 'plotly': ['https://cdn.plot.ly/plotly-latest.min']},});if(!window._Plotly) {require(['plotly'],function(plotly) {window._Plotly=plotly;});}</script>"
      ]
     },
     "metadata": {},
     "output_type": "display_data"
    }
   ],
   "source": [
    "import numpy as np\n",
    "import pandas as pd\n",
    "\n",
    "pd.set_option('display.max_columns', None)\n",
    "get_ipython().config.get('IPKernelApp', {})['parent_appname'] = \"\"\n",
    "\n",
    "import spacy\n",
    "import os\n",
    "import pickle\n",
    "\n",
    "from collections import Counter\n",
    "\n",
    "import matplotlib.pyplot as plt\n",
    "import seaborn as sns\n",
    "sns.set()\n",
    "#sns.set_style(\"whitegrid\")\n",
    "\n",
    "df = pd.read_pickle('/Users/benjaminforleo/disinformation_project_data/labeled_tweets.pkl')\n",
    "\n",
    "import plotly.graph_objs as go\n",
    "from plotly.offline import download_plotlyjs, init_notebook_mode, plot, iplot\n",
    "import plotly.offline as py\n",
    "\n",
    "init_notebook_mode(connected=True)"
   ]
  },
  {
   "cell_type": "code",
   "execution_count": 2,
   "metadata": {},
   "outputs": [
    {
     "data": {
      "text/html": [
       "\n",
       "<style>\n",
       ".output_png {\n",
       "    display: table-cell;\n",
       "    text-align: center;\n",
       "    vertical-align: middle;\n",
       "}\n",
       "</style>\n"
      ],
      "text/plain": [
       "<IPython.core.display.HTML object>"
      ]
     },
     "execution_count": 2,
     "metadata": {},
     "output_type": "execute_result"
    }
   ],
   "source": [
    "from IPython.core.display import HTML\n",
    "HTML(\"\"\"\n",
    "<style>\n",
    ".output_png {\n",
    "    display: table-cell;\n",
    "    text-align: center;\n",
    "    vertical-align: middle;\n",
    "}\n",
    "</style>\n",
    "\"\"\")"
   ]
  },
  {
   "cell_type": "code",
   "execution_count": null,
   "metadata": {},
   "outputs": [],
   "source": [
    "color_dict = {'RightTroll': (23, 62, 90),\n",
    "             'NewsFeed': (70, 79, 130),\n",
    "             'LeftTroll':  (140, 86, 146),\n",
    "             'HashtagGamer': (205, 91, 130),\n",
    "             'Commercial': (238, 118, 93),\n",
    "             'NonEnglish': (238, 118, 93),\n",
    "             'Fearmonger': (238, 118, 93),\n",
    "             'Unknown': (238, 118, 93)}"
   ]
  },
  {
   "cell_type": "markdown",
   "metadata": {},
   "source": [
    "As always, we need to perform some EDA to get a sense of what's in our datset. Since I don't speak Russian, I will filter to include only English tweets. "
   ]
  },
  {
   "cell_type": "code",
   "execution_count": 3,
   "metadata": {},
   "outputs": [
    {
     "name": "stdout",
     "output_type": "stream",
     "text": [
      "Shape:  (2116867, 21) \n",
      " \n",
      "# Unique accounts:  2161 \n",
      " \n",
      " Account Type:  ['Koch', 'Italian', 'Russian', 'Portuguese', 'news', 'German', 'Commercial', 'Right', 'French', 'local', 'Ebola ', 'Spanish', 'Left', 'ZAPOROSHIA', 'Arabic', 'Hashtager', '?'] \n",
      " \n",
      " Account Category:  ['NonEnglish', 'RightTroll', 'HashtagGamer', 'Commercial', 'LeftTroll', 'NewsFeed', 'Fearmonger', 'Unknown']\n"
     ]
    }
   ],
   "source": [
    "# Filter to include only English Tweets\n",
    "df = df[df.language == \"English\"]\n",
    "\n",
    "print(\"Shape: \", df.shape, \"\\n\", \"\\n\"\n",
    "     \"# Unique accounts: \", len(set(df.author)), \"\\n\", \"\\n\",\n",
    "     \"Account Type: \", list(set(df.account_type)), \"\\n\", \"\\n\",\n",
    "     \"Account Category: \", list(set(df.account_category)))"
   ]
  },
  {
   "cell_type": "markdown",
   "metadata": {},
   "source": [
    "There are two sets of labels that Linville and Warren have created, namely, account type and account name. Account type consists of more granular labels, while account category is more broad. For this exercise, I will focus on the account category set of labels. \n",
    "\n",
    "Before we move on, I should point out that the labeling scheme employed by Linville and Warren allows for accounts that primarily tweet in English to be labeled as Non English. For example, an account that primarily tweets about international events, such as the war in Ukraine, would be labeled as Non English, even if the text is in English. The graph below indicates that accounts characterized by this behavior are limited. "
   ]
  },
  {
   "cell_type": "code",
   "execution_count": 4,
   "metadata": {},
   "outputs": [
    {
     "name": "stdout",
     "output_type": "stream",
     "text": [
      "{'RightTroll': 704953, 'Fearmonger': 11001, 'NonEnglish': 26562, 'LeftTroll': 422141, 'Unknown': 6945, 'HashtagGamer': 236092, 'NewsFeed': 596593, 'Commercial': 112580}\n"
     ]
    }
   ],
   "source": [
    "counts_by_type = dict(Counter(df.account_category))\n",
    "\n",
    "print(counts_by_type)\n",
    "\n",
    "account_type = list(counts_by_type.keys())\n",
    "values = list(counts_by_type.values())\n",
    "\n",
    "account_type = [x for _,x in sorted(zip(values ,account_type), reverse = True)]\n",
    "values = sorted(values, reverse = True)\n",
    "\n",
    "# plt.clf()\n",
    "# plt.figure(figsize = (8,6))\n",
    "# sns.barplot(account_type, values)\n",
    "# plt.xticks(rotation = 'vertical')\n",
    "# plt.title('Counts of Tweets by Type')\n",
    "# plt.show()"
   ]
  },
  {
   "cell_type": "code",
   "execution_count": 6,
   "metadata": {},
   "outputs": [
    {
     "data": {
      "application/vnd.plotly.v1+json": {
       "config": {
        "linkText": "Export to plot.ly",
        "plotlyServerURL": "https://plot.ly",
        "showLink": false
       },
       "data": [
        {
         "marker": {
          "color": "rgb(23,62,90)"
         },
         "opacity": 0.7,
         "type": "bar",
         "uid": "aa280dc4-9cf9-44f1-99e4-8999dc245172",
         "x": [
          "RightTroll",
          "NewsFeed",
          "LeftTroll",
          "HashtagGamer",
          "Commercial",
          "NonEnglish",
          "Fearmonger",
          "Unknown"
         ],
         "y": [
          704953,
          596593,
          422141,
          236092,
          112580,
          26562,
          11001,
          6945
         ]
        }
       ],
       "layout": {
        "title": {
         "text": "Counts of Tweets by Type"
        },
        "xaxis": {
         "automargin": true,
         "tickangle": 45,
         "tickfont": {
          "size": 16
         }
        }
       }
      },
      "text/html": [
       "<div id=\"0ddf5a10-2c5f-4a36-90cf-63650cbef057\" style=\"height: 525px; width: 100%;\" class=\"plotly-graph-div\"></div><script type=\"text/javascript\">require([\"plotly\"], function(Plotly) { window.PLOTLYENV=window.PLOTLYENV || {};window.PLOTLYENV.BASE_URL=\"https://plot.ly\";Plotly.newPlot(\"0ddf5a10-2c5f-4a36-90cf-63650cbef057\", [{\"marker\": {\"color\": \"rgb(23,62,90)\"}, \"opacity\": 0.7, \"x\": [\"RightTroll\", \"NewsFeed\", \"LeftTroll\", \"HashtagGamer\", \"Commercial\", \"NonEnglish\", \"Fearmonger\", \"Unknown\"], \"y\": [704953, 596593, 422141, 236092, 112580, 26562, 11001, 6945], \"type\": \"bar\", \"uid\": \"aa280dc4-9cf9-44f1-99e4-8999dc245172\"}], {\"title\": {\"text\": \"Counts of Tweets by Type\"}, \"xaxis\": {\"automargin\": true, \"tickangle\": 45, \"tickfont\": {\"size\": 16}}}, {\"showLink\": false, \"linkText\": \"Export to plot.ly\", \"plotlyServerURL\": \"https://plot.ly\"})});</script><script type=\"text/javascript\">window.addEventListener(\"resize\", function(){window._Plotly.Plots.resize(document.getElementById(\"0ddf5a10-2c5f-4a36-90cf-63650cbef057\"));});</script>"
      ],
      "text/vnd.plotly.v1+html": [
       "<div id=\"0ddf5a10-2c5f-4a36-90cf-63650cbef057\" style=\"height: 525px; width: 100%;\" class=\"plotly-graph-div\"></div><script type=\"text/javascript\">require([\"plotly\"], function(Plotly) { window.PLOTLYENV=window.PLOTLYENV || {};window.PLOTLYENV.BASE_URL=\"https://plot.ly\";Plotly.newPlot(\"0ddf5a10-2c5f-4a36-90cf-63650cbef057\", [{\"marker\": {\"color\": \"rgb(23,62,90)\"}, \"opacity\": 0.7, \"x\": [\"RightTroll\", \"NewsFeed\", \"LeftTroll\", \"HashtagGamer\", \"Commercial\", \"NonEnglish\", \"Fearmonger\", \"Unknown\"], \"y\": [704953, 596593, 422141, 236092, 112580, 26562, 11001, 6945], \"type\": \"bar\", \"uid\": \"aa280dc4-9cf9-44f1-99e4-8999dc245172\"}], {\"title\": {\"text\": \"Counts of Tweets by Type\"}, \"xaxis\": {\"automargin\": true, \"tickangle\": 45, \"tickfont\": {\"size\": 16}}}, {\"showLink\": false, \"linkText\": \"Export to plot.ly\", \"plotlyServerURL\": \"https://plot.ly\"})});</script><script type=\"text/javascript\">window.addEventListener(\"resize\", function(){window._Plotly.Plots.resize(document.getElementById(\"0ddf5a10-2c5f-4a36-90cf-63650cbef057\"));});</script>"
      ]
     },
     "metadata": {},
     "output_type": "display_data"
    }
   ],
   "source": [
    "\n",
    "\n",
    "data = [go.Bar(\n",
    "            x=account_type,\n",
    "            y=values,\n",
    "            marker = dict(color = 'rgb(23,62,90)'),\n",
    "            opacity = .7\n",
    "    )]\n",
    "\n",
    "layout = go.Layout(title = 'Counts of Tweets by Type', \n",
    "                   xaxis = dict(\n",
    "                       tickangle = 45, \n",
    "                       tickfont = dict(size = 16),\n",
    "                       automargin = True))\n",
    "\n",
    "fig = go.Figure(data = data, layout = layout)\n",
    "\n",
    "py.iplot(fig, filename='basic-bar')"
   ]
  },
  {
   "cell_type": "markdown",
   "metadata": {},
   "source": [
    "The previous chart displayed information for overall tweets. However, what we are really interested in is activity per account. That is, it would be nice to know how many right trolls are in the dataset vs. left trolls and so on. Let's go ahead and visualize this information now. "
   ]
  },
  {
   "cell_type": "code",
   "execution_count": 7,
   "metadata": {},
   "outputs": [],
   "source": [
    "account_analysis = df.groupby(['author', 'account_category'])['content'].count().reset_index()\n",
    "\n",
    "account_analysis = Counter(account_analysis.account_category)\n",
    "\n",
    "account_type = list(account_analysis.keys())\n",
    "values = list(account_analysis.values())\n",
    "\n",
    "account_type = [x for _,x in sorted(zip(values ,account_type), reverse = True)]\n",
    "values = sorted(values, reverse = True)\n",
    "\n",
    "# plt.clf()\n",
    "# plt.figure(figsize = (8,6))\n",
    "# sns.barplot(account_type, values)\n",
    "# plt.xticks(rotation = 'vertical')\n",
    "# plt.title('Counts of Accounts by Type')\n",
    "# plt.show()"
   ]
  },
  {
   "cell_type": "code",
   "execution_count": 8,
   "metadata": {},
   "outputs": [
    {
     "data": {
      "application/vnd.plotly.v1+json": {
       "config": {
        "linkText": "Export to plot.ly",
        "plotlyServerURL": "https://plot.ly",
        "showLink": false
       },
       "data": [
        {
         "marker": {
          "color": "rgb(23,62,90)"
         },
         "opacity": 0.7,
         "type": "bar",
         "uid": "1fa04f06-d1c1-48e1-bb55-a7777708497a",
         "x": [
          "NonEnglish",
          "RightTroll",
          "LeftTroll",
          "Unknown",
          "Fearmonger",
          "HashtagGamer",
          "NewsFeed",
          "Commercial"
         ],
         "y": [
          795,
          630,
          233,
          207,
          124,
          112,
          54,
          6
         ]
        }
       ],
       "layout": {
        "title": {
         "text": "Counts of Accounts by Type"
        },
        "xaxis": {
         "automargin": true,
         "tickangle": 45,
         "tickfont": {
          "size": 16
         }
        }
       }
      },
      "text/html": [
       "<div id=\"37292b5a-429f-41b7-b4e9-899e9b4c5c54\" style=\"height: 525px; width: 100%;\" class=\"plotly-graph-div\"></div><script type=\"text/javascript\">require([\"plotly\"], function(Plotly) { window.PLOTLYENV=window.PLOTLYENV || {};window.PLOTLYENV.BASE_URL=\"https://plot.ly\";Plotly.newPlot(\"37292b5a-429f-41b7-b4e9-899e9b4c5c54\", [{\"marker\": {\"color\": \"rgb(23,62,90)\"}, \"opacity\": 0.7, \"x\": [\"NonEnglish\", \"RightTroll\", \"LeftTroll\", \"Unknown\", \"Fearmonger\", \"HashtagGamer\", \"NewsFeed\", \"Commercial\"], \"y\": [795, 630, 233, 207, 124, 112, 54, 6], \"type\": \"bar\", \"uid\": \"1fa04f06-d1c1-48e1-bb55-a7777708497a\"}], {\"title\": {\"text\": \"Counts of Accounts by Type\"}, \"xaxis\": {\"automargin\": true, \"tickangle\": 45, \"tickfont\": {\"size\": 16}}}, {\"showLink\": false, \"linkText\": \"Export to plot.ly\", \"plotlyServerURL\": \"https://plot.ly\"})});</script><script type=\"text/javascript\">window.addEventListener(\"resize\", function(){window._Plotly.Plots.resize(document.getElementById(\"37292b5a-429f-41b7-b4e9-899e9b4c5c54\"));});</script>"
      ],
      "text/vnd.plotly.v1+html": [
       "<div id=\"37292b5a-429f-41b7-b4e9-899e9b4c5c54\" style=\"height: 525px; width: 100%;\" class=\"plotly-graph-div\"></div><script type=\"text/javascript\">require([\"plotly\"], function(Plotly) { window.PLOTLYENV=window.PLOTLYENV || {};window.PLOTLYENV.BASE_URL=\"https://plot.ly\";Plotly.newPlot(\"37292b5a-429f-41b7-b4e9-899e9b4c5c54\", [{\"marker\": {\"color\": \"rgb(23,62,90)\"}, \"opacity\": 0.7, \"x\": [\"NonEnglish\", \"RightTroll\", \"LeftTroll\", \"Unknown\", \"Fearmonger\", \"HashtagGamer\", \"NewsFeed\", \"Commercial\"], \"y\": [795, 630, 233, 207, 124, 112, 54, 6], \"type\": \"bar\", \"uid\": \"1fa04f06-d1c1-48e1-bb55-a7777708497a\"}], {\"title\": {\"text\": \"Counts of Accounts by Type\"}, \"xaxis\": {\"automargin\": true, \"tickangle\": 45, \"tickfont\": {\"size\": 16}}}, {\"showLink\": false, \"linkText\": \"Export to plot.ly\", \"plotlyServerURL\": \"https://plot.ly\"})});</script><script type=\"text/javascript\">window.addEventListener(\"resize\", function(){window._Plotly.Plots.resize(document.getElementById(\"37292b5a-429f-41b7-b4e9-899e9b4c5c54\"));});</script>"
      ]
     },
     "metadata": {},
     "output_type": "display_data"
    }
   ],
   "source": [
    "data = [go.Bar(\n",
    "            x=account_type,\n",
    "            y=values,\n",
    "            marker = dict(color = 'rgb(23,62,90)'),\n",
    "            opacity = .7\n",
    "    )]\n",
    "\n",
    "layout = go.Layout(title = 'Counts of Accounts by Type', \n",
    "                   xaxis = dict(\n",
    "                       tickangle = 45, \n",
    "                       tickfont = dict(size = 16),\n",
    "                       automargin = True))\n",
    "\n",
    "fig = go.Figure(data = data, layout = layout)\n",
    "\n",
    "py.iplot(fig, filename='basic-bar')"
   ]
  },
  {
   "cell_type": "markdown",
   "metadata": {},
   "source": [
    "Ok, this is a strange result. While Non English tweets account for very little of the overall tweet volume, there is a sizable number of Non English accounts in the dataset. \n",
    "\n",
    "For our procedure to work, we need to make sure that we have enough information (tweets) for each account for doc2vec to appropriatly embed our text in a vector space. As such, we need to ensure that we only consider accounts that meet some threshold for a minimum number of tweets, which we we do below. "
   ]
  },
  {
   "cell_type": "code",
   "execution_count": 9,
   "metadata": {},
   "outputs": [
    {
     "name": "stdout",
     "output_type": "stream",
     "text": [
      "463\n"
     ]
    }
   ],
   "source": [
    "# Let's get counts of the number of tweets by each author\n",
    "counts_by_author = df[['author', 'content']].groupby('author').count()\n",
    "\n",
    "counts_by_author.reset_index(inplace = True)\n",
    "\n",
    "print(sum(counts_by_author.content > 400))\n",
    "\n",
    "author_series = counts_by_author.author[counts_by_author.content > 400]\n",
    "\n",
    "df = df[df.author.isin(author_series)]"
   ]
  },
  {
   "cell_type": "markdown",
   "metadata": {},
   "source": [
    "It should be noted that the choice of 400 tweets is arbitrary. Notice that by setting this threshold, the amount of Non English accounts in the dataset has decreased considerably. "
   ]
  },
  {
   "cell_type": "code",
   "execution_count": 10,
   "metadata": {},
   "outputs": [],
   "source": [
    "account_analysis = df.groupby(['author', 'account_category'])['content'].count().reset_index()\n",
    "account_analysis = Counter(account_analysis.account_category)\n",
    "\n",
    "account_type = list(account_analysis.keys())\n",
    "values = list(account_analysis.values())\n",
    "\n",
    "account_type = [x for _,x in sorted(zip(values ,account_type), reverse = True)]\n",
    "values = sorted(values, reverse = True)\n",
    "\n",
    "# plt.clf()\n",
    "# plt.figure(figsize = (8,6))\n",
    "# sns.barplot(account_type, values)\n",
    "# plt.xticks(rotation = 'vertical')\n",
    "# plt.title('Counts of Accounts by Type: 400 Tweets or More')\n",
    "# plt.show()"
   ]
  },
  {
   "cell_type": "code",
   "execution_count": 11,
   "metadata": {},
   "outputs": [
    {
     "data": {
      "application/vnd.plotly.v1+json": {
       "config": {
        "linkText": "Export to plot.ly",
        "plotlyServerURL": "https://plot.ly",
        "showLink": false
       },
       "data": [
        {
         "marker": {
          "color": "rgb(23,62,90)"
         },
         "opacity": 0.7,
         "type": "bar",
         "uid": "44941626-bcb6-44fb-ad72-c7059a21cba7",
         "x": [
          "RightTroll",
          "LeftTroll",
          "HashtagGamer",
          "NewsFeed",
          "NonEnglish",
          "Commercial",
          "Unknown"
         ],
         "y": [
          223,
          118,
          63,
          45,
          7,
          5,
          2
         ]
        }
       ],
       "layout": {
        "title": {
         "text": "Counts of Accounts by Type"
        },
        "xaxis": {
         "automargin": true,
         "tickangle": 45,
         "tickfont": {
          "size": 16
         }
        }
       }
      },
      "text/html": [
       "<div id=\"2656fb28-31e5-47ac-934c-db4308c6025d\" style=\"height: 525px; width: 100%;\" class=\"plotly-graph-div\"></div><script type=\"text/javascript\">require([\"plotly\"], function(Plotly) { window.PLOTLYENV=window.PLOTLYENV || {};window.PLOTLYENV.BASE_URL=\"https://plot.ly\";Plotly.newPlot(\"2656fb28-31e5-47ac-934c-db4308c6025d\", [{\"marker\": {\"color\": \"rgb(23,62,90)\"}, \"opacity\": 0.7, \"x\": [\"RightTroll\", \"LeftTroll\", \"HashtagGamer\", \"NewsFeed\", \"NonEnglish\", \"Commercial\", \"Unknown\"], \"y\": [223, 118, 63, 45, 7, 5, 2], \"type\": \"bar\", \"uid\": \"44941626-bcb6-44fb-ad72-c7059a21cba7\"}], {\"title\": {\"text\": \"Counts of Accounts by Type\"}, \"xaxis\": {\"automargin\": true, \"tickangle\": 45, \"tickfont\": {\"size\": 16}}}, {\"showLink\": false, \"linkText\": \"Export to plot.ly\", \"plotlyServerURL\": \"https://plot.ly\"})});</script><script type=\"text/javascript\">window.addEventListener(\"resize\", function(){window._Plotly.Plots.resize(document.getElementById(\"2656fb28-31e5-47ac-934c-db4308c6025d\"));});</script>"
      ],
      "text/vnd.plotly.v1+html": [
       "<div id=\"2656fb28-31e5-47ac-934c-db4308c6025d\" style=\"height: 525px; width: 100%;\" class=\"plotly-graph-div\"></div><script type=\"text/javascript\">require([\"plotly\"], function(Plotly) { window.PLOTLYENV=window.PLOTLYENV || {};window.PLOTLYENV.BASE_URL=\"https://plot.ly\";Plotly.newPlot(\"2656fb28-31e5-47ac-934c-db4308c6025d\", [{\"marker\": {\"color\": \"rgb(23,62,90)\"}, \"opacity\": 0.7, \"x\": [\"RightTroll\", \"LeftTroll\", \"HashtagGamer\", \"NewsFeed\", \"NonEnglish\", \"Commercial\", \"Unknown\"], \"y\": [223, 118, 63, 45, 7, 5, 2], \"type\": \"bar\", \"uid\": \"44941626-bcb6-44fb-ad72-c7059a21cba7\"}], {\"title\": {\"text\": \"Counts of Accounts by Type\"}, \"xaxis\": {\"automargin\": true, \"tickangle\": 45, \"tickfont\": {\"size\": 16}}}, {\"showLink\": false, \"linkText\": \"Export to plot.ly\", \"plotlyServerURL\": \"https://plot.ly\"})});</script><script type=\"text/javascript\">window.addEventListener(\"resize\", function(){window._Plotly.Plots.resize(document.getElementById(\"2656fb28-31e5-47ac-934c-db4308c6025d\"));});</script>"
      ]
     },
     "metadata": {},
     "output_type": "display_data"
    }
   ],
   "source": [
    "data = [go.Bar(\n",
    "            x=account_type,\n",
    "            y=values,\n",
    "            marker = dict(color = 'rgb(23,62,90)'),\n",
    "            opacity = .7\n",
    "    )]\n",
    "\n",
    "layout = go.Layout(title = 'Counts of Accounts by Type', \n",
    "                   xaxis = dict(\n",
    "                       tickangle = 45, \n",
    "                       tickfont = dict(size = 16),\n",
    "                       automargin = True))\n",
    "\n",
    "fig = go.Figure(data = data, layout = layout)\n",
    "\n",
    "py.iplot(fig, filename='basic-bar')"
   ]
  },
  {
   "cell_type": "markdown",
   "metadata": {},
   "source": [
    "# Sampling and Pre-Processing"
   ]
  },
  {
   "cell_type": "markdown",
   "metadata": {},
   "source": [
    "As you may know, natural language processing can be computationally expensive. Since we are dealing with a large number of tweets, it makes sense to take a sample of the data that we want to work with. \n",
    "\n",
    "Here, I take a 30% sample from each account. \n",
    "\n",
    "Note: the 30% sample size is arbitrary."
   ]
  },
  {
   "cell_type": "code",
   "execution_count": 12,
   "metadata": {},
   "outputs": [],
   "source": [
    "df.content = df.content.astype(str)\n",
    "\n",
    "# Create the groupby object of author and category. Note: every author is assigned one category\n",
    "df_sampled = df.groupby(['author', 'account_category'])['content']\n",
    "\n",
    "# Take a 30% sample from each group\n",
    "df_sampled = df_sampled.apply(lambda x: x.sample(frac=0.3, replace = False)).reset_index()"
   ]
  },
  {
   "cell_type": "markdown",
   "metadata": {},
   "source": [
    "You might be inclined to ask: why take a sample per account rather than just a sample of the overall dataset? When I first began expirimenting with this data, I tried to embed each individual tweet in a vector space. However, this procedure produced nonsensical results. It seems that there is not enough information contained in an individual tweet for us to gleen any useful unsights about the author, or discriminate between authors. \n",
    "\n",
    "However, if we were to combine tweets per author such that we have a single document for each author that is representative of everything that a particular author has ever tweeted, we will have more than enough information to give doc2vec a chance to work. \n",
    "\n",
    "There is just one problem: spaCy breaks if we try to parse long documents of text. As such, we will need to group our tweets by author after running the data through spaCy. \n",
    "\n",
    "Before we get to spaCy, we need to do some minor preprocessing. Here, I remove hyperlinks and and strip redundant whitepace from the text. I also expirimented with removing the RT symbol, but this did not seem to have any meaningful impact on our analysis. "
   ]
  },
  {
   "cell_type": "code",
   "execution_count": 13,
   "metadata": {},
   "outputs": [],
   "source": [
    "# SAMPLE AND PRE-CLEANING\n",
    "\n",
    "# REMOVE RT SYMBOL\n",
    "#from processing_functions import rt_remover\n",
    "#df_sampled.content = df_sampled.content.apply(rt_remover)\n",
    "\n",
    "# REMOVE ANY HYPERLINKS\n",
    "from processing_functions import link_remover\n",
    "df_sampled.content = df_sampled.content.apply(link_remover)\n",
    "\n",
    "\n",
    "# STRIP ANY WHITESPACE ON EITHER SIDE OF THE TEXT\n",
    "df_sampled.content = df_sampled.content.str.strip()"
   ]
  },
  {
   "cell_type": "markdown",
   "metadata": {},
   "source": [
    "Now that we have done some basic pre-processing, we can begin to parse and clean our text with spaCy."
   ]
  },
  {
   "cell_type": "markdown",
   "metadata": {},
   "source": [
    "# Tokenization, cleaning, and lemmatization with spaCy\n",
    "\n",
    "- Note: this takes approximately 5 - 10 minutes to run."
   ]
  },
  {
   "cell_type": "code",
   "execution_count": 14,
   "metadata": {},
   "outputs": [],
   "source": [
    "from spacy.tokens import Token\n",
    "\n",
    "# This allows us to add custom attributes to tokens, in this case, hashtags and accounts\n",
    "Token.set_extension('is_hashtag', default = False, force = True)\n",
    "Token.set_extension('is_account', default = False, force = True)\n",
    "\n",
    "# These functions tell spaCy what should be considered a hashtage or account\n",
    "from processing_functions import hashtag_pipe\n",
    "from processing_functions import is_account_pipe\n",
    "\n",
    "# We can  disable pipeline objects to save time: disable = ['parser', 'etc']\n",
    "nlp = spacy.load(\"en\", disable = ['parser', 'ner'])\n",
    "\n",
    "# Here I add the two custom functions for hashtags and accounts to the pipeline\n",
    "nlp.add_pipe(hashtag_pipe)\n",
    "nlp.add_pipe(is_account_pipe)\n",
    "\n",
    "# And we're off!\n",
    "parsed_tweets = list(nlp.pipe(df_sampled.content))"
   ]
  },
  {
   "cell_type": "markdown",
   "metadata": {},
   "source": [
    "# Gensim\n",
    "\n",
    "\n",
    "Before we train our gensim doc2vec model, we need to do some more cleaning. The clean_doc function is located in the processing_functions.py file in this repository. "
   ]
  },
  {
   "cell_type": "code",
   "execution_count": 15,
   "metadata": {},
   "outputs": [],
   "source": [
    "from processing_functions import clean_doc\n",
    "from processing_functions import clean_doc_no_lemma\n",
    "\n",
    "#lemma = list(map(clean_doc, parsed_tweets))\n",
    "\n",
    "lemma = list(map(clean_doc_no_lemma, parsed_tweets))"
   ]
  },
  {
   "cell_type": "markdown",
   "metadata": {},
   "source": [
    "The next step is perhaps the most critical to this analysis. We need to group the parsed and cleaned tweets by author, so that for each author, we have a 30% sample of everything that they have ever tweeted in a single list (as discussed above). We can easily do this by applying our own function to a Pandas groupby object. "
   ]
  },
  {
   "cell_type": "code",
   "execution_count": 16,
   "metadata": {},
   "outputs": [],
   "source": [
    "# each row in parsed content is a list of lists\n",
    "df_sampled['parsed_content'] = lemma\n",
    "\n",
    "# lets flatten these so that each row only has one list\n",
    "from processing_functions import group_lists\n",
    "        \n",
    "df_grouped = df_sampled.groupby(['author', \n",
    "                    'account_category'])['parsed_content'].apply(group_lists).reset_index()\n",
    "\n",
    "# Convert the parsed content Series to a list for gensim\n",
    "parsed_content = list(df_grouped.parsed_content)\n"
   ]
  },
  {
   "cell_type": "markdown",
   "metadata": {},
   "source": [
    "Now that out data is clean and in the proper format, we can go ahead and create our gensim doc2vec model. It never ceases to amaze me that we can implement such a poweful algorithm in just a few lines of code. "
   ]
  },
  {
   "cell_type": "code",
   "execution_count": 17,
   "metadata": {},
   "outputs": [],
   "source": [
    "# create a doc2vec model\n",
    "from gensim.models.doc2vec import Doc2Vec, TaggedDocument\n",
    "\n",
    "# parsed_content is the list of parsed text\n",
    "documents = [TaggedDocument(doc, [i]) for i, doc in enumerate(parsed_content)]\n",
    "\n",
    "# Vector size of 300\n",
    "model = Doc2Vec(documents, vector_size=300, window=5, min_count=3, workers=6)\n",
    "\n",
    "arr_list = []\n",
    "\n",
    "for index in range(0, len(model.docvecs)):\n",
    "    arr_list.append(model.docvecs[index])\n",
    "    \n",
    "vec_array = np.stack(arr_list)"
   ]
  },
  {
   "cell_type": "markdown",
   "metadata": {},
   "source": [
    "# Visualization and clustering"
   ]
  },
  {
   "cell_type": "markdown",
   "metadata": {},
   "source": [
    "Great! We've cleaned, tokenized, and embeded our textual data in a vector space. Let's try to visualize our data and see where we are at. \n",
    "\n",
    "Since we are now working with a 300 dimension dataset, we need to employ a dimension reduction technique if we want to visualize some of the patterns in our data. t-SNE is a great algorithm for this purpose, and we will employ this technique in the space below. \n",
    "\n",
    "By reducing the number of dimensions with t-SNE, we can visualize our data on a two-dimensional canvas. In the following chart the color of each individual datapoint will correspond to a label manually assigned by Professors Warren and Linville. "
   ]
  },
  {
   "cell_type": "code",
   "execution_count": 18,
   "metadata": {},
   "outputs": [],
   "source": [
    "# Instantiate and fit the t-SNE model.\n",
    "from sklearn.manifold import TSNE\n",
    "tsne_35 = TSNE(n_components = 2, perplexity = 35, verbose = 0 , n_iter = 1000).fit_transform(vec_array)\n",
    "\n",
    "# plt.clf()\n",
    "# plt.figure(figsize = (8,6))\n",
    "# sns.scatterplot(x = tsne_35[:,0], y = tsne_35[:, 1], hue = df_grouped.account_category)\n",
    "# plt.title(\"Two dimensional representation of account clusters\")\n",
    "# plt.legend(loc='center left', bbox_to_anchor=(1, 0.5))\n",
    "# plt.show()"
   ]
  },
  {
   "cell_type": "code",
   "execution_count": 26,
   "metadata": {},
   "outputs": [
    {
     "data": {
      "application/vnd.plotly.v1+json": {
       "config": {
        "linkText": "Export to plot.ly",
        "plotlyServerURL": "https://plot.ly",
        "showLink": false
       },
       "data": [
        {
         "mode": "markers",
         "name": "LeftTroll",
         "type": "scatter",
         "uid": "0069397d-2bb7-4853-b244-7df1d781c180",
         "x": [
          2.6311099529266357,
          -2.03224515914917,
          -1.901610016822815,
          -1.977352261543274,
          -2.3233938217163086,
          -4.231539726257324,
          -4.100283145904541,
          -5.128933906555176,
          -3.60006046295166,
          -3.4673962593078613,
          -2.1179039478302,
          -3.4290406703948975,
          2.3906829357147217,
          2.5984296798706055,
          2.9254565238952637,
          1.6115825176239014,
          2.5763025283813477,
          1.743979573249817,
          2.5710415840148926,
          -1.0276405811309814,
          -1.9653456211090088,
          -4.168886184692383,
          -2.3511343002319336,
          -1.1648283004760742,
          1.5904686450958252,
          2.644139528274536,
          0.2555183470249176,
          -0.4570595622062683,
          0.10873688012361526,
          0.15685804188251495,
          -2.9841792583465576,
          -0.8603120446205139,
          3.3116960525512695,
          -1.1188488006591797,
          -3.573540449142456,
          1.8140504360198975,
          -0.07525935769081116,
          -0.5634605884552002,
          -3.3396899700164795,
          -2.9295811653137207,
          -0.9361324906349182,
          12.581131935119629,
          -1.8597831726074219,
          -0.43402138352394104,
          0.0012482107849791646,
          -2.6239278316497803,
          -2.1399567127227783,
          -0.6871441006660461,
          -4.046044826507568,
          -0.9013848304748535,
          -2.506997585296631,
          -4.389674186706543,
          -3.0144996643066406,
          -2.963568687438965,
          -3.602837085723877,
          -2.3087003231048584,
          -1.6624072790145874,
          -1.3531126976013184,
          -3.4810733795166016,
          -2.4293603897094727,
          -2.831540107727051,
          1.3269952535629272,
          -2.3952722549438477,
          11.979398727416992,
          -2.3454339504241943,
          -3.5339434146881104,
          -0.8723316192626953,
          -1.513735055923462,
          -1.4526983499526978,
          -1.5384385585784912,
          -1.0847049951553345,
          12.179387092590332,
          -0.9805942177772522,
          -4.247860908508301,
          -2.4893391132354736,
          -2.6273984909057617,
          -2.8907809257507324,
          -2.64431095123291,
          -2.982811212539673,
          1.2576948404312134,
          -2.9041731357574463,
          -2.756882905960083,
          -1.9989815950393677,
          -1.6459300518035889,
          2.003925085067749,
          0.495168536901474,
          -1.701798439025879,
          -5.2081427574157715,
          -1.114364504814148,
          -4.087822437286377,
          -2.4284145832061768,
          1.1279240846633911,
          -1.4729607105255127,
          -1.4535069465637207,
          0.9773813486099243,
          -4.88286018371582,
          -3.7710013389587402,
          -5.413035869598389,
          -1.7088618278503418,
          -1.6339356899261475,
          -1.1343793869018555,
          -1.6699968576431274,
          -1.5012723207473755,
          -1.4561043977737427,
          -1.4718196392059326,
          -5.447861194610596,
          -5.165768146514893,
          -1.7529441118240356,
          -1.6527968645095825,
          -5.422482013702393,
          3.024155616760254,
          -4.981429100036621,
          1.1362006664276123,
          -1.7298598289489746,
          -2.222963571548462,
          12.228255271911621,
          -5.117091655731201,
          -1.6119402647018433
         ],
         "y": [
          14.029592514038086,
          14.786515235900879,
          22.089324951171875,
          19.518930435180664,
          16.735746383666992,
          14.829385757446289,
          22.60837173461914,
          10.355360984802246,
          22.14396095275879,
          20.99765968322754,
          18.100709915161133,
          22.468551635742188,
          -3.9411182403564453,
          11.897525787353516,
          11.8296480178833,
          11.856169700622559,
          12.0540132522583,
          11.862930297851562,
          13.842853546142578,
          22.468284606933594,
          23.194372177124023,
          16.63888931274414,
          14.741988182067871,
          14.836496353149414,
          16.86794090270996,
          1.3070927858352661,
          15.613402366638184,
          15.103460311889648,
          14.522439002990723,
          14.421483039855957,
          20.926488876342773,
          14.260235786437988,
          11.787546157836914,
          17.24713897705078,
          23.45110511779785,
          13.47987174987793,
          15.881128311157227,
          13.624871253967285,
          16.667306900024414,
          22.137283325195312,
          13.636516571044922,
          -17.172821044921875,
          18.39664649963379,
          13.589139938354492,
          4.307967185974121,
          21.80748748779297,
          19.418582916259766,
          12.25082015991211,
          15.841110229492188,
          11.893013954162598,
          21.074922561645508,
          15.282243728637695,
          15.652368545532227,
          23.688404083251953,
          15.395115852355957,
          22.429004669189453,
          9.577616691589355,
          13.419615745544434,
          14.105329513549805,
          22.587881088256836,
          15.521685600280762,
          17.237531661987305,
          22.878873825073242,
          -15.683639526367188,
          22.025022506713867,
          16.013425827026367,
          12.499146461486816,
          13.93826961517334,
          15.113456726074219,
          14.365506172180176,
          11.563972473144531,
          -16.213531494140625,
          10.735671997070312,
          16.705148696899414,
          8.605506896972656,
          8.733586311340332,
          21.84864616394043,
          19.328500747680664,
          21.30772590637207,
          17.306766510009766,
          23.119571685791016,
          22.962146759033203,
          2.9161183834075928,
          16.354463577270508,
          12.10792350769043,
          17.361209869384766,
          15.449015617370605,
          15.263532638549805,
          9.781107902526855,
          13.861165046691895,
          23.54612922668457,
          17.621641159057617,
          21.790149688720703,
          15.761780738830566,
          17.371715545654297,
          15.303814888000488,
          13.979826927185059,
          15.47346019744873,
          22.946189880371094,
          21.396156311035156,
          10.036235809326172,
          22.456066131591797,
          11.09920597076416,
          20.444377899169922,
          12.574812889099121,
          15.262110710144043,
          14.552105903625488,
          12.708939552307129,
          13.050065994262695,
          15.957801818847656,
          13.440034866333008,
          13.453536033630371,
          12.271039962768555,
          21.237577438354492,
          16.01360511779785,
          -16.30348014831543,
          16.391719818115234,
          23.319631576538086
         ]
        },
        {
         "mode": "markers",
         "name": "HashtagGamer",
         "type": "scatter",
         "uid": "576af61d-acf1-43ed-83ef-f3fbb13b1edc",
         "x": [
          -23.88298225402832,
          -28.37559700012207,
          -28.281530380249023,
          -29.21928596496582,
          -27.552688598632812,
          -30.054563522338867,
          -29.059642791748047,
          -27.946094512939453,
          -27.80634880065918,
          -29.830202102661133,
          -28.61431312561035,
          -28.16130256652832,
          -27.52312660217285,
          -23.665586471557617,
          -25.989147186279297,
          -27.15929412841797,
          -25.48831558227539,
          -27.557592391967773,
          -27.30463409423828,
          -28.27501678466797,
          -27.0092830657959,
          -26.11077117919922,
          -26.284317016601562,
          -30.076068878173828,
          -26.71697998046875,
          -27.23648452758789,
          -26.573047637939453,
          -25.60487174987793,
          -24.80472183227539,
          -25.312612533569336,
          -25.673070907592773,
          -25.26442527770996,
          -26.070573806762695,
          -25.214189529418945,
          -25.478349685668945,
          -25.689510345458984,
          -26.332847595214844,
          -26.511255264282227,
          -27.762956619262695,
          -26.969804763793945,
          -27.76662254333496,
          -27.4262752532959,
          -26.771081924438477,
          -5.054012298583984,
          -26.952333450317383,
          -26.84392547607422,
          -27.18202781677246,
          -24.03813934326172,
          -23.336288452148438,
          -26.821069717407227,
          -27.015968322753906,
          -27.932167053222656,
          -26.43148422241211,
          -27.657489776611328,
          -4.945870399475098,
          -4.561019420623779,
          -23.64181900024414,
          -28.076839447021484,
          -28.161680221557617,
          -23.31794548034668,
          -3.837852716445923,
          -29.721630096435547,
          -3.7650859355926514
         ],
         "y": [
          3.2430520057678223,
          2.308289051055908,
          2.4649760723114014,
          2.0880701541900635,
          3.1736948490142822,
          2.5916266441345215,
          3.0212655067443848,
          3.237001419067383,
          2.4501216411590576,
          0.9213324785232544,
          1.4908040761947632,
          3.953831434249878,
          5.128198146820068,
          3.8787169456481934,
          4.091392993927002,
          4.427513599395752,
          3.3854241371154785,
          4.217957973480225,
          4.40987491607666,
          4.572561740875244,
          4.417941570281982,
          3.4830117225646973,
          3.903494119644165,
          1.6641167402267456,
          3.846114158630371,
          2.901597023010254,
          3.1725833415985107,
          2.463304281234741,
          3.0101757049560547,
          4.355539321899414,
          0.5889314413070679,
          1.0272592306137085,
          0.7404301762580872,
          2.5296642780303955,
          2.9179201126098633,
          1.9207689762115479,
          1.014158010482788,
          1.8093540668487549,
          1.6484299898147583,
          1.4395543336868286,
          1.6462587118148804,
          1.929335594177246,
          1.7170480489730835,
          7.726742744445801,
          0.775102436542511,
          1.8314776420593262,
          1.0111368894577026,
          3.0726394653320312,
          2.714022397994995,
          0.5656549334526062,
          2.2793774604797363,
          1.0637843608856201,
          2.4072046279907227,
          1.1732733249664307,
          7.746164321899414,
          7.817872524261475,
          3.1138782501220703,
          -0.08088798075914383,
          0.6400311589241028,
          3.5427544116973877,
          7.844533443450928,
          0.9389052391052246,
          7.852639675140381
         ]
        },
        {
         "mode": "markers",
         "name": "RightTroll",
         "type": "scatter",
         "uid": "14856631-c2f0-4c53-984a-7034a6f02ed1",
         "x": [
          14.783202171325684,
          14.073685646057129,
          14.901622772216797,
          16.26125717163086,
          19.79985809326172,
          21.26251792907715,
          18.319509506225586,
          -0.6703168153762817,
          3.420219898223877,
          21.872034072875977,
          18.024490356445312,
          18.230735778808594,
          17.295108795166016,
          19.153017044067383,
          -4.006979942321777,
          17.892559051513672,
          -1.2843421697616577,
          17.24844741821289,
          17.815567016601562,
          22.639789581298828,
          19.771238327026367,
          16.4660701751709,
          11.09154224395752,
          17.015790939331055,
          14.065075874328613,
          17.453577041625977,
          16.811967849731445,
          16.020410537719727,
          15.571918487548828,
          14.710484504699707,
          15.957939147949219,
          18.989946365356445,
          14.83287525177002,
          16.379451751708984,
          15.765013694763184,
          20.62562370300293,
          13.988723754882812,
          -4.402223587036133,
          18.02393341064453,
          14.294168472290039,
          2.9830236434936523,
          16.492650985717773,
          15.971026420593262,
          16.388042449951172,
          18.54998779296875,
          14.214659690856934,
          18.1356258392334,
          17.56543731689453,
          20.265518188476562,
          9.838274955749512,
          16.582727432250977,
          -0.48761045932769775,
          -0.8451861143112183,
          9.347654342651367,
          14.123226165771484,
          9.109824180603027,
          8.80677318572998,
          8.96277904510498,
          9.36583423614502,
          8.759977340698242,
          22.298072814941406,
          8.381263732910156,
          8.895588874816895,
          8.292155265808105,
          8.592617988586426,
          8.226552963256836,
          -5.159816265106201,
          7.886902809143066,
          -5.350741863250732,
          18.489524841308594,
          8.539400100708008,
          21.02419662475586,
          8.067068099975586,
          21.834863662719727,
          2.16825008392334,
          8.15638542175293,
          18.62217140197754,
          7.827085018157959,
          15.441030502319336,
          2.5454695224761963,
          7.795624256134033,
          8.064799308776855,
          16.875642776489258,
          1.2711493968963623,
          -2.061906576156616,
          -4.53946590423584,
          -1.0369504690170288,
          -5.077062129974365,
          0.9158552289009094,
          20.946176528930664,
          -2.0100481510162354,
          22.548372268676758,
          19.778133392333984,
          -1.4589542150497437,
          22.994977951049805,
          19.360370635986328,
          -3.5269994735717773,
          -3.3633341789245605,
          -0.6614530682563782,
          -4.565809726715088,
          -3.7082462310791016,
          -1.098260760307312,
          -1.2235456705093384,
          -0.42603299021720886,
          10.686492919921875,
          21.82427406311035,
          21.265453338623047,
          8.804882049560547,
          17.59706687927246,
          -3.918686866760254,
          18.702850341796875,
          -3.856987953186035,
          19.219650268554688,
          1.6019821166992188,
          -3.621206283569336,
          -3.1027567386627197,
          -2.8994548320770264,
          -1.4792304039001465,
          -1.5193488597869873,
          2.9682865142822266,
          -1.9919770956039429,
          -2.170503616333008,
          3.5076982975006104,
          3.8709912300109863,
          -1.8523820638656616,
          -2.1387507915496826,
          -2.2001140117645264,
          18.442195892333984,
          -3.57029128074646,
          -3.0407848358154297,
          -3.0925137996673584,
          -2.0638489723205566,
          15.941859245300293,
          -2.70965313911438,
          -1.9112361669540405,
          -2.3029820919036865,
          18.82367515563965,
          -2.8159146308898926,
          -4.318084716796875,
          -2.384800672531128,
          1.0325759649276733,
          -2.785459041595459,
          15.549738883972168,
          13.720281600952148,
          -1.9692933559417725,
          -0.07680889964103699,
          0.7457205653190613,
          11.366081237792969,
          4.257737159729004,
          20.167076110839844,
          15.92001724243164,
          -3.045778751373291,
          -2.6645407676696777,
          -1.9011784791946411,
          -2.0788004398345947,
          12.264805793762207,
          3.7990052700042725,
          22.32704734802246,
          -2.400930881500244,
          -1.226940631866455,
          -1.6088143587112427,
          21.76276206970215,
          11.311915397644043,
          -1.0216200351715088,
          11.134254455566406,
          11.315978050231934,
          0.9031818509101868,
          11.206873893737793,
          3.4880669116973877,
          8.964582443237305,
          -0.7391824722290039,
          22.477285385131836,
          -0.19756077229976654,
          21.084089279174805,
          -1.9574458599090576,
          0.29956451058387756,
          -3.1040725708007812,
          2.300318956375122,
          -3.4671831130981445,
          -1.9000486135482788,
          0.1927940547466278,
          -4.540365695953369,
          -1.5734808444976807,
          1.488683819770813,
          2.32279109954834,
          14.05647087097168,
          -5.047513008117676,
          -1.7902754545211792,
          -0.804474949836731,
          2.501845359802246,
          0.17482155561447144,
          1.012710690498352,
          0.528518795967102,
          -0.6158111095428467,
          -2.5659446716308594,
          -0.8815158605575562,
          -0.25189584493637085,
          -0.4024088978767395,
          1.8785090446472168,
          -1.953985571861267,
          1.122026801109314,
          -1.4010404348373413,
          16.30963134765625,
          -1.5578787326812744,
          -1.669356346130371,
          -0.9608209729194641,
          1.941673994064331,
          -2.716951608657837,
          -0.7873801589012146,
          1.9882179498672485,
          1.806406855583191,
          21.622285842895508,
          1.2928497791290283,
          1.9545814990997314,
          21.27106285095215,
          -0.09022082388401031,
          -1.9632799625396729,
          -0.9292984008789062,
          -2.875401258468628,
          11.811480522155762,
          -1.8888927698135376,
          -0.8297330737113953,
          -0.506497859954834
         ],
         "y": [
          -22.770618438720703,
          -22.026201248168945,
          -22.760997772216797,
          -24.07129669189453,
          -19.677385330200195,
          -21.184120178222656,
          -20.16703224182129,
          -2.3959128856658936,
          -2.0606911182403564,
          -20.761653900146484,
          -19.526865005493164,
          -20.578487396240234,
          -23.982975006103516,
          -20.74386978149414,
          -7.851926803588867,
          -20.83344078063965,
          0.3879721760749817,
          -21.28435707092285,
          -20.894590377807617,
          -20.566675186157227,
          -21.173736572265625,
          -21.36930274963379,
          -20.551963806152344,
          -21.657175064086914,
          -20.876792907714844,
          -21.802448272705078,
          -23.041797637939453,
          -21.667743682861328,
          -20.971389770507812,
          -21.217575073242188,
          -23.605833053588867,
          -21.654197692871094,
          -21.02173614501953,
          -22.510526657104492,
          -23.282052993774414,
          -22.067930221557617,
          -20.39580726623535,
          -4.019896030426025,
          -22.008621215820312,
          -21.17713165283203,
          1.0943987369537354,
          -17.985307693481445,
          -21.91130256652832,
          -22.073511123657227,
          -22.16423225402832,
          -21.25037384033203,
          -22.868295669555664,
          -21.764495849609375,
          -22.668806076049805,
          -23.678791046142578,
          -22.72203826904297,
          -1.3536964654922485,
          -1.304395079612732,
          -23.460330963134766,
          -22.128726959228516,
          -23.468204498291016,
          -23.442276000976562,
          -22.877702713012695,
          -22.465290069580078,
          -22.984209060668945,
          -21.624126434326172,
          -22.823036193847656,
          -22.703508377075195,
          -23.14846420288086,
          -22.45726776123047,
          -23.411184310913086,
          -4.618932247161865,
          -22.995506286621094,
          -4.365673065185547,
          -21.830554962158203,
          -22.2587947845459,
          -20.639404296875,
          -22.43869400024414,
          -21.68220329284668,
          4.238058090209961,
          -22.21300506591797,
          -21.32234764099121,
          -22.442705154418945,
          -20.05202865600586,
          1.048122525215149,
          -22.908159255981445,
          -23.36066246032715,
          -20.73003387451172,
          0.4698827266693115,
          0.03562518581748009,
          -5.776586055755615,
          -8.464815139770508,
          -4.681475639343262,
          0.7396730184555054,
          -19.474084854125977,
          1.3534318208694458,
          -21.057510375976562,
          -19.83128547668457,
          -0.5721153020858765,
          -21.99606704711914,
          -18.355525970458984,
          -6.311547756195068,
          -5.777514934539795,
          0.38900279998779297,
          -5.784152030944824,
          -5.065894603729248,
          -1.992708444595337,
          7.13645076751709,
          -0.9316245317459106,
          -21.458446502685547,
          -20.99398422241211,
          -22.5748348236084,
          -24.42738151550293,
          -19.852357864379883,
          -6.138769149780273,
          -19.969953536987305,
          -4.640793323516846,
          -23.6361083984375,
          0.5452945828437805,
          -7.020586967468262,
          5.602613925933838,
          -7.9676432609558105,
          -0.16345463693141937,
          4.747040271759033,
          0.44986239075660706,
          -0.12956681847572327,
          -6.385262489318848,
          -1.8691794872283936,
          -1.494045615196228,
          -7.190063953399658,
          -7.006110668182373,
          -2.1512489318847656,
          -19.19643783569336,
          -2.054523468017578,
          -5.1240081787109375,
          -0.40949979424476624,
          3.0044143199920654,
          -19.24506950378418,
          -7.5963850021362305,
          -5.584471225738525,
          -0.6796055436134338,
          -19.424543380737305,
          -4.117650032043457,
          0.8096188902854919,
          -7.992612361907959,
          -2.5439507961273193,
          2.047640800476074,
          -19.40045166015625,
          -22.95952796936035,
          5.841624736785889,
          -0.7936038374900818,
          -0.3463950753211975,
          -20.759458541870117,
          -1.4728161096572876,
          -20.700502395629883,
          -19.557472229003906,
          -6.487937927246094,
          -5.904788970947266,
          -4.11680793762207,
          -5.8897705078125,
          -16.42572784423828,
          -1.5070313215255737,
          -19.915302276611328,
          -3.9450435638427734,
          1.442033052444458,
          -6.579026222229004,
          -20.428871154785156,
          -20.80028533935547,
          6.621642112731934,
          -20.80223274230957,
          -20.949186325073242,
          -0.5271417498588562,
          -20.865510940551758,
          -1.1644792556762695,
          -24.63429069519043,
          -0.14992165565490723,
          -20.341814041137695,
          -0.969109296798706,
          -21.43353843688965,
          -3.9154553413391113,
          0.9038532376289368,
          -4.508273601531982,
          -4.253063678741455,
          5.732021331787109,
          -1.00133216381073,
          -0.36663174629211426,
          7.805685043334961,
          -1.2384666204452515,
          -7.821362018585205,
          -9.905953407287598,
          -23.4559326171875,
          -7.31497859954834,
          -2.530726194381714,
          -7.259146213531494,
          -6.228751182556152,
          -6.709779739379883,
          -2.5521204471588135,
          2.4127562046051025,
          -0.42587733268737793,
          -7.303098201751709,
          -5.664559841156006,
          0.0001250577042810619,
          -7.282961368560791,
          -8.125706672668457,
          -5.339147567749023,
          -7.700113773345947,
          -1.3932178020477295,
          -19.774438858032227,
          -0.8208421468734741,
          5.85087776184082,
          -4.949544906616211,
          -9.09630012512207,
          7.067050933837891,
          -5.796551704406738,
          -9.621465682983398,
          -8.335293769836426,
          -19.76300811767578,
          -9.461182594299316,
          -9.233879089355469,
          -19.358718872070312,
          -4.7843122482299805,
          -1.864906668663025,
          -6.716821670532227,
          7.402504920959473,
          -20.308738708496094,
          -1.0986441373825073,
          1.1478469371795654,
          -5.099937438964844
         ]
        },
        {
         "mode": "markers",
         "name": "NewsFeed",
         "type": "scatter",
         "uid": "de0b8d97-1eba-4bae-8abd-fbe66476ee1a",
         "x": [
          14.823904991149902,
          15.28960132598877,
          14.958209037780762,
          16.330780029296875,
          11.096502304077148,
          15.34804916381836,
          14.014273643493652,
          13.567121505737305,
          16.19892120361328,
          14.401612281799316,
          15.499872207641602,
          14.292107582092285,
          9.890934944152832,
          15.653474807739258,
          15.372466087341309,
          14.745563507080078,
          16.196840286254883,
          14.930360794067383,
          5.374242782592773,
          15.239571571350098,
          11.172816276550293,
          14.496304512023926,
          16.29315185546875,
          13.94318675994873,
          15.642345428466797,
          15.899673461914062,
          14.354622840881348,
          14.04194164276123,
          15.263981819152832,
          14.056130409240723,
          14.278788566589355,
          14.414148330688477,
          7.3161845207214355,
          15.315624237060547,
          7.281137466430664,
          14.831927299499512,
          14.435961723327637,
          16.169784545898438,
          16.484189987182617,
          5.305492401123047,
          13.735194206237793,
          13.654122352600098,
          15.355780601501465,
          5.271899700164795,
          14.685402870178223
         ],
         "y": [
          4.844404697418213,
          4.992766857147217,
          5.3263373374938965,
          7.953161239624023,
          5.990694999694824,
          5.754147052764893,
          4.927712440490723,
          5.206847667694092,
          5.134188652038574,
          5.972375392913818,
          8.092114448547363,
          5.452491283416748,
          5.96737813949585,
          6.768661022186279,
          4.6974287033081055,
          5.105976104736328,
          7.316291332244873,
          6.448163986206055,
          2.860231637954712,
          6.268725872039795,
          5.919582366943359,
          4.222921848297119,
          7.118607521057129,
          8.284374237060547,
          7.75221586227417,
          5.8251447677612305,
          4.8349833488464355,
          4.539520740509033,
          7.113672733306885,
          4.2215118408203125,
          8.756281852722168,
          5.316418647766113,
          2.7119407653808594,
          7.539872646331787,
          2.700714349746704,
          7.13521671295166,
          7.484071254730225,
          6.6952128410339355,
          6.10977029800415,
          2.8410110473632812,
          6.624597549438477,
          3.6964986324310303,
          7.425044059753418,
          2.837604522705078,
          6.822639465332031
         ]
        },
        {
         "mode": "markers",
         "name": "NonEnglish",
         "type": "scatter",
         "uid": "f5d127ca-5bd2-4529-88f0-f98e90dd7825",
         "x": [
          0.7879155278205872,
          1.5259255170822144,
          -3.750466823577881,
          1.2724131345748901,
          -1.1242334842681885,
          0.807846188545227,
          -0.9868663549423218
         ],
         "y": [
          4.213881015777588,
          4.477628231048584,
          0.8997141122817993,
          5.107072353363037,
          8.08604907989502,
          4.178236961364746,
          8.267346382141113
         ]
        },
        {
         "mode": "markers",
         "name": "Commercial",
         "type": "scatter",
         "uid": "411f9c35-61cc-461a-b2ba-274514d2e978",
         "x": [
          -20.117645263671875,
          -20.110729217529297,
          -20.111248016357422,
          -20.133588790893555,
          11.511000633239746
         ],
         "y": [
          4.848291873931885,
          5.506946563720703,
          5.479358673095703,
          5.18245267868042,
          5.342092514038086
         ]
        },
        {
         "mode": "markers",
         "name": "Unknown",
         "type": "scatter",
         "uid": "7e472129-f4cd-4db8-a2aa-68fe72757f2a",
         "x": [
          -5.17751932144165,
          -4.15042781829834
         ],
         "y": [
          10.439294815063477,
          8.550047874450684
         ]
        }
       ],
       "layout": {
        "title": {
         "text": "t-SNE Scatter: Original Labels"
        }
       }
      },
      "text/html": [
       "<div id=\"10c17e33-3e7e-477a-90ef-c1eb2629235f\" style=\"height: 525px; width: 100%;\" class=\"plotly-graph-div\"></div><script type=\"text/javascript\">require([\"plotly\"], function(Plotly) { window.PLOTLYENV=window.PLOTLYENV || {};window.PLOTLYENV.BASE_URL=\"https://plot.ly\";Plotly.newPlot(\"10c17e33-3e7e-477a-90ef-c1eb2629235f\", [{\"mode\": \"markers\", \"name\": \"LeftTroll\", \"x\": [2.6311099529266357, -2.03224515914917, -1.901610016822815, -1.977352261543274, -2.3233938217163086, -4.231539726257324, -4.100283145904541, -5.128933906555176, -3.60006046295166, -3.4673962593078613, -2.1179039478302, -3.4290406703948975, 2.3906829357147217, 2.5984296798706055, 2.9254565238952637, 1.6115825176239014, 2.5763025283813477, 1.743979573249817, 2.5710415840148926, -1.0276405811309814, -1.9653456211090088, -4.168886184692383, -2.3511343002319336, -1.1648283004760742, 1.5904686450958252, 2.644139528274536, 0.2555183470249176, -0.4570595622062683, 0.10873688012361526, 0.15685804188251495, -2.9841792583465576, -0.8603120446205139, 3.3116960525512695, -1.1188488006591797, -3.573540449142456, 1.8140504360198975, -0.07525935769081116, -0.5634605884552002, -3.3396899700164795, -2.9295811653137207, -0.9361324906349182, 12.581131935119629, -1.8597831726074219, -0.43402138352394104, 0.0012482107849791646, -2.6239278316497803, -2.1399567127227783, -0.6871441006660461, -4.046044826507568, -0.9013848304748535, -2.506997585296631, -4.389674186706543, -3.0144996643066406, -2.963568687438965, -3.602837085723877, -2.3087003231048584, -1.6624072790145874, -1.3531126976013184, -3.4810733795166016, -2.4293603897094727, -2.831540107727051, 1.3269952535629272, -2.3952722549438477, 11.979398727416992, -2.3454339504241943, -3.5339434146881104, -0.8723316192626953, -1.513735055923462, -1.4526983499526978, -1.5384385585784912, -1.0847049951553345, 12.179387092590332, -0.9805942177772522, -4.247860908508301, -2.4893391132354736, -2.6273984909057617, -2.8907809257507324, -2.64431095123291, -2.982811212539673, 1.2576948404312134, -2.9041731357574463, -2.756882905960083, -1.9989815950393677, -1.6459300518035889, 2.003925085067749, 0.495168536901474, -1.701798439025879, -5.2081427574157715, -1.114364504814148, -4.087822437286377, -2.4284145832061768, 1.1279240846633911, -1.4729607105255127, -1.4535069465637207, 0.9773813486099243, -4.88286018371582, -3.7710013389587402, -5.413035869598389, -1.7088618278503418, -1.6339356899261475, -1.1343793869018555, -1.6699968576431274, -1.5012723207473755, -1.4561043977737427, -1.4718196392059326, -5.447861194610596, -5.165768146514893, -1.7529441118240356, -1.6527968645095825, -5.422482013702393, 3.024155616760254, -4.981429100036621, 1.1362006664276123, -1.7298598289489746, -2.222963571548462, 12.228255271911621, -5.117091655731201, -1.6119402647018433], \"y\": [14.029592514038086, 14.786515235900879, 22.089324951171875, 19.518930435180664, 16.735746383666992, 14.829385757446289, 22.60837173461914, 10.355360984802246, 22.14396095275879, 20.99765968322754, 18.100709915161133, 22.468551635742188, -3.9411182403564453, 11.897525787353516, 11.8296480178833, 11.856169700622559, 12.0540132522583, 11.862930297851562, 13.842853546142578, 22.468284606933594, 23.194372177124023, 16.63888931274414, 14.741988182067871, 14.836496353149414, 16.86794090270996, 1.3070927858352661, 15.613402366638184, 15.103460311889648, 14.522439002990723, 14.421483039855957, 20.926488876342773, 14.260235786437988, 11.787546157836914, 17.24713897705078, 23.45110511779785, 13.47987174987793, 15.881128311157227, 13.624871253967285, 16.667306900024414, 22.137283325195312, 13.636516571044922, -17.172821044921875, 18.39664649963379, 13.589139938354492, 4.307967185974121, 21.80748748779297, 19.418582916259766, 12.25082015991211, 15.841110229492188, 11.893013954162598, 21.074922561645508, 15.282243728637695, 15.652368545532227, 23.688404083251953, 15.395115852355957, 22.429004669189453, 9.577616691589355, 13.419615745544434, 14.105329513549805, 22.587881088256836, 15.521685600280762, 17.237531661987305, 22.878873825073242, -15.683639526367188, 22.025022506713867, 16.013425827026367, 12.499146461486816, 13.93826961517334, 15.113456726074219, 14.365506172180176, 11.563972473144531, -16.213531494140625, 10.735671997070312, 16.705148696899414, 8.605506896972656, 8.733586311340332, 21.84864616394043, 19.328500747680664, 21.30772590637207, 17.306766510009766, 23.119571685791016, 22.962146759033203, 2.9161183834075928, 16.354463577270508, 12.10792350769043, 17.361209869384766, 15.449015617370605, 15.263532638549805, 9.781107902526855, 13.861165046691895, 23.54612922668457, 17.621641159057617, 21.790149688720703, 15.761780738830566, 17.371715545654297, 15.303814888000488, 13.979826927185059, 15.47346019744873, 22.946189880371094, 21.396156311035156, 10.036235809326172, 22.456066131591797, 11.09920597076416, 20.444377899169922, 12.574812889099121, 15.262110710144043, 14.552105903625488, 12.708939552307129, 13.050065994262695, 15.957801818847656, 13.440034866333008, 13.453536033630371, 12.271039962768555, 21.237577438354492, 16.01360511779785, -16.30348014831543, 16.391719818115234, 23.319631576538086], \"type\": \"scatter\", \"uid\": \"0069397d-2bb7-4853-b244-7df1d781c180\"}, {\"mode\": \"markers\", \"name\": \"HashtagGamer\", \"x\": [-23.88298225402832, -28.37559700012207, -28.281530380249023, -29.21928596496582, -27.552688598632812, -30.054563522338867, -29.059642791748047, -27.946094512939453, -27.80634880065918, -29.830202102661133, -28.61431312561035, -28.16130256652832, -27.52312660217285, -23.665586471557617, -25.989147186279297, -27.15929412841797, -25.48831558227539, -27.557592391967773, -27.30463409423828, -28.27501678466797, -27.0092830657959, -26.11077117919922, -26.284317016601562, -30.076068878173828, -26.71697998046875, -27.23648452758789, -26.573047637939453, -25.60487174987793, -24.80472183227539, -25.312612533569336, -25.673070907592773, -25.26442527770996, -26.070573806762695, -25.214189529418945, -25.478349685668945, -25.689510345458984, -26.332847595214844, -26.511255264282227, -27.762956619262695, -26.969804763793945, -27.76662254333496, -27.4262752532959, -26.771081924438477, -5.054012298583984, -26.952333450317383, -26.84392547607422, -27.18202781677246, -24.03813934326172, -23.336288452148438, -26.821069717407227, -27.015968322753906, -27.932167053222656, -26.43148422241211, -27.657489776611328, -4.945870399475098, -4.561019420623779, -23.64181900024414, -28.076839447021484, -28.161680221557617, -23.31794548034668, -3.837852716445923, -29.721630096435547, -3.7650859355926514], \"y\": [3.2430520057678223, 2.308289051055908, 2.4649760723114014, 2.0880701541900635, 3.1736948490142822, 2.5916266441345215, 3.0212655067443848, 3.237001419067383, 2.4501216411590576, 0.9213324785232544, 1.4908040761947632, 3.953831434249878, 5.128198146820068, 3.8787169456481934, 4.091392993927002, 4.427513599395752, 3.3854241371154785, 4.217957973480225, 4.40987491607666, 4.572561740875244, 4.417941570281982, 3.4830117225646973, 3.903494119644165, 1.6641167402267456, 3.846114158630371, 2.901597023010254, 3.1725833415985107, 2.463304281234741, 3.0101757049560547, 4.355539321899414, 0.5889314413070679, 1.0272592306137085, 0.7404301762580872, 2.5296642780303955, 2.9179201126098633, 1.9207689762115479, 1.014158010482788, 1.8093540668487549, 1.6484299898147583, 1.4395543336868286, 1.6462587118148804, 1.929335594177246, 1.7170480489730835, 7.726742744445801, 0.775102436542511, 1.8314776420593262, 1.0111368894577026, 3.0726394653320312, 2.714022397994995, 0.5656549334526062, 2.2793774604797363, 1.0637843608856201, 2.4072046279907227, 1.1732733249664307, 7.746164321899414, 7.817872524261475, 3.1138782501220703, -0.08088798075914383, 0.6400311589241028, 3.5427544116973877, 7.844533443450928, 0.9389052391052246, 7.852639675140381], \"type\": \"scatter\", \"uid\": \"576af61d-acf1-43ed-83ef-f3fbb13b1edc\"}, {\"mode\": \"markers\", \"name\": \"RightTroll\", \"x\": [14.783202171325684, 14.073685646057129, 14.901622772216797, 16.26125717163086, 19.79985809326172, 21.26251792907715, 18.319509506225586, -0.6703168153762817, 3.420219898223877, 21.872034072875977, 18.024490356445312, 18.230735778808594, 17.295108795166016, 19.153017044067383, -4.006979942321777, 17.892559051513672, -1.2843421697616577, 17.24844741821289, 17.815567016601562, 22.639789581298828, 19.771238327026367, 16.4660701751709, 11.09154224395752, 17.015790939331055, 14.065075874328613, 17.453577041625977, 16.811967849731445, 16.020410537719727, 15.571918487548828, 14.710484504699707, 15.957939147949219, 18.989946365356445, 14.83287525177002, 16.379451751708984, 15.765013694763184, 20.62562370300293, 13.988723754882812, -4.402223587036133, 18.02393341064453, 14.294168472290039, 2.9830236434936523, 16.492650985717773, 15.971026420593262, 16.388042449951172, 18.54998779296875, 14.214659690856934, 18.1356258392334, 17.56543731689453, 20.265518188476562, 9.838274955749512, 16.582727432250977, -0.48761045932769775, -0.8451861143112183, 9.347654342651367, 14.123226165771484, 9.109824180603027, 8.80677318572998, 8.96277904510498, 9.36583423614502, 8.759977340698242, 22.298072814941406, 8.381263732910156, 8.895588874816895, 8.292155265808105, 8.592617988586426, 8.226552963256836, -5.159816265106201, 7.886902809143066, -5.350741863250732, 18.489524841308594, 8.539400100708008, 21.02419662475586, 8.067068099975586, 21.834863662719727, 2.16825008392334, 8.15638542175293, 18.62217140197754, 7.827085018157959, 15.441030502319336, 2.5454695224761963, 7.795624256134033, 8.064799308776855, 16.875642776489258, 1.2711493968963623, -2.061906576156616, -4.53946590423584, -1.0369504690170288, -5.077062129974365, 0.9158552289009094, 20.946176528930664, -2.0100481510162354, 22.548372268676758, 19.778133392333984, -1.4589542150497437, 22.994977951049805, 19.360370635986328, -3.5269994735717773, -3.3633341789245605, -0.6614530682563782, -4.565809726715088, -3.7082462310791016, -1.098260760307312, -1.2235456705093384, -0.42603299021720886, 10.686492919921875, 21.82427406311035, 21.265453338623047, 8.804882049560547, 17.59706687927246, -3.918686866760254, 18.702850341796875, -3.856987953186035, 19.219650268554688, 1.6019821166992188, -3.621206283569336, -3.1027567386627197, -2.8994548320770264, -1.4792304039001465, -1.5193488597869873, 2.9682865142822266, -1.9919770956039429, -2.170503616333008, 3.5076982975006104, 3.8709912300109863, -1.8523820638656616, -2.1387507915496826, -2.2001140117645264, 18.442195892333984, -3.57029128074646, -3.0407848358154297, -3.0925137996673584, -2.0638489723205566, 15.941859245300293, -2.70965313911438, -1.9112361669540405, -2.3029820919036865, 18.82367515563965, -2.8159146308898926, -4.318084716796875, -2.384800672531128, 1.0325759649276733, -2.785459041595459, 15.549738883972168, 13.720281600952148, -1.9692933559417725, -0.07680889964103699, 0.7457205653190613, 11.366081237792969, 4.257737159729004, 20.167076110839844, 15.92001724243164, -3.045778751373291, -2.6645407676696777, -1.9011784791946411, -2.0788004398345947, 12.264805793762207, 3.7990052700042725, 22.32704734802246, -2.400930881500244, -1.226940631866455, -1.6088143587112427, 21.76276206970215, 11.311915397644043, -1.0216200351715088, 11.134254455566406, 11.315978050231934, 0.9031818509101868, 11.206873893737793, 3.4880669116973877, 8.964582443237305, -0.7391824722290039, 22.477285385131836, -0.19756077229976654, 21.084089279174805, -1.9574458599090576, 0.29956451058387756, -3.1040725708007812, 2.300318956375122, -3.4671831130981445, -1.9000486135482788, 0.1927940547466278, -4.540365695953369, -1.5734808444976807, 1.488683819770813, 2.32279109954834, 14.05647087097168, -5.047513008117676, -1.7902754545211792, -0.804474949836731, 2.501845359802246, 0.17482155561447144, 1.012710690498352, 0.528518795967102, -0.6158111095428467, -2.5659446716308594, -0.8815158605575562, -0.25189584493637085, -0.4024088978767395, 1.8785090446472168, -1.953985571861267, 1.122026801109314, -1.4010404348373413, 16.30963134765625, -1.5578787326812744, -1.669356346130371, -0.9608209729194641, 1.941673994064331, -2.716951608657837, -0.7873801589012146, 1.9882179498672485, 1.806406855583191, 21.622285842895508, 1.2928497791290283, 1.9545814990997314, 21.27106285095215, -0.09022082388401031, -1.9632799625396729, -0.9292984008789062, -2.875401258468628, 11.811480522155762, -1.8888927698135376, -0.8297330737113953, -0.506497859954834], \"y\": [-22.770618438720703, -22.026201248168945, -22.760997772216797, -24.07129669189453, -19.677385330200195, -21.184120178222656, -20.16703224182129, -2.3959128856658936, -2.0606911182403564, -20.761653900146484, -19.526865005493164, -20.578487396240234, -23.982975006103516, -20.74386978149414, -7.851926803588867, -20.83344078063965, 0.3879721760749817, -21.28435707092285, -20.894590377807617, -20.566675186157227, -21.173736572265625, -21.36930274963379, -20.551963806152344, -21.657175064086914, -20.876792907714844, -21.802448272705078, -23.041797637939453, -21.667743682861328, -20.971389770507812, -21.217575073242188, -23.605833053588867, -21.654197692871094, -21.02173614501953, -22.510526657104492, -23.282052993774414, -22.067930221557617, -20.39580726623535, -4.019896030426025, -22.008621215820312, -21.17713165283203, 1.0943987369537354, -17.985307693481445, -21.91130256652832, -22.073511123657227, -22.16423225402832, -21.25037384033203, -22.868295669555664, -21.764495849609375, -22.668806076049805, -23.678791046142578, -22.72203826904297, -1.3536964654922485, -1.304395079612732, -23.460330963134766, -22.128726959228516, -23.468204498291016, -23.442276000976562, -22.877702713012695, -22.465290069580078, -22.984209060668945, -21.624126434326172, -22.823036193847656, -22.703508377075195, -23.14846420288086, -22.45726776123047, -23.411184310913086, -4.618932247161865, -22.995506286621094, -4.365673065185547, -21.830554962158203, -22.2587947845459, -20.639404296875, -22.43869400024414, -21.68220329284668, 4.238058090209961, -22.21300506591797, -21.32234764099121, -22.442705154418945, -20.05202865600586, 1.048122525215149, -22.908159255981445, -23.36066246032715, -20.73003387451172, 0.4698827266693115, 0.03562518581748009, -5.776586055755615, -8.464815139770508, -4.681475639343262, 0.7396730184555054, -19.474084854125977, 1.3534318208694458, -21.057510375976562, -19.83128547668457, -0.5721153020858765, -21.99606704711914, -18.355525970458984, -6.311547756195068, -5.777514934539795, 0.38900279998779297, -5.784152030944824, -5.065894603729248, -1.992708444595337, 7.13645076751709, -0.9316245317459106, -21.458446502685547, -20.99398422241211, -22.5748348236084, -24.42738151550293, -19.852357864379883, -6.138769149780273, -19.969953536987305, -4.640793323516846, -23.6361083984375, 0.5452945828437805, -7.020586967468262, 5.602613925933838, -7.9676432609558105, -0.16345463693141937, 4.747040271759033, 0.44986239075660706, -0.12956681847572327, -6.385262489318848, -1.8691794872283936, -1.494045615196228, -7.190063953399658, -7.006110668182373, -2.1512489318847656, -19.19643783569336, -2.054523468017578, -5.1240081787109375, -0.40949979424476624, 3.0044143199920654, -19.24506950378418, -7.5963850021362305, -5.584471225738525, -0.6796055436134338, -19.424543380737305, -4.117650032043457, 0.8096188902854919, -7.992612361907959, -2.5439507961273193, 2.047640800476074, -19.40045166015625, -22.95952796936035, 5.841624736785889, -0.7936038374900818, -0.3463950753211975, -20.759458541870117, -1.4728161096572876, -20.700502395629883, -19.557472229003906, -6.487937927246094, -5.904788970947266, -4.11680793762207, -5.8897705078125, -16.42572784423828, -1.5070313215255737, -19.915302276611328, -3.9450435638427734, 1.442033052444458, -6.579026222229004, -20.428871154785156, -20.80028533935547, 6.621642112731934, -20.80223274230957, -20.949186325073242, -0.5271417498588562, -20.865510940551758, -1.1644792556762695, -24.63429069519043, -0.14992165565490723, -20.341814041137695, -0.969109296798706, -21.43353843688965, -3.9154553413391113, 0.9038532376289368, -4.508273601531982, -4.253063678741455, 5.732021331787109, -1.00133216381073, -0.36663174629211426, 7.805685043334961, -1.2384666204452515, -7.821362018585205, -9.905953407287598, -23.4559326171875, -7.31497859954834, -2.530726194381714, -7.259146213531494, -6.228751182556152, -6.709779739379883, -2.5521204471588135, 2.4127562046051025, -0.42587733268737793, -7.303098201751709, -5.664559841156006, 0.0001250577042810619, -7.282961368560791, -8.125706672668457, -5.339147567749023, -7.700113773345947, -1.3932178020477295, -19.774438858032227, -0.8208421468734741, 5.85087776184082, -4.949544906616211, -9.09630012512207, 7.067050933837891, -5.796551704406738, -9.621465682983398, -8.335293769836426, -19.76300811767578, -9.461182594299316, -9.233879089355469, -19.358718872070312, -4.7843122482299805, -1.864906668663025, -6.716821670532227, 7.402504920959473, -20.308738708496094, -1.0986441373825073, 1.1478469371795654, -5.099937438964844], \"type\": \"scatter\", \"uid\": \"14856631-c2f0-4c53-984a-7034a6f02ed1\"}, {\"mode\": \"markers\", \"name\": \"NewsFeed\", \"x\": [14.823904991149902, 15.28960132598877, 14.958209037780762, 16.330780029296875, 11.096502304077148, 15.34804916381836, 14.014273643493652, 13.567121505737305, 16.19892120361328, 14.401612281799316, 15.499872207641602, 14.292107582092285, 9.890934944152832, 15.653474807739258, 15.372466087341309, 14.745563507080078, 16.196840286254883, 14.930360794067383, 5.374242782592773, 15.239571571350098, 11.172816276550293, 14.496304512023926, 16.29315185546875, 13.94318675994873, 15.642345428466797, 15.899673461914062, 14.354622840881348, 14.04194164276123, 15.263981819152832, 14.056130409240723, 14.278788566589355, 14.414148330688477, 7.3161845207214355, 15.315624237060547, 7.281137466430664, 14.831927299499512, 14.435961723327637, 16.169784545898438, 16.484189987182617, 5.305492401123047, 13.735194206237793, 13.654122352600098, 15.355780601501465, 5.271899700164795, 14.685402870178223], \"y\": [4.844404697418213, 4.992766857147217, 5.3263373374938965, 7.953161239624023, 5.990694999694824, 5.754147052764893, 4.927712440490723, 5.206847667694092, 5.134188652038574, 5.972375392913818, 8.092114448547363, 5.452491283416748, 5.96737813949585, 6.768661022186279, 4.6974287033081055, 5.105976104736328, 7.316291332244873, 6.448163986206055, 2.860231637954712, 6.268725872039795, 5.919582366943359, 4.222921848297119, 7.118607521057129, 8.284374237060547, 7.75221586227417, 5.8251447677612305, 4.8349833488464355, 4.539520740509033, 7.113672733306885, 4.2215118408203125, 8.756281852722168, 5.316418647766113, 2.7119407653808594, 7.539872646331787, 2.700714349746704, 7.13521671295166, 7.484071254730225, 6.6952128410339355, 6.10977029800415, 2.8410110473632812, 6.624597549438477, 3.6964986324310303, 7.425044059753418, 2.837604522705078, 6.822639465332031], \"type\": \"scatter\", \"uid\": \"de0b8d97-1eba-4bae-8abd-fbe66476ee1a\"}, {\"mode\": \"markers\", \"name\": \"NonEnglish\", \"x\": [0.7879155278205872, 1.5259255170822144, -3.750466823577881, 1.2724131345748901, -1.1242334842681885, 0.807846188545227, -0.9868663549423218], \"y\": [4.213881015777588, 4.477628231048584, 0.8997141122817993, 5.107072353363037, 8.08604907989502, 4.178236961364746, 8.267346382141113], \"type\": \"scatter\", \"uid\": \"f5d127ca-5bd2-4529-88f0-f98e90dd7825\"}, {\"mode\": \"markers\", \"name\": \"Commercial\", \"x\": [-20.117645263671875, -20.110729217529297, -20.111248016357422, -20.133588790893555, 11.511000633239746], \"y\": [4.848291873931885, 5.506946563720703, 5.479358673095703, 5.18245267868042, 5.342092514038086], \"type\": \"scatter\", \"uid\": \"411f9c35-61cc-461a-b2ba-274514d2e978\"}, {\"mode\": \"markers\", \"name\": \"Unknown\", \"x\": [-5.17751932144165, -4.15042781829834], \"y\": [10.439294815063477, 8.550047874450684], \"type\": \"scatter\", \"uid\": \"7e472129-f4cd-4db8-a2aa-68fe72757f2a\"}], {\"title\": {\"text\": \"t-SNE Scatter: Original Labels\"}}, {\"showLink\": false, \"linkText\": \"Export to plot.ly\", \"plotlyServerURL\": \"https://plot.ly\"})});</script><script type=\"text/javascript\">window.addEventListener(\"resize\", function(){window._Plotly.Plots.resize(document.getElementById(\"10c17e33-3e7e-477a-90ef-c1eb2629235f\"));});</script>"
      ],
      "text/vnd.plotly.v1+html": [
       "<div id=\"10c17e33-3e7e-477a-90ef-c1eb2629235f\" style=\"height: 525px; width: 100%;\" class=\"plotly-graph-div\"></div><script type=\"text/javascript\">require([\"plotly\"], function(Plotly) { window.PLOTLYENV=window.PLOTLYENV || {};window.PLOTLYENV.BASE_URL=\"https://plot.ly\";Plotly.newPlot(\"10c17e33-3e7e-477a-90ef-c1eb2629235f\", [{\"mode\": \"markers\", \"name\": \"LeftTroll\", \"x\": [2.6311099529266357, -2.03224515914917, -1.901610016822815, -1.977352261543274, -2.3233938217163086, -4.231539726257324, -4.100283145904541, -5.128933906555176, -3.60006046295166, -3.4673962593078613, -2.1179039478302, -3.4290406703948975, 2.3906829357147217, 2.5984296798706055, 2.9254565238952637, 1.6115825176239014, 2.5763025283813477, 1.743979573249817, 2.5710415840148926, -1.0276405811309814, -1.9653456211090088, -4.168886184692383, -2.3511343002319336, -1.1648283004760742, 1.5904686450958252, 2.644139528274536, 0.2555183470249176, -0.4570595622062683, 0.10873688012361526, 0.15685804188251495, -2.9841792583465576, -0.8603120446205139, 3.3116960525512695, -1.1188488006591797, -3.573540449142456, 1.8140504360198975, -0.07525935769081116, -0.5634605884552002, -3.3396899700164795, -2.9295811653137207, -0.9361324906349182, 12.581131935119629, -1.8597831726074219, -0.43402138352394104, 0.0012482107849791646, -2.6239278316497803, -2.1399567127227783, -0.6871441006660461, -4.046044826507568, -0.9013848304748535, -2.506997585296631, -4.389674186706543, -3.0144996643066406, -2.963568687438965, -3.602837085723877, -2.3087003231048584, -1.6624072790145874, -1.3531126976013184, -3.4810733795166016, -2.4293603897094727, -2.831540107727051, 1.3269952535629272, -2.3952722549438477, 11.979398727416992, -2.3454339504241943, -3.5339434146881104, -0.8723316192626953, -1.513735055923462, -1.4526983499526978, -1.5384385585784912, -1.0847049951553345, 12.179387092590332, -0.9805942177772522, -4.247860908508301, -2.4893391132354736, -2.6273984909057617, -2.8907809257507324, -2.64431095123291, -2.982811212539673, 1.2576948404312134, -2.9041731357574463, -2.756882905960083, -1.9989815950393677, -1.6459300518035889, 2.003925085067749, 0.495168536901474, -1.701798439025879, -5.2081427574157715, -1.114364504814148, -4.087822437286377, -2.4284145832061768, 1.1279240846633911, -1.4729607105255127, -1.4535069465637207, 0.9773813486099243, -4.88286018371582, -3.7710013389587402, -5.413035869598389, -1.7088618278503418, -1.6339356899261475, -1.1343793869018555, -1.6699968576431274, -1.5012723207473755, -1.4561043977737427, -1.4718196392059326, -5.447861194610596, -5.165768146514893, -1.7529441118240356, -1.6527968645095825, -5.422482013702393, 3.024155616760254, -4.981429100036621, 1.1362006664276123, -1.7298598289489746, -2.222963571548462, 12.228255271911621, -5.117091655731201, -1.6119402647018433], \"y\": [14.029592514038086, 14.786515235900879, 22.089324951171875, 19.518930435180664, 16.735746383666992, 14.829385757446289, 22.60837173461914, 10.355360984802246, 22.14396095275879, 20.99765968322754, 18.100709915161133, 22.468551635742188, -3.9411182403564453, 11.897525787353516, 11.8296480178833, 11.856169700622559, 12.0540132522583, 11.862930297851562, 13.842853546142578, 22.468284606933594, 23.194372177124023, 16.63888931274414, 14.741988182067871, 14.836496353149414, 16.86794090270996, 1.3070927858352661, 15.613402366638184, 15.103460311889648, 14.522439002990723, 14.421483039855957, 20.926488876342773, 14.260235786437988, 11.787546157836914, 17.24713897705078, 23.45110511779785, 13.47987174987793, 15.881128311157227, 13.624871253967285, 16.667306900024414, 22.137283325195312, 13.636516571044922, -17.172821044921875, 18.39664649963379, 13.589139938354492, 4.307967185974121, 21.80748748779297, 19.418582916259766, 12.25082015991211, 15.841110229492188, 11.893013954162598, 21.074922561645508, 15.282243728637695, 15.652368545532227, 23.688404083251953, 15.395115852355957, 22.429004669189453, 9.577616691589355, 13.419615745544434, 14.105329513549805, 22.587881088256836, 15.521685600280762, 17.237531661987305, 22.878873825073242, -15.683639526367188, 22.025022506713867, 16.013425827026367, 12.499146461486816, 13.93826961517334, 15.113456726074219, 14.365506172180176, 11.563972473144531, -16.213531494140625, 10.735671997070312, 16.705148696899414, 8.605506896972656, 8.733586311340332, 21.84864616394043, 19.328500747680664, 21.30772590637207, 17.306766510009766, 23.119571685791016, 22.962146759033203, 2.9161183834075928, 16.354463577270508, 12.10792350769043, 17.361209869384766, 15.449015617370605, 15.263532638549805, 9.781107902526855, 13.861165046691895, 23.54612922668457, 17.621641159057617, 21.790149688720703, 15.761780738830566, 17.371715545654297, 15.303814888000488, 13.979826927185059, 15.47346019744873, 22.946189880371094, 21.396156311035156, 10.036235809326172, 22.456066131591797, 11.09920597076416, 20.444377899169922, 12.574812889099121, 15.262110710144043, 14.552105903625488, 12.708939552307129, 13.050065994262695, 15.957801818847656, 13.440034866333008, 13.453536033630371, 12.271039962768555, 21.237577438354492, 16.01360511779785, -16.30348014831543, 16.391719818115234, 23.319631576538086], \"type\": \"scatter\", \"uid\": \"0069397d-2bb7-4853-b244-7df1d781c180\"}, {\"mode\": \"markers\", \"name\": \"HashtagGamer\", \"x\": [-23.88298225402832, -28.37559700012207, -28.281530380249023, -29.21928596496582, -27.552688598632812, -30.054563522338867, -29.059642791748047, -27.946094512939453, -27.80634880065918, -29.830202102661133, -28.61431312561035, -28.16130256652832, -27.52312660217285, -23.665586471557617, -25.989147186279297, -27.15929412841797, -25.48831558227539, -27.557592391967773, -27.30463409423828, -28.27501678466797, -27.0092830657959, -26.11077117919922, -26.284317016601562, -30.076068878173828, -26.71697998046875, -27.23648452758789, -26.573047637939453, -25.60487174987793, -24.80472183227539, -25.312612533569336, -25.673070907592773, -25.26442527770996, -26.070573806762695, -25.214189529418945, -25.478349685668945, -25.689510345458984, -26.332847595214844, -26.511255264282227, -27.762956619262695, -26.969804763793945, -27.76662254333496, -27.4262752532959, -26.771081924438477, -5.054012298583984, -26.952333450317383, -26.84392547607422, -27.18202781677246, -24.03813934326172, -23.336288452148438, -26.821069717407227, -27.015968322753906, -27.932167053222656, -26.43148422241211, -27.657489776611328, -4.945870399475098, -4.561019420623779, -23.64181900024414, -28.076839447021484, -28.161680221557617, -23.31794548034668, -3.837852716445923, -29.721630096435547, -3.7650859355926514], \"y\": [3.2430520057678223, 2.308289051055908, 2.4649760723114014, 2.0880701541900635, 3.1736948490142822, 2.5916266441345215, 3.0212655067443848, 3.237001419067383, 2.4501216411590576, 0.9213324785232544, 1.4908040761947632, 3.953831434249878, 5.128198146820068, 3.8787169456481934, 4.091392993927002, 4.427513599395752, 3.3854241371154785, 4.217957973480225, 4.40987491607666, 4.572561740875244, 4.417941570281982, 3.4830117225646973, 3.903494119644165, 1.6641167402267456, 3.846114158630371, 2.901597023010254, 3.1725833415985107, 2.463304281234741, 3.0101757049560547, 4.355539321899414, 0.5889314413070679, 1.0272592306137085, 0.7404301762580872, 2.5296642780303955, 2.9179201126098633, 1.9207689762115479, 1.014158010482788, 1.8093540668487549, 1.6484299898147583, 1.4395543336868286, 1.6462587118148804, 1.929335594177246, 1.7170480489730835, 7.726742744445801, 0.775102436542511, 1.8314776420593262, 1.0111368894577026, 3.0726394653320312, 2.714022397994995, 0.5656549334526062, 2.2793774604797363, 1.0637843608856201, 2.4072046279907227, 1.1732733249664307, 7.746164321899414, 7.817872524261475, 3.1138782501220703, -0.08088798075914383, 0.6400311589241028, 3.5427544116973877, 7.844533443450928, 0.9389052391052246, 7.852639675140381], \"type\": \"scatter\", \"uid\": \"576af61d-acf1-43ed-83ef-f3fbb13b1edc\"}, {\"mode\": \"markers\", \"name\": \"RightTroll\", \"x\": [14.783202171325684, 14.073685646057129, 14.901622772216797, 16.26125717163086, 19.79985809326172, 21.26251792907715, 18.319509506225586, -0.6703168153762817, 3.420219898223877, 21.872034072875977, 18.024490356445312, 18.230735778808594, 17.295108795166016, 19.153017044067383, -4.006979942321777, 17.892559051513672, -1.2843421697616577, 17.24844741821289, 17.815567016601562, 22.639789581298828, 19.771238327026367, 16.4660701751709, 11.09154224395752, 17.015790939331055, 14.065075874328613, 17.453577041625977, 16.811967849731445, 16.020410537719727, 15.571918487548828, 14.710484504699707, 15.957939147949219, 18.989946365356445, 14.83287525177002, 16.379451751708984, 15.765013694763184, 20.62562370300293, 13.988723754882812, -4.402223587036133, 18.02393341064453, 14.294168472290039, 2.9830236434936523, 16.492650985717773, 15.971026420593262, 16.388042449951172, 18.54998779296875, 14.214659690856934, 18.1356258392334, 17.56543731689453, 20.265518188476562, 9.838274955749512, 16.582727432250977, -0.48761045932769775, -0.8451861143112183, 9.347654342651367, 14.123226165771484, 9.109824180603027, 8.80677318572998, 8.96277904510498, 9.36583423614502, 8.759977340698242, 22.298072814941406, 8.381263732910156, 8.895588874816895, 8.292155265808105, 8.592617988586426, 8.226552963256836, -5.159816265106201, 7.886902809143066, -5.350741863250732, 18.489524841308594, 8.539400100708008, 21.02419662475586, 8.067068099975586, 21.834863662719727, 2.16825008392334, 8.15638542175293, 18.62217140197754, 7.827085018157959, 15.441030502319336, 2.5454695224761963, 7.795624256134033, 8.064799308776855, 16.875642776489258, 1.2711493968963623, -2.061906576156616, -4.53946590423584, -1.0369504690170288, -5.077062129974365, 0.9158552289009094, 20.946176528930664, -2.0100481510162354, 22.548372268676758, 19.778133392333984, -1.4589542150497437, 22.994977951049805, 19.360370635986328, -3.5269994735717773, -3.3633341789245605, -0.6614530682563782, -4.565809726715088, -3.7082462310791016, -1.098260760307312, -1.2235456705093384, -0.42603299021720886, 10.686492919921875, 21.82427406311035, 21.265453338623047, 8.804882049560547, 17.59706687927246, -3.918686866760254, 18.702850341796875, -3.856987953186035, 19.219650268554688, 1.6019821166992188, -3.621206283569336, -3.1027567386627197, -2.8994548320770264, -1.4792304039001465, -1.5193488597869873, 2.9682865142822266, -1.9919770956039429, -2.170503616333008, 3.5076982975006104, 3.8709912300109863, -1.8523820638656616, -2.1387507915496826, -2.2001140117645264, 18.442195892333984, -3.57029128074646, -3.0407848358154297, -3.0925137996673584, -2.0638489723205566, 15.941859245300293, -2.70965313911438, -1.9112361669540405, -2.3029820919036865, 18.82367515563965, -2.8159146308898926, -4.318084716796875, -2.384800672531128, 1.0325759649276733, -2.785459041595459, 15.549738883972168, 13.720281600952148, -1.9692933559417725, -0.07680889964103699, 0.7457205653190613, 11.366081237792969, 4.257737159729004, 20.167076110839844, 15.92001724243164, -3.045778751373291, -2.6645407676696777, -1.9011784791946411, -2.0788004398345947, 12.264805793762207, 3.7990052700042725, 22.32704734802246, -2.400930881500244, -1.226940631866455, -1.6088143587112427, 21.76276206970215, 11.311915397644043, -1.0216200351715088, 11.134254455566406, 11.315978050231934, 0.9031818509101868, 11.206873893737793, 3.4880669116973877, 8.964582443237305, -0.7391824722290039, 22.477285385131836, -0.19756077229976654, 21.084089279174805, -1.9574458599090576, 0.29956451058387756, -3.1040725708007812, 2.300318956375122, -3.4671831130981445, -1.9000486135482788, 0.1927940547466278, -4.540365695953369, -1.5734808444976807, 1.488683819770813, 2.32279109954834, 14.05647087097168, -5.047513008117676, -1.7902754545211792, -0.804474949836731, 2.501845359802246, 0.17482155561447144, 1.012710690498352, 0.528518795967102, -0.6158111095428467, -2.5659446716308594, -0.8815158605575562, -0.25189584493637085, -0.4024088978767395, 1.8785090446472168, -1.953985571861267, 1.122026801109314, -1.4010404348373413, 16.30963134765625, -1.5578787326812744, -1.669356346130371, -0.9608209729194641, 1.941673994064331, -2.716951608657837, -0.7873801589012146, 1.9882179498672485, 1.806406855583191, 21.622285842895508, 1.2928497791290283, 1.9545814990997314, 21.27106285095215, -0.09022082388401031, -1.9632799625396729, -0.9292984008789062, -2.875401258468628, 11.811480522155762, -1.8888927698135376, -0.8297330737113953, -0.506497859954834], \"y\": [-22.770618438720703, -22.026201248168945, -22.760997772216797, -24.07129669189453, -19.677385330200195, -21.184120178222656, -20.16703224182129, -2.3959128856658936, -2.0606911182403564, -20.761653900146484, -19.526865005493164, -20.578487396240234, -23.982975006103516, -20.74386978149414, -7.851926803588867, -20.83344078063965, 0.3879721760749817, -21.28435707092285, -20.894590377807617, -20.566675186157227, -21.173736572265625, -21.36930274963379, -20.551963806152344, -21.657175064086914, -20.876792907714844, -21.802448272705078, -23.041797637939453, -21.667743682861328, -20.971389770507812, -21.217575073242188, -23.605833053588867, -21.654197692871094, -21.02173614501953, -22.510526657104492, -23.282052993774414, -22.067930221557617, -20.39580726623535, -4.019896030426025, -22.008621215820312, -21.17713165283203, 1.0943987369537354, -17.985307693481445, -21.91130256652832, -22.073511123657227, -22.16423225402832, -21.25037384033203, -22.868295669555664, -21.764495849609375, -22.668806076049805, -23.678791046142578, -22.72203826904297, -1.3536964654922485, -1.304395079612732, -23.460330963134766, -22.128726959228516, -23.468204498291016, -23.442276000976562, -22.877702713012695, -22.465290069580078, -22.984209060668945, -21.624126434326172, -22.823036193847656, -22.703508377075195, -23.14846420288086, -22.45726776123047, -23.411184310913086, -4.618932247161865, -22.995506286621094, -4.365673065185547, -21.830554962158203, -22.2587947845459, -20.639404296875, -22.43869400024414, -21.68220329284668, 4.238058090209961, -22.21300506591797, -21.32234764099121, -22.442705154418945, -20.05202865600586, 1.048122525215149, -22.908159255981445, -23.36066246032715, -20.73003387451172, 0.4698827266693115, 0.03562518581748009, -5.776586055755615, -8.464815139770508, -4.681475639343262, 0.7396730184555054, -19.474084854125977, 1.3534318208694458, -21.057510375976562, -19.83128547668457, -0.5721153020858765, -21.99606704711914, -18.355525970458984, -6.311547756195068, -5.777514934539795, 0.38900279998779297, -5.784152030944824, -5.065894603729248, -1.992708444595337, 7.13645076751709, -0.9316245317459106, -21.458446502685547, -20.99398422241211, -22.5748348236084, -24.42738151550293, -19.852357864379883, -6.138769149780273, -19.969953536987305, -4.640793323516846, -23.6361083984375, 0.5452945828437805, -7.020586967468262, 5.602613925933838, -7.9676432609558105, -0.16345463693141937, 4.747040271759033, 0.44986239075660706, -0.12956681847572327, -6.385262489318848, -1.8691794872283936, -1.494045615196228, -7.190063953399658, -7.006110668182373, -2.1512489318847656, -19.19643783569336, -2.054523468017578, -5.1240081787109375, -0.40949979424476624, 3.0044143199920654, -19.24506950378418, -7.5963850021362305, -5.584471225738525, -0.6796055436134338, -19.424543380737305, -4.117650032043457, 0.8096188902854919, -7.992612361907959, -2.5439507961273193, 2.047640800476074, -19.40045166015625, -22.95952796936035, 5.841624736785889, -0.7936038374900818, -0.3463950753211975, -20.759458541870117, -1.4728161096572876, -20.700502395629883, -19.557472229003906, -6.487937927246094, -5.904788970947266, -4.11680793762207, -5.8897705078125, -16.42572784423828, -1.5070313215255737, -19.915302276611328, -3.9450435638427734, 1.442033052444458, -6.579026222229004, -20.428871154785156, -20.80028533935547, 6.621642112731934, -20.80223274230957, -20.949186325073242, -0.5271417498588562, -20.865510940551758, -1.1644792556762695, -24.63429069519043, -0.14992165565490723, -20.341814041137695, -0.969109296798706, -21.43353843688965, -3.9154553413391113, 0.9038532376289368, -4.508273601531982, -4.253063678741455, 5.732021331787109, -1.00133216381073, -0.36663174629211426, 7.805685043334961, -1.2384666204452515, -7.821362018585205, -9.905953407287598, -23.4559326171875, -7.31497859954834, -2.530726194381714, -7.259146213531494, -6.228751182556152, -6.709779739379883, -2.5521204471588135, 2.4127562046051025, -0.42587733268737793, -7.303098201751709, -5.664559841156006, 0.0001250577042810619, -7.282961368560791, -8.125706672668457, -5.339147567749023, -7.700113773345947, -1.3932178020477295, -19.774438858032227, -0.8208421468734741, 5.85087776184082, -4.949544906616211, -9.09630012512207, 7.067050933837891, -5.796551704406738, -9.621465682983398, -8.335293769836426, -19.76300811767578, -9.461182594299316, -9.233879089355469, -19.358718872070312, -4.7843122482299805, -1.864906668663025, -6.716821670532227, 7.402504920959473, -20.308738708496094, -1.0986441373825073, 1.1478469371795654, -5.099937438964844], \"type\": \"scatter\", \"uid\": \"14856631-c2f0-4c53-984a-7034a6f02ed1\"}, {\"mode\": \"markers\", \"name\": \"NewsFeed\", \"x\": [14.823904991149902, 15.28960132598877, 14.958209037780762, 16.330780029296875, 11.096502304077148, 15.34804916381836, 14.014273643493652, 13.567121505737305, 16.19892120361328, 14.401612281799316, 15.499872207641602, 14.292107582092285, 9.890934944152832, 15.653474807739258, 15.372466087341309, 14.745563507080078, 16.196840286254883, 14.930360794067383, 5.374242782592773, 15.239571571350098, 11.172816276550293, 14.496304512023926, 16.29315185546875, 13.94318675994873, 15.642345428466797, 15.899673461914062, 14.354622840881348, 14.04194164276123, 15.263981819152832, 14.056130409240723, 14.278788566589355, 14.414148330688477, 7.3161845207214355, 15.315624237060547, 7.281137466430664, 14.831927299499512, 14.435961723327637, 16.169784545898438, 16.484189987182617, 5.305492401123047, 13.735194206237793, 13.654122352600098, 15.355780601501465, 5.271899700164795, 14.685402870178223], \"y\": [4.844404697418213, 4.992766857147217, 5.3263373374938965, 7.953161239624023, 5.990694999694824, 5.754147052764893, 4.927712440490723, 5.206847667694092, 5.134188652038574, 5.972375392913818, 8.092114448547363, 5.452491283416748, 5.96737813949585, 6.768661022186279, 4.6974287033081055, 5.105976104736328, 7.316291332244873, 6.448163986206055, 2.860231637954712, 6.268725872039795, 5.919582366943359, 4.222921848297119, 7.118607521057129, 8.284374237060547, 7.75221586227417, 5.8251447677612305, 4.8349833488464355, 4.539520740509033, 7.113672733306885, 4.2215118408203125, 8.756281852722168, 5.316418647766113, 2.7119407653808594, 7.539872646331787, 2.700714349746704, 7.13521671295166, 7.484071254730225, 6.6952128410339355, 6.10977029800415, 2.8410110473632812, 6.624597549438477, 3.6964986324310303, 7.425044059753418, 2.837604522705078, 6.822639465332031], \"type\": \"scatter\", \"uid\": \"de0b8d97-1eba-4bae-8abd-fbe66476ee1a\"}, {\"mode\": \"markers\", \"name\": \"NonEnglish\", \"x\": [0.7879155278205872, 1.5259255170822144, -3.750466823577881, 1.2724131345748901, -1.1242334842681885, 0.807846188545227, -0.9868663549423218], \"y\": [4.213881015777588, 4.477628231048584, 0.8997141122817993, 5.107072353363037, 8.08604907989502, 4.178236961364746, 8.267346382141113], \"type\": \"scatter\", \"uid\": \"f5d127ca-5bd2-4529-88f0-f98e90dd7825\"}, {\"mode\": \"markers\", \"name\": \"Commercial\", \"x\": [-20.117645263671875, -20.110729217529297, -20.111248016357422, -20.133588790893555, 11.511000633239746], \"y\": [4.848291873931885, 5.506946563720703, 5.479358673095703, 5.18245267868042, 5.342092514038086], \"type\": \"scatter\", \"uid\": \"411f9c35-61cc-461a-b2ba-274514d2e978\"}, {\"mode\": \"markers\", \"name\": \"Unknown\", \"x\": [-5.17751932144165, -4.15042781829834], \"y\": [10.439294815063477, 8.550047874450684], \"type\": \"scatter\", \"uid\": \"7e472129-f4cd-4db8-a2aa-68fe72757f2a\"}], {\"title\": {\"text\": \"t-SNE Scatter: Original Labels\"}}, {\"showLink\": false, \"linkText\": \"Export to plot.ly\", \"plotlyServerURL\": \"https://plot.ly\"})});</script><script type=\"text/javascript\">window.addEventListener(\"resize\", function(){window._Plotly.Plots.resize(document.getElementById(\"10c17e33-3e7e-477a-90ef-c1eb2629235f\"));});</script>"
      ]
     },
     "metadata": {},
     "output_type": "display_data"
    }
   ],
   "source": [
    "data = []\n",
    "\n",
    "for i in  df_grouped.account_category.unique():\n",
    "    x = tsne_35[df_grouped.account_category == i, 0]\n",
    "    y = tsne_35[df_grouped.account_category == i, 1]\n",
    "    \n",
    "    data.append(go.Scatter(x = x, y = y, mode = 'markers', name = i))\n",
    "\n",
    "layout = go.Layout(title = 't-SNE Scatter: Original Labels')\n",
    "\n",
    "fig = go.Figure(data = data, layout = layout)\n",
    "\n",
    "py.iplot(fig)"
   ]
  },
  {
   "cell_type": "markdown",
   "metadata": {},
   "source": [
    "Amazing! Our accounts seperate into distinct clusters that are more or less in line with the labels assigned by Warren and Linville! This suggests that we will be able to use KMeans or GMM to cluster accounts in an unsupervised way. \n",
    "\n",
    "One particularly interesting result is that there appears to be two distinct groups of Right Trolls that Warren and Linville did not seperate. By analyzing the behavior of these groups and others, we may be able to gain additional insight into Russian tradecraft and the overall objective of the Russian Twitter campaign.\n",
    "\n",
    "Let's move on to our clustering algorithms!"
   ]
  },
  {
   "cell_type": "markdown",
   "metadata": {},
   "source": [
    "### Kmeans\n",
    "\n",
    "One of the challenges of using KMeans or any clustering algorithms is how to choose an appropriate K. We can use a metric called inertia to help aid us in choosing how many clusters we should specify for our data. \n",
    "\n",
    "But what is inertia and how does it work? Inertia is essentially a measure of clustering quality. That is, good clustering has tight clusters, and samples in each cluster are bunched together. Inertia measures how spread out clusters are and uses the distance from each sample to the centroid of its cluster in its calculation. \n",
    "\n",
    "A good rule of thumb is to choose the \"elbow\" in the inertia plot, or the inflection point where inertia begins to decrease at a slower rate.\n",
    "\n",
    "Special shout-out to Hugo from Datacamp for teaching me about how inertia can be used to choose k, as well as laying the foundation for nearly everything that I know in python."
   ]
  },
  {
   "cell_type": "code",
   "execution_count": null,
   "metadata": {},
   "outputs": [],
   "source": [
    "from sklearn.cluster import KMeans\n",
    "\n",
    "inertias = []\n",
    "clusters = list(range(1,11))\n",
    "\n",
    "for k in clusters:\n",
    "    \n",
    "    model = KMeans(n_clusters = k)\n",
    "    \n",
    "    model.fit(vec_array)\n",
    "    \n",
    "    inertias.append(model.inertia_)"
   ]
  },
  {
   "cell_type": "code",
   "execution_count": null,
   "metadata": {},
   "outputs": [],
   "source": [
    "plt.clf()\n",
    "plt.figure(figsize = (8,6))\n",
    "\n",
    "plt.plot(clusters, inertias)\n",
    "plt.scatter(clusters, inertias)\n",
    "plt.xlabel('Number of clusters, k')\n",
    "plt.ylabel('inertia')\n",
    "plt.xticks(list(range(1,11)), list(range(1,11)))\n",
    "plt.title(\"KMeans Inertia Plot\")\n",
    "\n",
    "plt.show()"
   ]
  },
  {
   "cell_type": "markdown",
   "metadata": {},
   "source": [
    "The inertia plot suggests that a k of five may be appropriate for our data. Let's go ahead and instantiate a KMeans model with k equal to five."
   ]
  },
  {
   "cell_type": "code",
   "execution_count": null,
   "metadata": {},
   "outputs": [],
   "source": [
    "from sklearn.cluster import KMeans\n",
    "\n",
    "kmeans = KMeans(n_clusters=6)\n",
    "\n",
    "kmeans_labels = kmeans.fit_predict(vec_array)"
   ]
  },
  {
   "cell_type": "code",
   "execution_count": null,
   "metadata": {},
   "outputs": [],
   "source": [
    "plt.clf()\n",
    "plt.figure(figsize = (8,6))\n",
    "sns.scatterplot(tsne_35[:,0], y = tsne_35[:, 1], hue= kmeans_labels, palette = 'viridis')\n",
    "plt.title('2D representation of doc2vec clusters using Kmeans')\n",
    "\n",
    "plt.show()"
   ]
  },
  {
   "cell_type": "markdown",
   "metadata": {},
   "source": [
    "That looks great! I am actually surprised at how well KMeans seems to be performing on our data. \n",
    "\n",
    "KMeans is a discriminative algorithm, and can be thought of as a hard clustering technique. That is, a single element can only be assigned to one cluster. This may be problematic when analyzing text, as we are likely to see overlap between clusters and would naturally expect more ambiguity in our cluster assignments. For example, the ideological bent of a particular twitter acount may be unclear, and it may be difficult to place into one category or another based on the text alone. \n",
    "\n",
    "To account for uncertainty in cluster assignments, we could turn to a soft clustering method where we account for uncertainty in class assignment. For example, Gaussian Mixture Models (GMMs) are generative algorithms that provide a probabilistic way of doing soft clustering. \n",
    "\n",
    "GMMs can loosly be thought of as an extension of KMeans, except that instead of placeing centroids in random locations in space, we place probability distributions. We then use the Expectation Maximiazation algorithm to discover parameters for each probability distribution for our K sources, and move the distributions around until convergence.\n",
    "\n",
    "GMMs allow us to calculate the probability that a sample belongs to a cluster. As such, each sample is assigned a probability that it belongs in each cluster. \n",
    "\n",
    "Let's go ahead and experiment with mixture models in the space below!"
   ]
  },
  {
   "cell_type": "markdown",
   "metadata": {},
   "source": [
    "# Gaussian Mixture Models (Work in Progress)\n",
    "\n",
    "I will be using Gaussian Mixture Models in the space below, although it is possible to use different kinds of probability distirbutions in mixture models. "
   ]
  },
  {
   "cell_type": "code",
   "execution_count": null,
   "metadata": {},
   "outputs": [],
   "source": [
    "from sklearn.mixture import GaussianMixture as GMM\n",
    "\n",
    "gmm = GMM(n_components=6, init_params = 'random').fit(tsne_35)\n",
    "\n",
    "gmm_labels = gmm.predict(tsne_35)"
   ]
  },
  {
   "cell_type": "code",
   "execution_count": null,
   "metadata": {},
   "outputs": [],
   "source": [
    "plt.clf()\n",
    "plt.figure(figsize = (8,6))\n",
    "sns.scatterplot(tsne_35[:,0], tsne_35[:, 1], hue = labels, palette = 'viridis')\n",
    "plt.title('2D Representation of doc2vec clusters using GMM')\n",
    "plt.show()"
   ]
  },
  {
   "cell_type": "code",
   "execution_count": null,
   "metadata": {},
   "outputs": [],
   "source": [
    "n_components = np.arange(1, 20)\n",
    "models = [GMM(n, covariance_type='full', random_state=0).fit(tsne_35)\n",
    "          for n in n_components]\n",
    "plt.clf()\n",
    "plt.figure(figsize = (8,6))\n",
    "sns.lineplot(n_components, [m.bic(tsne_35) for m in models], label='BIC')\n",
    "sns.lineplot(n_components, [m.aic(tsne_35) for m in models], label='AIC')\n",
    "plt.legend(loc='best')\n",
    "plt.xlabel('n_components');\n",
    "\n",
    "print('n_components associated with minimum AIC: ', \n",
    "      np.argmin([m.aic(tsne_35) for m in models]) + 1)"
   ]
  },
  {
   "cell_type": "code",
   "execution_count": null,
   "metadata": {},
   "outputs": [],
   "source": [
    "gmm.predict_proba(tsne_35)"
   ]
  },
  {
   "cell_type": "markdown",
   "metadata": {},
   "source": [
    "Weird. I'm getting some results that I didn't expect, particularly how that class labels looks exactly the same as those from KMeans, and how the AIC/BIC chart looks. I will be sticking with KMeasn for now, until I get a better understanding of how GMMs work. "
   ]
  },
  {
   "cell_type": "markdown",
   "metadata": {},
   "source": [
    "# Analysis\n",
    "\n",
    "Now that we have completed our KMeans cluster assignments, it's time to see how they stack up against  Linville and Warrens labeling scheme."
   ]
  },
  {
   "cell_type": "code",
   "execution_count": null,
   "metadata": {},
   "outputs": [],
   "source": [
    "df_grouped['kmeans_labels'] = kmeans_labels\n",
    "\n",
    "df_grouped.head()"
   ]
  },
  {
   "cell_type": "code",
   "execution_count": null,
   "metadata": {},
   "outputs": [],
   "source": [
    "label_dict = {}\n",
    "\n",
    "for row in df_grouped.iterrows():\n",
    "    \n",
    "    try: \n",
    "        label_dict[row[1].account_category].append(row[1].kmeans_labels)\n",
    "    \n",
    "    except:\n",
    "        label_dict[row[1].account_category] = [row[1].kmeans_labels]"
   ]
  },
  {
   "cell_type": "markdown",
   "metadata": {},
   "source": [
    "I want to compute the conditional probability of a cluster label given the label assigned by Linville and Warren. This is trickier than it seems, and I could not think of a better way to do this. "
   ]
  },
  {
   "cell_type": "code",
   "execution_count": null,
   "metadata": {},
   "outputs": [],
   "source": [
    "choices = [0, 1, 2, 3, 4]\n",
    "\n",
    "prob_df = pd.DataFrame()\n",
    "\n",
    "for i in label_dict.keys():\n",
    "    count = dict(Counter(label_dict[i]))\n",
    "    length = sum(list(count.values()))\n",
    "\n",
    "    prob_dict = {}\n",
    "\n",
    "    for key in choices:\n",
    "        try:\n",
    "            prob_dict[key]= count[key]/length\n",
    "        \n",
    "        except:\n",
    "            prob_dict[key]= 0\n",
    "    \n",
    "    row = pd.DataFrame(pd.Series(prob_dict)).T\n",
    "    \n",
    "    row.index = [i]\n",
    "    \n",
    "    prob_df = pd.concat([prob_df, row])"
   ]
  },
  {
   "cell_type": "markdown",
   "metadata": {},
   "source": [
    "That was a lot of work!  We now have a dataframe of conditional probabilities. That is given a label by Warren and Linville, we have a conditional probability for each KMeans cluster label.  This is more clear if we view the dataframe. "
   ]
  },
  {
   "cell_type": "code",
   "execution_count": null,
   "metadata": {},
   "outputs": [],
   "source": [
    "prob_df"
   ]
  },
  {
   "cell_type": "markdown",
   "metadata": {},
   "source": [
    "The table above indicates that for the most part, our clusters align pretty well with Warren and Linville's labels. Let's go ahead and visualize this. "
   ]
  },
  {
   "cell_type": "code",
   "execution_count": null,
   "metadata": {},
   "outputs": [],
   "source": [
    "prob_df_t = prob_df.T\n",
    "\n",
    "plt.clf()\n",
    "plt.figure(figsize = (10,10))\n",
    "plt.suptitle('Conditional Prob of KMeans Assignment Given a Label')\n",
    "\n",
    "for idx, label in enumerate(list(prob_df_t.columns)[:6]):\n",
    "    plt.subplot(3,3, idx + 1)\n",
    "    plt.ylim(0,1)\n",
    "    sns.barplot(x = list(prob_df_t.index), y = list(prob_df_t[label]))\n",
    "    plt.title(label)\n",
    "\n",
    "plt.tight_layout()\n",
    "plt.subplots_adjust(top=0.9)\n",
    "plt.show()"
   ]
  },
  {
   "cell_type": "code",
   "execution_count": null,
   "metadata": {},
   "outputs": [],
   "source": [
    "df_sampled = df_sampled.merge(df_grouped[['author', 'kmeans_labels']], \n",
    "                 left_on = 'author', right_on = 'author')"
   ]
  },
  {
   "cell_type": "markdown",
   "metadata": {},
   "source": [
    "# Modeling"
   ]
  },
  {
   "cell_type": "code",
   "execution_count": null,
   "metadata": {},
   "outputs": [],
   "source": []
  }
 ],
 "metadata": {
  "kernelspec": {
   "display_name": "Python 3",
   "language": "python",
   "name": "python3"
  },
  "language_info": {
   "codemirror_mode": {
    "name": "ipython",
    "version": 3
   },
   "file_extension": ".py",
   "mimetype": "text/x-python",
   "name": "python",
   "nbconvert_exporter": "python",
   "pygments_lexer": "ipython3",
   "version": "3.6.8"
  }
 },
 "nbformat": 4,
 "nbformat_minor": 2
}
