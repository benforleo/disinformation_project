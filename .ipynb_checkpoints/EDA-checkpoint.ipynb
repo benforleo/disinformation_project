{
 "cells": [
  {
   "cell_type": "code",
   "execution_count": 56,
   "metadata": {},
   "outputs": [],
   "source": [
    "import numpy as np\n",
    "import pandas as pd\n",
    "from IPython.display import HTML\n",
    "get_ipython().config.get('IPKernelApp', {})['parent_appname'] = \"\"\n",
    "\n",
    "import dask\n",
    "\n",
    "import re\n",
    "\n",
    "pd.set_option('display.max_columns', None)\n",
    "\n",
    "#import spacy\n",
    "\n",
    "import os"
   ]
  },
  {
   "cell_type": "code",
   "execution_count": 2,
   "metadata": {},
   "outputs": [],
   "source": [
    "os.chdir('/Users/benjaminforleo/Box/spring_project/')"
   ]
  },
  {
   "cell_type": "code",
   "execution_count": 3,
   "metadata": {},
   "outputs": [],
   "source": [
    "df = pd.read_csv('ira_tweets_csv_hashed.csv', low_memory = False)"
   ]
  },
  {
   "cell_type": "code",
   "execution_count": 7,
   "metadata": {},
   "outputs": [],
   "source": [
    "# Investigate LDA MODEL"
   ]
  },
  {
   "cell_type": "code",
   "execution_count": 4,
   "metadata": {},
   "outputs": [
    {
     "data": {
      "text/plain": [
       "Index(['tweetid', 'userid', 'user_display_name', 'user_screen_name',\n",
       "       'user_reported_location', 'user_profile_description',\n",
       "       'user_profile_url', 'follower_count', 'following_count',\n",
       "       'account_creation_date', 'account_language', 'tweet_language',\n",
       "       'tweet_text', 'tweet_time', 'tweet_client_name', 'in_reply_to_tweetid',\n",
       "       'in_reply_to_userid', 'quoted_tweet_tweetid', 'is_retweet',\n",
       "       'retweet_userid', 'retweet_tweetid', 'latitude', 'longitude',\n",
       "       'quote_count', 'reply_count', 'like_count', 'retweet_count', 'hashtags',\n",
       "       'urls', 'user_mentions', 'poll_choices'],\n",
       "      dtype='object')"
      ]
     },
     "execution_count": 4,
     "metadata": {},
     "output_type": "execute_result"
    }
   ],
   "source": [
    "df.columns"
   ]
  },
  {
   "cell_type": "code",
   "execution_count": 5,
   "metadata": {},
   "outputs": [],
   "source": [
    "en_tweets = df[df.tweet_language == \"en\"]"
   ]
  },
  {
   "cell_type": "code",
   "execution_count": 6,
   "metadata": {},
   "outputs": [],
   "source": [
    "col_list = ['tweetid', 'userid','tweet_text', 'tweet_time']\n",
    "\n",
    "en_tweets = en_tweets.loc[:,col_list]"
   ]
  },
  {
   "cell_type": "code",
   "execution_count": 7,
   "metadata": {},
   "outputs": [],
   "source": [
    "import spacy\n",
    "\n",
    "nlp = spacy.load(\"en\")"
   ]
  },
  {
   "cell_type": "code",
   "execution_count": 8,
   "metadata": {},
   "outputs": [],
   "source": [
    "en_tweets = en_tweets.reset_index(drop = True)"
   ]
  },
  {
   "cell_type": "code",
   "execution_count": 9,
   "metadata": {},
   "outputs": [],
   "source": [
    "#en_tweets.columns"
   ]
  },
  {
   "cell_type": "code",
   "execution_count": 12,
   "metadata": {},
   "outputs": [],
   "source": [
    "import dask.dataframe as dd\n",
    "from dask.multiprocessing import get"
   ]
  },
  {
   "cell_type": "code",
   "execution_count": 13,
   "metadata": {},
   "outputs": [],
   "source": [
    "test = en_tweets[['tweet_text']][:100]"
   ]
  },
  {
   "cell_type": "code",
   "execution_count": 21,
   "metadata": {},
   "outputs": [],
   "source": [
    "# this works\n",
    "ddata = dd.from_pandas(en_tweets[['tweet_text']][:1000], npartitions=8)\n",
    "\n",
    "res = ddata.map_partitions(lambda df: df.apply((lambda row: nlp(*row)),\n",
    "                                               axis=1)).compute(scheduler = 'threads')  "
   ]
  },
  {
   "cell_type": "code",
   "execution_count": 46,
   "metadata": {},
   "outputs": [],
   "source": [
    "ddata = dd.from_pandas(en_tweets[['tweet_text']][:1000], npartitions=8)\n",
    "\n",
    "res = ddata.map_partitions(lambda df: df.apply((lambda row: nlp(*row)),\n",
    "                                               axis=1)).compute(scheduler = 'threads')  "
   ]
  },
  {
   "cell_type": "code",
   "execution_count": 43,
   "metadata": {},
   "outputs": [],
   "source": [
    "from spacy.tokens import Doc, Span"
   ]
  },
  {
   "cell_type": "code",
   "execution_count": 49,
   "metadata": {},
   "outputs": [],
   "source": [
    "test = res[12]"
   ]
  },
  {
   "cell_type": "code",
   "execution_count": 102,
   "metadata": {},
   "outputs": [
    {
     "name": "stdout",
     "output_type": "stream",
     "text": [
      "RT @MTVNews\n"
     ]
    }
   ],
   "source": [
    "for index, token in enumerate(test):\n",
    "    pattern = re.compile(\"@[.]*\")\n",
    "    try:\n",
    "        if (token.text == \"RT\") & (bool(re.match(pattern, test[token.i + 1].text))):\n",
    "            print(token.text, test[token.i +1].text)\n",
    "    \n",
    "    except:\n",
    "        break\n",
    "        \n",
    "        \n",
    "        "
   ]
  },
  {
   "cell_type": "code",
   "execution_count": 100,
   "metadata": {},
   "outputs": [
    {
     "name": "stdout",
     "output_type": "stream",
     "text": [
      "RT\n",
      "True\n",
      "@MTVNews\n",
      "False\n",
      ":\n",
      "False\n",
      "SO\n",
      "False\n",
      ".\n",
      "False\n",
      "DAMN\n",
      "False\n",
      ".\n",
      "False\n",
      "CUTE\n",
      "False\n",
      ".\n",
      "False\n",
      "https://t.co/tiUjVi4JrO\n"
     ]
    }
   ],
   "source": [
    "for index, token in enumerate(test):\n",
    "    try:\n",
    "        print(token.text)\n",
    "        print(bool(re.match(pattern, test[token.i+1].text)))\n",
    "        \n",
    "    except:\n",
    "        break"
   ]
  },
  {
   "cell_type": "code",
   "execution_count": 72,
   "metadata": {},
   "outputs": [
    {
     "name": "stdout",
     "output_type": "stream",
     "text": [
      "@MTVNews\n"
     ]
    }
   ],
   "source": [
    "pattern = re.compile(\"@[.]*\")\n",
    "for token in test:\n",
    "    if (bool(re.match(pattern, token.text))):\n",
    "        print(token.text)\n",
    "    \n",
    "    "
   ]
  },
  {
   "cell_type": "code",
   "execution_count": 82,
   "metadata": {},
   "outputs": [
    {
     "name": "stdout",
     "output_type": "stream",
     "text": [
      "RT @MTVNews\n",
      "@MTVNews :\n",
      ": SO\n",
      "SO .\n",
      ". DAMN\n",
      "DAMN .\n",
      ". CUTE\n",
      "CUTE .\n",
      ". https://t.co/tiUjVi4JrO\n"
     ]
    }
   ],
   "source": [
    "for index, token in enumerate(test):\n",
    "    try:\n",
    "        print(token, test[token.i +1])\n",
    "    except:\n",
    "        break"
   ]
  },
  {
   "cell_type": "code",
   "execution_count": 34,
   "metadata": {},
   "outputs": [],
   "source": [
    "parsed = en_tweets.tweet_text[0:500].apply(nlp)"
   ]
  },
  {
   "cell_type": "code",
   "execution_count": 42,
   "metadata": {},
   "outputs": [
    {
     "name": "stdout",
     "output_type": "stream",
     "text": [
      "No INTJ\n",
      ", PUNCT\n",
      "I PRON\n",
      "'m VERB\n",
      "not ADV\n",
      "saying VERB\n",
      "I PRON\n",
      "'m VERB\n",
      "sorry ADJ\n"
     ]
    }
   ],
   "source": [
    "for i in parsed[3]:\n",
    "    print(i.text, i.pos_)"
   ]
  },
  {
   "cell_type": "code",
   "execution_count": null,
   "metadata": {},
   "outputs": [],
   "source": []
  },
  {
   "cell_type": "code",
   "execution_count": 44,
   "metadata": {},
   "outputs": [],
   "source": [
    " def hashtag_pipe(doc):\n",
    "    merged_hashtag = False\n",
    "    while True:\n",
    "        for token_index, token in enumerate(doc):\n",
    "            if token.text == '#':\n",
    "                if token.head is not None:\n",
    "                    start_index = token.idx\n",
    "                    end_index = start_index + len(token.head.text) + 1\n",
    "                    if doc.merge(start_index, end_index) is not None:\n",
    "                        merged_hashtag = True\n",
    "                        break\n",
    "        if not merged_hashtag:\n",
    "            break\n",
    "        merged_hashtag = False\n",
    "    return doc\n",
    "\n",
    "nlp = spacy.load('en')\n",
    "nlp.add_pipe(hashtag_pipe)\n",
    "\n",
    "doc = nlp(\"twitter #hashtag\")\n",
    "assert len(doc) == 2\n",
    "assert doc[0].text == 'twitter'\n",
    "assert doc[1].text == '#hashtag'"
   ]
  },
  {
   "cell_type": "code",
   "execution_count": 45,
   "metadata": {},
   "outputs": [
    {
     "data": {
      "text/plain": [
       "twitter #hashtag"
      ]
     },
     "execution_count": 45,
     "metadata": {},
     "output_type": "execute_result"
    }
   ],
   "source": []
  },
  {
   "cell_type": "code",
   "execution_count": 10,
   "metadata": {},
   "outputs": [],
   "source": []
  },
  {
   "cell_type": "code",
   "execution_count": null,
   "metadata": {},
   "outputs": [],
   "source": []
  },
  {
   "cell_type": "code",
   "execution_count": null,
   "metadata": {},
   "outputs": [],
   "source": []
  }
 ],
 "metadata": {
  "kernelspec": {
   "display_name": "Python 3",
   "language": "python",
   "name": "python3"
  },
  "language_info": {
   "codemirror_mode": {
    "name": "ipython",
    "version": 3
   },
   "file_extension": ".py",
   "mimetype": "text/x-python",
   "name": "python",
   "nbconvert_exporter": "python",
   "pygments_lexer": "ipython3",
   "version": "3.6.8"
  }
 },
 "nbformat": 4,
 "nbformat_minor": 2
}
