{
 "cells": [
  {
   "cell_type": "code",
   "execution_count": 1,
   "metadata": {},
   "outputs": [],
   "source": [
    "import numpy as np\n",
    "import pandas as pd\n",
    "from IPython.display import HTML\n",
    "get_ipython().config.get('IPKernelApp', {})['parent_appname'] = \"\"\n",
    "\n",
    "import dask\n",
    "\n",
    "import re\n",
    "\n",
    "pd.set_option('display.max_columns', None)\n",
    "\n",
    "#import spacy\n",
    "\n",
    "import os\n",
    "\n",
    "os.chdir('/Users/benjaminforleo/Box/spring_project/')"
   ]
  },
  {
   "cell_type": "code",
   "execution_count": 3,
   "metadata": {},
   "outputs": [],
   "source": [
    "df = pd.read_csv('ira_tweets_csv_hashed.csv', low_memory = False)"
   ]
  },
  {
   "cell_type": "code",
   "execution_count": 7,
   "metadata": {},
   "outputs": [],
   "source": [
    "# Investigate LDA MODEL"
   ]
  },
  {
   "cell_type": "code",
   "execution_count": 4,
   "metadata": {},
   "outputs": [],
   "source": [
    "#df.columns"
   ]
  },
  {
   "cell_type": "code",
   "execution_count": 10,
   "metadata": {},
   "outputs": [],
   "source": [
    "en_tweets = df[df.tweet_language == \"en\"]\n",
    "\n",
    "col_list = ['tweetid', 'userid','tweet_text', 'tweet_time']\n",
    "\n",
    "en_tweets = en_tweets.loc[:,col_list]\n",
    "\n",
    "en_tweets.to_csv('en_tweets.csv', index = False)"
   ]
  },
  {
   "cell_type": "code",
   "execution_count": 13,
   "metadata": {},
   "outputs": [],
   "source": [
    "del df"
   ]
  },
  {
   "cell_type": "markdown",
   "metadata": {},
   "source": [
    "# Start Here"
   ]
  },
  {
   "cell_type": "code",
   "execution_count": 11,
   "metadata": {},
   "outputs": [],
   "source": [
    "en_tweets = pd.read_csv('en_tweets.csv', nrows = 1000, low_memory = False)"
   ]
  },
  {
   "cell_type": "code",
   "execution_count": 15,
   "metadata": {},
   "outputs": [
    {
     "data": {
      "text/plain": [
       "Index(['tweetid', 'userid', 'tweet_text', 'tweet_time'], dtype='object')"
      ]
     },
     "execution_count": 15,
     "metadata": {},
     "output_type": "execute_result"
    }
   ],
   "source": [
    "en_tweets.columns"
   ]
  },
  {
   "cell_type": "code",
   "execution_count": 21,
   "metadata": {},
   "outputs": [],
   "source": [
    "import spacy\n",
    "\n",
    "nlp = spacy.load(\"en\")"
   ]
  },
  {
   "cell_type": "code",
   "execution_count": 22,
   "metadata": {},
   "outputs": [],
   "source": [
    " def hashtag_pipe(doc):\n",
    "    merged_hashtag = False\n",
    "    while True:\n",
    "        for token_index, token in enumerate(doc):\n",
    "            if token.text == '#':\n",
    "                if token.head is not None:\n",
    "                    start_index = token.idx\n",
    "                    end_index = start_index + len(token.head.text) + 1\n",
    "                    if doc.merge(start_index, end_index) is not None:\n",
    "                        merged_hashtag = True\n",
    "                        break\n",
    "        if not merged_hashtag:\n",
    "            break\n",
    "        merged_hashtag = False\n",
    "    return doc\n",
    "\n",
    "nlp = spacy.load('en')\n",
    "nlp.add_pipe(hashtag_pipe)\n",
    "\n",
    "doc = nlp(\"twitter #hashtag\")\n",
    "assert len(doc) == 2\n",
    "assert doc[0].text == 'twitter'\n",
    "assert doc[1].text == '#hashtag'"
   ]
  },
  {
   "cell_type": "code",
   "execution_count": 23,
   "metadata": {},
   "outputs": [],
   "source": [
    "corpus = list(nlp.pipe(en_tweets.tweet_text))"
   ]
  },
  {
   "cell_type": "code",
   "execution_count": 40,
   "metadata": {},
   "outputs": [
    {
     "data": {
      "text/plain": [
       "RT @e933848ee109a3e968bfefb54a785c0426edab39c144c0ace1eb734cde5efed0: Saw it several days ago during a trip and that's amazing! Can you see the face? Who is it? http://t.co/rP1uJgQjOb"
      ]
     },
     "execution_count": 40,
     "metadata": {},
     "output_type": "execute_result"
    }
   ],
   "source": [
    "corpus[10]"
   ]
  },
  {
   "cell_type": "code",
   "execution_count": 68,
   "metadata": {},
   "outputs": [
    {
     "data": {
      "text/plain": [
       "RT @e933848ee109a3e968bfefb54a785c0426edab39c144c0ace1eb734cde5efed0: Saw it several days ago during a trip and that's amazing! Can you see the face? Who is it? http://t.co/rP1uJgQjOb"
      ]
     },
     "execution_count": 68,
     "metadata": {},
     "output_type": "execute_result"
    }
   ],
   "source": [
    "corpus[10]"
   ]
  },
  {
   "cell_type": "code",
   "execution_count": 75,
   "metadata": {},
   "outputs": [],
   "source": [
    "test = en_tweets.tweet_text[10]"
   ]
  },
  {
   "cell_type": "code",
   "execution_count": 67,
   "metadata": {},
   "outputs": [
    {
     "data": {
      "text/plain": [
       "False"
      ]
     },
     "execution_count": 67,
     "metadata": {},
     "output_type": "execute_result"
    }
   ],
   "source": [
    "link = re.compile(\"http://.*\")\n",
    "\n",
    "not bool(re.search(link, \"hello http://t.co/rPlJgQjOb\"))"
   ]
  },
  {
   "cell_type": "code",
   "execution_count": 79,
   "metadata": {},
   "outputs": [
    {
     "name": "stdout",
     "output_type": "stream",
     "text": [
      "yes\n"
     ]
    }
   ],
   "source": [
    "if bool(re.search(link, test)):\n",
    "    match = re"
   ]
  },
  {
   "cell_type": "code",
   "execution_count": 90,
   "metadata": {},
   "outputs": [
    {
     "data": {
      "text/plain": [
       "(161, 183)"
      ]
     },
     "execution_count": 90,
     "metadata": {},
     "output_type": "execute_result"
    }
   ],
   "source": [
    "re.search(link, test).span()"
   ]
  },
  {
   "cell_type": "code",
   "execution_count": 93,
   "metadata": {},
   "outputs": [
    {
     "data": {
      "text/plain": [
       "\"RT @e933848ee109a3e968bfefb54a785c0426edab39c144c0ace1eb734cde5efed0: Saw it several days ago during a trip and that's amazing! Can you see the face? Who is it? \""
      ]
     },
     "execution_count": 93,
     "metadata": {},
     "output_type": "execute_result"
    }
   ],
   "source": [
    "re.sub(link,\"\", test)"
   ]
  },
  {
   "cell_type": "code",
   "execution_count": 55,
   "metadata": {},
   "outputs": [
    {
     "data": {
      "text/plain": [
       "\"RT @e933848ee109a3e968bfefb54a785c0426edab39c144c0ace1eb734cde5efed0: Saw it several days ago during a trip and that's amazing! Can you see the face? Who is it? http://t.co/rP1uJgQjOb\""
      ]
     },
     "execution_count": 55,
     "metadata": {},
     "output_type": "execute_result"
    }
   ],
   "source": [
    "en_tweets.tweet_text[10]"
   ]
  },
  {
   "cell_type": "code",
   "execution_count": 106,
   "metadata": {},
   "outputs": [],
   "source": [
    "def preprocessing(row):\n",
    "    \n",
    "    \"\"\"Remove hyperlinks and the RT symbol prior to tokenization and processing with spaCy\"\"\"\n",
    "    \n",
    "    import re\n",
    "    \n",
    "    link_pattern = re.compile(\"http://.*\")\n",
    "    less_http = re.sub(link_pattern, \"\", row)\n",
    "    \n",
    "    rt_pattern = re.compile(\"RT \")\n",
    "    clean_str = re.sub(rt_pattern, \"\", less_http)\n",
    "    \n",
    "\n",
    "    return(clean_str)"
   ]
  },
  {
   "cell_type": "code",
   "execution_count": null,
   "metadata": {},
   "outputs": [],
   "source": []
  },
  {
   "cell_type": "code",
   "execution_count": 102,
   "metadata": {},
   "outputs": [],
   "source": [
    "rt_pattern = re.compile(\"RT \")"
   ]
  },
  {
   "cell_type": "code",
   "execution_count": 103,
   "metadata": {},
   "outputs": [
    {
     "data": {
      "text/plain": [
       "\"@e933848ee109a3e968bfefb54a785c0426edab39c144c0ace1eb734cde5efed0: Saw it several days ago during a trip and that's amazing! Can you see the face? Who is it? http://t.co/rP1uJgQjOb\""
      ]
     },
     "execution_count": 103,
     "metadata": {},
     "output_type": "execute_result"
    }
   ],
   "source": [
    "re.sub(rt_pattern, \"\", test)"
   ]
  },
  {
   "cell_type": "code",
   "execution_count": 11,
   "metadata": {},
   "outputs": [],
   "source": [
    "import dask.dataframe as dd\n",
    "from dask.multiprocessing import get"
   ]
  },
  {
   "cell_type": "code",
   "execution_count": 25,
   "metadata": {},
   "outputs": [],
   "source": [
    "test = en_tweets[['tweet_text']][:100]"
   ]
  },
  {
   "cell_type": "code",
   "execution_count": 16,
   "metadata": {},
   "outputs": [],
   "source": [
    "# this works\n",
    "ddata = dd.from_pandas(test[['tweet_text']], npartitions=8)\n",
    "\n",
    "res = ddata.map_partitions(lambda df: df.apply((lambda row: nlp(*row)),\n",
    "                                               axis=1)).compute(scheduler = 'threads')  "
   ]
  },
  {
   "cell_type": "code",
   "execution_count": null,
   "metadata": {},
   "outputs": [],
   "source": []
  },
  {
   "cell_type": "code",
   "execution_count": 43,
   "metadata": {},
   "outputs": [],
   "source": [
    "from spacy.tokens import Doc, Span"
   ]
  },
  {
   "cell_type": "code",
   "execution_count": 41,
   "metadata": {},
   "outputs": [],
   "source": [
    "test1 = res[12]"
   ]
  },
  {
   "cell_type": "code",
   "execution_count": 21,
   "metadata": {},
   "outputs": [
    {
     "name": "stdout",
     "output_type": "stream",
     "text": [
      "RT @MTVNews\n"
     ]
    }
   ],
   "source": [
    "for index, token in enumerate(test1):\n",
    "    pattern = re.compile(\"@[.]*\")\n",
    "    try:\n",
    "        if (token.text == \"RT\") & (bool(re.match(pattern, test[token.i + 1].text))):\n",
    "            print(token.text, test[token.i +1].text)\n",
    "            del test[token.i]\n",
    "    \n",
    "    except:\n",
    "        break\n"
   ]
  },
  {
   "cell_type": "code",
   "execution_count": 34,
   "metadata": {},
   "outputs": [],
   "source": [
    "rt = test.tweet_text[12]"
   ]
  },
  {
   "cell_type": "code",
   "execution_count": 38,
   "metadata": {},
   "outputs": [],
   "source": [
    "re.compile(\"@[.]*\")\n",
    "\n",
    "for idx, word in enumerate(rt):\n",
    "    try:\n",
    "        if (word == \"RT\") & (bool(re.match(pattern, rt[idx +1]))):\n",
    "            print(i)\n",
    "    except:\n",
    "        break"
   ]
  },
  {
   "cell_type": "code",
   "execution_count": 42,
   "metadata": {},
   "outputs": [
    {
     "name": "stdout",
     "output_type": "stream",
     "text": [
      "0 RT\n",
      "1 @MTVNews\n",
      "2 :\n",
      "3 SO\n",
      "4 .\n",
      "5 DAMN\n",
      "6 .\n",
      "7 CUTE\n",
      "8 .\n",
      "9 https://t.co/tiUjVi4JrO\n"
     ]
    }
   ],
   "source": [
    "for idx, word in enumerate(test1):\n",
    "    print(idx, word)"
   ]
  },
  {
   "cell_type": "code",
   "execution_count": 46,
   "metadata": {},
   "outputs": [],
   "source": [
    "test1 = [i for i in test1 if i.text != \"RT\"]"
   ]
  },
  {
   "cell_type": "code",
   "execution_count": 47,
   "metadata": {},
   "outputs": [
    {
     "data": {
      "text/plain": [
       "[@MTVNews, :, SO, ., DAMN, ., CUTE, ., https://t.co/tiUjVi4JrO]"
      ]
     },
     "execution_count": 47,
     "metadata": {},
     "output_type": "execute_result"
    }
   ],
   "source": [
    "test1"
   ]
  },
  {
   "cell_type": "code",
   "execution_count": 100,
   "metadata": {},
   "outputs": [
    {
     "name": "stdout",
     "output_type": "stream",
     "text": [
      "RT\n",
      "True\n",
      "@MTVNews\n",
      "False\n",
      ":\n",
      "False\n",
      "SO\n",
      "False\n",
      ".\n",
      "False\n",
      "DAMN\n",
      "False\n",
      ".\n",
      "False\n",
      "CUTE\n",
      "False\n",
      ".\n",
      "False\n",
      "https://t.co/tiUjVi4JrO\n"
     ]
    }
   ],
   "source": [
    "for index, token in enumerate(test):\n",
    "    try:\n",
    "        print(token.text)\n",
    "        print(bool(re.match(pattern, test[token.i+1].text)))\n",
    "        \n",
    "    except:\n",
    "        break"
   ]
  },
  {
   "cell_type": "code",
   "execution_count": 72,
   "metadata": {},
   "outputs": [
    {
     "name": "stdout",
     "output_type": "stream",
     "text": [
      "@MTVNews\n"
     ]
    }
   ],
   "source": [
    "pattern = re.compile(\"@[.]*\")\n",
    "for token in test:\n",
    "    if (bool(re.match(pattern, token.text))):\n",
    "        print(token.text)\n",
    "    \n",
    "    "
   ]
  },
  {
   "cell_type": "code",
   "execution_count": 82,
   "metadata": {},
   "outputs": [
    {
     "name": "stdout",
     "output_type": "stream",
     "text": [
      "RT @MTVNews\n",
      "@MTVNews :\n",
      ": SO\n",
      "SO .\n",
      ". DAMN\n",
      "DAMN .\n",
      ". CUTE\n",
      "CUTE .\n",
      ". https://t.co/tiUjVi4JrO\n"
     ]
    }
   ],
   "source": [
    "for index, token in enumerate(test):\n",
    "    try:\n",
    "        print(token, test[token.i +1])\n",
    "    except:\n",
    "        break"
   ]
  },
  {
   "cell_type": "code",
   "execution_count": 34,
   "metadata": {},
   "outputs": [],
   "source": [
    "parsed = en_tweets.tweet_text[0:500].apply(nlp)"
   ]
  },
  {
   "cell_type": "code",
   "execution_count": 42,
   "metadata": {},
   "outputs": [
    {
     "name": "stdout",
     "output_type": "stream",
     "text": [
      "No INTJ\n",
      ", PUNCT\n",
      "I PRON\n",
      "'m VERB\n",
      "not ADV\n",
      "saying VERB\n",
      "I PRON\n",
      "'m VERB\n",
      "sorry ADJ\n"
     ]
    }
   ],
   "source": [
    "for i in parsed[3]:\n",
    "    print(i.text, i.pos_)"
   ]
  },
  {
   "cell_type": "code",
   "execution_count": null,
   "metadata": {},
   "outputs": [],
   "source": []
  },
  {
   "cell_type": "code",
   "execution_count": 44,
   "metadata": {},
   "outputs": [],
   "source": [
    " def hashtag_pipe(doc):\n",
    "    merged_hashtag = False\n",
    "    while True:\n",
    "        for token_index, token in enumerate(doc):\n",
    "            if token.text == '#':\n",
    "                if token.head is not None:\n",
    "                    start_index = token.idx\n",
    "                    end_index = start_index + len(token.head.text) + 1\n",
    "                    if doc.merge(start_index, end_index) is not None:\n",
    "                        merged_hashtag = True\n",
    "                        break\n",
    "        if not merged_hashtag:\n",
    "            break\n",
    "        merged_hashtag = False\n",
    "    return doc\n",
    "\n",
    "nlp = spacy.load('en')\n",
    "nlp.add_pipe(hashtag_pipe)\n",
    "\n",
    "doc = nlp(\"twitter #hashtag\")\n",
    "assert len(doc) == 2\n",
    "assert doc[0].text == 'twitter'\n",
    "assert doc[1].text == '#hashtag'"
   ]
  },
  {
   "cell_type": "code",
   "execution_count": 45,
   "metadata": {},
   "outputs": [
    {
     "data": {
      "text/plain": [
       "twitter #hashtag"
      ]
     },
     "execution_count": 45,
     "metadata": {},
     "output_type": "execute_result"
    }
   ],
   "source": []
  },
  {
   "cell_type": "code",
   "execution_count": 10,
   "metadata": {},
   "outputs": [],
   "source": []
  },
  {
   "cell_type": "code",
   "execution_count": null,
   "metadata": {},
   "outputs": [],
   "source": []
  },
  {
   "cell_type": "code",
   "execution_count": null,
   "metadata": {},
   "outputs": [],
   "source": []
  }
 ],
 "metadata": {
  "kernelspec": {
   "display_name": "Python 3",
   "language": "python",
   "name": "python3"
  },
  "language_info": {
   "codemirror_mode": {
    "name": "ipython",
    "version": 3
   },
   "file_extension": ".py",
   "mimetype": "text/x-python",
   "name": "python",
   "nbconvert_exporter": "python",
   "pygments_lexer": "ipython3",
   "version": "3.6.8"
  }
 },
 "nbformat": 4,
 "nbformat_minor": 2
}
